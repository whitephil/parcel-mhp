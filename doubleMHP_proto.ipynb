{
 "cells": [
  {
   "cell_type": "code",
   "execution_count": 2,
   "metadata": {},
   "outputs": [],
   "source": [
    "import geopandas as gpd\n",
    "import pandas as pd\n",
    "import os\n",
    "import parcelfunks\n",
    "import pyogrio\n",
    "import numpy as np\n",
    "import importlib"
   ]
  },
  {
   "cell_type": "code",
   "execution_count": 2,
   "metadata": {},
   "outputs": [],
   "source": [
    "countiesPath = r'C:\\Users\\phwh9568\\Data\\ParcelAtlas\\CO_2022\\Counties'\n",
    "adamsPath = os.path.join(countiesPath,'08001')"
   ]
  },
  {
   "cell_type": "code",
   "execution_count": 72,
   "metadata": {},
   "outputs": [],
   "source": [
    "parcels = gpd.read_file(os.path.join(adamsPath,'parcels.shp'))\n",
    "parcels.to_crs(crs='ESRI:102003',inplace=True)"
   ]
  },
  {
   "cell_type": "code",
   "execution_count": 52,
   "metadata": {},
   "outputs": [],
   "source": [
    "buildings = gpd.read_file(os.path.join(adamsPath,'08001_buildings.shp'))\n",
    "buildings.to_crs(crs='ESRI:102003', inplace=True)\n"
   ]
  },
  {
   "cell_type": "code",
   "execution_count": 73,
   "metadata": {},
   "outputs": [],
   "source": [
    "parcels = parcelfunks.parcelBuildings(parcels,buildings)\n"
   ]
  },
  {
   "cell_type": "code",
   "execution_count": 74,
   "metadata": {},
   "outputs": [
    {
     "data": {
      "text/plain": [
       "104143"
      ]
     },
     "execution_count": 74,
     "metadata": {},
     "output_type": "execute_result"
    }
   ],
   "source": [
    "len(parcels)"
   ]
  },
  {
   "cell_type": "code",
   "execution_count": 75,
   "metadata": {},
   "outputs": [],
   "source": [
    "parcels = parcelfunks.parcelPreFilter(parcels)"
   ]
  },
  {
   "cell_type": "code",
   "execution_count": 76,
   "metadata": {},
   "outputs": [
    {
     "data": {
      "text/plain": [
       "303"
      ]
     },
     "execution_count": 76,
     "metadata": {},
     "output_type": "execute_result"
    }
   ],
   "source": [
    "len(parcels)"
   ]
  },
  {
   "cell_type": "code",
   "execution_count": 87,
   "metadata": {},
   "outputs": [],
   "source": [
    "parcels['UNIQID'] = np.random.randint(low=1, high=1000000000, size=len(parcels))"
   ]
  },
  {
   "cell_type": "code",
   "execution_count": 89,
   "metadata": {},
   "outputs": [],
   "source": [
    "costarParcels = gpd.read_file(os.path.join(adamsPath,'08001.gpkg'),layer='MH_parcels')"
   ]
  },
  {
   "cell_type": "code",
   "execution_count": 90,
   "metadata": {},
   "outputs": [],
   "source": [
    "costarParcels['COSTAR'] = 1"
   ]
  },
  {
   "cell_type": "code",
   "execution_count": 91,
   "metadata": {},
   "outputs": [
    {
     "ename": "KeyError",
     "evalue": "\"['UNIQID'] not in index\"",
     "output_type": "error",
     "traceback": [
      "\u001b[1;31m---------------------------------------------------------------------------\u001b[0m",
      "\u001b[1;31mKeyError\u001b[0m                                  Traceback (most recent call last)",
      "Cell \u001b[1;32mIn[91], line 1\u001b[0m\n\u001b[1;32m----> 1\u001b[0m parcels2 \u001b[38;5;241m=\u001b[39m parcels\u001b[38;5;241m.\u001b[39mmerge(\u001b[43mcostarParcels\u001b[49m\u001b[43m[\u001b[49m\u001b[43m[\u001b[49m\u001b[38;5;124;43m'\u001b[39;49m\u001b[38;5;124;43mCOSTAR\u001b[39;49m\u001b[38;5;124;43m'\u001b[39;49m\u001b[43m,\u001b[49m\u001b[38;5;124;43m'\u001b[39;49m\u001b[38;5;124;43mUNIQID\u001b[39;49m\u001b[38;5;124;43m'\u001b[39;49m\u001b[43m]\u001b[49m\u001b[43m]\u001b[49m, on\u001b[38;5;241m=\u001b[39m\u001b[38;5;124m'\u001b[39m\u001b[38;5;124mUNIQID\u001b[39m\u001b[38;5;124m'\u001b[39m)\n",
      "File \u001b[1;32mc:\\Users\\phwh9568\\AppData\\Local\\miniforge3\\envs\\gis_env\\Lib\\site-packages\\geopandas\\geodataframe.py:1456\u001b[0m, in \u001b[0;36mGeoDataFrame.__getitem__\u001b[1;34m(self, key)\u001b[0m\n\u001b[0;32m   1450\u001b[0m \u001b[38;5;28;01mdef\u001b[39;00m \u001b[38;5;21m__getitem__\u001b[39m(\u001b[38;5;28mself\u001b[39m, key):\n\u001b[0;32m   1451\u001b[0m \u001b[38;5;250m    \u001b[39m\u001b[38;5;124;03m\"\"\"\u001b[39;00m\n\u001b[0;32m   1452\u001b[0m \u001b[38;5;124;03m    If the result is a column containing only 'geometry', return a\u001b[39;00m\n\u001b[0;32m   1453\u001b[0m \u001b[38;5;124;03m    GeoSeries. If it's a DataFrame with any columns of GeometryDtype,\u001b[39;00m\n\u001b[0;32m   1454\u001b[0m \u001b[38;5;124;03m    return a GeoDataFrame.\u001b[39;00m\n\u001b[0;32m   1455\u001b[0m \u001b[38;5;124;03m    \"\"\"\u001b[39;00m\n\u001b[1;32m-> 1456\u001b[0m     result \u001b[38;5;241m=\u001b[39m \u001b[38;5;28;43msuper\u001b[39;49m\u001b[43m(\u001b[49m\u001b[43m)\u001b[49m\u001b[38;5;241;43m.\u001b[39;49m\u001b[38;5;21;43m__getitem__\u001b[39;49m\u001b[43m(\u001b[49m\u001b[43mkey\u001b[49m\u001b[43m)\u001b[49m\n\u001b[0;32m   1457\u001b[0m     \u001b[38;5;66;03m# Custom logic to avoid waiting for pandas GH51895\u001b[39;00m\n\u001b[0;32m   1458\u001b[0m     \u001b[38;5;66;03m# result is not geometry dtype for multi-indexes\u001b[39;00m\n\u001b[0;32m   1459\u001b[0m     \u001b[38;5;28;01mif\u001b[39;00m (\n\u001b[0;32m   1460\u001b[0m         pd\u001b[38;5;241m.\u001b[39mapi\u001b[38;5;241m.\u001b[39mtypes\u001b[38;5;241m.\u001b[39mis_scalar(key)\n\u001b[0;32m   1461\u001b[0m         \u001b[38;5;129;01mand\u001b[39;00m key \u001b[38;5;241m==\u001b[39m \u001b[38;5;124m\"\u001b[39m\u001b[38;5;124m\"\u001b[39m\n\u001b[1;32m   (...)\u001b[0m\n\u001b[0;32m   1464\u001b[0m         \u001b[38;5;129;01mand\u001b[39;00m \u001b[38;5;129;01mnot\u001b[39;00m is_geometry_type(result)\n\u001b[0;32m   1465\u001b[0m     ):\n",
      "File \u001b[1;32mc:\\Users\\phwh9568\\AppData\\Local\\miniforge3\\envs\\gis_env\\Lib\\site-packages\\pandas\\core\\frame.py:4096\u001b[0m, in \u001b[0;36mDataFrame.__getitem__\u001b[1;34m(self, key)\u001b[0m\n\u001b[0;32m   4094\u001b[0m     \u001b[38;5;28;01mif\u001b[39;00m is_iterator(key):\n\u001b[0;32m   4095\u001b[0m         key \u001b[38;5;241m=\u001b[39m \u001b[38;5;28mlist\u001b[39m(key)\n\u001b[1;32m-> 4096\u001b[0m     indexer \u001b[38;5;241m=\u001b[39m \u001b[38;5;28;43mself\u001b[39;49m\u001b[38;5;241;43m.\u001b[39;49m\u001b[43mcolumns\u001b[49m\u001b[38;5;241;43m.\u001b[39;49m\u001b[43m_get_indexer_strict\u001b[49m\u001b[43m(\u001b[49m\u001b[43mkey\u001b[49m\u001b[43m,\u001b[49m\u001b[43m \u001b[49m\u001b[38;5;124;43m\"\u001b[39;49m\u001b[38;5;124;43mcolumns\u001b[39;49m\u001b[38;5;124;43m\"\u001b[39;49m\u001b[43m)\u001b[49m[\u001b[38;5;241m1\u001b[39m]\n\u001b[0;32m   4098\u001b[0m \u001b[38;5;66;03m# take() does not accept boolean indexers\u001b[39;00m\n\u001b[0;32m   4099\u001b[0m \u001b[38;5;28;01mif\u001b[39;00m \u001b[38;5;28mgetattr\u001b[39m(indexer, \u001b[38;5;124m\"\u001b[39m\u001b[38;5;124mdtype\u001b[39m\u001b[38;5;124m\"\u001b[39m, \u001b[38;5;28;01mNone\u001b[39;00m) \u001b[38;5;241m==\u001b[39m \u001b[38;5;28mbool\u001b[39m:\n",
      "File \u001b[1;32mc:\\Users\\phwh9568\\AppData\\Local\\miniforge3\\envs\\gis_env\\Lib\\site-packages\\pandas\\core\\indexes\\base.py:6199\u001b[0m, in \u001b[0;36mIndex._get_indexer_strict\u001b[1;34m(self, key, axis_name)\u001b[0m\n\u001b[0;32m   6196\u001b[0m \u001b[38;5;28;01melse\u001b[39;00m:\n\u001b[0;32m   6197\u001b[0m     keyarr, indexer, new_indexer \u001b[38;5;241m=\u001b[39m \u001b[38;5;28mself\u001b[39m\u001b[38;5;241m.\u001b[39m_reindex_non_unique(keyarr)\n\u001b[1;32m-> 6199\u001b[0m \u001b[38;5;28;43mself\u001b[39;49m\u001b[38;5;241;43m.\u001b[39;49m\u001b[43m_raise_if_missing\u001b[49m\u001b[43m(\u001b[49m\u001b[43mkeyarr\u001b[49m\u001b[43m,\u001b[49m\u001b[43m \u001b[49m\u001b[43mindexer\u001b[49m\u001b[43m,\u001b[49m\u001b[43m \u001b[49m\u001b[43maxis_name\u001b[49m\u001b[43m)\u001b[49m\n\u001b[0;32m   6201\u001b[0m keyarr \u001b[38;5;241m=\u001b[39m \u001b[38;5;28mself\u001b[39m\u001b[38;5;241m.\u001b[39mtake(indexer)\n\u001b[0;32m   6202\u001b[0m \u001b[38;5;28;01mif\u001b[39;00m \u001b[38;5;28misinstance\u001b[39m(key, Index):\n\u001b[0;32m   6203\u001b[0m     \u001b[38;5;66;03m# GH 42790 - Preserve name from an Index\u001b[39;00m\n",
      "File \u001b[1;32mc:\\Users\\phwh9568\\AppData\\Local\\miniforge3\\envs\\gis_env\\Lib\\site-packages\\pandas\\core\\indexes\\base.py:6251\u001b[0m, in \u001b[0;36mIndex._raise_if_missing\u001b[1;34m(self, key, indexer, axis_name)\u001b[0m\n\u001b[0;32m   6248\u001b[0m     \u001b[38;5;28;01mraise\u001b[39;00m \u001b[38;5;167;01mKeyError\u001b[39;00m(\u001b[38;5;124mf\u001b[39m\u001b[38;5;124m\"\u001b[39m\u001b[38;5;124mNone of [\u001b[39m\u001b[38;5;132;01m{\u001b[39;00mkey\u001b[38;5;132;01m}\u001b[39;00m\u001b[38;5;124m] are in the [\u001b[39m\u001b[38;5;132;01m{\u001b[39;00maxis_name\u001b[38;5;132;01m}\u001b[39;00m\u001b[38;5;124m]\u001b[39m\u001b[38;5;124m\"\u001b[39m)\n\u001b[0;32m   6250\u001b[0m not_found \u001b[38;5;241m=\u001b[39m \u001b[38;5;28mlist\u001b[39m(ensure_index(key)[missing_mask\u001b[38;5;241m.\u001b[39mnonzero()[\u001b[38;5;241m0\u001b[39m]]\u001b[38;5;241m.\u001b[39munique())\n\u001b[1;32m-> 6251\u001b[0m \u001b[38;5;28;01mraise\u001b[39;00m \u001b[38;5;167;01mKeyError\u001b[39;00m(\u001b[38;5;124mf\u001b[39m\u001b[38;5;124m\"\u001b[39m\u001b[38;5;132;01m{\u001b[39;00mnot_found\u001b[38;5;132;01m}\u001b[39;00m\u001b[38;5;124m not in index\u001b[39m\u001b[38;5;124m\"\u001b[39m)\n",
      "\u001b[1;31mKeyError\u001b[0m: \"['UNIQID'] not in index\""
     ]
    }
   ],
   "source": [
    "parcels2 = parcels.merge(costarParcels[['COSTAR','UNIQID']], on='UNIQID')"
   ]
  },
  {
   "cell_type": "code",
   "execution_count": 34,
   "metadata": {},
   "outputs": [
    {
     "data": {
      "text/html": [
       "<div>\n",
       "<style scoped>\n",
       "    .dataframe tbody tr th:only-of-type {\n",
       "        vertical-align: middle;\n",
       "    }\n",
       "\n",
       "    .dataframe tbody tr th {\n",
       "        vertical-align: top;\n",
       "    }\n",
       "\n",
       "    .dataframe thead th {\n",
       "        text-align: right;\n",
       "    }\n",
       "</style>\n",
       "<table border=\"1\" class=\"dataframe\">\n",
       "  <thead>\n",
       "    <tr style=\"text-align: right;\">\n",
       "      <th></th>\n",
       "      <th>APN</th>\n",
       "      <th>APN2</th>\n",
       "      <th>STATE</th>\n",
       "      <th>COUNTY</th>\n",
       "      <th>FIPS</th>\n",
       "      <th>SIT_HSE_NU</th>\n",
       "      <th>SIT_DIR</th>\n",
       "      <th>SIT_STR_NA</th>\n",
       "      <th>SIT_STR_SF</th>\n",
       "      <th>SIT_FULL_S</th>\n",
       "      <th>...</th>\n",
       "      <th>MINX</th>\n",
       "      <th>MINY</th>\n",
       "      <th>MAXX</th>\n",
       "      <th>MAXY</th>\n",
       "      <th>VERSION</th>\n",
       "      <th>QUANTARIUM</th>\n",
       "      <th>ATTDATE</th>\n",
       "      <th>geomCalc</th>\n",
       "      <th>geometry</th>\n",
       "      <th>COSTAR</th>\n",
       "    </tr>\n",
       "  </thead>\n",
       "  <tbody>\n",
       "  </tbody>\n",
       "</table>\n",
       "<p>0 rows × 46 columns</p>\n",
       "</div>"
      ],
      "text/plain": [
       "Empty GeoDataFrame\n",
       "Columns: [APN, APN2, STATE, COUNTY, FIPS, SIT_HSE_NU, SIT_DIR, SIT_STR_NA, SIT_STR_SF, SIT_FULL_S, SIT_CITY, SIT_STATE, SIT_ZIP, SIT_ZIP4, LAND_VALUE, IMPR_VALUE, TOT_VALUE, ASSMT_YEAR, REC_DATE, SALES_PRIC, YEAR_BUILT, STD_LAND_U, LOT_SIZE, BLDG_AREA, DEED_DSCR, NO_OF_STOR, NO_OF_UNIT, BEDROOMS, BATHROOMS, OWNER, OWNER2, OWNADDRESS, OWNADDRES2, OWNCTYSTZP, XCOORD, YCOORD, MINX, MINY, MAXX, MAXY, VERSION, QUANTARIUM, ATTDATE, geomCalc, geometry, COSTAR]\n",
       "Index: []\n",
       "\n",
       "[0 rows x 46 columns]"
      ]
     },
     "execution_count": 34,
     "metadata": {},
     "output_type": "execute_result"
    }
   ],
   "source": [
    "parcels2.loc[parcels2['COSTAR']==1]"
   ]
  },
  {
   "cell_type": "code",
   "execution_count": 64,
   "metadata": {},
   "outputs": [
    {
     "data": {
      "text/html": [
       "<div>\n",
       "<style scoped>\n",
       "    .dataframe tbody tr th:only-of-type {\n",
       "        vertical-align: middle;\n",
       "    }\n",
       "\n",
       "    .dataframe tbody tr th {\n",
       "        vertical-align: top;\n",
       "    }\n",
       "\n",
       "    .dataframe thead th {\n",
       "        text-align: right;\n",
       "    }\n",
       "</style>\n",
       "<table border=\"1\" class=\"dataframe\">\n",
       "  <thead>\n",
       "    <tr style=\"text-align: right;\">\n",
       "      <th></th>\n",
       "      <th>APN</th>\n",
       "      <th>APN2</th>\n",
       "      <th>OWNER</th>\n",
       "      <th>geometry</th>\n",
       "      <th>Sum_Within</th>\n",
       "      <th>mnBlgArea</th>\n",
       "      <th>intLen</th>\n",
       "      <th>intZscore</th>\n",
       "      <th>extLen1</th>\n",
       "      <th>extZscore1</th>\n",
       "      <th>COSTAR</th>\n",
       "    </tr>\n",
       "  </thead>\n",
       "  <tbody>\n",
       "    <tr>\n",
       "      <th>0</th>\n",
       "      <td>171921200006</td>\n",
       "      <td>70291</td>\n",
       "      <td>AMC REDWOOD ESTATES LLC</td>\n",
       "      <td>MULTIPOLYGON (((-762763.731 301698.449, -76278...</td>\n",
       "      <td>670.0</td>\n",
       "      <td>121.26129</td>\n",
       "      <td>0</td>\n",
       "      <td>0.02231</td>\n",
       "      <td>48</td>\n",
       "      <td>8.557194</td>\n",
       "      <td>1</td>\n",
       "    </tr>\n",
       "  </tbody>\n",
       "</table>\n",
       "</div>"
      ],
      "text/plain": [
       "            APN   APN2                    OWNER  \\\n",
       "0  171921200006  70291  AMC REDWOOD ESTATES LLC   \n",
       "\n",
       "                                            geometry  Sum_Within  mnBlgArea  \\\n",
       "0  MULTIPOLYGON (((-762763.731 301698.449, -76278...       670.0  121.26129   \n",
       "\n",
       "   intLen  intZscore  extLen1  extZscore1  COSTAR  \n",
       "0       0    0.02231       48    8.557194       1  "
      ]
     },
     "execution_count": 64,
     "metadata": {},
     "output_type": "execute_result"
    }
   ],
   "source": [
    "parcels2"
   ]
  },
  {
   "cell_type": "code",
   "execution_count": 86,
   "metadata": {},
   "outputs": [
    {
     "data": {
      "text/plain": [
       "array([553482160, 739325107, 984633133, 191574206, 815452172, 780708074,\n",
       "       159302158,  54130428, 436011103, 910628661, 189773439, 344894028,\n",
       "       137049261, 966207275, 854741692, 550508391, 280253576, 429953311,\n",
       "       770389110, 988129159, 910479408, 704067504, 845778159, 282961557,\n",
       "       932902912, 469288882, 276863075, 947999552, 279549275, 553900066,\n",
       "       132278179,  16039301, 795393389, 726576165, 114691093,  21121414,\n",
       "       456065228, 883429572, 237224637,  79192326, 685004882, 983347935,\n",
       "       580126957, 864041240, 324885988, 468561362, 154948682, 914101947,\n",
       "       105138946, 177389759, 113309341, 726382926, 558824558, 626141047,\n",
       "       640752203, 840062045, 617798843, 556459436, 585082750, 142009181,\n",
       "       877463646, 529697861, 579011229, 507003058, 449344345, 426232162,\n",
       "         7724620,  43025874, 265453360, 410751370,   6248685, 849073615,\n",
       "       312860788, 700811349, 471317018, 793811925, 923354508, 256348938,\n",
       "       201074455, 621384696, 247930957, 499122074, 314103443,  67232742,\n",
       "       629809500,  38225132, 427606367,  43799364, 277319327, 931792440,\n",
       "       917362953, 603348196, 918850976, 539492854, 327363537, 150497481,\n",
       "       901598568, 432071572, 150571660, 642906398, 238162715, 433153911,\n",
       "       140995660,    899388, 301016227, 322582617, 405944872,  57093276,\n",
       "       489205311, 809830106, 549996132, 874432538, 823615944, 232823310,\n",
       "       197434060, 911884694, 183552419, 303924243, 411890664, 193881060,\n",
       "       489017410, 227904577, 370980536, 901388775, 359279326, 271063029,\n",
       "       866445965, 752206569, 965259124, 259549426, 638196669, 883841938,\n",
       "       576781866, 763020434, 788173963, 299046099, 275910471, 542873100,\n",
       "       981829800, 136368143,  49070296, 570333021, 109757786, 541600266,\n",
       "       529665823, 882769598, 669723140, 523032331, 643713445, 844361549,\n",
       "       727596728, 519899450,  60068750, 248686624, 819907846,  38083017,\n",
       "       748786962, 836459689, 476083795, 899337674,  67787996, 888318563,\n",
       "       389644489, 896743177, 504721540, 772337255, 425119972, 461671978,\n",
       "       431340699, 208787874, 856517548, 718050607, 255562898, 193979444,\n",
       "       864724929, 455320674, 597513174, 802662281, 975705146,  86061025,\n",
       "       170813607, 117096138,  21823738, 803287907, 558267593, 172002661,\n",
       "       363897660, 825633460, 959286388, 258546874, 101497063, 238861659,\n",
       "       717229673, 675108749, 972604395, 653511226, 689871853, 197031901,\n",
       "       537867120, 399004170, 863494676, 194494015, 756877428, 948278528,\n",
       "       234359116,  70078001, 207439101, 298168293, 336958410,  56131185,\n",
       "       760726983, 626039929, 788450930, 618436110, 221812035, 773476660,\n",
       "       970645440, 304792534, 719926465,  92766568, 116299339, 355852078,\n",
       "         3140347, 842661059, 550051574, 318518834, 743571864, 710133649,\n",
       "       735107041, 218157938, 188626035, 741139802, 402746408, 752123800,\n",
       "        82753191, 419122070, 232724572, 626373972, 919220669, 677822249,\n",
       "       270087983, 733540409, 643864514, 722269805, 720584012, 555282510,\n",
       "       837954917, 184952168, 436831639, 600697170, 810226564,  77948283,\n",
       "       705238529, 662677137, 575959494, 349016316, 574836544, 261729331,\n",
       "       277318680, 942366409, 368015265, 559587026, 828621928, 912172757,\n",
       "       497246271, 405506568, 967279781,  16241926, 745880710, 268014321,\n",
       "       259434341, 602736137, 682992869,  82268921, 649580652, 452018030,\n",
       "       929480182, 745276491, 461916173, 468309649,  69744750, 597701108,\n",
       "       486112957, 790634077,  18894669, 491329015, 626836498, 715454662,\n",
       "       828117717, 208020311, 189514009, 928337929, 117036475, 572986597,\n",
       "       441868692, 383516779, 448873096, 874209343, 416314426, 184466234,\n",
       "       214044501, 567261255, 256108919])"
      ]
     },
     "execution_count": 86,
     "metadata": {},
     "output_type": "execute_result"
    }
   ],
   "source": []
  },
  {
   "cell_type": "markdown",
   "metadata": {},
   "source": [
    "renaming original mhp data:"
   ]
  },
  {
   "cell_type": "code",
   "execution_count": 25,
   "metadata": {},
   "outputs": [],
   "source": [
    "state = '08'\n",
    "CO_path = r'C:\\Users\\phwh9568\\Data\\ParcelAtlas\\CO_2022\\Counties'\n",
    "#CO_pInventory = pInventory.loc[pInventory['STATE']=='08']\n",
    "CO_pInventory = pd.read_csv(r'C:\\Users\\phwh9568\\Data\\ParcelAtlas\\CO_2022\\counties\\ColoradoInventory.csv', dtype={'STATE':str,'COUNTY':str})\n",
    "CO_pInventory_True = CO_pInventory.loc[CO_pInventory['DATA_PRESENT']==True]\n",
    "CO_pInventory_False = CO_pInventory.loc[CO_pInventory['DATA_PRESENT']==False]\n",
    "CO_pInventory_False.to_csv(os.path.join(CO_path,'missingParcelData.csv')) # need to get this to work\n",
    "fipsList = CO_pInventory_True['COUNTY'].tolist()   \n",
    "parcelsPaths = [os.path.join(CO_path,fips) for fips in fipsList]"
   ]
  },
  {
   "cell_type": "code",
   "execution_count": null,
   "metadata": {},
   "outputs": [],
   "source": [
    "\n"
   ]
  },
  {
   "cell_type": "code",
   "execution_count": 101,
   "metadata": {},
   "outputs": [],
   "source": [
    "coMHPPath = r'C:\\Users\\phwh9568\\Data\\ParcelAtlas\\CO_2022\\08_MHPs_OG.gpkg'"
   ]
  },
  {
   "cell_type": "code",
   "execution_count": 100,
   "metadata": {},
   "outputs": [
    {
     "data": {
      "text/plain": [
       "array([['08_mhps_non_matched', 'Point'],\n",
       "       ['08_mhps_non_matched_multi100_less5', 'Point'],\n",
       "       ['08_missed_buffs', 'Polygon'],\n",
       "       ['08_MHPs_OG', 'Point'],\n",
       "       ['08_MHPs_Prepped_OG', 'Point']], dtype=object)"
      ]
     },
     "execution_count": 100,
     "metadata": {},
     "output_type": "execute_result"
    }
   ],
   "source": [
    "pyogrio.list_layers(coMHPs)"
   ]
  },
  {
   "cell_type": "code",
   "execution_count": 102,
   "metadata": {},
   "outputs": [],
   "source": [
    "coMHPs = gpd.read_file(coMHPPath,layer='08_MHPs_OG')"
   ]
  },
  {
   "cell_type": "code",
   "execution_count": 105,
   "metadata": {},
   "outputs": [
    {
     "data": {
      "text/plain": [
       "0      08123\n",
       "1      08013\n",
       "2      08069\n",
       "3      08101\n",
       "4      08107\n",
       "       ...  \n",
       "679    08083\n",
       "680    08083\n",
       "681    08083\n",
       "682    08105\n",
       "683    08105\n",
       "Name: COUNTYFIPS, Length: 684, dtype: object"
      ]
     },
     "execution_count": 105,
     "metadata": {},
     "output_type": "execute_result"
    }
   ],
   "source": [
    "coMHPs.COUNTYFIPS"
   ]
  },
  {
   "cell_type": "code",
   "execution_count": 111,
   "metadata": {},
   "outputs": [],
   "source": [
    "for path in parcelsPaths:\n",
    "    fips = path.split('\\\\')[-1]\n",
    "    countyMHPs = coMHPs.loc[coMHPs['COUNTYFIPS']==fips]\n",
    "    countyMHPs.to_csv(os.path.join(path,f'MHP_{fips}.csv'))"
   ]
  },
  {
   "cell_type": "markdown",
   "metadata": {},
   "source": [
    "BLOW UP OLD ONES"
   ]
  },
  {
   "cell_type": "code",
   "execution_count": 106,
   "metadata": {},
   "outputs": [],
   "source": [
    "for path in parcelsPaths:\n",
    "    fips = path.split('\\\\')[-1]\n",
    "    mhpPath = os.path.join(path,f'MHP_{fips}.csv')\n",
    "    if os.path.exists(mhpPath):\n",
    "        os.remove(mhpPath)"
   ]
  },
  {
   "cell_type": "code",
   "execution_count": 109,
   "metadata": {},
   "outputs": [
    {
     "data": {
      "text/plain": [
       "'C:\\\\Users\\\\phwh9568\\\\Data\\\\ParcelAtlas\\\\CO_2022\\\\Counties\\\\08001'"
      ]
     },
     "execution_count": 109,
     "metadata": {},
     "output_type": "execute_result"
    }
   ],
   "source": [
    "path"
   ]
  },
  {
   "cell_type": "markdown",
   "metadata": {},
   "source": [
    "08123 problem:"
   ]
  },
  {
   "cell_type": "code",
   "execution_count": 46,
   "metadata": {},
   "outputs": [],
   "source": [
    "weldPath = os.path.join(countiesPath,'08123')\n",
    "adamsPath = os.path.join(countiesPath,'08001')\n",
    "oteroPath = os.path.join(countiesPath,'08089')"
   ]
  },
  {
   "cell_type": "code",
   "execution_count": 47,
   "metadata": {},
   "outputs": [],
   "source": [
    "import importlib"
   ]
  },
  {
   "cell_type": "markdown",
   "metadata": {},
   "source": [
    "### trouble shooting tempID problem in parcelMHPJoin"
   ]
  },
  {
   "cell_type": "code",
   "execution_count": 141,
   "metadata": {},
   "outputs": [
    {
     "data": {
      "text/plain": [
       "<module 'parcelfunks' from 'c:\\\\Users\\\\phwh9568\\\\Data\\\\ParcelAtlas\\\\CO_2022\\\\parcelfunks.py'>"
      ]
     },
     "execution_count": 141,
     "metadata": {},
     "output_type": "execute_result"
    }
   ],
   "source": [
    "importlib.reload(parcelfunks)"
   ]
  },
  {
   "cell_type": "code",
   "execution_count": null,
   "metadata": {},
   "outputs": [],
   "source": [
    "parcelfunks.parcelWorker(adamsPath)"
   ]
  },
  {
   "cell_type": "code",
   "execution_count": 179,
   "metadata": {},
   "outputs": [],
   "source": [
    "adams = gpd.read_file(os.path.join(adamsPath,'08001.gpkg'))\n",
    "parcels = gpd.read_file(os.path.join(adamsPath,'parcels.shp'))\n",
    "parcels.to_crs(crs='ESRI:102003', inplace=True)"
   ]
  },
  {
   "cell_type": "code",
   "execution_count": 143,
   "metadata": {},
   "outputs": [],
   "source": [
    "buildings = gpd.read_file(os.path.join(adamsPath,'08001_buildings.shp'))\n",
    "buildings.to_crs(crs='ESRI:102003', inplace=True)"
   ]
  },
  {
   "cell_type": "code",
   "execution_count": 180,
   "metadata": {},
   "outputs": [],
   "source": [
    "parcels = parcelfunks.parcelBuildings(parcels,buildings)\n",
    "parcels = parcelfunks.parcelPreFilter(parcels)"
   ]
  },
  {
   "cell_type": "code",
   "execution_count": 181,
   "metadata": {},
   "outputs": [],
   "source": [
    "parcels['UNIQID'] = np.random.randint(low=1, high=1000000000, size=len(parcels))"
   ]
  },
  {
   "cell_type": "code",
   "execution_count": 182,
   "metadata": {},
   "outputs": [],
   "source": [
    "costarHomes = gpd.read_file(os.path.join(adamsPath,'08001_COSTAR_mhps.gpkg'),layer='COSTAR_mhps')\n",
    "costarHomes.to_crs(crs='ESRI:102003', inplace=True)"
   ]
  },
  {
   "cell_type": "code",
   "execution_count": 183,
   "metadata": {},
   "outputs": [],
   "source": [
    "costarParcels = parcelfunks.parcelCostarJoin(parcels,costarHomes)"
   ]
  },
  {
   "cell_type": "code",
   "execution_count": 185,
   "metadata": {},
   "outputs": [],
   "source": [
    "costarParcels['COSTAR']=1"
   ]
  },
  {
   "cell_type": "code",
   "execution_count": null,
   "metadata": {},
   "outputs": [],
   "source": [
    "costarParcels"
   ]
  },
  {
   "cell_type": "code",
   "execution_count": 187,
   "metadata": {},
   "outputs": [],
   "source": [
    "parcels_postCostar = parcels.merge(costarParcels[['COSTAR', 'UNIQID']], how='left', on='UNIQID')\n"
   ]
  },
  {
   "cell_type": "code",
   "execution_count": 189,
   "metadata": {},
   "outputs": [
    {
     "data": {
      "text/plain": [
       "True"
      ]
     },
     "execution_count": 189,
     "metadata": {},
     "output_type": "execute_result"
    }
   ],
   "source": [
    "1 in parcels_postCostar['COSTAR']"
   ]
  },
  {
   "cell_type": "code",
   "execution_count": 202,
   "metadata": {},
   "outputs": [],
   "source": [
    "remainingParcels = parcels_postCostar.loc[parcels_postCostar['COSTAR']!=1]"
   ]
  },
  {
   "cell_type": "code",
   "execution_count": 193,
   "metadata": {},
   "outputs": [
    {
     "data": {
      "text/plain": [
       "(303, 281)"
      ]
     },
     "execution_count": 193,
     "metadata": {},
     "output_type": "execute_result"
    }
   ],
   "source": [
    "len(parcels), len(remainingParcels)"
   ]
  },
  {
   "cell_type": "code",
   "execution_count": 194,
   "metadata": {},
   "outputs": [],
   "source": [
    "mhps = gpd.read_file(os.path.join(adamsPath,'08001_mhps_OG.gpkg'), layer='08001_MHPS_OG_prepped')\n",
    "mhps.to_crs(crs='ESRI:102003', inplace=True)"
   ]
  },
  {
   "cell_type": "code",
   "execution_count": 203,
   "metadata": {},
   "outputs": [],
   "source": [
    "cols = remainingParcels.columns"
   ]
  },
  {
   "cell_type": "code",
   "execution_count": 215,
   "metadata": {},
   "outputs": [],
   "source": [
    "cols = cols.drop('tempID')"
   ]
  },
  {
   "cell_type": "code",
   "execution_count": 216,
   "metadata": {},
   "outputs": [
    {
     "data": {
      "text/plain": [
       "Index(['APN', 'APN2', 'OWNER', 'geometry', 'Sum_Within', 'mnBlgArea', 'intLen',\n",
       "       'intZscore', 'extLen1', 'extZscore1', 'UNIQID', 'IDcheck', 'COSTAR'],\n",
       "      dtype='object')"
      ]
     },
     "execution_count": 216,
     "metadata": {},
     "output_type": "execute_result"
    }
   ],
   "source": [
    "cols"
   ]
  },
  {
   "cell_type": "code",
   "execution_count": 208,
   "metadata": {},
   "outputs": [],
   "source": [
    "remainingParcels['tempID'] = remainingParcels.index"
   ]
  },
  {
   "cell_type": "code",
   "execution_count": 209,
   "metadata": {},
   "outputs": [],
   "source": [
    "mhps_parcels_near = gpd.sjoin_nearest(mhps,remainingParcels,max_distance=50, distance_col='distances')"
   ]
  },
  {
   "cell_type": "code",
   "execution_count": 197,
   "metadata": {},
   "outputs": [
    {
     "data": {
      "text/plain": [
       "RangeIndex(start=0, stop=303, step=1)"
      ]
     },
     "execution_count": 197,
     "metadata": {},
     "output_type": "execute_result"
    }
   ],
   "source": [
    "parcels.index"
   ]
  },
  {
   "cell_type": "code",
   "execution_count": 175,
   "metadata": {},
   "outputs": [],
   "source": [
    "apnParcel = parcelfunks.apnJoin(parcels,costarHomes)"
   ]
  },
  {
   "cell_type": "code",
   "execution_count": 164,
   "metadata": {},
   "outputs": [],
   "source": [
    "cols = apnParcel.columns"
   ]
  },
  {
   "cell_type": "code",
   "execution_count": 176,
   "metadata": {},
   "outputs": [],
   "source": [
    "parcels['tempID'] = parcels.index"
   ]
  },
  {
   "cell_type": "code",
   "execution_count": 177,
   "metadata": {},
   "outputs": [],
   "source": [
    "mhps_parcels_near = gpd.sjoin_nearest(costarHomes,parcels,max_distance=50, distance_col='distances')\n"
   ]
  },
  {
   "cell_type": "code",
   "execution_count": 178,
   "metadata": {},
   "outputs": [
    {
     "data": {
      "text/plain": [
       "Index(['MH_prop_id', 'MH_prop_name', 'MH_prop_city', 'MH_prop_state',\n",
       "       'MH_prop_county', 'MH_prop_zip', 'MH_lat', 'MH_long', 'MH_APN',\n",
       "       'MH_units', 'MH_COUNTY_FIPS', 'geometry', 'index_right', 'APN', 'APN2',\n",
       "       'OWNER', 'Sum_Within', 'mnBlgArea', 'intLen', 'intZscore', 'extLen1',\n",
       "       'extZscore1', 'UNIQID', 'tempID', 'distances'],\n",
       "      dtype='object')"
      ]
     },
     "execution_count": 178,
     "metadata": {},
     "output_type": "execute_result"
    }
   ],
   "source": [
    "mhps_parcels_near.columns"
   ]
  },
  {
   "cell_type": "code",
   "execution_count": null,
   "metadata": {},
   "outputs": [],
   "source": []
  },
  {
   "cell_type": "code",
   "execution_count": 148,
   "metadata": {},
   "outputs": [],
   "source": [
    "costarParcels['COSTAR']=1"
   ]
  },
  {
   "cell_type": "code",
   "execution_count": 149,
   "metadata": {},
   "outputs": [],
   "source": [
    "parcelsMerged = parcels.merge(costarParcels[['COSTAR', 'UNIQID']], how='left', on='UNIQID')"
   ]
  },
  {
   "cell_type": "code",
   "execution_count": 150,
   "metadata": {},
   "outputs": [
    {
     "data": {
      "text/plain": [
       "303"
      ]
     },
     "execution_count": 150,
     "metadata": {},
     "output_type": "execute_result"
    }
   ],
   "source": [
    "len(parcelsMerged)"
   ]
  },
  {
   "cell_type": "code",
   "execution_count": 151,
   "metadata": {},
   "outputs": [],
   "source": [
    "remainingParcels = parcels.loc[parcelsMerged['COSTAR']!=1]"
   ]
  },
  {
   "cell_type": "code",
   "execution_count": 152,
   "metadata": {},
   "outputs": [
    {
     "data": {
      "text/plain": [
       "281"
      ]
     },
     "execution_count": 152,
     "metadata": {},
     "output_type": "execute_result"
    }
   ],
   "source": [
    "len(remainingParcels)"
   ]
  },
  {
   "cell_type": "code",
   "execution_count": 153,
   "metadata": {},
   "outputs": [],
   "source": []
  },
  {
   "cell_type": "code",
   "execution_count": 27,
   "metadata": {},
   "outputs": [],
   "source": [
    "parcelfunks.unionWorker(adamsPath)"
   ]
  },
  {
   "cell_type": "code",
   "execution_count": 45,
   "metadata": {},
   "outputs": [],
   "source": [
    "parcelfunks.mergeWorker(adamsPath)"
   ]
  },
  {
   "cell_type": "markdown",
   "metadata": {},
   "source": [
    "Now fixing/refactoring output concat stuff"
   ]
  },
  {
   "cell_type": "code",
   "execution_count": 218,
   "metadata": {},
   "outputs": [],
   "source": [
    "outDir = r'C:\\Users\\phwh9568\\Data\\ParcelAtlas\\CO_2022'"
   ]
  },
  {
   "cell_type": "markdown",
   "metadata": {},
   "source": [
    "Blow up old ones:"
   ]
  },
  {
   "cell_type": "code",
   "execution_count": 219,
   "metadata": {},
   "outputs": [],
   "source": [
    "for path in parcelsPaths:\n",
    "    fips = path.split('\\\\')[-1]\n",
    "    finalPath = os.path.join(path,f'{fips}.gpkg')\n",
    "    if os.path.exists(finalPath):\n",
    "        os.remove(finalPath)"
   ]
  },
  {
   "cell_type": "code",
   "execution_count": 253,
   "metadata": {},
   "outputs": [
    {
     "ename": "FileNotFoundError",
     "evalue": "[WinError 2] The system cannot find the file specified: 'C:\\\\Users\\\\phwh9568\\\\Data\\\\ParcelAtlas\\\\CO_2022\\\\Colorado_Final.gpkg'",
     "output_type": "error",
     "traceback": [
      "\u001b[1;31m---------------------------------------------------------------------------\u001b[0m",
      "\u001b[1;31mFileNotFoundError\u001b[0m                         Traceback (most recent call last)",
      "Cell \u001b[1;32mIn[253], line 2\u001b[0m\n\u001b[0;32m      1\u001b[0m \u001b[38;5;66;03m# blow up:\u001b[39;00m\n\u001b[1;32m----> 2\u001b[0m \u001b[43mos\u001b[49m\u001b[38;5;241;43m.\u001b[39;49m\u001b[43mremove\u001b[49m\u001b[43m(\u001b[49m\u001b[43mos\u001b[49m\u001b[38;5;241;43m.\u001b[39;49m\u001b[43mpath\u001b[49m\u001b[38;5;241;43m.\u001b[39;49m\u001b[43mjoin\u001b[49m\u001b[43m(\u001b[49m\u001b[43moutDir\u001b[49m\u001b[43m,\u001b[49m\u001b[38;5;124;43m'\u001b[39;49m\u001b[38;5;124;43mColorado_Final.gpkg\u001b[39;49m\u001b[38;5;124;43m'\u001b[39;49m\u001b[43m)\u001b[49m\u001b[43m)\u001b[49m\n",
      "\u001b[1;31mFileNotFoundError\u001b[0m: [WinError 2] The system cannot find the file specified: 'C:\\\\Users\\\\phwh9568\\\\Data\\\\ParcelAtlas\\\\CO_2022\\\\Colorado_Final.gpkg'"
     ]
    }
   ],
   "source": [
    "# blow up:\n",
    "os.remove(os.path.join(outDir,'Colorado_Final.gpkg'))"
   ]
  },
  {
   "cell_type": "code",
   "execution_count": 227,
   "metadata": {},
   "outputs": [],
   "source": [
    "import pyogrio"
   ]
  },
  {
   "cell_type": "code",
   "execution_count": 230,
   "metadata": {},
   "outputs": [
    {
     "data": {
      "text/plain": [
       "array([['COSTAR_parcels', 'MultiPolygon'],\n",
       "       ['MHP_parcels', 'MultiPolygon'],\n",
       "       ['COSTAR_parc_blk_union2000', 'MultiPolygon'],\n",
       "       ['MHP_parc_blk_union2000', 'MultiPolygon'],\n",
       "       ['COSTAR_parc_blk_union2010', 'MultiPolygon'],\n",
       "       ['MHP_parc_blk_union2010', 'MultiPolygon']], dtype=object)"
      ]
     },
     "execution_count": 230,
     "metadata": {},
     "output_type": "execute_result"
    }
   ],
   "source": [
    "pyogrio.list_layers(os.path.join(adamsPath,'08001.gpkg'))"
   ]
  },
  {
   "cell_type": "code",
   "execution_count": 231,
   "metadata": {},
   "outputs": [
    {
     "name": "stdout",
     "output_type": "stream",
     "text": [
      "COSTAR\n",
      "MHP\n"
     ]
    }
   ],
   "source": [
    "for version in ['COSTAR','MHP']:\n",
    "    print(version)"
   ]
  },
  {
   "cell_type": "markdown",
   "metadata": {},
   "source": [
    "GOOD!:"
   ]
  },
  {
   "cell_type": "code",
   "execution_count": 288,
   "metadata": {},
   "outputs": [],
   "source": [
    "versions = {'COSTAR':{'_parcels','_parc_blk_union2000','_parc_blk_union2010'}, 'MHP':{'_parcels','_parc_blk_union2000','_parc_blk_union2010'}}"
   ]
  },
  {
   "cell_type": "code",
   "execution_count": 254,
   "metadata": {},
   "outputs": [],
   "source": [
    "versions = {'COSTAR':{'_parcels','_parc_blk_union2000','_parc_blk_union2010'}, 'MHP':{'_parcels','_parc_blk_union2000','_parc_blk_union2010'}}\n",
    "for key, values in versions.items():\n",
    "    for v in values:\n",
    "        outDF = pd.DataFrame()\n",
    "        for path in parcelsPaths:\n",
    "            fips = path.split('\\\\')[-1]        \n",
    "            if os.path.exists(os.path.join(path,fips+'.gpkg')):\n",
    "                layers = pyogrio.list_layers(os.path.join(path,fips+'.gpkg'))\n",
    "                if f'{key}{v}' in layers:\n",
    "                    outDF = pd.concat([outDF,gpd.read_file(os.path.join(path, fips+'.gpkg'),layer=f'{key}{v}')])\n",
    "        outDF.to_file(os.path.join(outDir,'Colorado_Final.gpkg'),layer=f'{key}{v}')"
   ]
  },
  {
   "cell_type": "code",
   "execution_count": 277,
   "metadata": {},
   "outputs": [],
   "source": [
    "stateDir = rf'C:\\Users\\phwh9568\\Data\\ParcelAtlas\\CO_2022\\CO_2022' #change later to {state}\n",
    "outDir = rf'C:\\Users\\phwh9568\\Data\\ParcelAtlas\\CO_2022\\{state}_output'"
   ]
  },
  {
   "cell_type": "code",
   "execution_count": 278,
   "metadata": {},
   "outputs": [
    {
     "ename": "TypeError",
     "evalue": "read_csv() missing 1 required positional argument: 'filepath_or_buffer'",
     "output_type": "error",
     "traceback": [
      "\u001b[1;31m---------------------------------------------------------------------------\u001b[0m",
      "\u001b[1;31mTypeError\u001b[0m                                 Traceback (most recent call last)",
      "Cell \u001b[1;32mIn[278], line 5\u001b[0m\n\u001b[0;32m      3\u001b[0m \u001b[38;5;28;01mfor\u001b[39;00m key \u001b[38;5;129;01min\u001b[39;00m keys:\n\u001b[0;32m      4\u001b[0m     \u001b[38;5;28;01mfor\u001b[39;00m value \u001b[38;5;129;01min\u001b[39;00m values:\n\u001b[1;32m----> 5\u001b[0m         mhps \u001b[38;5;241m=\u001b[39m \u001b[43mpd\u001b[49m\u001b[38;5;241;43m.\u001b[39;49m\u001b[43mread_csv\u001b[49m\u001b[43m(\u001b[49m\u001b[43m)\u001b[49m\n\u001b[0;32m      6\u001b[0m         layer \u001b[38;5;241m=\u001b[39m gpd\u001b[38;5;241m.\u001b[39mread_file(stateFinalPath, layer\u001b[38;5;241m=\u001b[39m\u001b[38;5;124mf\u001b[39m\u001b[38;5;124m'\u001b[39m\u001b[38;5;132;01m{\u001b[39;00mkey\u001b[38;5;132;01m}\u001b[39;00m\u001b[38;5;132;01m{\u001b[39;00mv\u001b[38;5;132;01m}\u001b[39;00m\u001b[38;5;124m'\u001b[39m)\n\u001b[0;32m      7\u001b[0m         outputDF \u001b[38;5;241m=\u001b[39m pd\u001b[38;5;241m.\u001b[39mconcat(outputDF,layer)\n",
      "\u001b[1;31mTypeError\u001b[0m: read_csv() missing 1 required positional argument: 'filepath_or_buffer'"
     ]
    }
   ],
   "source": [
    "stateFinalPath = os.path.join(outDir,f'{state}_Final.gpkg')\n",
    "for keys, values in versions.items():\n",
    "    for key in keys:\n",
    "        for value in values:\n",
    "            mhps = pd.read_csv(os.path.join(stateDir,f'{version}_mhps.csv'), dtype=)\n",
    "            layer = gpd.read_file(stateFinalPath, layer=f'{key}{v}')\n",
    "            outputDF = pd.concat(outputDF,layer)\n",
    "\n",
    "            \n",
    "    "
   ]
  },
  {
   "cell_type": "code",
   "execution_count": null,
   "metadata": {},
   "outputs": [],
   "source": []
  },
  {
   "cell_type": "code",
   "execution_count": null,
   "metadata": {},
   "outputs": [],
   "source": []
  },
  {
   "cell_type": "code",
   "execution_count": null,
   "metadata": {},
   "outputs": [],
   "source": []
  },
  {
   "cell_type": "code",
   "execution_count": 255,
   "metadata": {},
   "outputs": [
    {
     "name": "stdout",
     "output_type": "stream",
     "text": [
      "COSTAR\n",
      "MHP\n"
     ]
    }
   ],
   "source": [
    "for k,v in versions.items():\n",
    "    print(k)"
   ]
  },
  {
   "cell_type": "code",
   "execution_count": 34,
   "metadata": {},
   "outputs": [
    {
     "data": {
      "text/plain": [
       "<module 'parcelfunks' from 'c:\\\\Users\\\\phwh9568\\\\Data\\\\ParcelAtlas\\\\CO_2022\\\\parcelfunks.py'>"
      ]
     },
     "execution_count": 34,
     "metadata": {},
     "output_type": "execute_result"
    }
   ],
   "source": [
    "importlib.reload(parcelfunks)"
   ]
  },
  {
   "cell_type": "markdown",
   "metadata": {},
   "source": [
    "Now csv outputs and exceptions:"
   ]
  },
  {
   "cell_type": "code",
   "execution_count": null,
   "metadata": {},
   "outputs": [],
   "source": [
    "#final county unions concat to state level and output:\n",
    "state = '08'\n",
    "outDir = rf'C:\\Users\\phwh9568\\Data\\ParcelAtlas\\CO_2022\\{state}_output'\n",
    "versions = {'COSTAR':{'_parcels',\n",
    "                      '_parc_blk_union2000',\n",
    "                      '_parc_blk_union2010'}, \n",
    "               'MHP':{'_parcels',\n",
    "                      '_parc_blk_union2000',\n",
    "                      '_parc_blk_union2010'}}\n",
    "years = ['2000','2010']\n",
    "\n",
    "exceptionsFinalDF = pd.DataFrame()\n",
    "for path in parcelsPaths:\n",
    "    fips = path.split('\\\\')[-1]\n",
    "    countyEx = pd.read_csv(os.path.join(path,'exceptions.csv'), dtype={'COUNTY_FIPS':str})\n",
    "    exceptionsFinalDF = pd.concat([exceptionsFinalDF,countyEx])\n",
    "    for version in versions.keys():\n",
    "        outDF = pd.DataFrame()\n",
    "        for year in years:\n",
    "            yr = year[-2:]                  \n",
    "            dtype={f'STATEFP{yr}':str,f'COUNTYFP{yr}':str,f'TRACTCE{yr}':str,f'BLOCKCE{yr}':str,f'GEOID{yr}':str,f'MTFCC{yr}':str,f'UACE{yr}':str,f'GEOID{yr}':str, 'MH_COUNTY_FIPS':str}\n",
    "            if version == 'COSTAR':\n",
    "                dtype.update({'MH_APN':str, 'APN':str, 'APN2':str})            \n",
    "            filePath = os.path.join(path,f'{version}_{fips}_{year}.csv')            \n",
    "            if os.path.exists(filePath):\n",
    "                unionDF = pd.read_csv(filePath,dtype=dtype)\n",
    "                print(len(unionDF))\n",
    "                outDF = pd.concat([outDF,unionDF])\n",
    "                print(len(outDF))\n",
    "            else:\n",
    "                print(filePath, 'does not exist')\n",
    "        outDF.to_csv(os.path.join(outDir, f'{state}_{version}_{year}_final.csv'))\n",
    "exceptionsFinalDF.to_csv(os.path.join(outDir, f'{state}_exceptions.csv'))\n",
    "\n"
   ]
  },
  {
   "cell_type": "code",
   "execution_count": 45,
   "metadata": {},
   "outputs": [],
   "source": [
    "#NEW\n",
    "state = '08'\n",
    "outDir = rf'C:\\Users\\phwh9568\\Data\\ParcelAtlas\\CO_2022\\{state}_output'\n",
    "versions = {'COSTAR':{'_parcels',\n",
    "                      '_parc_blk_union2000',\n",
    "                      '_parc_blk_union2010'}, \n",
    "               'MHP':{'_parcels',\n",
    "                      '_parc_blk_union2000',\n",
    "                      '_parc_blk_union2010'}}\n",
    "years = ['2000','2010']\n",
    "\n",
    "for version in versions.keys():    \n",
    "    for year in years:\n",
    "        yr = year[-2:]\n",
    "        outDF = pd.DataFrame()      \n",
    "        for path in parcelsPaths:\n",
    "            fips = path.split('\\\\')[-1]                \n",
    "            dtype={f'STATEFP{yr}':str,f'COUNTYFP{yr}':str,f'TRACTCE{yr}':str,f'BLOCKCE{yr}':str,f'GEOID{yr}':str,f'MTFCC{yr}':str,f'UACE{yr}':str,f'GEOID{yr}':str, 'MH_COUNTY_FIPS':str}\n",
    "            if version == 'COSTAR':\n",
    "                dtype.update({'MH_APN':str, 'APN':str, 'APN2':str})            \n",
    "            filePath = os.path.join(path,f'{version}_{fips}_{year}.csv')            \n",
    "            if os.path.exists(filePath):\n",
    "                unionDF = pd.read_csv(filePath,dtype=dtype)\n",
    "                outDF = pd.concat([outDF,unionDF])\n",
    "        outDF.drop(outDF.filter(regex='Unnamed*').columns,axis=1, inplace=True)\n",
    "        outDF.to_csv(os.path.join(outDir, f'{state}_{version}_{year}_final.csv'))\n",
    "\n",
    "\n",
    "exceptionsFinalDF = pd.DataFrame()\n",
    "for path in parcelsPaths:\n",
    "    fips = path.split('\\\\')[-1]\n",
    "    countyEx = pd.read_csv(os.path.join(path,'exceptions.csv'), dtype={'COUNTY_FIPS':str})\n",
    "    exceptionsFinalDF = pd.concat([exceptionsFinalDF,countyEx])\n",
    "exceptionsFinalDF.to_csv(os.path.join(outDir, f'{state}_exceptions.csv'))"
   ]
  },
  {
   "cell_type": "code",
   "execution_count": 41,
   "metadata": {},
   "outputs": [
    {
     "data": {
      "text/plain": [
       "\"('MHP', {'_parc_blk_union2000', '_parc_blk_union2010', '_parcels'})_08125_2010.csv\""
      ]
     },
     "execution_count": 41,
     "metadata": {},
     "output_type": "execute_result"
    }
   ],
   "source": [
    "f'{version}_{fips}_{year}.csv'"
   ]
  },
  {
   "cell_type": "code",
   "execution_count": 260,
   "metadata": {},
   "outputs": [],
   "source": [
    "for path in parcelsPaths:\n",
    "    fips = path.split('\\\\')[-1]\n",
    "    if os.path.exists(os.path.join(path,f'MHP_{fips}_COSTAR.csv')):\n",
    "        costar = pd.read_csv(os.path.join(path,f'MHP_{fips}_COSTAR.csv'), dtype={'MH_COUNTY_FIPS':str})\n",
    "        costar.to_csv(os.path.join(path,f'COSTAR_{fips}.csv'))"
   ]
  },
  {
   "cell_type": "code",
   "execution_count": 262,
   "metadata": {},
   "outputs": [],
   "source": [
    "yr='10'\n",
    "dtype={f'STATEFP{yr}':str,f'COUNTYFP{yr}':str,f'TRACTCE{yr}':str,f'BLOCKCE{yr}':str,f'GEOID{yr}':str,f'MTFCC{yr}':str,f'UACE{yr}':str,f'GEOID{yr}':str, 'MH_COUNTY_FIPS':str}"
   ]
  },
  {
   "cell_type": "code",
   "execution_count": 265,
   "metadata": {},
   "outputs": [],
   "source": [
    "dtype.update({'MH_APN':str, 'APN':str, 'APN2':str})"
   ]
  },
  {
   "cell_type": "code",
   "execution_count": 266,
   "metadata": {},
   "outputs": [
    {
     "data": {
      "text/plain": [
       "{'STATEFP10': str,\n",
       " 'COUNTYFP10': str,\n",
       " 'TRACTCE10': str,\n",
       " 'BLOCKCE10': str,\n",
       " 'GEOID10': str,\n",
       " 'MTFCC10': str,\n",
       " 'UACE10': str,\n",
       " 'MH_COUNTY_FIPS': str,\n",
       " 'MH_APN': str,\n",
       " 'APN': str,\n",
       " 'APN2': str}"
      ]
     },
     "execution_count": 266,
     "metadata": {},
     "output_type": "execute_result"
    }
   ],
   "source": [
    "dtype"
   ]
  },
  {
   "cell_type": "code",
   "execution_count": 272,
   "metadata": {},
   "outputs": [
    {
     "data": {
      "text/plain": [
       "'20'"
      ]
     },
     "execution_count": 272,
     "metadata": {},
     "output_type": "execute_result"
    }
   ],
   "source": [
    "'2020'[-2:]"
   ]
  },
  {
   "cell_type": "code",
   "execution_count": 279,
   "metadata": {},
   "outputs": [],
   "source": [
    "for path in parcelsPaths:\n",
    "    fips = path.split('\\\\')[-1]\n",
    "    costarPath = os.path.join(path,f'{fips}_COSTAR_mhps.gpkg')\n",
    "    if os.path.exists(os.path.join(path,f'{fips}_COSTAR_mhps.gpkg')):\n",
    "        mhps = gpd.read_file(costarPath,layer='COSTAR_mhps')\n",
    "        mhps.to_csv(os.path.join(path, 'COSTAR_mhps.csv'))"
   ]
  },
  {
   "cell_type": "code",
   "execution_count": 284,
   "metadata": {},
   "outputs": [],
   "source": [
    "costar = gpd.read_file(os.path.join(stateDir,'COSTAR_mhps.gpkg'),layer='COSTAR_mhps')\n",
    "costar.to_csv(os.path.join(stateDir,'COSTAR_mhps.csv'))"
   ]
  },
  {
   "cell_type": "code",
   "execution_count": 10,
   "metadata": {},
   "outputs": [],
   "source": [
    "stateDir = r'C:\\Users\\phwh9568\\Data\\ParcelAtlas\\CO_2022'"
   ]
  },
  {
   "cell_type": "markdown",
   "metadata": {},
   "source": [
    "Debug mhp_union_merge:"
   ]
  },
  {
   "cell_type": "code",
   "execution_count": 33,
   "metadata": {},
   "outputs": [],
   "source": [
    "importlib.reload(parcelfunks)\n",
    "\n",
    "adamsDir = os.path.join(stateDir,'counties','08001')\n",
    "fips = '08001'\n",
    "costarName = f'COSTAR_{fips}.csv'\n",
    "mhpName = f'MHP_{fips}.csv'\n",
    "costarPath = os.path.join(adamsDir,costarName)"
   ]
  },
  {
   "cell_type": "code",
   "execution_count": 12,
   "metadata": {},
   "outputs": [
    {
     "data": {
      "text/plain": [
       "'C:\\\\Users\\\\phwh9568\\\\Data\\\\ParcelAtlas\\\\CO_2022\\\\counties\\\\08001\\\\COSTAR_08001.csv'"
      ]
     },
     "execution_count": 12,
     "metadata": {},
     "output_type": "execute_result"
    }
   ],
   "source": [
    "costarPath"
   ]
  },
  {
   "cell_type": "code",
   "execution_count": 24,
   "metadata": {},
   "outputs": [],
   "source": [
    "parcelfunks.mhp_union_merge('08001', 'MHP', adamsDir, mhpName)"
   ]
  },
  {
   "cell_type": "code",
   "execution_count": 17,
   "metadata": {},
   "outputs": [
    {
     "data": {
      "text/plain": [
       "True"
      ]
     },
     "execution_count": 17,
     "metadata": {},
     "output_type": "execute_result"
    }
   ],
   "source": [
    "os.path.exists(costarPath)"
   ]
  },
  {
   "cell_type": "code",
   "execution_count": 31,
   "metadata": {},
   "outputs": [],
   "source": [
    "for path in parcelsPaths:\n",
    "    fips = path.split('\\\\')[-1]\n",
    "    years = ['2000','2010']\n",
    "    for year in years:\n",
    "        file = os.path.join(path,f'MHP_union_csv{year}.csv')\n",
    "        if os.path.exists(file):\n",
    "            os.remove(file)"
   ]
  },
  {
   "cell_type": "markdown",
   "metadata": {},
   "source": [
    "Why is parcel APN in numeric? "
   ]
  },
  {
   "cell_type": "code",
   "execution_count": 63,
   "metadata": {},
   "outputs": [
    {
     "data": {
      "text/plain": [
       "<module 'parcelfunks' from 'c:\\\\Users\\\\phwh9568\\\\Data\\\\ParcelAtlas\\\\CO_2022\\\\parcelfunks.py'>"
      ]
     },
     "execution_count": 63,
     "metadata": {},
     "output_type": "execute_result"
    }
   ],
   "source": [
    "importlib.reload(parcelfunks)"
   ]
  },
  {
   "cell_type": "code",
   "execution_count": 47,
   "metadata": {},
   "outputs": [],
   "source": [
    "adams = gpd.read_file(os.path.join(adamsDir,'parcels.shp'))"
   ]
  },
  {
   "cell_type": "code",
   "execution_count": 64,
   "metadata": {},
   "outputs": [],
   "source": [
    "boulderPath = r'C:\\Users\\phwh9568\\Data\\ParcelAtlas\\CO_2022\\Counties\\08013'"
   ]
  },
  {
   "cell_type": "code",
   "execution_count": 66,
   "metadata": {},
   "outputs": [],
   "source": [
    "bc = gpd.read_file(os.path.join(boulderPath,'08013.gpkg'), layer='COSTAR_parc_blk_union2010')"
   ]
  },
  {
   "cell_type": "code",
   "execution_count": 67,
   "metadata": {},
   "outputs": [
    {
     "data": {
      "text/plain": [
       "0     157508200003\n",
       "1     146334100061\n",
       "2     157502303002\n",
       "3     131515101001\n",
       "4     131515101001\n",
       "          ...     \n",
       "61    157721000024\n",
       "62    157508200003\n",
       "63    131509092001\n",
       "64    146535412001\n",
       "65    157502303002\n",
       "Name: APN, Length: 66, dtype: object"
      ]
     },
     "execution_count": 67,
     "metadata": {},
     "output_type": "execute_result"
    }
   ],
   "source": [
    "bc['APN']"
   ]
  },
  {
   "cell_type": "code",
   "execution_count": null,
   "metadata": {},
   "outputs": [],
   "source": []
  }
 ],
 "metadata": {
  "kernelspec": {
   "display_name": "gis_env",
   "language": "python",
   "name": "python3"
  },
  "language_info": {
   "codemirror_mode": {
    "name": "ipython",
    "version": 3
   },
   "file_extension": ".py",
   "mimetype": "text/x-python",
   "name": "python",
   "nbconvert_exporter": "python",
   "pygments_lexer": "ipython3",
   "version": "3.12.0"
  }
 },
 "nbformat": 4,
 "nbformat_minor": 2
}
