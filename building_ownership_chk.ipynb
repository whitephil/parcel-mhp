{
 "cells": [
  {
   "cell_type": "code",
   "execution_count": 102,
   "metadata": {},
   "outputs": [],
   "source": [
    "import os\n",
    "import geopandas as gpd\n",
    "import pandas as pd\n",
    "import importlib\n",
    "import parcelfunks"
   ]
  },
  {
   "cell_type": "code",
   "execution_count": 10,
   "metadata": {},
   "outputs": [],
   "source": [
    "co_dir_22 = r'C:\\Users\\phwh9568\\Data\\ParcelAtlas\\CO_2022'\n",
    "county_dir = os.path.join(co_dir_22,'counties')\n",
    "adams_dir = os.path.join(county_dir,'08001')"
   ]
  },
  {
   "cell_type": "code",
   "execution_count": 19,
   "metadata": {},
   "outputs": [],
   "source": [
    "adams = gpd.read_file(os.path.join(adams_dir,'08001.gpkg'),layer='MH_parcels')"
   ]
  },
  {
   "cell_type": "code",
   "execution_count": 12,
   "metadata": {},
   "outputs": [
    {
     "data": {
      "text/plain": [
       "Index(['APN', 'APN2', 'OWNER', 'Sum_Within', 'mnBlgArea', 'intLen',\n",
       "       'intZscore', 'extLen1', 'extZscore1', 'MH_prop_id', 'MH_prop_name',\n",
       "       'MH_prop_city', 'MH_prop_state', 'MH_prop_county', 'MH_prop_zip',\n",
       "       'MH_lat', 'MH_long', 'MH_parcel_num', 'MH_units', 'MH_COUNTY_FIPS',\n",
       "       'distances', 'geometry'],\n",
       "      dtype='object')"
      ]
     },
     "execution_count": 12,
     "metadata": {},
     "output_type": "execute_result"
    }
   ],
   "source": [
    "adams.columns"
   ]
  },
  {
   "cell_type": "code",
   "execution_count": 58,
   "metadata": {},
   "outputs": [],
   "source": [
    "mhps = gpd.read_file(os.path.join(adams_dir,'08001_COSTAR_mhps.gpkg'), layer='COSTAR_mhps')"
   ]
  },
  {
   "cell_type": "code",
   "execution_count": 16,
   "metadata": {},
   "outputs": [
    {
     "data": {
      "text/plain": [
       "24"
      ]
     },
     "execution_count": 16,
     "metadata": {},
     "output_type": "execute_result"
    }
   ],
   "source": [
    "len(mhps)"
   ]
  },
  {
   "cell_type": "code",
   "execution_count": 59,
   "metadata": {},
   "outputs": [
    {
     "data": {
      "text/plain": [
       "Index(['MH_prop_id', 'MH_prop_name', 'MH_prop_city', 'MH_prop_state',\n",
       "       'MH_prop_county', 'MH_prop_zip', 'MH_lat', 'MH_long', 'APN', 'MH_units',\n",
       "       'MH_COUNTY_FIPS', 'geometry'],\n",
       "      dtype='object')"
      ]
     },
     "execution_count": 59,
     "metadata": {},
     "output_type": "execute_result"
    }
   ],
   "source": [
    "mhps.columns"
   ]
  },
  {
   "cell_type": "code",
   "execution_count": 20,
   "metadata": {},
   "outputs": [
    {
     "data": {
      "text/plain": [
       "26"
      ]
     },
     "execution_count": 20,
     "metadata": {},
     "output_type": "execute_result"
    }
   ],
   "source": [
    "len(adams)"
   ]
  },
  {
   "cell_type": "code",
   "execution_count": 21,
   "metadata": {},
   "outputs": [
    {
     "name": "stderr",
     "output_type": "stream",
     "text": [
      "c:\\Users\\phwh9568\\AppData\\Local\\Continuum\\anaconda3\\envs\\geo_env\\Lib\\site-packages\\pyogrio\\raw.py:194: RuntimeWarning: C:\\Users\\phwh9568\\Data\\ParcelAtlas\\CO_2022\\counties\\08001\\parcels.shp contains polygon(s) with rings with invalid winding order. Autocorrecting them, but that shapefile should be corrected using ogr2ogr for example.\n",
      "  result = ogr_read(\n"
     ]
    }
   ],
   "source": [
    "adamsParcels = gpd.read_file(os.path.join(adams_dir,'parcels.shp'))"
   ]
  },
  {
   "cell_type": "code",
   "execution_count": 22,
   "metadata": {},
   "outputs": [
    {
     "data": {
      "text/plain": [
       "24"
      ]
     },
     "execution_count": 22,
     "metadata": {},
     "output_type": "execute_result"
    }
   ],
   "source": [
    "len(mhps)"
   ]
  },
  {
   "cell_type": "code",
   "execution_count": 24,
   "metadata": {},
   "outputs": [
    {
     "data": {
      "text/plain": [
       "0"
      ]
     },
     "execution_count": 24,
     "metadata": {},
     "output_type": "execute_result"
    }
   ],
   "source": [
    "len(apn_test)"
   ]
  },
  {
   "cell_type": "code",
   "execution_count": 25,
   "metadata": {},
   "outputs": [
    {
     "data": {
      "text/plain": [
       "Index(['APN', 'APN2', 'STATE', 'COUNTY', 'FIPS', 'SIT_HSE_NU', 'SIT_DIR',\n",
       "       'SIT_STR_NA', 'SIT_STR_SF', 'SIT_FULL_S', 'SIT_CITY', 'SIT_STATE',\n",
       "       'SIT_ZIP', 'SIT_ZIP4', 'LAND_VALUE', 'IMPR_VALUE', 'TOT_VALUE',\n",
       "       'ASSMT_YEAR', 'REC_DATE', 'SALES_PRIC', 'YEAR_BUILT', 'STD_LAND_U',\n",
       "       'LOT_SIZE', 'BLDG_AREA', 'DEED_DSCR', 'NO_OF_STOR', 'NO_OF_UNIT',\n",
       "       'BEDROOMS', 'BATHROOMS', 'OWNER', 'OWNER2', 'OWNADDRESS', 'OWNADDRES2',\n",
       "       'OWNCTYSTZP', 'XCOORD', 'YCOORD', 'MINX', 'MINY', 'MAXX', 'MAXY',\n",
       "       'VERSION', 'QUANTARIUM', 'ATTDATE', 'geomCalc', 'geometry'],\n",
       "      dtype='object')"
      ]
     },
     "execution_count": 25,
     "metadata": {},
     "output_type": "execute_result"
    }
   ],
   "source": [
    "adamsParcels.columns"
   ]
  },
  {
   "cell_type": "code",
   "execution_count": 26,
   "metadata": {},
   "outputs": [
    {
     "data": {
      "text/plain": [
       "0         155700000045\n",
       "1         155700000007\n",
       "2         155700000150\n",
       "3         155700000149\n",
       "4         155700000006\n",
       "              ...     \n",
       "118833    181333111009\n",
       "118834    182504302022\n",
       "118835    182504302021\n",
       "118836    182504302020\n",
       "118837    181933401001\n",
       "Name: APN, Length: 118838, dtype: object"
      ]
     },
     "execution_count": 26,
     "metadata": {},
     "output_type": "execute_result"
    }
   ],
   "source": [
    "adamsParcels['APN']"
   ]
  },
  {
   "cell_type": "code",
   "execution_count": 60,
   "metadata": {},
   "outputs": [],
   "source": [
    "mhps_df = pd.DataFrame(mhps)"
   ]
  },
  {
   "cell_type": "code",
   "execution_count": 62,
   "metadata": {},
   "outputs": [],
   "source": [
    "mhps_df = mhps_df.drop(columns={'geometry'})"
   ]
  },
  {
   "cell_type": "code",
   "execution_count": 63,
   "metadata": {},
   "outputs": [
    {
     "data": {
      "text/plain": [
       "Index(['MH_prop_id', 'MH_prop_name', 'MH_prop_city', 'MH_prop_state',\n",
       "       'MH_prop_county', 'MH_prop_zip', 'MH_lat', 'MH_long', 'APN', 'MH_units',\n",
       "       'MH_COUNTY_FIPS'],\n",
       "      dtype='object')"
      ]
     },
     "execution_count": 63,
     "metadata": {},
     "output_type": "execute_result"
    }
   ],
   "source": [
    "mhps_df.columns"
   ]
  },
  {
   "cell_type": "code",
   "execution_count": 64,
   "metadata": {},
   "outputs": [],
   "source": [
    "mhps_df['APN'] = mhps_df['APN'].str.replace('-','')"
   ]
  },
  {
   "cell_type": "code",
   "execution_count": 65,
   "metadata": {},
   "outputs": [],
   "source": [
    "apn_test = mhps_df.merge(adamsParcels, on='APN', how='inner')"
   ]
  },
  {
   "cell_type": "code",
   "execution_count": 66,
   "metadata": {},
   "outputs": [
    {
     "data": {
      "text/plain": [
       "24"
      ]
     },
     "execution_count": 66,
     "metadata": {},
     "output_type": "execute_result"
    }
   ],
   "source": [
    "len(apn_test)"
   ]
  },
  {
   "cell_type": "code",
   "execution_count": 67,
   "metadata": {},
   "outputs": [],
   "source": [
    "apn_test = gpd.GeoDataFrame(apn_test)"
   ]
  },
  {
   "cell_type": "code",
   "execution_count": 68,
   "metadata": {},
   "outputs": [],
   "source": [
    "apn_test.to_file(os.path.join(adams_dir,'08001_apn_test.gpkg'), layer='apn_test')"
   ]
  },
  {
   "cell_type": "code",
   "execution_count": 49,
   "metadata": {},
   "outputs": [],
   "source": [
    "adamsParcels.drop_duplicates(subset=['geometry'], inplace=True)"
   ]
  },
  {
   "cell_type": "code",
   "execution_count": 70,
   "metadata": {},
   "outputs": [
    {
     "data": {
      "text/plain": [
       "26"
      ]
     },
     "execution_count": 70,
     "metadata": {},
     "output_type": "execute_result"
    }
   ],
   "source": [
    "len(adams)"
   ]
  },
  {
   "cell_type": "code",
   "execution_count": 71,
   "metadata": {},
   "outputs": [
    {
     "data": {
      "text/plain": [
       "24"
      ]
     },
     "execution_count": 71,
     "metadata": {},
     "output_type": "execute_result"
    }
   ],
   "source": [
    "len(apn_test)"
   ]
  },
  {
   "cell_type": "code",
   "execution_count": 73,
   "metadata": {},
   "outputs": [
    {
     "name": "stderr",
     "output_type": "stream",
     "text": [
      "c:\\Users\\phwh9568\\AppData\\Local\\Continuum\\anaconda3\\envs\\geo_env\\Lib\\site-packages\\pyogrio\\raw.py:194: RuntimeWarning: C:\\Users\\phwh9568\\Data\\ParcelAtlas\\CO_2022\\counties\\08059\\parcels.shp contains polygon(s) with rings with invalid winding order. Autocorrecting them, but that shapefile should be corrected using ogr2ogr for example.\n",
      "  result = ogr_read(\n"
     ]
    }
   ],
   "source": [
    "jeff_dir = os.path.join(county_dir,'08059')\n",
    "jeffParcels = gpd.read_file(os.path.join(jeff_dir,'parcels.shp'))\n",
    "jeffParcels.drop_duplicates(subset=['geometry'], inplace=True)\n",
    "mhps = gpd.read_file(os.path.join(jeff_dir,'08059_COSTAR_mhps.gpkg'), layer='COSTAR_mhps')\n",
    "mhps_df = pd.DataFrame(mhps)\n",
    "mhps_df = mhps_df.drop(columns={'geometry'})\n",
    "mhps_df['APN'] = mhps_df['APN'].str.replace('-','')\n",
    "apn_test = mhps_df.merge(jeffParcels, on='APN', how='inner')\n",
    "apn_test = gpd.GeoDataFrame(apn_test)\n",
    "apn_test.to_file(os.path.join(jeff_dir,'08059_apn_test.gpkg'), layer='apn_test')"
   ]
  },
  {
   "cell_type": "code",
   "execution_count": 75,
   "metadata": {},
   "outputs": [
    {
     "name": "stderr",
     "output_type": "stream",
     "text": [
      "c:\\Users\\phwh9568\\AppData\\Local\\Continuum\\anaconda3\\envs\\geo_env\\Lib\\site-packages\\pyogrio\\raw.py:194: RuntimeWarning: C:\\Users\\phwh9568\\Data\\ParcelAtlas\\CO_2022\\counties\\08013\\parcels.shp contains polygon(s) with rings with invalid winding order. Autocorrecting them, but that shapefile should be corrected using ogr2ogr for example.\n",
      "  result = ogr_read(\n"
     ]
    }
   ],
   "source": [
    "boulder_dir = os.path.join(county_dir,'08013')\n",
    "boulderParcels = gpd.read_file(os.path.join(boulder_dir,'parcels.shp'))\n",
    "boulderParcels.drop_duplicates(subset=['geometry'], inplace=True)\n",
    "mhps = gpd.read_file(os.path.join(boulder_dir,'08013_COSTAR_mhps.gpkg'), layer='COSTAR_mhps')\n",
    "mhps_df = pd.DataFrame(mhps)\n",
    "mhps_df = mhps_df.drop(columns={'geometry'})\n",
    "mhps_df['APN'] = mhps_df['APN'].str.replace('-','')\n",
    "apn_test = mhps_df.merge(boulderParcels, on='APN', how='inner')\n",
    "apn_test = gpd.GeoDataFrame(apn_test)\n",
    "apn_test.to_file(os.path.join(boulder_dir,'08013_apn_test.gpkg'), layer='apn_test')"
   ]
  },
  {
   "cell_type": "code",
   "execution_count": null,
   "metadata": {},
   "outputs": [],
   "source": [
    "adams_dir = os.path.join(county_dir,'08013')\n",
    "adamsParcels = gpd.read_file(os.path.join(boulder_dir,'parcels.shp'))\n",
    "adamsParcels.drop_duplicates(subset=['geometry'], inplace=True)\n",
    "mhps = gpd.read_file(os.path.join(boulder_dir,'08013_COSTAR_mhps.gpkg'), layer='COSTAR_mhps')\n",
    "mhps_df = pd.DataFrame(mhps)\n",
    "mhps_df = mhps_df.drop(columns={'geometry'})\n",
    "mhps_df['APN'] = mhps_df['APN'].str.replace('-','')\n",
    "apn_test = mhps_df.merge(boulderParcels, on='APN', how='inner')\n",
    "apn_test = gpd.GeoDataFrame(apn_test)\n",
    "apn_test.to_file(os.path.join(boulder_dir,'08013_apn_test.gpkg'), layer='apn_test')"
   ]
  },
  {
   "cell_type": "code",
   "execution_count": 76,
   "metadata": {},
   "outputs": [],
   "source": [
    "CO_path = r'C:\\Users\\phwh9568\\Data\\ParcelAtlas\\CO_2022\\Counties'\n",
    "#CO_pInventory = pInventory.loc[pInventory['STATE']=='08']\n",
    "CO_pInventory = pd.read_csv(r'C:\\Users\\phwh9568\\Data\\ParcelAtlas\\CO_2022\\counties\\ColoradoInventory.csv', dtype={'STATE':str,'COUNTY':str})\n",
    "CO_pInventory_True = CO_pInventory.loc[CO_pInventory['DATA_PRESENT']==True]\n",
    "CO_pInventory_False = CO_pInventory.loc[CO_pInventory['DATA_PRESENT']==False]\n",
    "CO_pInventory_False.to_csv(os.path.join(CO_path,'missingParcelData.csv')) # need to get this to work\n",
    "fipsList = CO_pInventory_True['COUNTY'].tolist()   \n",
    "parcelsPaths = [os.path.join(CO_path,fips) for fips in fipsList]"
   ]
  },
  {
   "cell_type": "code",
   "execution_count": 94,
   "metadata": {},
   "outputs": [
    {
     "name": "stderr",
     "output_type": "stream",
     "text": [
      "c:\\Users\\phwh9568\\AppData\\Local\\Continuum\\anaconda3\\envs\\geo_env\\Lib\\site-packages\\pyogrio\\raw.py:194: RuntimeWarning: C:\\Users\\phwh9568\\Data\\ParcelAtlas\\CO_2022\\Counties\\08001\\parcels.shp contains polygon(s) with rings with invalid winding order. Autocorrecting them, but that shapefile should be corrected using ogr2ogr for example.\n",
      "  result = ogr_read(\n",
      "c:\\Users\\phwh9568\\AppData\\Local\\Continuum\\anaconda3\\envs\\geo_env\\Lib\\site-packages\\pyogrio\\raw.py:194: RuntimeWarning: C:\\Users\\phwh9568\\Data\\ParcelAtlas\\CO_2022\\Counties\\08003\\parcels.shp contains polygon(s) with rings with invalid winding order. Autocorrecting them, but that shapefile should be corrected using ogr2ogr for example.\n",
      "  result = ogr_read(\n",
      "c:\\Users\\phwh9568\\AppData\\Local\\Continuum\\anaconda3\\envs\\geo_env\\Lib\\site-packages\\pyogrio\\raw.py:194: RuntimeWarning: C:\\Users\\phwh9568\\Data\\ParcelAtlas\\CO_2022\\Counties\\08005\\parcels.shp contains polygon(s) with rings with invalid winding order. Autocorrecting them, but that shapefile should be corrected using ogr2ogr for example.\n",
      "  result = ogr_read(\n",
      "c:\\Users\\phwh9568\\AppData\\Local\\Continuum\\anaconda3\\envs\\geo_env\\Lib\\site-packages\\pyogrio\\raw.py:194: RuntimeWarning: C:\\Users\\phwh9568\\Data\\ParcelAtlas\\CO_2022\\Counties\\08007\\parcels.shp contains polygon(s) with rings with invalid winding order. Autocorrecting them, but that shapefile should be corrected using ogr2ogr for example.\n",
      "  result = ogr_read(\n",
      "c:\\Users\\phwh9568\\AppData\\Local\\Continuum\\anaconda3\\envs\\geo_env\\Lib\\site-packages\\pyogrio\\raw.py:194: RuntimeWarning: C:\\Users\\phwh9568\\Data\\ParcelAtlas\\CO_2022\\Counties\\08013\\parcels.shp contains polygon(s) with rings with invalid winding order. Autocorrecting them, but that shapefile should be corrected using ogr2ogr for example.\n",
      "  result = ogr_read(\n",
      "c:\\Users\\phwh9568\\AppData\\Local\\Continuum\\anaconda3\\envs\\geo_env\\Lib\\site-packages\\pyogrio\\raw.py:194: RuntimeWarning: C:\\Users\\phwh9568\\Data\\ParcelAtlas\\CO_2022\\Counties\\08014\\parcels.shp contains polygon(s) with rings with invalid winding order. Autocorrecting them, but that shapefile should be corrected using ogr2ogr for example.\n",
      "  result = ogr_read(\n",
      "c:\\Users\\phwh9568\\AppData\\Local\\Continuum\\anaconda3\\envs\\geo_env\\Lib\\site-packages\\pyogrio\\raw.py:194: RuntimeWarning: C:\\Users\\phwh9568\\Data\\ParcelAtlas\\CO_2022\\Counties\\08019\\parcels.shp contains polygon(s) with rings with invalid winding order. Autocorrecting them, but that shapefile should be corrected using ogr2ogr for example.\n",
      "  result = ogr_read(\n",
      "c:\\Users\\phwh9568\\AppData\\Local\\Continuum\\anaconda3\\envs\\geo_env\\Lib\\site-packages\\pyogrio\\raw.py:194: RuntimeWarning: C:\\Users\\phwh9568\\Data\\ParcelAtlas\\CO_2022\\Counties\\08031\\parcels.shp contains polygon(s) with rings with invalid winding order. Autocorrecting them, but that shapefile should be corrected using ogr2ogr for example.\n",
      "  result = ogr_read(\n",
      "c:\\Users\\phwh9568\\AppData\\Local\\Continuum\\anaconda3\\envs\\geo_env\\Lib\\site-packages\\pyogrio\\raw.py:194: RuntimeWarning: C:\\Users\\phwh9568\\Data\\ParcelAtlas\\CO_2022\\Counties\\08035\\parcels.shp contains polygon(s) with rings with invalid winding order. Autocorrecting them, but that shapefile should be corrected using ogr2ogr for example.\n",
      "  result = ogr_read(\n",
      "c:\\Users\\phwh9568\\AppData\\Local\\Continuum\\anaconda3\\envs\\geo_env\\Lib\\site-packages\\pyogrio\\raw.py:194: RuntimeWarning: C:\\Users\\phwh9568\\Data\\ParcelAtlas\\CO_2022\\Counties\\08037\\parcels.shp contains polygon(s) with rings with invalid winding order. Autocorrecting them, but that shapefile should be corrected using ogr2ogr for example.\n",
      "  result = ogr_read(\n",
      "c:\\Users\\phwh9568\\AppData\\Local\\Continuum\\anaconda3\\envs\\geo_env\\Lib\\site-packages\\pyogrio\\raw.py:194: RuntimeWarning: C:\\Users\\phwh9568\\Data\\ParcelAtlas\\CO_2022\\Counties\\08039\\parcels.shp contains polygon(s) with rings with invalid winding order. Autocorrecting them, but that shapefile should be corrected using ogr2ogr for example.\n",
      "  result = ogr_read(\n",
      "c:\\Users\\phwh9568\\AppData\\Local\\Continuum\\anaconda3\\envs\\geo_env\\Lib\\site-packages\\pyogrio\\raw.py:194: RuntimeWarning: C:\\Users\\phwh9568\\Data\\ParcelAtlas\\CO_2022\\Counties\\08041\\parcels.shp contains polygon(s) with rings with invalid winding order. Autocorrecting them, but that shapefile should be corrected using ogr2ogr for example.\n",
      "  result = ogr_read(\n",
      "c:\\Users\\phwh9568\\AppData\\Local\\Continuum\\anaconda3\\envs\\geo_env\\Lib\\site-packages\\pyogrio\\raw.py:194: RuntimeWarning: C:\\Users\\phwh9568\\Data\\ParcelAtlas\\CO_2022\\Counties\\08043\\parcels.shp contains polygon(s) with rings with invalid winding order. Autocorrecting them, but that shapefile should be corrected using ogr2ogr for example.\n",
      "  result = ogr_read(\n",
      "c:\\Users\\phwh9568\\AppData\\Local\\Continuum\\anaconda3\\envs\\geo_env\\Lib\\site-packages\\pyogrio\\raw.py:194: RuntimeWarning: C:\\Users\\phwh9568\\Data\\ParcelAtlas\\CO_2022\\Counties\\08045\\parcels.shp contains polygon(s) with rings with invalid winding order. Autocorrecting them, but that shapefile should be corrected using ogr2ogr for example.\n",
      "  result = ogr_read(\n",
      "c:\\Users\\phwh9568\\AppData\\Local\\Continuum\\anaconda3\\envs\\geo_env\\Lib\\site-packages\\pyogrio\\raw.py:194: RuntimeWarning: C:\\Users\\phwh9568\\Data\\ParcelAtlas\\CO_2022\\Counties\\08049\\parcels.shp contains polygon(s) with rings with invalid winding order. Autocorrecting them, but that shapefile should be corrected using ogr2ogr for example.\n",
      "  result = ogr_read(\n",
      "c:\\Users\\phwh9568\\AppData\\Local\\Continuum\\anaconda3\\envs\\geo_env\\Lib\\site-packages\\pyogrio\\raw.py:194: RuntimeWarning: C:\\Users\\phwh9568\\Data\\ParcelAtlas\\CO_2022\\Counties\\08051\\parcels.shp contains polygon(s) with rings with invalid winding order. Autocorrecting them, but that shapefile should be corrected using ogr2ogr for example.\n",
      "  result = ogr_read(\n",
      "c:\\Users\\phwh9568\\AppData\\Local\\Continuum\\anaconda3\\envs\\geo_env\\Lib\\site-packages\\pyogrio\\raw.py:194: RuntimeWarning: C:\\Users\\phwh9568\\Data\\ParcelAtlas\\CO_2022\\Counties\\08059\\parcels.shp contains polygon(s) with rings with invalid winding order. Autocorrecting them, but that shapefile should be corrected using ogr2ogr for example.\n",
      "  result = ogr_read(\n",
      "c:\\Users\\phwh9568\\AppData\\Local\\Continuum\\anaconda3\\envs\\geo_env\\Lib\\site-packages\\pyogrio\\raw.py:194: RuntimeWarning: C:\\Users\\phwh9568\\Data\\ParcelAtlas\\CO_2022\\Counties\\08067\\parcels.shp contains polygon(s) with rings with invalid winding order. Autocorrecting them, but that shapefile should be corrected using ogr2ogr for example.\n",
      "  result = ogr_read(\n",
      "c:\\Users\\phwh9568\\AppData\\Local\\Continuum\\anaconda3\\envs\\geo_env\\Lib\\site-packages\\pyogrio\\raw.py:194: RuntimeWarning: C:\\Users\\phwh9568\\Data\\ParcelAtlas\\CO_2022\\Counties\\08069\\parcels.shp contains polygon(s) with rings with invalid winding order. Autocorrecting them, but that shapefile should be corrected using ogr2ogr for example.\n",
      "  result = ogr_read(\n",
      "c:\\Users\\phwh9568\\AppData\\Local\\Continuum\\anaconda3\\envs\\geo_env\\Lib\\site-packages\\pyogrio\\raw.py:194: RuntimeWarning: C:\\Users\\phwh9568\\Data\\ParcelAtlas\\CO_2022\\Counties\\08075\\parcels.shp contains polygon(s) with rings with invalid winding order. Autocorrecting them, but that shapefile should be corrected using ogr2ogr for example.\n",
      "  result = ogr_read(\n",
      "c:\\Users\\phwh9568\\AppData\\Local\\Continuum\\anaconda3\\envs\\geo_env\\Lib\\site-packages\\pyogrio\\raw.py:194: RuntimeWarning: C:\\Users\\phwh9568\\Data\\ParcelAtlas\\CO_2022\\Counties\\08077\\parcels.shp contains polygon(s) with rings with invalid winding order. Autocorrecting them, but that shapefile should be corrected using ogr2ogr for example.\n",
      "  result = ogr_read(\n",
      "c:\\Users\\phwh9568\\AppData\\Local\\Continuum\\anaconda3\\envs\\geo_env\\Lib\\site-packages\\pyogrio\\raw.py:194: RuntimeWarning: C:\\Users\\phwh9568\\Data\\ParcelAtlas\\CO_2022\\Counties\\08083\\parcels.shp contains polygon(s) with rings with invalid winding order. Autocorrecting them, but that shapefile should be corrected using ogr2ogr for example.\n",
      "  result = ogr_read(\n",
      "c:\\Users\\phwh9568\\AppData\\Local\\Continuum\\anaconda3\\envs\\geo_env\\Lib\\site-packages\\pyogrio\\raw.py:194: RuntimeWarning: C:\\Users\\phwh9568\\Data\\ParcelAtlas\\CO_2022\\Counties\\08085\\parcels.shp contains polygon(s) with rings with invalid winding order. Autocorrecting them, but that shapefile should be corrected using ogr2ogr for example.\n",
      "  result = ogr_read(\n",
      "c:\\Users\\phwh9568\\AppData\\Local\\Continuum\\anaconda3\\envs\\geo_env\\Lib\\site-packages\\pyogrio\\raw.py:194: RuntimeWarning: C:\\Users\\phwh9568\\Data\\ParcelAtlas\\CO_2022\\Counties\\08089\\parcels.shp contains polygon(s) with rings with invalid winding order. Autocorrecting them, but that shapefile should be corrected using ogr2ogr for example.\n",
      "  result = ogr_read(\n",
      "c:\\Users\\phwh9568\\AppData\\Local\\Continuum\\anaconda3\\envs\\geo_env\\Lib\\site-packages\\pyogrio\\raw.py:194: RuntimeWarning: C:\\Users\\phwh9568\\Data\\ParcelAtlas\\CO_2022\\Counties\\08093\\parcels.shp contains polygon(s) with rings with invalid winding order. Autocorrecting them, but that shapefile should be corrected using ogr2ogr for example.\n",
      "  result = ogr_read(\n",
      "c:\\Users\\phwh9568\\AppData\\Local\\Continuum\\anaconda3\\envs\\geo_env\\Lib\\site-packages\\pyogrio\\raw.py:194: RuntimeWarning: C:\\Users\\phwh9568\\Data\\ParcelAtlas\\CO_2022\\Counties\\08101\\parcels.shp contains polygon(s) with rings with invalid winding order. Autocorrecting them, but that shapefile should be corrected using ogr2ogr for example.\n",
      "  result = ogr_read(\n",
      "c:\\Users\\phwh9568\\AppData\\Local\\Continuum\\anaconda3\\envs\\geo_env\\Lib\\site-packages\\pyogrio\\raw.py:194: RuntimeWarning: C:\\Users\\phwh9568\\Data\\ParcelAtlas\\CO_2022\\Counties\\08105\\parcels.shp contains polygon(s) with rings with invalid winding order. Autocorrecting them, but that shapefile should be corrected using ogr2ogr for example.\n",
      "  result = ogr_read(\n",
      "c:\\Users\\phwh9568\\AppData\\Local\\Continuum\\anaconda3\\envs\\geo_env\\Lib\\site-packages\\pyogrio\\raw.py:194: RuntimeWarning: C:\\Users\\phwh9568\\Data\\ParcelAtlas\\CO_2022\\Counties\\08107\\parcels.shp contains polygon(s) with rings with invalid winding order. Autocorrecting them, but that shapefile should be corrected using ogr2ogr for example.\n",
      "  result = ogr_read(\n",
      "c:\\Users\\phwh9568\\AppData\\Local\\Continuum\\anaconda3\\envs\\geo_env\\Lib\\site-packages\\pyogrio\\raw.py:194: RuntimeWarning: C:\\Users\\phwh9568\\Data\\ParcelAtlas\\CO_2022\\Counties\\08117\\parcels.shp contains polygon(s) with rings with invalid winding order. Autocorrecting them, but that shapefile should be corrected using ogr2ogr for example.\n",
      "  result = ogr_read(\n",
      "c:\\Users\\phwh9568\\AppData\\Local\\Continuum\\anaconda3\\envs\\geo_env\\Lib\\site-packages\\pyogrio\\raw.py:194: RuntimeWarning: C:\\Users\\phwh9568\\Data\\ParcelAtlas\\CO_2022\\Counties\\08123\\parcels.shp contains polygon(s) with rings with invalid winding order. Autocorrecting them, but that shapefile should be corrected using ogr2ogr for example.\n",
      "  result = ogr_read(\n"
     ]
    }
   ],
   "source": [
    "for ppath in parcelsPaths:\n",
    "    fips = ppath.split('\\\\')[-1]\n",
    "    mhpPath = os.path.join(ppath,fips+'_COSTAR_mhps.gpkg')\n",
    "    if os.path.exists(mhpPath):\n",
    "        parcel = gpd.read_file(os.path.join(ppath,'parcels.shp'))\n",
    "        parcel.to_crs(crs='ESRI:102003', inplace=True)\n",
    "        parcel.drop_duplicates(subset=['geometry'], inplace=True)\n",
    "        mhps = gpd.read_file(mhpPath, layer='COSTAR_mhps')\n",
    "        mhps_df = pd.DataFrame(mhps)\n",
    "        mhps_df = mhps_df.drop(columns={'geometry'})\n",
    "        mhps_df['APN'] = mhps_df['APN'].str.replace('-','')\n",
    "        parcel['APN'] = parcel['APN'].str.replace('-','')\n",
    "        apn_test = mhps_df.merge(parcel, on='APN', how='inner')\n",
    "        apn_test = gpd.GeoDataFrame(apn_test)\n",
    "        apn_test.to_file(os.path.join(ppath,fips+'_apn_test.gpkg'), layer='apn_test')\n"
   ]
  },
  {
   "cell_type": "code",
   "execution_count": 82,
   "metadata": {},
   "outputs": [
    {
     "data": {
      "text/plain": [
       "'C:\\\\Users\\\\phwh9568\\\\Data\\\\ParcelAtlas\\\\CO_2022\\\\Counties\\\\08001'"
      ]
     },
     "execution_count": 82,
     "metadata": {},
     "output_type": "execute_result"
    }
   ],
   "source": [
    "parcelsPaths[0]"
   ]
  },
  {
   "cell_type": "code",
   "execution_count": 95,
   "metadata": {},
   "outputs": [
    {
     "name": "stderr",
     "output_type": "stream",
     "text": [
      "C:\\Users\\phwh9568\\AppData\\Local\\Temp\\ipykernel_14192\\2160937413.py:6: FutureWarning: The behavior of DataFrame concatenation with empty or all-NA entries is deprecated. In a future version, this will no longer exclude empty or all-NA columns when determining the result dtypes. To retain the old behavior, exclude the relevant entries before the concat operation.\n",
      "  joinDF = pd.concat([joinDF,join])\n",
      "C:\\Users\\phwh9568\\AppData\\Local\\Temp\\ipykernel_14192\\2160937413.py:6: FutureWarning: The behavior of DataFrame concatenation with empty or all-NA entries is deprecated. In a future version, this will no longer exclude empty or all-NA columns when determining the result dtypes. To retain the old behavior, exclude the relevant entries before the concat operation.\n",
      "  joinDF = pd.concat([joinDF,join])\n"
     ]
    }
   ],
   "source": [
    "\n",
    "joinDF = pd.DataFrame()\n",
    "for path in parcelsPaths:\n",
    "    fips = path.split('\\\\')[-1]\n",
    "    if os.path.exists(os.path.join(path,fips+'_apn_test.gpkg')):\n",
    "        join = gpd.read_file(os.path.join(path, fips+'_apn_test.gpkg'),layer='apn_test')\n",
    "        joinDF = pd.concat([joinDF,join])        \n",
    "joinDF.to_file(os.path.join(co_dir_22, 'Colorado_Final_APN_TEST.gpkg'),layer='APN_TEST_MH_parcels')"
   ]
  },
  {
   "cell_type": "code",
   "execution_count": 97,
   "metadata": {},
   "outputs": [],
   "source": [
    "joinDF.to_csv(os.path.join(co_dir_22,'COSTAR_parcels_APN.csv'))"
   ]
  },
  {
   "cell_type": "markdown",
   "metadata": {},
   "source": [
    "APN join stuff:"
   ]
  },
  {
   "cell_type": "code",
   "execution_count": 103,
   "metadata": {},
   "outputs": [
    {
     "data": {
      "text/plain": [
       "<module 'parcelfunks' from 'c:\\\\Users\\\\phwh9568\\\\Data\\\\ParcelAtlas\\\\CO_2022\\\\parcelfunks.py'>"
      ]
     },
     "execution_count": 103,
     "metadata": {},
     "output_type": "execute_result"
    }
   ],
   "source": [
    "importlib.reload(parcelfunks)"
   ]
  },
  {
   "cell_type": "code",
   "execution_count": 110,
   "metadata": {},
   "outputs": [],
   "source": [
    "adams_dir = os.path.join(county_dir,'08005')\n",
    "adamsParcels = gpd.read_file(os.path.join(adams_dir,'parcels.shp'))\n",
    "adamsParcels['APN'] = adamsParcels['APN'].str.replace('-','')\n",
    "adamsParcels.drop_duplicates(subset=['geometry'], inplace=True)\n",
    "mhps = gpd.read_file(os.path.join(adams_dir,'08005_COSTAR_mhps.gpkg'), layer='COSTAR_mhps')\n",
    "mhps['APN'] = mhps['APN'].str.replace('-','')\n",
    "buildings = gpd.read_file(os.path.join(adams_dir,'08005_buildings.shp'))\n",
    "adamsParcels.to_crs(crs='ESRI:102003', inplace=True)\n",
    "buildings.to_crs(crs='ESRI:102003', inplace=True)\n",
    "mhps.to_crs(crs='ESRI:102003', inplace=True)"
   ]
  },
  {
   "cell_type": "code",
   "execution_count": 121,
   "metadata": {},
   "outputs": [],
   "source": [
    "parcel = parcelfunks.parcelBuildings(adamsParcels,buildings)"
   ]
  },
  {
   "cell_type": "code",
   "execution_count": 122,
   "metadata": {},
   "outputs": [],
   "source": [
    "apnParcel = pd.merge(parcel,mhps, on='APN').drop(columns={'geometry_y'})\n",
    "apnParcel.rename({'geometry_x':'geometry'}, axis='columns', inplace=True)\n",
    "apnParcel['APN_JOIN'] = True"
   ]
  },
  {
   "cell_type": "code",
   "execution_count": 127,
   "metadata": {},
   "outputs": [
    {
     "data": {
      "text/plain": [
       "Index(['APN', 'APN2', 'OWNER', 'geometry', 'Sum_Within', 'mnBlgArea', 'intLen',\n",
       "       'intZscore', 'extLen1', 'extZscore1', 'MH_prop_id', 'MH_prop_name',\n",
       "       'MH_prop_city', 'MH_prop_state', 'MH_prop_county', 'MH_prop_zip',\n",
       "       'MH_lat', 'MH_long', 'MH_units', 'MH_COUNTY_FIPS', 'APN_JOIN'],\n",
       "      dtype='object')"
      ]
     },
     "execution_count": 127,
     "metadata": {},
     "output_type": "execute_result"
    }
   ],
   "source": [
    "apnParcel.columns"
   ]
  },
  {
   "cell_type": "code",
   "execution_count": 109,
   "metadata": {},
   "outputs": [
    {
     "data": {
      "text/plain": [
       "9"
      ]
     },
     "execution_count": 109,
     "metadata": {},
     "output_type": "execute_result"
    }
   ],
   "source": [
    "len(mhps)"
   ]
  },
  {
   "cell_type": "code",
   "execution_count": 128,
   "metadata": {},
   "outputs": [
    {
     "data": {
      "text/plain": [
       "Index(['APN', 'APN2', 'OWNER', 'Sum_Within', 'mnBlgArea', 'intLen',\n",
       "       'intZscore', 'extLen1', 'extZscore1', 'MH_prop_id', 'MH_prop_name',\n",
       "       'MH_prop_city', 'MH_prop_state', 'MH_prop_county', 'MH_prop_zip',\n",
       "       'MH_lat', 'MH_long', 'MH_parcel_num', 'MH_units', 'MH_COUNTY_FIPS',\n",
       "       'distances', 'geometry'],\n",
       "      dtype='object')"
      ]
     },
     "execution_count": 128,
     "metadata": {},
     "output_type": "execute_result"
    }
   ],
   "source": [
    "adams_geo = gpd.read_file(os.path.join(adams_dir,'08005.gpkg'),layer='MH_parcels')\n",
    "adams_geo.columns"
   ]
  },
  {
   "cell_type": "code",
   "execution_count": null,
   "metadata": {},
   "outputs": [],
   "source": []
  }
 ],
 "metadata": {
  "kernelspec": {
   "display_name": "geo_env",
   "language": "python",
   "name": "python3"
  },
  "language_info": {
   "codemirror_mode": {
    "name": "ipython",
    "version": 3
   },
   "file_extension": ".py",
   "mimetype": "text/x-python",
   "name": "python",
   "nbconvert_exporter": "python",
   "pygments_lexer": "ipython3",
   "version": "3.12.0"
  }
 },
 "nbformat": 4,
 "nbformat_minor": 2
}
