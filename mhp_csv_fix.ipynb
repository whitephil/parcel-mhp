{
 "cells": [
  {
   "cell_type": "code",
   "execution_count": 3,
   "metadata": {},
   "outputs": [],
   "source": [
    "import geopandas as gpd \n",
    "import pandas as pd\n",
    "import os\n",
    "from glob import glob\n"
   ]
  },
  {
   "cell_type": "code",
   "execution_count": 5,
   "metadata": {},
   "outputs": [],
   "source": [
    "    state = '08'\n",
    "    CO_path = r'C:\\Users\\phwh9568\\Data\\ParcelAtlas\\CO_2022\\Counties'\n",
    "    #CO_pInventory = pInventory.loc[pInventory['STATE']=='08']\n",
    "    CO_pInventory = pd.read_csv(r'C:\\Users\\phwh9568\\Data\\ParcelAtlas\\CO_2022\\counties\\ColoradoInventory.csv', dtype={'STATE':str,'COUNTY':str})\n",
    "    CO_pInventory_True = CO_pInventory.loc[CO_pInventory['DATA_PRESENT']==True]\n",
    "    CO_pInventory_False = CO_pInventory.loc[CO_pInventory['DATA_PRESENT']==False]\n",
    "    CO_pInventory_False.to_csv(os.path.join(CO_path,'missingParcelData.csv')) # need to get this to work\n",
    "    fipsList = CO_pInventory_True['COUNTY'].tolist()   \n",
    "    parcelsPaths = [os.path.join(CO_path,fips) for fips in fipsList]\n",
    "    parcelsPaths = glob(r'C:\\Users\\phwh9568\\Data\\ParcelAtlas\\CO_2022\\Counties\\\\*\\\\')"
   ]
  },
  {
   "cell_type": "code",
   "execution_count": 6,
   "metadata": {},
   "outputs": [
    {
     "data": {
      "text/plain": [
       "['C:\\\\Users\\\\phwh9568\\\\Data\\\\ParcelAtlas\\\\CO_2022\\\\Counties\\\\08001\\\\',\n",
       " 'C:\\\\Users\\\\phwh9568\\\\Data\\\\ParcelAtlas\\\\CO_2022\\\\Counties\\\\08003\\\\',\n",
       " 'C:\\\\Users\\\\phwh9568\\\\Data\\\\ParcelAtlas\\\\CO_2022\\\\Counties\\\\08005\\\\',\n",
       " 'C:\\\\Users\\\\phwh9568\\\\Data\\\\ParcelAtlas\\\\CO_2022\\\\Counties\\\\08007\\\\',\n",
       " 'C:\\\\Users\\\\phwh9568\\\\Data\\\\ParcelAtlas\\\\CO_2022\\\\Counties\\\\08013\\\\',\n",
       " 'C:\\\\Users\\\\phwh9568\\\\Data\\\\ParcelAtlas\\\\CO_2022\\\\Counties\\\\08014\\\\',\n",
       " 'C:\\\\Users\\\\phwh9568\\\\Data\\\\ParcelAtlas\\\\CO_2022\\\\Counties\\\\08015\\\\',\n",
       " 'C:\\\\Users\\\\phwh9568\\\\Data\\\\ParcelAtlas\\\\CO_2022\\\\Counties\\\\08017\\\\',\n",
       " 'C:\\\\Users\\\\phwh9568\\\\Data\\\\ParcelAtlas\\\\CO_2022\\\\Counties\\\\08019\\\\',\n",
       " 'C:\\\\Users\\\\phwh9568\\\\Data\\\\ParcelAtlas\\\\CO_2022\\\\Counties\\\\08021\\\\',\n",
       " 'C:\\\\Users\\\\phwh9568\\\\Data\\\\ParcelAtlas\\\\CO_2022\\\\Counties\\\\08023\\\\',\n",
       " 'C:\\\\Users\\\\phwh9568\\\\Data\\\\ParcelAtlas\\\\CO_2022\\\\Counties\\\\08027\\\\',\n",
       " 'C:\\\\Users\\\\phwh9568\\\\Data\\\\ParcelAtlas\\\\CO_2022\\\\Counties\\\\08029\\\\',\n",
       " 'C:\\\\Users\\\\phwh9568\\\\Data\\\\ParcelAtlas\\\\CO_2022\\\\Counties\\\\08031\\\\',\n",
       " 'C:\\\\Users\\\\phwh9568\\\\Data\\\\ParcelAtlas\\\\CO_2022\\\\Counties\\\\08033\\\\',\n",
       " 'C:\\\\Users\\\\phwh9568\\\\Data\\\\ParcelAtlas\\\\CO_2022\\\\Counties\\\\08035\\\\',\n",
       " 'C:\\\\Users\\\\phwh9568\\\\Data\\\\ParcelAtlas\\\\CO_2022\\\\Counties\\\\08037\\\\',\n",
       " 'C:\\\\Users\\\\phwh9568\\\\Data\\\\ParcelAtlas\\\\CO_2022\\\\Counties\\\\08039\\\\',\n",
       " 'C:\\\\Users\\\\phwh9568\\\\Data\\\\ParcelAtlas\\\\CO_2022\\\\Counties\\\\08041\\\\',\n",
       " 'C:\\\\Users\\\\phwh9568\\\\Data\\\\ParcelAtlas\\\\CO_2022\\\\Counties\\\\08043\\\\',\n",
       " 'C:\\\\Users\\\\phwh9568\\\\Data\\\\ParcelAtlas\\\\CO_2022\\\\Counties\\\\08045\\\\',\n",
       " 'C:\\\\Users\\\\phwh9568\\\\Data\\\\ParcelAtlas\\\\CO_2022\\\\Counties\\\\08047\\\\',\n",
       " 'C:\\\\Users\\\\phwh9568\\\\Data\\\\ParcelAtlas\\\\CO_2022\\\\Counties\\\\08049\\\\',\n",
       " 'C:\\\\Users\\\\phwh9568\\\\Data\\\\ParcelAtlas\\\\CO_2022\\\\Counties\\\\08051\\\\',\n",
       " 'C:\\\\Users\\\\phwh9568\\\\Data\\\\ParcelAtlas\\\\CO_2022\\\\Counties\\\\08055\\\\',\n",
       " 'C:\\\\Users\\\\phwh9568\\\\Data\\\\ParcelAtlas\\\\CO_2022\\\\Counties\\\\08057\\\\',\n",
       " 'C:\\\\Users\\\\phwh9568\\\\Data\\\\ParcelAtlas\\\\CO_2022\\\\Counties\\\\08059\\\\',\n",
       " 'C:\\\\Users\\\\phwh9568\\\\Data\\\\ParcelAtlas\\\\CO_2022\\\\Counties\\\\08063\\\\',\n",
       " 'C:\\\\Users\\\\phwh9568\\\\Data\\\\ParcelAtlas\\\\CO_2022\\\\Counties\\\\08065\\\\',\n",
       " 'C:\\\\Users\\\\phwh9568\\\\Data\\\\ParcelAtlas\\\\CO_2022\\\\Counties\\\\08067\\\\',\n",
       " 'C:\\\\Users\\\\phwh9568\\\\Data\\\\ParcelAtlas\\\\CO_2022\\\\Counties\\\\08069\\\\',\n",
       " 'C:\\\\Users\\\\phwh9568\\\\Data\\\\ParcelAtlas\\\\CO_2022\\\\Counties\\\\08071\\\\',\n",
       " 'C:\\\\Users\\\\phwh9568\\\\Data\\\\ParcelAtlas\\\\CO_2022\\\\Counties\\\\08075\\\\',\n",
       " 'C:\\\\Users\\\\phwh9568\\\\Data\\\\ParcelAtlas\\\\CO_2022\\\\Counties\\\\08077\\\\',\n",
       " 'C:\\\\Users\\\\phwh9568\\\\Data\\\\ParcelAtlas\\\\CO_2022\\\\Counties\\\\08079\\\\',\n",
       " 'C:\\\\Users\\\\phwh9568\\\\Data\\\\ParcelAtlas\\\\CO_2022\\\\Counties\\\\08081\\\\',\n",
       " 'C:\\\\Users\\\\phwh9568\\\\Data\\\\ParcelAtlas\\\\CO_2022\\\\Counties\\\\08083\\\\',\n",
       " 'C:\\\\Users\\\\phwh9568\\\\Data\\\\ParcelAtlas\\\\CO_2022\\\\Counties\\\\08085\\\\',\n",
       " 'C:\\\\Users\\\\phwh9568\\\\Data\\\\ParcelAtlas\\\\CO_2022\\\\Counties\\\\08087\\\\',\n",
       " 'C:\\\\Users\\\\phwh9568\\\\Data\\\\ParcelAtlas\\\\CO_2022\\\\Counties\\\\08089\\\\',\n",
       " 'C:\\\\Users\\\\phwh9568\\\\Data\\\\ParcelAtlas\\\\CO_2022\\\\Counties\\\\08091\\\\',\n",
       " 'C:\\\\Users\\\\phwh9568\\\\Data\\\\ParcelAtlas\\\\CO_2022\\\\Counties\\\\08093\\\\',\n",
       " 'C:\\\\Users\\\\phwh9568\\\\Data\\\\ParcelAtlas\\\\CO_2022\\\\Counties\\\\08095\\\\',\n",
       " 'C:\\\\Users\\\\phwh9568\\\\Data\\\\ParcelAtlas\\\\CO_2022\\\\Counties\\\\08097\\\\',\n",
       " 'C:\\\\Users\\\\phwh9568\\\\Data\\\\ParcelAtlas\\\\CO_2022\\\\Counties\\\\08101\\\\',\n",
       " 'C:\\\\Users\\\\phwh9568\\\\Data\\\\ParcelAtlas\\\\CO_2022\\\\Counties\\\\08103\\\\',\n",
       " 'C:\\\\Users\\\\phwh9568\\\\Data\\\\ParcelAtlas\\\\CO_2022\\\\Counties\\\\08105\\\\',\n",
       " 'C:\\\\Users\\\\phwh9568\\\\Data\\\\ParcelAtlas\\\\CO_2022\\\\Counties\\\\08107\\\\',\n",
       " 'C:\\\\Users\\\\phwh9568\\\\Data\\\\ParcelAtlas\\\\CO_2022\\\\Counties\\\\08109\\\\',\n",
       " 'C:\\\\Users\\\\phwh9568\\\\Data\\\\ParcelAtlas\\\\CO_2022\\\\Counties\\\\08111\\\\',\n",
       " 'C:\\\\Users\\\\phwh9568\\\\Data\\\\ParcelAtlas\\\\CO_2022\\\\Counties\\\\08113\\\\',\n",
       " 'C:\\\\Users\\\\phwh9568\\\\Data\\\\ParcelAtlas\\\\CO_2022\\\\Counties\\\\08115\\\\',\n",
       " 'C:\\\\Users\\\\phwh9568\\\\Data\\\\ParcelAtlas\\\\CO_2022\\\\Counties\\\\08117\\\\',\n",
       " 'C:\\\\Users\\\\phwh9568\\\\Data\\\\ParcelAtlas\\\\CO_2022\\\\Counties\\\\08119\\\\',\n",
       " 'C:\\\\Users\\\\phwh9568\\\\Data\\\\ParcelAtlas\\\\CO_2022\\\\Counties\\\\08123\\\\',\n",
       " 'C:\\\\Users\\\\phwh9568\\\\Data\\\\ParcelAtlas\\\\CO_2022\\\\Counties\\\\08125\\\\']"
      ]
     },
     "execution_count": 6,
     "metadata": {},
     "output_type": "execute_result"
    }
   ],
   "source": [
    "parcelsPaths"
   ]
  },
  {
   "cell_type": "code",
   "execution_count": 37,
   "metadata": {},
   "outputs": [],
   "source": [
    "for path in parcelsPaths:\n",
    "    fips = path.split('\\\\')[-1]\n",
    "    if os.path.exists(os.path.join(path,'MHP_'+fips+'.csv')):\n",
    "        os.remove(os.path.join(path,'MHP_'+fips+'.csv'))\n",
    "    if os.path.exists(os.path.join(path,'MHP_.csv')):\n",
    "        os.remove(os.path.join(path,'MHP_.csv'))"
   ]
  },
  {
   "cell_type": "code",
   "execution_count": 38,
   "metadata": {},
   "outputs": [],
   "source": [
    "OGmhps = pd.read_csv(r'C:\\Users\\phwh9568\\Data\\ParcelAtlas\\Mobile_Home_Parks\\MobileHomeParks.csv', dtype={'COUNTYFIPS':str})\n",
    "COmhps = OGmhps.loc[OGmhps['COUNTYFIPS'].str.startswith('08')]"
   ]
  },
  {
   "cell_type": "code",
   "execution_count": 39,
   "metadata": {},
   "outputs": [],
   "source": [
    "for path in parcelsPaths:\n",
    "    fips = path.split('\\\\')[-2]\n",
    "    countyDF = COmhps.loc[COmhps['COUNTYFIPS']==fips].copy()\n",
    "    columns = ['MHPID','NAME','ADDRESS', 'CITY', 'STATE', 'ZIP', 'STATUS', 'COUNTYFIPS','LATITUDE', 'LONGITUDE']\n",
    "    renames = ['MHPID','MH_NAME','MH_ADDRESS', 'MH_CITY', 'MH_STATE', 'MH_ZIP', 'MH_STATUS','MH_COUNTY_FIPS','MH_LATITUDE', 'MH_LONGITUDE']\n",
    "    drops = [c for c in countyDF.columns if c not in columns] \n",
    "    renames = dict(zip(columns,renames))\n",
    "    countyDF.drop(drops,axis=1, inplace=True)\n",
    "    countyDF.rename(renames, axis='columns',inplace=True)\n",
    "    countyDF.to_csv(os.path.join(path,'MHP_'+str(fips)+'.csv'))"
   ]
  },
  {
   "cell_type": "code",
   "execution_count": 36,
   "metadata": {},
   "outputs": [
    {
     "data": {
      "text/plain": [
       "'08003'"
      ]
     },
     "execution_count": 36,
     "metadata": {},
     "output_type": "execute_result"
    }
   ],
   "source": [
    "parcelsPaths[1].split('\\\\')[-2]"
   ]
  },
  {
   "cell_type": "code",
   "execution_count": 1,
   "metadata": {},
   "outputs": [],
   "source": [
    "co_22_dir = r'C:\\Users\\phwh9568\\Data\\ParcelAtlas\\CO_2022'\n",
    "parcel_dir = r'C:\\Users\\phwh9568\\Data\\ParcelAtlas'"
   ]
  },
  {
   "cell_type": "markdown",
   "metadata": {},
   "source": [
    "Now repeat for COSTAR mhps"
   ]
  },
  {
   "cell_type": "code",
   "execution_count": 9,
   "metadata": {},
   "outputs": [],
   "source": [
    "costar_path = os.path.join(parcel_dir,'PARKS_W_COSTAR_TRANSACTIONS_2024-01-04.csv')\n",
    "costar_mhps = pd.read_csv(costar_path)\n",
    "fipsCodes = pd.read_csv(os.path.join(r'C:\\Users\\phwh9568\\Data\\ParcelAtlas', 'fips-by-state.csv'), dtype={'fips':str}, encoding='iso-8859-1')"
   ]
  },
  {
   "cell_type": "code",
   "execution_count": 10,
   "metadata": {},
   "outputs": [],
   "source": [
    "CO_fips = fipsCodes.loc[fipsCodes['fips'].str.startswith('08')].copy()\n",
    "CO_fips['propertycounty'] = CO_fips['name'].str.replace(' County','')\n",
    "costar_mhps = pd.merge(costar_mhps,CO_fips[['propertycounty','fips',]], on='propertycounty')"
   ]
  },
  {
   "cell_type": "code",
   "execution_count": null,
   "metadata": {},
   "outputs": [],
   "source": [
    "costar_mhps"
   ]
  },
  {
   "cell_type": "code",
   "execution_count": 12,
   "metadata": {},
   "outputs": [],
   "source": [
    "for path in parcelsPaths:\n",
    "    fips = path.split('\\\\')[-2]\n",
    "    countyDF = costar_mhps.loc[costar_mhps['fips']==fips].copy()\n",
    "    columns = ['property_id', 'propertyname', 'propertycity','propertystate', 'propertycounty', 'propertyzipcode', 'latitude', 'longitude', 'parcelnumber1min','numberofunits', 'fips']\n",
    "    renames = ['MH_prop_id', 'MH_prop_name', 'MH_prop_city', 'MH_prop_state', 'MH_prop_county', 'MH_prop_zip', 'MH_lat', 'MH_long', 'MH_parcel_num', 'MH_units', 'MH_COUNTY_FIPS']\n",
    "    drops = [c for c in countyDF.columns if c not in columns] \n",
    "    renames = dict(zip(columns,renames))\n",
    "    countyDF.drop(drops,axis=1, inplace=True)\n",
    "    countyDF.rename(renames, axis='columns',inplace=True)\n",
    "    if len(countyDF) > 0:\n",
    "        countyDF.to_csv(os.path.join(path,'MHP_'+str(fips)+'_COSTAR.csv'))"
   ]
  },
  {
   "cell_type": "markdown",
   "metadata": {},
   "source": [
    "finalDF = pd.DataFrame()\n",
    "for path in parcelsPaths:\n",
    "    fips = path.split('\\\\')[-2]\n",
    "    if os.path.exists(os.path.join(path,fips+'.gpkg')):\n",
    "        county = gpd.read_file(os.path.join(path, fips+'.gpkg'),layer='MH_parc_blk_union')\n",
    "        finalDF = pd.concat([finalDF,county])\n",
    "finalDF.to_file(os.path.join(co_22_dir,'Colorado_Final_original.gpkg'),layer='Colorado_Final_original')"
   ]
  },
  {
   "cell_type": "markdown",
   "metadata": {},
   "source": [
    "finalDF = pd.DataFrame()\n",
    "for path in parcelsPaths:\n",
    "    fips = path.split('\\\\')[-2]\n",
    "    if os.path.exists(os.path.join(path,fips+'.gpkg')):\n",
    "        county = gpd.read_file(os.path.join(path, fips+'.gpkg'),layer='MH_parc_blk_union')\n",
    "        finalDF = pd.concat([finalDF,county])\n",
    "finalDF.to_file(os.path.join(co_22_dir,'Colorado_Final_original.gpkg'),layer='Colorado_Final_original')"
   ]
  },
  {
   "cell_type": "code",
   "execution_count": null,
   "metadata": {},
   "outputs": [],
   "source": []
  }
 ],
 "metadata": {
  "kernelspec": {
   "display_name": "geo_env",
   "language": "python",
   "name": "python3"
  },
  "language_info": {
   "codemirror_mode": {
    "name": "ipython",
    "version": 3
   },
   "file_extension": ".py",
   "mimetype": "text/x-python",
   "name": "python",
   "nbconvert_exporter": "python",
   "pygments_lexer": "ipython3",
   "version": "3.12.0"
  }
 },
 "nbformat": 4,
 "nbformat_minor": 2
}
