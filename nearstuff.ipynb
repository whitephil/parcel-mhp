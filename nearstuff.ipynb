{
 "cells": [
  {
   "cell_type": "code",
   "execution_count": 148,
   "metadata": {},
   "outputs": [],
   "source": [
    "import geopandas as gpd\n",
    "import pandas as pd\n",
    "import os\n",
    "import parcelfunks\n",
    "import numpy as np\n",
    "from scipy import stats\n",
    "import shutil\n",
    "from glob import glob\n",
    "import importlib\n",
    "import numpy as np\n",
    "import importlib"
   ]
  },
  {
   "cell_type": "code",
   "execution_count": 2,
   "metadata": {},
   "outputs": [],
   "source": [
    "CO_path = r'C:\\Users\\phwh9568\\Data\\ParcelAtlas\\CO_2022\\Counties'\n",
    "#CO_pInventory = pInventory.loc[pInventory['STATE']=='08']\n",
    "CO_pInventory = pd.read_csv(r'C:\\Users\\phwh9568\\Data\\ParcelAtlas\\CO_2022\\counties\\ColoradoInventory.csv', dtype={'STATE':str,'COUNTY':str})\n",
    "CO_pInventory_True = CO_pInventory.loc[CO_pInventory['DATA_PRESENT']==True]\n",
    "CO_pInventory_False = CO_pInventory.loc[CO_pInventory['DATA_PRESENT']==False]\n",
    "CO_pInventory_False.to_csv(os.path.join(CO_path,'missingParcelData.csv')) # need to get this to work\n",
    "fipsList = CO_pInventory_True['COUNTY'].tolist()   \n",
    "parcelsPaths = [os.path.join(CO_path,fips) for fips in fipsList]"
   ]
  },
  {
   "cell_type": "code",
   "execution_count": 147,
   "metadata": {},
   "outputs": [],
   "source": [
    "co_22_dir = r'C:\\Users\\phwh9568\\Data\\ParcelAtlas\\CO_2022'\n",
    "unionDF = pd.DataFrame()\n",
    "joinDF = pd.DataFrame()\n",
    "for path in parcelsPaths:\n",
    "    fips = path.split('\\\\')[-1]\n",
    "    if os.path.exists(os.path.join(path,fips+'double.gpkg')):\n",
    "        union = gpd.read_file(os.path.join(path, fips+'double.gpkg'),layer='MH_parc_blk_union')\n",
    "        unionDF = pd.concat([unionDF,union])\n",
    "        join = gpd.read_file(os.path.join(path, fips+'double.gpkg'),layer='MH_parcels')\n",
    "        joinDF = pd.concat([joinDF,join])        \n",
    "unionDF.to_file(os.path.join(co_22_dir,'Colorado_Final_double.gpkg'),layer='Colorado_Final_union')\n",
    "#joinDF['polyLen_3'] = joinDF.apply(lambda row: geomLen(row.geometry), axis=1)\n",
    "#joinDF['geomZscore_3'] = np.abs(stats.zscore(joinDF['polyLen2']))\n",
    "joinDF.to_file(os.path.join(co_22_dir, 'Colorado_Final_double.gpkg'),layer='Colorado_Final_MH_parcels')"
   ]
  },
  {
   "cell_type": "code",
   "execution_count": null,
   "metadata": {},
   "outputs": [],
   "source": [
    "co_22_dir = r'C:\\Users\\phwh9568\\Data\\ParcelAtlas\\CO_2022'\n",
    "final_near_join = gpd.read_file(os.path.join(co_22_dir, 'Colorado_Final_multi100_less5.gpkg'), layer='Colorado_Final_MH_parcels')\n",
    "final_near_join.to_csv(os.path.join(co_22_dir, 'Colorado_Final_multi100_less5_parcels.csv'))"
   ]
  },
  {
   "cell_type": "code",
   "execution_count": null,
   "metadata": {},
   "outputs": [],
   "source": [
    "for fips, path in zip(fipsList,parcelsPaths):\n",
    "    if os.path.exists(os.path.join(path,fips+'multi100_less5.gpkg')):\n",
    "        os.remove((os.path.join(path,fips+'multi100_less5.gpkg')))"
   ]
  },
  {
   "cell_type": "code",
   "execution_count": 64,
   "metadata": {},
   "outputs": [
    {
     "data": {
      "text/plain": [
       "<module 'parcelfunks' from 'c:\\\\Users\\\\phwh9568\\\\Data\\\\ParcelAtlas\\\\CO_2022\\\\parcelfunks.py'>"
      ]
     },
     "execution_count": 64,
     "metadata": {},
     "output_type": "execute_result"
    }
   ],
   "source": [
    "importlib.reload(parcelfunks)"
   ]
  },
  {
   "cell_type": "code",
   "execution_count": 17,
   "metadata": {},
   "outputs": [],
   "source": [
    "co_22_dir = r'C:\\Users\\phwh9568\\Data\\ParcelAtlas\\CO_2022'\n",
    "counties_dir = os.path.join(co_22_dir,'counties')\n",
    "mesa_dir = os.path.join(counties_dir,'08041')"
   ]
  },
  {
   "cell_type": "code",
   "execution_count": 29,
   "metadata": {},
   "outputs": [
    {
     "name": "stderr",
     "output_type": "stream",
     "text": [
      "c:\\Users\\phwh9568\\AppData\\Local\\Continuum\\anaconda3\\envs\\geo_env\\Lib\\site-packages\\pyogrio\\raw.py:194: RuntimeWarning: C:\\Users\\phwh9568\\Data\\ParcelAtlas\\CO_2022\\counties\\08041\\parcels.shp contains polygon(s) with rings with invalid winding order. Autocorrecting them, but that shapefile should be corrected using ogr2ogr for example.\n",
      "  result = ogr_read(\n"
     ]
    }
   ],
   "source": [
    "mesaBuildings = gpd.read_file(os.path.join(mesa_dir,'08041_buildings.shp')).to_crs(crs='ESRI:102003')\n",
    "mesaMHPs = gpd.read_file(os.path.join(mesa_dir,'08041_mhps_OG.gpkg'),layer='08041_mhps_OG_prepped').to_crs(crs='ESRI:102003')"
   ]
  },
  {
   "cell_type": "code",
   "execution_count": 41,
   "metadata": {},
   "outputs": [
    {
     "name": "stderr",
     "output_type": "stream",
     "text": [
      "c:\\Users\\phwh9568\\AppData\\Local\\Continuum\\anaconda3\\envs\\geo_env\\Lib\\site-packages\\pyogrio\\raw.py:194: RuntimeWarning: C:\\Users\\phwh9568\\Data\\ParcelAtlas\\CO_2022\\counties\\08041\\parcels.shp contains polygon(s) with rings with invalid winding order. Autocorrecting them, but that shapefile should be corrected using ogr2ogr for example.\n",
      "  result = ogr_read(\n"
     ]
    }
   ],
   "source": [
    "mesaParcels = gpd.read_file(os.path.join(mesa_dir,'parcels.shp')).to_crs(crs='ESRI:102003')\n"
   ]
  },
  {
   "cell_type": "code",
   "execution_count": 65,
   "metadata": {},
   "outputs": [],
   "source": [
    "mesaParcelSelect= parcelfunks.parcelPreSelect(mesaParcels,mesaBuildings)"
   ]
  },
  {
   "cell_type": "code",
   "execution_count": 66,
   "metadata": {},
   "outputs": [],
   "source": [
    "cols = mesaParcelSelect.columns"
   ]
  },
  {
   "cell_type": "code",
   "execution_count": 63,
   "metadata": {},
   "outputs": [],
   "source": [
    "mesaParcelFiltered.to_file(os.path.join(mesa_dir,'08041multi100_less5.gpkg'),layer='preSelect')"
   ]
  },
  {
   "cell_type": "code",
   "execution_count": 67,
   "metadata": {},
   "outputs": [],
   "source": [
    "mesaParcelSelect['ID'] = mesaParcelSelect.index"
   ]
  },
  {
   "cell_type": "code",
   "execution_count": 73,
   "metadata": {},
   "outputs": [],
   "source": [
    "mhps_parcels_near = gpd.sjoin_nearest(mesaMHPs,mesaParcelSelect,max_distance=100, distance_col='distances')"
   ]
  },
  {
   "cell_type": "code",
   "execution_count": 74,
   "metadata": {},
   "outputs": [],
   "source": [
    "mhps_parcels_near.drop(cols,axis=1,inplace=True)"
   ]
  },
  {
   "cell_type": "code",
   "execution_count": 76,
   "metadata": {},
   "outputs": [
    {
     "data": {
      "text/plain": [
       "Index(['MHPID', 'MH_NAME', 'MH_ADDRESS', 'MH_CITY', 'MH_STATE', 'MH_ZIP',\n",
       "       'MH_STATUS', 'MH_COUNTY_FIPS', 'MH_LATITUDE', 'MH_LONGITUDE',\n",
       "       'index_right', 'ID', 'distances'],\n",
       "      dtype='object')"
      ]
     },
     "execution_count": 76,
     "metadata": {},
     "output_type": "execute_result"
    }
   ],
   "source": [
    "mhps_parcels_near.columns"
   ]
  },
  {
   "cell_type": "code",
   "execution_count": 78,
   "metadata": {},
   "outputs": [
    {
     "name": "stdout",
     "output_type": "stream",
     "text": [
      "53\n",
      "48\n"
     ]
    }
   ],
   "source": [
    "print(len(mesaMHPs))\n",
    "print(len(mhps_parcels_near))"
   ]
  },
  {
   "cell_type": "code",
   "execution_count": 117,
   "metadata": {},
   "outputs": [],
   "source": [
    "merged = mesaParcelSelect.merge(mhps_parcels_near, on='ID')"
   ]
  },
  {
   "cell_type": "code",
   "execution_count": 118,
   "metadata": {},
   "outputs": [],
   "source": [
    "merged.drop(['index_right'],axis=1,inplace=True)"
   ]
  },
  {
   "cell_type": "code",
   "execution_count": 82,
   "metadata": {},
   "outputs": [],
   "source": [
    "merged.to_file(os.path.join(mesa_dir,'08041multi100_less5.gpkg'),layer='reverseJoin')"
   ]
  },
  {
   "cell_type": "code",
   "execution_count": 119,
   "metadata": {},
   "outputs": [],
   "source": [
    "merged = merged.sort_values(['ID','distances']).drop_duplicates(subset=['ID'], keep='first')"
   ]
  },
  {
   "cell_type": "code",
   "execution_count": 121,
   "metadata": {},
   "outputs": [
    {
     "data": {
      "text/plain": [
       "46"
      ]
     },
     "execution_count": 121,
     "metadata": {},
     "output_type": "execute_result"
    }
   ],
   "source": [
    "len(merged)"
   ]
  },
  {
   "cell_type": "code",
   "execution_count": 122,
   "metadata": {},
   "outputs": [
    {
     "data": {
      "text/plain": [
       "462"
      ]
     },
     "execution_count": 122,
     "metadata": {},
     "output_type": "execute_result"
    }
   ],
   "source": [
    "len(mesaParcelSelect)"
   ]
  },
  {
   "cell_type": "code",
   "execution_count": 123,
   "metadata": {},
   "outputs": [],
   "source": [
    "IDlist = merged['ID'].to_list()"
   ]
  },
  {
   "cell_type": "code",
   "execution_count": 124,
   "metadata": {},
   "outputs": [
    {
     "data": {
      "text/plain": [
       "159"
      ]
     },
     "execution_count": 124,
     "metadata": {},
     "output_type": "execute_result"
    }
   ],
   "source": [
    "IDlist[0]"
   ]
  },
  {
   "cell_type": "code",
   "execution_count": 125,
   "metadata": {},
   "outputs": [],
   "source": [
    "mesaParcelSelect['IDcheck'] = mesaParcelSelect['ID'].isin(IDlist)"
   ]
  },
  {
   "cell_type": "code",
   "execution_count": 126,
   "metadata": {},
   "outputs": [],
   "source": [
    "unmatched = mesaParcelSelect.loc[mesaParcelSelect['IDcheck']==False]"
   ]
  },
  {
   "cell_type": "code",
   "execution_count": 128,
   "metadata": {},
   "outputs": [
    {
     "data": {
      "text/plain": [
       "True"
      ]
     },
     "execution_count": 128,
     "metadata": {},
     "output_type": "execute_result"
    }
   ],
   "source": [
    "len(unmatched) + len(merged) == len(mesaParcelSelect)"
   ]
  },
  {
   "cell_type": "code",
   "execution_count": 130,
   "metadata": {},
   "outputs": [],
   "source": [
    "secondJoin = gpd.sjoin_nearest(unmatched, mesaMHPs, max_distance=150.0, distance_col='distances')"
   ]
  },
  {
   "cell_type": "code",
   "execution_count": 133,
   "metadata": {},
   "outputs": [],
   "source": [
    "secondJoin.drop('index_right',axis=1,inplace=True)"
   ]
  },
  {
   "cell_type": "code",
   "execution_count": 134,
   "metadata": {},
   "outputs": [],
   "source": [
    "secondJoin.to_file(os.path.join(mesa_dir,'08041multi100_less5.gpkg'),layer='secondJoin')"
   ]
  },
  {
   "cell_type": "code",
   "execution_count": 138,
   "metadata": {},
   "outputs": [],
   "source": [
    "concatted = pd.concat([merged,secondJoin])"
   ]
  },
  {
   "cell_type": "code",
   "execution_count": 139,
   "metadata": {},
   "outputs": [],
   "source": [
    "concatted.to_file(os.path.join(mesa_dir,'08041multi100_less5.gpkg'),layer='doubleJoin')"
   ]
  },
  {
   "cell_type": "code",
   "execution_count": 137,
   "metadata": {},
   "outputs": [
    {
     "data": {
      "text/plain": [
       "Index(['APN', 'APN2', 'geometry', 'Sum_Within', 'mnBlgArea', 'intLen',\n",
       "       'intZscore', 'extLen1', 'extZscore1', 'ID', 'IDcheck', 'MHPID',\n",
       "       'MH_NAME', 'MH_ADDRESS', 'MH_CITY', 'MH_STATE', 'MH_ZIP', 'MH_STATUS',\n",
       "       'MH_COUNTY_FIPS', 'MH_LATITUDE', 'MH_LONGITUDE', 'distances'],\n",
       "      dtype='object')"
      ]
     },
     "execution_count": 137,
     "metadata": {},
     "output_type": "execute_result"
    }
   ],
   "source": [
    "secondJoin.columns"
   ]
  },
  {
   "cell_type": "code",
   "execution_count": 145,
   "metadata": {},
   "outputs": [
    {
     "data": {
      "text/plain": [
       "<module 'parcelfunks' from 'c:\\\\Users\\\\phwh9568\\\\Data\\\\ParcelAtlas\\\\CO_2022\\\\parcelfunks.py'>"
      ]
     },
     "execution_count": 145,
     "metadata": {},
     "output_type": "execute_result"
    }
   ],
   "source": [
    "importlib.reload(parcelfunks)"
   ]
  },
  {
   "cell_type": "code",
   "execution_count": 141,
   "metadata": {},
   "outputs": [
    {
     "data": {
      "text/plain": [
       "'C:\\\\Users\\\\phwh9568\\\\Data\\\\ParcelAtlas\\\\CO_2022\\\\counties\\\\08041'"
      ]
     },
     "execution_count": 141,
     "metadata": {},
     "output_type": "execute_result"
    }
   ],
   "source": [
    "mesa_dir"
   ]
  },
  {
   "cell_type": "code",
   "execution_count": 146,
   "metadata": {},
   "outputs": [
    {
     "name": "stderr",
     "output_type": "stream",
     "text": [
      "c:\\Users\\phwh9568\\AppData\\Local\\Continuum\\anaconda3\\envs\\geo_env\\Lib\\site-packages\\pyogrio\\raw.py:194: RuntimeWarning: C:\\Users\\phwh9568\\Data\\ParcelAtlas\\CO_2022\\counties\\08041\\parcels.shp contains polygon(s) with rings with invalid winding order. Autocorrecting them, but that shapefile should be corrected using ogr2ogr for example.\n",
      "  result = ogr_read(\n"
     ]
    }
   ],
   "source": [
    "parcelfunks.parcelMHPJoin(mesa_dir)"
   ]
  },
  {
   "cell_type": "markdown",
   "metadata": {},
   "source": [
    "figuring out warning stuff"
   ]
  },
  {
   "cell_type": "code",
   "execution_count": 153,
   "metadata": {},
   "outputs": [
    {
     "name": "stderr",
     "output_type": "stream",
     "text": [
      "c:\\Users\\phwh9568\\AppData\\Local\\Continuum\\anaconda3\\envs\\geo_env\\Lib\\site-packages\\pyogrio\\raw.py:194: RuntimeWarning: C:\\Users\\phwh9568\\Data\\ParcelAtlas\\CO_2022\\counties\\08041\\newparcels.shp contains polygon(s) with rings with invalid winding order. Autocorrecting them, but that shapefile should be corrected using ogr2ogr for example.\n",
      "  result = ogr_read(\n"
     ]
    }
   ],
   "source": [
    "mesaParcels = gpd.read_file(os.path.join(mesa_dir,'newparcels.shp')).to_crs(crs='ESRI:102003')"
   ]
  },
  {
   "cell_type": "code",
   "execution_count": 150,
   "metadata": {},
   "outputs": [
    {
     "data": {
      "text/plain": [
       "'C:\\\\Users\\\\phwh9568\\\\Data\\\\ParcelAtlas\\\\CO_2022\\\\counties\\\\08041'"
      ]
     },
     "execution_count": 150,
     "metadata": {},
     "output_type": "execute_result"
    }
   ],
   "source": [
    "mesa_dir"
   ]
  },
  {
   "cell_type": "code",
   "execution_count": null,
   "metadata": {},
   "outputs": [],
   "source": []
  }
 ],
 "metadata": {
  "kernelspec": {
   "display_name": "geo_env",
   "language": "python",
   "name": "python3"
  },
  "language_info": {
   "codemirror_mode": {
    "name": "ipython",
    "version": 3
   },
   "file_extension": ".py",
   "mimetype": "text/x-python",
   "name": "python",
   "nbconvert_exporter": "python",
   "pygments_lexer": "ipython3",
   "version": "3.12.0"
  }
 },
 "nbformat": 4,
 "nbformat_minor": 2
}
