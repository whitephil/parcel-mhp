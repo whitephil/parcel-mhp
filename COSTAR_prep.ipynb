{
 "cells": [
  {
   "cell_type": "code",
   "execution_count": 7,
   "metadata": {},
   "outputs": [],
   "source": [
    "import geopandas as gpd\n",
    "import pandas as pd \n",
    "import os"
   ]
  },
  {
   "cell_type": "code",
   "execution_count": 8,
   "metadata": {},
   "outputs": [],
   "source": [
    "co_22_dir = r'C:\\Users\\phwh9568\\Data\\ParcelAtlas\\CO_2022'\n",
    "mhp_path = os.path.join(co_22_dir,'COSTAR_mhps.gpkg')\n",
    "counties_dir = os.path.join(co_22_dir,'Counties')"
   ]
  },
  {
   "cell_type": "code",
   "execution_count": 3,
   "metadata": {},
   "outputs": [],
   "source": [
    "fipsCodes = pd.read_csv(os.path.join(r'C:\\Users\\phwh9568\\Data\\ParcelAtlas', 'fips-by-state.csv'), dtype={'fips':str}, encoding='iso-8859-1')"
   ]
  },
  {
   "cell_type": "code",
   "execution_count": 31,
   "metadata": {},
   "outputs": [
    {
     "ename": "NameError",
     "evalue": "name 'mhps' is not defined",
     "output_type": "error",
     "traceback": [
      "\u001b[1;31m---------------------------------------------------------------------------\u001b[0m",
      "\u001b[1;31mNameError\u001b[0m                                 Traceback (most recent call last)",
      "Cell \u001b[1;32mIn[31], line 1\u001b[0m\n\u001b[1;32m----> 1\u001b[0m \u001b[43mmhps\u001b[49m\n",
      "\u001b[1;31mNameError\u001b[0m: name 'mhps' is not defined"
     ]
    }
   ],
   "source": [
    "mhps"
   ]
  },
  {
   "cell_type": "code",
   "execution_count": null,
   "metadata": {},
   "outputs": [],
   "source": [
    "def mhomes_prepper(mhomesPath):\n",
    "   mhomes = gpd.read_file(mhomesPath, layer='COSTAR_mhps')\n",
    "   mhomes.sindex\n",
    "   #columns = ['MHPID', 'NAME','ADDRESS', 'CITY', 'STATE', 'ZIP', 'STATUS', 'COUNTYFIPS', 'UNITS', 'SIZE', 'LATITUDE', 'LONGITUDE','geometry']\n",
    "   #renames = ['MHPID', 'MH_NAME','MH_ADDRESS', 'MH_CITY', 'MH_STATE', 'MH_ZIP', 'MH_STATUS','MH_COUNTY_FIPS', 'MH_UNITS', 'MH_SIZE', 'MH_LATITUDE', 'MH_LONGITUDE']\n",
    "   columns = ['property_id', 'propertyname', 'propertycity','propertystate', 'propertycounty', 'propertyzipcode', 'latitude', 'longitude', 'parcelnumber1min','numberofunits', 'geometry']\n",
    "   renames = ['MH_prop_id', 'MH_prop_name', 'MH_prop_city', 'MH_prop_state', 'MH_prop_county', 'MH_prop_zip', 'MH_lat', 'MH_long', 'MH_parcel_num', 'MH_units']\n",
    "   drops = [c for c in mhomes.columns if c not in columns] \n",
    "   renames = dict(zip(columns,renames))\n",
    "   mhomes.drop(drops,axis=1, inplace=True)\n",
    "   mhomes.rename(renames, axis='columns',inplace=True)\n",
    "   return mhomes"
   ]
  },
  {
   "cell_type": "code",
   "execution_count": null,
   "metadata": {},
   "outputs": [],
   "source": [
    "mhps = mhomes_prepper(mhp_path)"
   ]
  },
  {
   "cell_type": "code",
   "execution_count": null,
   "metadata": {},
   "outputs": [
    {
     "data": {
      "text/html": [
       "<div>\n",
       "<style scoped>\n",
       "    .dataframe tbody tr th:only-of-type {\n",
       "        vertical-align: middle;\n",
       "    }\n",
       "\n",
       "    .dataframe tbody tr th {\n",
       "        vertical-align: top;\n",
       "    }\n",
       "\n",
       "    .dataframe thead th {\n",
       "        text-align: right;\n",
       "    }\n",
       "</style>\n",
       "<table border=\"1\" class=\"dataframe\">\n",
       "  <thead>\n",
       "    <tr style=\"text-align: right;\">\n",
       "      <th></th>\n",
       "      <th>MH_prop_id</th>\n",
       "      <th>MH_prop_name</th>\n",
       "      <th>MH_prop_city</th>\n",
       "      <th>MH_prop_state</th>\n",
       "      <th>MH_prop_county</th>\n",
       "      <th>MH_prop_zip</th>\n",
       "      <th>MH_lat</th>\n",
       "      <th>MH_long</th>\n",
       "      <th>MH_parcel_num</th>\n",
       "      <th>MH_units</th>\n",
       "      <th>geometry</th>\n",
       "    </tr>\n",
       "  </thead>\n",
       "  <tbody>\n",
       "    <tr>\n",
       "      <th>0</th>\n",
       "      <td>100 Ute Ave 80117</td>\n",
       "      <td>Ute Village Mobile Home Park</td>\n",
       "      <td>Kiowa</td>\n",
       "      <td>CO</td>\n",
       "      <td>Elbert</td>\n",
       "      <td>80117</td>\n",
       "      <td>39.3493</td>\n",
       "      <td>-104.461</td>\n",
       "      <td>R107360</td>\n",
       "      <td>78.0</td>\n",
       "      <td>POINT (-104.46100 39.34930)</td>\n",
       "    </tr>\n",
       "    <tr>\n",
       "      <th>1</th>\n",
       "      <td>10110 E 120th Ave 80640</td>\n",
       "      <td>None</td>\n",
       "      <td>Henderson</td>\n",
       "      <td>CO</td>\n",
       "      <td>Adams</td>\n",
       "      <td>80640-9390</td>\n",
       "      <td>39.9140</td>\n",
       "      <td>-104.870</td>\n",
       "      <td>1721-03-0-00-005</td>\n",
       "      <td>30.0</td>\n",
       "      <td>POINT (-104.87000 39.91400)</td>\n",
       "    </tr>\n",
       "    <tr>\n",
       "      <th>2</th>\n",
       "      <td>10201 Riverdale Rd 80229</td>\n",
       "      <td>Pine Lakes Ranch</td>\n",
       "      <td>Thornton</td>\n",
       "      <td>CO</td>\n",
       "      <td>Adams</td>\n",
       "      <td>80229</td>\n",
       "      <td>39.8803</td>\n",
       "      <td>-104.935</td>\n",
       "      <td>1721-18-0-00-026</td>\n",
       "      <td>758.0</td>\n",
       "      <td>POINT (-104.93500 39.88030)</td>\n",
       "    </tr>\n",
       "    <tr>\n",
       "      <th>3</th>\n",
       "      <td>10210 Riverdale Rd 80229</td>\n",
       "      <td>Pine Lakes Ranch</td>\n",
       "      <td>Thornton</td>\n",
       "      <td>CO</td>\n",
       "      <td>Adams</td>\n",
       "      <td>80229-3115</td>\n",
       "      <td>39.8800</td>\n",
       "      <td>-104.935</td>\n",
       "      <td>1721-18-0-00-026</td>\n",
       "      <td>1900.0</td>\n",
       "      <td>POINT (-104.93500 39.88000)</td>\n",
       "    </tr>\n",
       "    <tr>\n",
       "      <th>4</th>\n",
       "      <td>103 Coffman St 80501</td>\n",
       "      <td>None</td>\n",
       "      <td>Longmont</td>\n",
       "      <td>CO</td>\n",
       "      <td>Boulder</td>\n",
       "      <td>80501-5932</td>\n",
       "      <td>40.1573</td>\n",
       "      <td>-105.105</td>\n",
       "      <td>1315102-00-019</td>\n",
       "      <td>56.0</td>\n",
       "      <td>POINT (-105.10500 40.15730)</td>\n",
       "    </tr>\n",
       "    <tr>\n",
       "      <th>...</th>\n",
       "      <td>...</td>\n",
       "      <td>...</td>\n",
       "      <td>...</td>\n",
       "      <td>...</td>\n",
       "      <td>...</td>\n",
       "      <td>...</td>\n",
       "      <td>...</td>\n",
       "      <td>...</td>\n",
       "      <td>...</td>\n",
       "      <td>...</td>\n",
       "      <td>...</td>\n",
       "    </tr>\n",
       "    <tr>\n",
       "      <th>154</th>\n",
       "      <td>900 Mountain View Ave 80501</td>\n",
       "      <td>Mountain View MHC</td>\n",
       "      <td>Longmont</td>\n",
       "      <td>CO</td>\n",
       "      <td>Boulder</td>\n",
       "      <td>80501-2734</td>\n",
       "      <td>40.1817</td>\n",
       "      <td>-105.106</td>\n",
       "      <td>1205342-38-001</td>\n",
       "      <td>81.0</td>\n",
       "      <td>POINT (-105.10600 40.18170)</td>\n",
       "    </tr>\n",
       "    <tr>\n",
       "      <th>155</th>\n",
       "      <td>9595 Pecos St 80260</td>\n",
       "      <td>Redwood Estates</td>\n",
       "      <td>Thornton</td>\n",
       "      <td>CO</td>\n",
       "      <td>Adams</td>\n",
       "      <td>80260-5925</td>\n",
       "      <td>39.8716</td>\n",
       "      <td>-105.011</td>\n",
       "      <td>1719-21-2-00-006</td>\n",
       "      <td>754.0</td>\n",
       "      <td>POINT (-105.01100 39.87160)</td>\n",
       "    </tr>\n",
       "    <tr>\n",
       "      <th>156</th>\n",
       "      <td>9850 Federal Blvd 80260</td>\n",
       "      <td>Countryside Village</td>\n",
       "      <td>Denver</td>\n",
       "      <td>CO</td>\n",
       "      <td>Adams</td>\n",
       "      <td>80260-5788</td>\n",
       "      <td>39.8740</td>\n",
       "      <td>-105.020</td>\n",
       "      <td>1719-17-4-00-003</td>\n",
       "      <td>345.0</td>\n",
       "      <td>POINT (-105.02000 39.87400)</td>\n",
       "    </tr>\n",
       "    <tr>\n",
       "      <th>157</th>\n",
       "      <td>Cobre Pl 81635</td>\n",
       "      <td>Battlement Mesa RV Park</td>\n",
       "      <td>Parachute</td>\n",
       "      <td>CO</td>\n",
       "      <td>Garfield</td>\n",
       "      <td>81635</td>\n",
       "      <td>39.4239</td>\n",
       "      <td>-108.053</td>\n",
       "      <td>R270229</td>\n",
       "      <td>NaN</td>\n",
       "      <td>POINT (-108.05300 39.42390)</td>\n",
       "    </tr>\n",
       "    <tr>\n",
       "      <th>158</th>\n",
       "      <td>Tamarisk Trl 81635</td>\n",
       "      <td>Saddleback Modular Homes</td>\n",
       "      <td>Parachute</td>\n",
       "      <td>CO</td>\n",
       "      <td>Garfield</td>\n",
       "      <td>81635</td>\n",
       "      <td>39.4276</td>\n",
       "      <td>-108.041</td>\n",
       "      <td>R770509</td>\n",
       "      <td>NaN</td>\n",
       "      <td>POINT (-108.04100 39.42760)</td>\n",
       "    </tr>\n",
       "  </tbody>\n",
       "</table>\n",
       "<p>159 rows × 11 columns</p>\n",
       "</div>"
      ],
      "text/plain": [
       "                      MH_prop_id                  MH_prop_name MH_prop_city  \\\n",
       "0              100 Ute Ave 80117  Ute Village Mobile Home Park        Kiowa   \n",
       "1        10110 E 120th Ave 80640                          None    Henderson   \n",
       "2       10201 Riverdale Rd 80229              Pine Lakes Ranch     Thornton   \n",
       "3       10210 Riverdale Rd 80229              Pine Lakes Ranch     Thornton   \n",
       "4           103 Coffman St 80501                          None     Longmont   \n",
       "..                           ...                           ...          ...   \n",
       "154  900 Mountain View Ave 80501             Mountain View MHC     Longmont   \n",
       "155          9595 Pecos St 80260               Redwood Estates     Thornton   \n",
       "156      9850 Federal Blvd 80260           Countryside Village       Denver   \n",
       "157               Cobre Pl 81635       Battlement Mesa RV Park    Parachute   \n",
       "158           Tamarisk Trl 81635      Saddleback Modular Homes    Parachute   \n",
       "\n",
       "    MH_prop_state MH_prop_county MH_prop_zip   MH_lat  MH_long  \\\n",
       "0              CO         Elbert       80117  39.3493 -104.461   \n",
       "1              CO          Adams  80640-9390  39.9140 -104.870   \n",
       "2              CO          Adams       80229  39.8803 -104.935   \n",
       "3              CO          Adams  80229-3115  39.8800 -104.935   \n",
       "4              CO        Boulder  80501-5932  40.1573 -105.105   \n",
       "..            ...            ...         ...      ...      ...   \n",
       "154            CO        Boulder  80501-2734  40.1817 -105.106   \n",
       "155            CO          Adams  80260-5925  39.8716 -105.011   \n",
       "156            CO          Adams  80260-5788  39.8740 -105.020   \n",
       "157            CO       Garfield       81635  39.4239 -108.053   \n",
       "158            CO       Garfield       81635  39.4276 -108.041   \n",
       "\n",
       "        MH_parcel_num  MH_units                     geometry  \n",
       "0             R107360      78.0  POINT (-104.46100 39.34930)  \n",
       "1    1721-03-0-00-005      30.0  POINT (-104.87000 39.91400)  \n",
       "2    1721-18-0-00-026     758.0  POINT (-104.93500 39.88030)  \n",
       "3    1721-18-0-00-026    1900.0  POINT (-104.93500 39.88000)  \n",
       "4      1315102-00-019      56.0  POINT (-105.10500 40.15730)  \n",
       "..                ...       ...                          ...  \n",
       "154    1205342-38-001      81.0  POINT (-105.10600 40.18170)  \n",
       "155  1719-21-2-00-006     754.0  POINT (-105.01100 39.87160)  \n",
       "156  1719-17-4-00-003     345.0  POINT (-105.02000 39.87400)  \n",
       "157           R270229       NaN  POINT (-108.05300 39.42390)  \n",
       "158           R770509       NaN  POINT (-108.04100 39.42760)  \n",
       "\n",
       "[159 rows x 11 columns]"
      ]
     },
     "execution_count": 19,
     "metadata": {},
     "output_type": "execute_result"
    }
   ],
   "source": [
    "mhps"
   ]
  },
  {
   "cell_type": "code",
   "execution_count": null,
   "metadata": {},
   "outputs": [],
   "source": [
    "CO_fips = fipsCodes.loc[fipsCodes['fips'].str.startswith('08')].copy()"
   ]
  },
  {
   "cell_type": "code",
   "execution_count": null,
   "metadata": {},
   "outputs": [],
   "source": [
    "CO_fips['MH_prop_county'] = CO_fips['name'].str.replace(' County','')"
   ]
  },
  {
   "cell_type": "code",
   "execution_count": null,
   "metadata": {},
   "outputs": [
    {
     "data": {
      "text/html": [
       "<div>\n",
       "<style scoped>\n",
       "    .dataframe tbody tr th:only-of-type {\n",
       "        vertical-align: middle;\n",
       "    }\n",
       "\n",
       "    .dataframe tbody tr th {\n",
       "        vertical-align: top;\n",
       "    }\n",
       "\n",
       "    .dataframe thead th {\n",
       "        text-align: right;\n",
       "    }\n",
       "</style>\n",
       "<table border=\"1\" class=\"dataframe\">\n",
       "  <thead>\n",
       "    <tr style=\"text-align: right;\">\n",
       "      <th></th>\n",
       "      <th>fips</th>\n",
       "      <th>name</th>\n",
       "      <th>state</th>\n",
       "      <th>MH_prop_county</th>\n",
       "    </tr>\n",
       "  </thead>\n",
       "  <tbody>\n",
       "    <tr>\n",
       "      <th>244</th>\n",
       "      <td>08001</td>\n",
       "      <td>Adams County</td>\n",
       "      <td>CO</td>\n",
       "      <td>Adams</td>\n",
       "    </tr>\n",
       "    <tr>\n",
       "      <th>245</th>\n",
       "      <td>08003</td>\n",
       "      <td>Alamosa County</td>\n",
       "      <td>CO</td>\n",
       "      <td>Alamosa</td>\n",
       "    </tr>\n",
       "    <tr>\n",
       "      <th>246</th>\n",
       "      <td>08005</td>\n",
       "      <td>Arapahoe County</td>\n",
       "      <td>CO</td>\n",
       "      <td>Arapahoe</td>\n",
       "    </tr>\n",
       "    <tr>\n",
       "      <th>247</th>\n",
       "      <td>08007</td>\n",
       "      <td>Archuleta County</td>\n",
       "      <td>CO</td>\n",
       "      <td>Archuleta</td>\n",
       "    </tr>\n",
       "    <tr>\n",
       "      <th>248</th>\n",
       "      <td>08009</td>\n",
       "      <td>Baca County</td>\n",
       "      <td>CO</td>\n",
       "      <td>Baca</td>\n",
       "    </tr>\n",
       "    <tr>\n",
       "      <th>...</th>\n",
       "      <td>...</td>\n",
       "      <td>...</td>\n",
       "      <td>...</td>\n",
       "      <td>...</td>\n",
       "    </tr>\n",
       "    <tr>\n",
       "      <th>303</th>\n",
       "      <td>08117</td>\n",
       "      <td>Summit County</td>\n",
       "      <td>CO</td>\n",
       "      <td>Summit</td>\n",
       "    </tr>\n",
       "    <tr>\n",
       "      <th>304</th>\n",
       "      <td>08119</td>\n",
       "      <td>Teller County</td>\n",
       "      <td>CO</td>\n",
       "      <td>Teller</td>\n",
       "    </tr>\n",
       "    <tr>\n",
       "      <th>305</th>\n",
       "      <td>08121</td>\n",
       "      <td>Washington County</td>\n",
       "      <td>CO</td>\n",
       "      <td>Washington</td>\n",
       "    </tr>\n",
       "    <tr>\n",
       "      <th>306</th>\n",
       "      <td>08123</td>\n",
       "      <td>Weld County</td>\n",
       "      <td>CO</td>\n",
       "      <td>Weld</td>\n",
       "    </tr>\n",
       "    <tr>\n",
       "      <th>307</th>\n",
       "      <td>08125</td>\n",
       "      <td>Yuma County</td>\n",
       "      <td>CO</td>\n",
       "      <td>Yuma</td>\n",
       "    </tr>\n",
       "  </tbody>\n",
       "</table>\n",
       "<p>64 rows × 4 columns</p>\n",
       "</div>"
      ],
      "text/plain": [
       "      fips               name state MH_prop_county\n",
       "244  08001       Adams County    CO          Adams\n",
       "245  08003     Alamosa County    CO        Alamosa\n",
       "246  08005    Arapahoe County    CO       Arapahoe\n",
       "247  08007   Archuleta County    CO      Archuleta\n",
       "248  08009        Baca County    CO           Baca\n",
       "..     ...                ...   ...            ...\n",
       "303  08117      Summit County    CO         Summit\n",
       "304  08119      Teller County    CO         Teller\n",
       "305  08121  Washington County    CO     Washington\n",
       "306  08123        Weld County    CO           Weld\n",
       "307  08125        Yuma County    CO           Yuma\n",
       "\n",
       "[64 rows x 4 columns]"
      ]
     },
     "execution_count": 45,
     "metadata": {},
     "output_type": "execute_result"
    }
   ],
   "source": [
    "CO_fips"
   ]
  },
  {
   "cell_type": "code",
   "execution_count": null,
   "metadata": {},
   "outputs": [],
   "source": [
    "mhps = pd.merge(mhps,CO_fips[['MH_prop_county','fips',]], on='MH_prop_county')"
   ]
  },
  {
   "cell_type": "code",
   "execution_count": null,
   "metadata": {},
   "outputs": [],
   "source": [
    "mhps.rename({'fips':'MH_COUNTY_FIPS'}, axis='columns', inplace=True)"
   ]
  },
  {
   "cell_type": "code",
   "execution_count": null,
   "metadata": {},
   "outputs": [],
   "source": [
    "co_fips = mhps['fips'].unique().tolist()"
   ]
  },
  {
   "cell_type": "code",
   "execution_count": null,
   "metadata": {},
   "outputs": [],
   "source": [
    "for fips in co_fips:\n",
    "    countyMHPs = mhps.loc[mhps['MH_COUNTY_FIPS'] == fips].copy()\n",
    "    path = os.path.join(counties_dir,fips)\n",
    "    countyMHPs.to_file(os.path.join(path,fips+'_COSTAR_mhps.gpkg'), driver='GPKG', layer='COSTAR_mhps')\n",
    "    "
   ]
  },
  {
   "cell_type": "code",
   "execution_count": 4,
   "metadata": {},
   "outputs": [],
   "source": [
    "state = '08'\n",
    "CO_path = r'C:\\Users\\phwh9568\\Data\\ParcelAtlas\\CO_2022\\Counties'\n",
    "#CO_pInventory = pInventory.loc[pInventory['STATE']=='08']\n",
    "CO_pInventory = pd.read_csv(r'C:\\Users\\phwh9568\\Data\\ParcelAtlas\\CO_2022\\counties\\ColoradoInventory.csv', dtype={'STATE':str,'COUNTY':str})\n",
    "CO_pInventory_True = CO_pInventory.loc[CO_pInventory['DATA_PRESENT']==True]\n",
    "CO_pInventory_False = CO_pInventory.loc[CO_pInventory['DATA_PRESENT']==False]\n",
    "CO_pInventory_False.to_csv(os.path.join(CO_path,'missingParcelData.csv')) # need to get this to work\n",
    "fipsList = CO_pInventory_True['COUNTY'].tolist()   \n",
    "parcelsPaths = [os.path.join(CO_path,fips) for fips in fipsList]"
   ]
  },
  {
   "cell_type": "markdown",
   "metadata": {},
   "source": [
    "Merge final gdfs into statewide gdf"
   ]
  },
  {
   "cell_type": "code",
   "execution_count": null,
   "metadata": {},
   "outputs": [],
   "source": [
    "co_22_dir = r'C:\\Users\\phwh9568\\Data\\ParcelAtlas\\CO_2022'\n",
    "unionDF = pd.DataFrame()\n",
    "joinDF = pd.DataFrame()\n",
    "for path in parcelsPaths:\n",
    "    fips = path.split('\\\\')[-1]\n",
    "    if os.path.exists(os.path.join(path,fips+'.gpkg')):\n",
    "        union = gpd.read_file(os.path.join(path, fips+'.gpkg'),layer='MH_parc_blk_union')\n",
    "        unionDF = pd.concat([unionDF,union])\n",
    "        join = gpd.read_file(os.path.join(path, fips+'.gpkg'),layer='MH_parcels')\n",
    "        joinDF = pd.concat([joinDF,join])        \n",
    "unionDF.to_file(os.path.join(co_22_dir,'Colorado_Final_costar50.gpkg'),layer='Colorado_Final_union')\n",
    "#joinDF['polyLen_3'] = joinDF.apply(lambda row: geomLen(row.geometry), axis=1)\n",
    "#joinDF['geomZscore_3'] = np.abs(stats.zscore(joinDF['polyLen2']))\n",
    "joinDF.to_file(os.path.join(co_22_dir, 'Colorado_Final_costar50.gpkg'),layer='Colorado_Final_MH_parcels')"
   ]
  },
  {
   "cell_type": "markdown",
   "metadata": {},
   "source": [
    "Output state wide gdf to csv for checking"
   ]
  },
  {
   "cell_type": "code",
   "execution_count": 10,
   "metadata": {},
   "outputs": [],
   "source": [
    "gpd.read_file(os.path.join(co_22_dir,'Colorado_Final_costar50.gpkg'), layer='Colorado_Final_MH_parcels').to_csv(os.path.join(co_22_dir,'COSTAR_parcels_50.csv'))"
   ]
  },
  {
   "cell_type": "code",
   "execution_count": null,
   "metadata": {},
   "outputs": [],
   "source": [
    "gpd.read_file(os.path.join(co_22_dir,'COSTAR_mhps.gpkg'),layer='COSTAR_mhps').to_csv('COSTAR_mhps.csv')"
   ]
  },
  {
   "cell_type": "code",
   "execution_count": 34,
   "metadata": {},
   "outputs": [],
   "source": [
    "gpd.read_file(os.path.join(co_22_dir,'Colorado_Final.gpkg'),layer='Colorado_Final_MH_parcels').to_csv('COSTAR_parcels_final.csv')"
   ]
  },
  {
   "cell_type": "code",
   "execution_count": null,
   "metadata": {},
   "outputs": [
    {
     "data": {
      "text/plain": [
       "56"
      ]
     },
     "execution_count": 4,
     "metadata": {},
     "output_type": "execute_result"
    }
   ],
   "source": [
    "len(parcelsPaths)"
   ]
  },
  {
   "cell_type": "code",
   "execution_count": null,
   "metadata": {},
   "outputs": [],
   "source": [
    "for path in parcelsPaths:\n",
    "    fips = path.split('\\\\')[-1]\n",
    "    if os.path.exists(os.path.join(path,fips+'_COSTAR_mhps.gpkg')):\n",
    "        pass\n",
    "    else:\n",
    "        print(fips)"
   ]
  },
  {
   "cell_type": "code",
   "execution_count": null,
   "metadata": {},
   "outputs": [],
   "source": [
    "for path in parcelsPaths:\n",
    "    fips = path.split('\\\\')[-1]\n",
    "    if os.path.exists(os.path.join(path,fips+'.gpkg')):\n",
    "        os.remove(os.path.join(path,fips+'.gpkg'))"
   ]
  },
  {
   "cell_type": "code",
   "execution_count": null,
   "metadata": {},
   "outputs": [],
   "source": [
    "ex = pd.read_csv(os.path.join(co_22_dir,'counties','08067','exceptions.csv'))"
   ]
  },
  {
   "cell_type": "code",
   "execution_count": 32,
   "metadata": {},
   "outputs": [],
   "source": [
    "stateFinalDF = pd.DataFrame()\n",
    "exceptionsFinalDF = pd.DataFrame()\n",
    "for path in parcelsPaths:\n",
    "    fips = path.split('\\\\')[-1]\n",
    "    countyEx = pd.read_csv(os.path.join(path,'exceptions.csv'))\n",
    "    exceptionsFinalDF = pd.concat([exceptionsFinalDF,countyEx])\n",
    "    if os.path.exists(os.path.join(path,'MHP_'+fips+'_COSTAR_final.csv')):\n",
    "        countyDF = pd.read_csv(os.path.join(path,'MHP_'+fips+'_COSTAR_final.csv'), dtype={'STATEFP10':str,'COUNTYFP10':str,'TRACTCE10':str,'BLOCKCE10':str,'GEOID10':str,'MTFCC10':str,'UACE10':str,'GEOID10':str, 'MH_COUNTY_FIPS':str, 'MH_parcel_num':str})\n",
    "        stateFinalDF = pd.concat([stateFinalDF,countyDF])\n",
    "        \n",
    "stateFinalDF.drop(stateFinalDF.filter(regex='Unnamed*').columns,axis=1, inplace=True)\n",
    "#stateFinalDF.to_csv(os.path.join(externalDrive,f'State_{state}',f'{state}_final.csv'))\n",
    "stateFinalDF.to_csv(os.path.join(CO_path,f'{state}_final.csv'))\n",
    "#exceptionsFinalDF.to_csv(os.path.join(outDir,'exceptions.csv'))"
   ]
  },
  {
   "cell_type": "code",
   "execution_count": null,
   "metadata": {},
   "outputs": [],
   "source": []
  }
 ],
 "metadata": {
  "kernelspec": {
   "display_name": "geo_env",
   "language": "python",
   "name": "python3"
  },
  "language_info": {
   "codemirror_mode": {
    "name": "ipython",
    "version": 3
   },
   "file_extension": ".py",
   "mimetype": "text/x-python",
   "name": "python",
   "nbconvert_exporter": "python",
   "pygments_lexer": "ipython3",
   "version": "3.12.0"
  }
 },
 "nbformat": 4,
 "nbformat_minor": 2
}
