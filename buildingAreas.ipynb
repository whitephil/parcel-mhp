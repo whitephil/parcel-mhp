{
 "cells": [
  {
   "cell_type": "code",
   "execution_count": 86,
   "metadata": {},
   "outputs": [],
   "source": [
    "import geopandas as gpd\n",
    "import pandas as pd\n",
    "import os\n",
    "import parcelfunks\n",
    "import numpy as np\n",
    "from scipy import stats\n",
    "import shutil\n",
    "from glob import glob\n",
    "import importlib\n",
    "import numpy as np"
   ]
  },
  {
   "cell_type": "code",
   "execution_count": 103,
   "metadata": {},
   "outputs": [],
   "source": [
    "CO_path = r'C:\\Users\\phwh9568\\Data\\ParcelAtlas\\CO_2022\\Counties'\n",
    "#CO_pInventory = pInventory.loc[pInventory['STATE']=='08']\n",
    "CO_pInventory = pd.read_csv(r'C:\\Users\\phwh9568\\Data\\ParcelAtlas\\CO_2022\\counties\\ColoradoInventory.csv', dtype={'STATE':str,'COUNTY':str})\n",
    "CO_pInventory_True = CO_pInventory.loc[CO_pInventory['DATA_PRESENT']==True]\n",
    "CO_pInventory_False = CO_pInventory.loc[CO_pInventory['DATA_PRESENT']==False]\n",
    "CO_pInventory_False.to_csv(os.path.join(CO_path,'missingParcelData.csv')) # need to get this to work\n",
    "fipsList = CO_pInventory_True['COUNTY'].tolist()   \n",
    "parcelsPaths = [os.path.join(CO_path,fips) for fips in fipsList]"
   ]
  },
  {
   "cell_type": "code",
   "execution_count": 105,
   "metadata": {},
   "outputs": [],
   "source": [
    "co_22_dir = r'C:\\Users\\phwh9568\\Data\\ParcelAtlas\\CO_2022'\n",
    "unionDF = pd.DataFrame()\n",
    "joinDF = pd.DataFrame()\n",
    "for path in parcelsPaths:\n",
    "    fips = path.split('\\\\')[-1]\n",
    "    if os.path.exists(os.path.join(path,fips+'double20.gpkg')):\n",
    "        union = gpd.read_file(os.path.join(path, fips+'double20.gpkg'),layer='MH_parc_blk_union')\n",
    "        unionDF = pd.concat([unionDF,union])\n",
    "        join = gpd.read_file(os.path.join(path, fips+'double20.gpkg'),layer='MH_parcels')\n",
    "        joinDF = pd.concat([joinDF,join])        \n",
    "unionDF.to_file(os.path.join(co_22_dir,'Colorado_Final_double20.gpkg'),layer='Colorado_Final_union')\n",
    "#joinDF['polyLen_3'] = joinDF.apply(lambda row: geomLen(row.geometry), axis=1)\n",
    "#joinDF['geomZscore_3'] = np.abs(stats.zscore(joinDF['polyLen2']))\n",
    "joinDF.to_file(os.path.join(co_22_dir, 'Colorado_Final_double20.gpkg'),layer='Colorado_Final_MH_parcels')"
   ]
  },
  {
   "cell_type": "code",
   "execution_count": 9,
   "metadata": {},
   "outputs": [],
   "source": [
    "co_22_dir = r'C:\\Users\\phwh9568\\Data\\ParcelAtlas\\CO_2022'\n",
    "final_near_join = gpd.read_file(os.path.join(co_22_dir, 'Colorado_Final_multi100_less5.gpkg'), layer='Colorado_Final_MH_parcels')\n",
    "final_near_join.to_csv(os.path.join(co_22_dir, 'Colorado_Final_multi100_less5_parcels.csv'))"
   ]
  },
  {
   "cell_type": "markdown",
   "metadata": {},
   "source": [
    "Blow up old ones"
   ]
  },
  {
   "cell_type": "code",
   "execution_count": 4,
   "metadata": {},
   "outputs": [],
   "source": [
    "for fips, path in zip(fipsList,parcelsPaths):\n",
    "    if os.path.exists(os.path.join(path,fips+'multi100_less5.gpkg')):\n",
    "        os.remove((os.path.join(path,fips+'multi100_less5.gpkg')))"
   ]
  },
  {
   "cell_type": "markdown",
   "metadata": {},
   "source": [
    "Getting non-matched mhps:"
   ]
  },
  {
   "cell_type": "code",
   "execution_count": 8,
   "metadata": {},
   "outputs": [],
   "source": [
    "mhp_path = os.path.join(co_22_dir,'08_MHPS_OG.gpkg')\n",
    "mhps = gpd.read_file(mhp_path,layer='08_MHPs_Prepped_OG')\n",
    "MHparcel_path = os.path.join(co_22_dir,'Colorado_Final_multi100_less5.gpkg')\n",
    "MHparcels = gpd.read_file(MHparcel_path, layer='Colorado_Final_MH_parcels')\n",
    "mhps_merge = pd.merge(mhps,MHparcels, on = 'MHPID', how='outer')\n",
    "mhps_nonmatched = mhps_merge.loc[mhps_merge['geometry_y']==None].copy()\n",
    "mhps_nonmatched.drop(mhps_nonmatched.filter(regex='_y$').columns, axis=1, inplace=True)\n",
    "renames_x = mhps_nonmatched.filter(regex='_x$').columns\n",
    "renames = [x.split('_x')[0] for x in renames_x]\n",
    "renames = dict(zip(renames_x,renames))\n",
    "mhps_nonmatched.rename(renames, axis='columns',inplace=True)\n",
    "drop_cols = mhps_nonmatched.columns[11:]\n",
    "mhps_nonmatched.drop(drop_cols,axis=1,inplace=True)\n",
    "mhps_nonmatched.to_file(mhp_path,layer='08_mhps_non_matched_multi100_less5')"
   ]
  },
  {
   "cell_type": "markdown",
   "metadata": {},
   "source": [
    "Building Area stuff:"
   ]
  },
  {
   "cell_type": "code",
   "execution_count": 4,
   "metadata": {},
   "outputs": [],
   "source": [
    "#OG building aggregator:\n",
    "def sumWithin(df1,df2):\n",
    "    dfsjoin = gpd.sjoin(df1,df2,predicate='contains')\n",
    "    dfpivot = pd.pivot_table(dfsjoin,index=['ID','APN'], aggfunc={'FID':len}).reset_index()\n",
    "    dfpolynew = df1.merge(dfpivot, how='left', on='ID')\n",
    "    dfpolynew.rename({'APN_x':'APN', 'FID': 'Sum_Within'}, axis='columns',inplace=True)\n",
    "    dfpolynew['Sum_Within'].fillna(0, inplace=True)\n",
    "    dfpolynew.drop(['ID','APN_y'], axis=1, inplace=True)\n",
    "    return dfpolynew"
   ]
  },
  {
   "cell_type": "code",
   "execution_count": 12,
   "metadata": {},
   "outputs": [],
   "source": [
    "co_22_dir = r'C:\\Users\\phwh9568\\Data\\ParcelAtlas\\CO_2022'\n",
    "county_dir = os.path.join(co_22_dir,'counties')\n",
    "adams_dir = os.path.join(county_dir,'08001')"
   ]
  },
  {
   "cell_type": "code",
   "execution_count": 41,
   "metadata": {},
   "outputs": [
    {
     "name": "stderr",
     "output_type": "stream",
     "text": [
      "c:\\Users\\phwh9568\\AppData\\Local\\Continuum\\anaconda3\\envs\\geo_env\\Lib\\site-packages\\pyogrio\\raw.py:194: RuntimeWarning: C:\\Users\\phwh9568\\Data\\ParcelAtlas\\CO_2022\\counties\\08001\\parcels.shp contains polygon(s) with rings with invalid winding order. Autocorrecting them, but that shapefile should be corrected using ogr2ogr for example.\n",
      "  result = ogr_read(\n"
     ]
    }
   ],
   "source": [
    "adams = gpd.read_file(os.path.join(adams_dir,'parcels.shp')).to_crs(crs='ESRI:102003')\n",
    "adamsBuildings = gpd.read_file(os.path.join(adams_dir,'08001_buildings.shp')).to_crs(crs='ESRI:102003')"
   ]
  },
  {
   "cell_type": "code",
   "execution_count": 42,
   "metadata": {},
   "outputs": [],
   "source": [
    "adams['ID'] = adams.index\n",
    "adamsBuildings['areas'] = adamsBuildings['geometry'].area"
   ]
  },
  {
   "cell_type": "code",
   "execution_count": 43,
   "metadata": {},
   "outputs": [],
   "source": [
    "dfsjoin = gpd.sjoin(adams,adamsBuildings,predicate='contains')"
   ]
  },
  {
   "cell_type": "code",
   "execution_count": 16,
   "metadata": {},
   "outputs": [
    {
     "data": {
      "text/plain": [
       "Index(['APN', 'APN2', 'STATE', 'COUNTY', 'FIPS', 'SIT_HSE_NU', 'SIT_DIR',\n",
       "       'SIT_STR_NA', 'SIT_STR_SF', 'SIT_FULL_S', 'SIT_CITY', 'SIT_STATE',\n",
       "       'SIT_ZIP', 'SIT_ZIP4', 'LAND_VALUE', 'IMPR_VALUE', 'TOT_VALUE',\n",
       "       'ASSMT_YEAR', 'REC_DATE', 'SALES_PRIC', 'YEAR_BUILT', 'STD_LAND_U',\n",
       "       'LOT_SIZE', 'BLDG_AREA', 'DEED_DSCR', 'NO_OF_STOR', 'NO_OF_UNIT',\n",
       "       'BEDROOMS', 'BATHROOMS', 'OWNER', 'OWNER2', 'OWNADDRESS', 'OWNADDRES2',\n",
       "       'OWNCTYSTZP', 'XCOORD', 'YCOORD', 'MINX', 'MINY', 'MAXX', 'MAXY',\n",
       "       'VERSION', 'QUANTARIUM', 'ATTDATE', 'geomCalc', 'geometry',\n",
       "       'index_right', 'FID', 'County', 'areas'],\n",
       "      dtype='object')"
      ]
     },
     "execution_count": 16,
     "metadata": {},
     "output_type": "execute_result"
    }
   ],
   "source": [
    "dfsjoin.columns"
   ]
  },
  {
   "cell_type": "code",
   "execution_count": 20,
   "metadata": {},
   "outputs": [
    {
     "data": {
      "text/html": [
       "<div>\n",
       "<style scoped>\n",
       "    .dataframe tbody tr th:only-of-type {\n",
       "        vertical-align: middle;\n",
       "    }\n",
       "\n",
       "    .dataframe tbody tr th {\n",
       "        vertical-align: top;\n",
       "    }\n",
       "\n",
       "    .dataframe thead th {\n",
       "        text-align: right;\n",
       "    }\n",
       "</style>\n",
       "<table border=\"1\" class=\"dataframe\">\n",
       "  <thead>\n",
       "    <tr style=\"text-align: right;\">\n",
       "      <th></th>\n",
       "      <th>APN</th>\n",
       "      <th>APN2</th>\n",
       "      <th>STATE</th>\n",
       "      <th>COUNTY</th>\n",
       "      <th>FIPS</th>\n",
       "      <th>SIT_HSE_NU</th>\n",
       "      <th>SIT_DIR</th>\n",
       "      <th>SIT_STR_NA</th>\n",
       "      <th>SIT_STR_SF</th>\n",
       "      <th>SIT_FULL_S</th>\n",
       "      <th>...</th>\n",
       "      <th>MAXY</th>\n",
       "      <th>VERSION</th>\n",
       "      <th>QUANTARIUM</th>\n",
       "      <th>ATTDATE</th>\n",
       "      <th>geomCalc</th>\n",
       "      <th>geometry</th>\n",
       "      <th>index_right</th>\n",
       "      <th>FID</th>\n",
       "      <th>County</th>\n",
       "      <th>areas</th>\n",
       "    </tr>\n",
       "  </thead>\n",
       "  <tbody>\n",
       "    <tr>\n",
       "      <th>4</th>\n",
       "      <td>155700000006</td>\n",
       "      <td>5</td>\n",
       "      <td>CO</td>\n",
       "      <td>Adams</td>\n",
       "      <td>08001</td>\n",
       "      <td>16704</td>\n",
       "      <td>None</td>\n",
       "      <td>MIMOSA MILE</td>\n",
       "      <td>RD</td>\n",
       "      <td>16704 MIMOSA MILE RD</td>\n",
       "      <td>...</td>\n",
       "      <td>40.000949</td>\n",
       "      <td>12/20/2016</td>\n",
       "      <td>22098024</td>\n",
       "      <td>20211030</td>\n",
       "      <td>187514.4901</td>\n",
       "      <td>POLYGON ((-680680.353 308693.941, -681061.940 ...</td>\n",
       "      <td>2826</td>\n",
       "      <td>39041</td>\n",
       "      <td>Adams County</td>\n",
       "      <td>218.498917</td>\n",
       "    </tr>\n",
       "    <tr>\n",
       "      <th>4</th>\n",
       "      <td>155700000006</td>\n",
       "      <td>5</td>\n",
       "      <td>CO</td>\n",
       "      <td>Adams</td>\n",
       "      <td>08001</td>\n",
       "      <td>16704</td>\n",
       "      <td>None</td>\n",
       "      <td>MIMOSA MILE</td>\n",
       "      <td>RD</td>\n",
       "      <td>16704 MIMOSA MILE RD</td>\n",
       "      <td>...</td>\n",
       "      <td>40.000949</td>\n",
       "      <td>12/20/2016</td>\n",
       "      <td>22098024</td>\n",
       "      <td>20211030</td>\n",
       "      <td>187514.4901</td>\n",
       "      <td>POLYGON ((-680680.353 308693.941, -681061.940 ...</td>\n",
       "      <td>68639</td>\n",
       "      <td>979882</td>\n",
       "      <td>Adams County</td>\n",
       "      <td>106.532539</td>\n",
       "    </tr>\n",
       "  </tbody>\n",
       "</table>\n",
       "<p>2 rows × 49 columns</p>\n",
       "</div>"
      ],
      "text/plain": [
       "            APN APN2 STATE COUNTY   FIPS SIT_HSE_NU SIT_DIR   SIT_STR_NA  \\\n",
       "4  155700000006    5    CO  Adams  08001      16704    None  MIMOSA MILE   \n",
       "4  155700000006    5    CO  Adams  08001      16704    None  MIMOSA MILE   \n",
       "\n",
       "  SIT_STR_SF            SIT_FULL_S  ...       MAXY     VERSION QUANTARIUM  \\\n",
       "4         RD  16704 MIMOSA MILE RD  ...  40.000949  12/20/2016   22098024   \n",
       "4         RD  16704 MIMOSA MILE RD  ...  40.000949  12/20/2016   22098024   \n",
       "\n",
       "    ATTDATE     geomCalc                                           geometry  \\\n",
       "4  20211030  187514.4901  POLYGON ((-680680.353 308693.941, -681061.940 ...   \n",
       "4  20211030  187514.4901  POLYGON ((-680680.353 308693.941, -681061.940 ...   \n",
       "\n",
       "   index_right     FID        County       areas  \n",
       "4         2826   39041  Adams County  218.498917  \n",
       "4        68639  979882  Adams County  106.532539  \n",
       "\n",
       "[2 rows x 49 columns]"
      ]
     },
     "execution_count": 20,
     "metadata": {},
     "output_type": "execute_result"
    }
   ],
   "source": [
    "dfsjoin.iloc[0:2]"
   ]
  },
  {
   "cell_type": "code",
   "execution_count": 44,
   "metadata": {},
   "outputs": [],
   "source": [
    "dfpivot = pd.pivot_table(dfsjoin,index=['ID','APN'], aggfunc={'FID':len, 'areas':'mean'}).reset_index()"
   ]
  },
  {
   "cell_type": "code",
   "execution_count": 46,
   "metadata": {},
   "outputs": [],
   "source": [
    "dfpolynew = adams.merge(dfpivot, how='left',on='ID')"
   ]
  },
  {
   "cell_type": "code",
   "execution_count": 48,
   "metadata": {},
   "outputs": [],
   "source": [
    "dfpolynew.rename({'APN_x':'APN', 'FID': 'Sum_Within', 'areas':'mnBlgArea'}, axis='columns',inplace=True)"
   ]
  },
  {
   "cell_type": "code",
   "execution_count": 54,
   "metadata": {},
   "outputs": [
    {
     "data": {
      "text/plain": [
       "<module 'parcelfunks' from 'c:\\\\Users\\\\phwh9568\\\\Data\\\\ParcelAtlas\\\\CO_2022\\\\parcelfunks.py'>"
      ]
     },
     "execution_count": 54,
     "metadata": {},
     "output_type": "execute_result"
    }
   ],
   "source": [
    "importlib.reload(parcelfunks)"
   ]
  },
  {
   "cell_type": "code",
   "execution_count": 55,
   "metadata": {},
   "outputs": [],
   "source": [
    "adamsParcBlds = parcelfunks.sumWithin(adams,adamsBuildings)"
   ]
  },
  {
   "cell_type": "code",
   "execution_count": 56,
   "metadata": {},
   "outputs": [
    {
     "data": {
      "text/html": [
       "<div>\n",
       "<style scoped>\n",
       "    .dataframe tbody tr th:only-of-type {\n",
       "        vertical-align: middle;\n",
       "    }\n",
       "\n",
       "    .dataframe tbody tr th {\n",
       "        vertical-align: top;\n",
       "    }\n",
       "\n",
       "    .dataframe thead th {\n",
       "        text-align: right;\n",
       "    }\n",
       "</style>\n",
       "<table border=\"1\" class=\"dataframe\">\n",
       "  <thead>\n",
       "    <tr style=\"text-align: right;\">\n",
       "      <th></th>\n",
       "      <th>APN</th>\n",
       "      <th>APN2</th>\n",
       "      <th>STATE</th>\n",
       "      <th>COUNTY</th>\n",
       "      <th>FIPS</th>\n",
       "      <th>SIT_HSE_NU</th>\n",
       "      <th>SIT_DIR</th>\n",
       "      <th>SIT_STR_NA</th>\n",
       "      <th>SIT_STR_SF</th>\n",
       "      <th>SIT_FULL_S</th>\n",
       "      <th>...</th>\n",
       "      <th>MINY</th>\n",
       "      <th>MAXX</th>\n",
       "      <th>MAXY</th>\n",
       "      <th>VERSION</th>\n",
       "      <th>QUANTARIUM</th>\n",
       "      <th>ATTDATE</th>\n",
       "      <th>geomCalc</th>\n",
       "      <th>geometry</th>\n",
       "      <th>Sum_Within</th>\n",
       "      <th>mnBlgArea</th>\n",
       "    </tr>\n",
       "  </thead>\n",
       "  <tbody>\n",
       "    <tr>\n",
       "      <th>0</th>\n",
       "      <td>155700000045</td>\n",
       "      <td>1</td>\n",
       "      <td>CO</td>\n",
       "      <td>Adams</td>\n",
       "      <td>08001</td>\n",
       "      <td>None</td>\n",
       "      <td>None</td>\n",
       "      <td>None</td>\n",
       "      <td>None</td>\n",
       "      <td>None</td>\n",
       "      <td>...</td>\n",
       "      <td>39.978658</td>\n",
       "      <td>-104.057487</td>\n",
       "      <td>39.985909</td>\n",
       "      <td>12/20/2016</td>\n",
       "      <td>None</td>\n",
       "      <td>20211030</td>\n",
       "      <td>630151.6230</td>\n",
       "      <td>POLYGON ((-681231.654 306696.813, -681999.276 ...</td>\n",
       "      <td>0.0</td>\n",
       "      <td>0.000000</td>\n",
       "    </tr>\n",
       "    <tr>\n",
       "      <th>1</th>\n",
       "      <td>155700000007</td>\n",
       "      <td>2</td>\n",
       "      <td>CO</td>\n",
       "      <td>Adams</td>\n",
       "      <td>08001</td>\n",
       "      <td>None</td>\n",
       "      <td>None</td>\n",
       "      <td>None</td>\n",
       "      <td>None</td>\n",
       "      <td>None</td>\n",
       "      <td>...</td>\n",
       "      <td>39.996597</td>\n",
       "      <td>-104.057978</td>\n",
       "      <td>40.001045</td>\n",
       "      <td>12/20/2016</td>\n",
       "      <td>None</td>\n",
       "      <td>20211030</td>\n",
       "      <td>384020.4328</td>\n",
       "      <td>POLYGON ((-681449.948 309232.732, -681450.962 ...</td>\n",
       "      <td>0.0</td>\n",
       "      <td>0.000000</td>\n",
       "    </tr>\n",
       "    <tr>\n",
       "      <th>2</th>\n",
       "      <td>155700000150</td>\n",
       "      <td>3</td>\n",
       "      <td>CO</td>\n",
       "      <td>Adams</td>\n",
       "      <td>08001</td>\n",
       "      <td>None</td>\n",
       "      <td>None</td>\n",
       "      <td>None</td>\n",
       "      <td>None</td>\n",
       "      <td>None</td>\n",
       "      <td>...</td>\n",
       "      <td>39.993095</td>\n",
       "      <td>-104.038983</td>\n",
       "      <td>39.997066</td>\n",
       "      <td>12/20/2016</td>\n",
       "      <td>None</td>\n",
       "      <td>20211030</td>\n",
       "      <td>669224.3293</td>\n",
       "      <td>POLYGON ((-679532.942 308190.972, -680326.252 ...</td>\n",
       "      <td>0.0</td>\n",
       "      <td>0.000000</td>\n",
       "    </tr>\n",
       "    <tr>\n",
       "      <th>3</th>\n",
       "      <td>155700000149</td>\n",
       "      <td>4</td>\n",
       "      <td>CO</td>\n",
       "      <td>Adams</td>\n",
       "      <td>08001</td>\n",
       "      <td>None</td>\n",
       "      <td>None</td>\n",
       "      <td>None</td>\n",
       "      <td>None</td>\n",
       "      <td>None</td>\n",
       "      <td>...</td>\n",
       "      <td>39.996835</td>\n",
       "      <td>-104.039052</td>\n",
       "      <td>40.000994</td>\n",
       "      <td>12/20/2016</td>\n",
       "      <td>None</td>\n",
       "      <td>20211030</td>\n",
       "      <td>532267.7586</td>\n",
       "      <td>POLYGON ((-680646.427 309153.695, -680646.245 ...</td>\n",
       "      <td>0.0</td>\n",
       "      <td>0.000000</td>\n",
       "    </tr>\n",
       "    <tr>\n",
       "      <th>4</th>\n",
       "      <td>155700000006</td>\n",
       "      <td>5</td>\n",
       "      <td>CO</td>\n",
       "      <td>Adams</td>\n",
       "      <td>08001</td>\n",
       "      <td>16704</td>\n",
       "      <td>None</td>\n",
       "      <td>MIMOSA MILE</td>\n",
       "      <td>RD</td>\n",
       "      <td>16704 MIMOSA MILE RD</td>\n",
       "      <td>...</td>\n",
       "      <td>39.996766</td>\n",
       "      <td>-104.052995</td>\n",
       "      <td>40.000949</td>\n",
       "      <td>12/20/2016</td>\n",
       "      <td>22098024</td>\n",
       "      <td>20211030</td>\n",
       "      <td>187514.4901</td>\n",
       "      <td>POLYGON ((-680680.353 308693.941, -681061.940 ...</td>\n",
       "      <td>2.0</td>\n",
       "      <td>162.515728</td>\n",
       "    </tr>\n",
       "    <tr>\n",
       "      <th>...</th>\n",
       "      <td>...</td>\n",
       "      <td>...</td>\n",
       "      <td>...</td>\n",
       "      <td>...</td>\n",
       "      <td>...</td>\n",
       "      <td>...</td>\n",
       "      <td>...</td>\n",
       "      <td>...</td>\n",
       "      <td>...</td>\n",
       "      <td>...</td>\n",
       "      <td>...</td>\n",
       "      <td>...</td>\n",
       "      <td>...</td>\n",
       "      <td>...</td>\n",
       "      <td>...</td>\n",
       "      <td>...</td>\n",
       "      <td>...</td>\n",
       "      <td>...</td>\n",
       "      <td>...</td>\n",
       "      <td>...</td>\n",
       "      <td>...</td>\n",
       "    </tr>\n",
       "    <tr>\n",
       "      <th>118833</th>\n",
       "      <td>181333111009</td>\n",
       "      <td>166570</td>\n",
       "      <td>CO</td>\n",
       "      <td>Adams</td>\n",
       "      <td>08001</td>\n",
       "      <td>None</td>\n",
       "      <td>None</td>\n",
       "      <td>None</td>\n",
       "      <td>None</td>\n",
       "      <td>166570 2315 TROUT RD</td>\n",
       "      <td>...</td>\n",
       "      <td>39.749104</td>\n",
       "      <td>-104.330119</td>\n",
       "      <td>39.749356</td>\n",
       "      <td>12/20/2016</td>\n",
       "      <td>None</td>\n",
       "      <td>20211030</td>\n",
       "      <td>977.4080</td>\n",
       "      <td>POLYGON ((-706475.383 283060.727, -706510.315 ...</td>\n",
       "      <td>0.0</td>\n",
       "      <td>0.000000</td>\n",
       "    </tr>\n",
       "    <tr>\n",
       "      <th>118834</th>\n",
       "      <td>182504302022</td>\n",
       "      <td>166571</td>\n",
       "      <td>CO</td>\n",
       "      <td>Adams</td>\n",
       "      <td>08001</td>\n",
       "      <td>None</td>\n",
       "      <td>None</td>\n",
       "      <td>None</td>\n",
       "      <td>None</td>\n",
       "      <td>166571 2125 W 64TH AVE</td>\n",
       "      <td>...</td>\n",
       "      <td>39.812962</td>\n",
       "      <td>-105.010913</td>\n",
       "      <td>39.813580</td>\n",
       "      <td>12/20/2016</td>\n",
       "      <td>None</td>\n",
       "      <td>20211030</td>\n",
       "      <td>5394.8983</td>\n",
       "      <td>POLYGON ((-763401.996 295518.311, -763365.602 ...</td>\n",
       "      <td>0.0</td>\n",
       "      <td>0.000000</td>\n",
       "    </tr>\n",
       "    <tr>\n",
       "      <th>118835</th>\n",
       "      <td>182504302021</td>\n",
       "      <td>166572</td>\n",
       "      <td>CO</td>\n",
       "      <td>Adams</td>\n",
       "      <td>08001</td>\n",
       "      <td>None</td>\n",
       "      <td>None</td>\n",
       "      <td>None</td>\n",
       "      <td>None</td>\n",
       "      <td>166572 2075 W 64TH AVE</td>\n",
       "      <td>...</td>\n",
       "      <td>39.812963</td>\n",
       "      <td>-105.011479</td>\n",
       "      <td>39.815228</td>\n",
       "      <td>12/20/2016</td>\n",
       "      <td>22244250</td>\n",
       "      <td>20211030</td>\n",
       "      <td>40742.1354</td>\n",
       "      <td>POLYGON ((-763622.608 295727.276, -763483.233 ...</td>\n",
       "      <td>0.0</td>\n",
       "      <td>0.000000</td>\n",
       "    </tr>\n",
       "    <tr>\n",
       "      <th>118836</th>\n",
       "      <td>182504302020</td>\n",
       "      <td>166573</td>\n",
       "      <td>CO</td>\n",
       "      <td>Adams</td>\n",
       "      <td>08001</td>\n",
       "      <td>None</td>\n",
       "      <td>None</td>\n",
       "      <td>None</td>\n",
       "      <td>None</td>\n",
       "      <td>166573 2175 W 64TH AVE</td>\n",
       "      <td>...</td>\n",
       "      <td>39.813529</td>\n",
       "      <td>-105.009931</td>\n",
       "      <td>39.815120</td>\n",
       "      <td>12/20/2016</td>\n",
       "      <td>None</td>\n",
       "      <td>20211030</td>\n",
       "      <td>21055.6189</td>\n",
       "      <td>POLYGON ((-763366.706 295686.630, -763315.925 ...</td>\n",
       "      <td>0.0</td>\n",
       "      <td>0.000000</td>\n",
       "    </tr>\n",
       "    <tr>\n",
       "      <th>118837</th>\n",
       "      <td>181933401001</td>\n",
       "      <td>166574</td>\n",
       "      <td>CO</td>\n",
       "      <td>Adams</td>\n",
       "      <td>08001</td>\n",
       "      <td>None</td>\n",
       "      <td>None</td>\n",
       "      <td>None</td>\n",
       "      <td>None</td>\n",
       "      <td>166574</td>\n",
       "      <td>...</td>\n",
       "      <td>39.743651</td>\n",
       "      <td>-104.659704</td>\n",
       "      <td>39.749108</td>\n",
       "      <td>12/20/2016</td>\n",
       "      <td>None</td>\n",
       "      <td>20211030</td>\n",
       "      <td>234074.7664</td>\n",
       "      <td>POLYGON ((-734351.803 285555.492, -734371.119 ...</td>\n",
       "      <td>0.0</td>\n",
       "      <td>0.000000</td>\n",
       "    </tr>\n",
       "  </tbody>\n",
       "</table>\n",
       "<p>118838 rows × 47 columns</p>\n",
       "</div>"
      ],
      "text/plain": [
       "                 APN    APN2 STATE COUNTY   FIPS SIT_HSE_NU SIT_DIR  \\\n",
       "0       155700000045       1    CO  Adams  08001       None    None   \n",
       "1       155700000007       2    CO  Adams  08001       None    None   \n",
       "2       155700000150       3    CO  Adams  08001       None    None   \n",
       "3       155700000149       4    CO  Adams  08001       None    None   \n",
       "4       155700000006       5    CO  Adams  08001      16704    None   \n",
       "...              ...     ...   ...    ...    ...        ...     ...   \n",
       "118833  181333111009  166570    CO  Adams  08001       None    None   \n",
       "118834  182504302022  166571    CO  Adams  08001       None    None   \n",
       "118835  182504302021  166572    CO  Adams  08001       None    None   \n",
       "118836  182504302020  166573    CO  Adams  08001       None    None   \n",
       "118837  181933401001  166574    CO  Adams  08001       None    None   \n",
       "\n",
       "         SIT_STR_NA SIT_STR_SF              SIT_FULL_S  ...       MINY  \\\n",
       "0              None       None                    None  ...  39.978658   \n",
       "1              None       None                    None  ...  39.996597   \n",
       "2              None       None                    None  ...  39.993095   \n",
       "3              None       None                    None  ...  39.996835   \n",
       "4       MIMOSA MILE         RD    16704 MIMOSA MILE RD  ...  39.996766   \n",
       "...             ...        ...                     ...  ...        ...   \n",
       "118833         None       None    166570 2315 TROUT RD  ...  39.749104   \n",
       "118834         None       None  166571 2125 W 64TH AVE  ...  39.812962   \n",
       "118835         None       None  166572 2075 W 64TH AVE  ...  39.812963   \n",
       "118836         None       None  166573 2175 W 64TH AVE  ...  39.813529   \n",
       "118837         None       None                  166574  ...  39.743651   \n",
       "\n",
       "              MAXX       MAXY     VERSION  QUANTARIUM   ATTDATE     geomCalc  \\\n",
       "0      -104.057487  39.985909  12/20/2016        None  20211030  630151.6230   \n",
       "1      -104.057978  40.001045  12/20/2016        None  20211030  384020.4328   \n",
       "2      -104.038983  39.997066  12/20/2016        None  20211030  669224.3293   \n",
       "3      -104.039052  40.000994  12/20/2016        None  20211030  532267.7586   \n",
       "4      -104.052995  40.000949  12/20/2016    22098024  20211030  187514.4901   \n",
       "...            ...        ...         ...         ...       ...          ...   \n",
       "118833 -104.330119  39.749356  12/20/2016        None  20211030     977.4080   \n",
       "118834 -105.010913  39.813580  12/20/2016        None  20211030    5394.8983   \n",
       "118835 -105.011479  39.815228  12/20/2016    22244250  20211030   40742.1354   \n",
       "118836 -105.009931  39.815120  12/20/2016        None  20211030   21055.6189   \n",
       "118837 -104.659704  39.749108  12/20/2016        None  20211030  234074.7664   \n",
       "\n",
       "                                                 geometry Sum_Within  \\\n",
       "0       POLYGON ((-681231.654 306696.813, -681999.276 ...        0.0   \n",
       "1       POLYGON ((-681449.948 309232.732, -681450.962 ...        0.0   \n",
       "2       POLYGON ((-679532.942 308190.972, -680326.252 ...        0.0   \n",
       "3       POLYGON ((-680646.427 309153.695, -680646.245 ...        0.0   \n",
       "4       POLYGON ((-680680.353 308693.941, -681061.940 ...        2.0   \n",
       "...                                                   ...        ...   \n",
       "118833  POLYGON ((-706475.383 283060.727, -706510.315 ...        0.0   \n",
       "118834  POLYGON ((-763401.996 295518.311, -763365.602 ...        0.0   \n",
       "118835  POLYGON ((-763622.608 295727.276, -763483.233 ...        0.0   \n",
       "118836  POLYGON ((-763366.706 295686.630, -763315.925 ...        0.0   \n",
       "118837  POLYGON ((-734351.803 285555.492, -734371.119 ...        0.0   \n",
       "\n",
       "         mnBlgArea  \n",
       "0         0.000000  \n",
       "1         0.000000  \n",
       "2         0.000000  \n",
       "3         0.000000  \n",
       "4       162.515728  \n",
       "...            ...  \n",
       "118833    0.000000  \n",
       "118834    0.000000  \n",
       "118835    0.000000  \n",
       "118836    0.000000  \n",
       "118837    0.000000  \n",
       "\n",
       "[118838 rows x 47 columns]"
      ]
     },
     "execution_count": 56,
     "metadata": {},
     "output_type": "execute_result"
    }
   ],
   "source": [
    "adamsParcBlds"
   ]
  },
  {
   "cell_type": "code",
   "execution_count": 78,
   "metadata": {},
   "outputs": [
    {
     "data": {
      "text/plain": [
       "<module 'parcelfunks' from 'c:\\\\Users\\\\phwh9568\\\\Data\\\\ParcelAtlas\\\\CO_2022\\\\parcelfunks.py'>"
      ]
     },
     "execution_count": 78,
     "metadata": {},
     "output_type": "execute_result"
    }
   ],
   "source": [
    "importlib.reload(parcelfunks)"
   ]
  },
  {
   "cell_type": "code",
   "execution_count": 79,
   "metadata": {},
   "outputs": [
    {
     "data": {
      "text/plain": [
       "'C:\\\\Users\\\\phwh9568\\\\Data\\\\ParcelAtlas\\\\CO_2022\\\\counties\\\\08001'"
      ]
     },
     "execution_count": 79,
     "metadata": {},
     "output_type": "execute_result"
    }
   ],
   "source": [
    "adams_dir"
   ]
  },
  {
   "cell_type": "code",
   "execution_count": 80,
   "metadata": {},
   "outputs": [
    {
     "name": "stderr",
     "output_type": "stream",
     "text": [
      "c:\\Users\\phwh9568\\AppData\\Local\\Continuum\\anaconda3\\envs\\geo_env\\Lib\\site-packages\\pyogrio\\raw.py:194: RuntimeWarning: C:\\Users\\phwh9568\\Data\\ParcelAtlas\\CO_2022\\counties\\08001\\parcels.shp contains polygon(s) with rings with invalid winding order. Autocorrecting them, but that shapefile should be corrected using ogr2ogr for example.\n",
      "  result = ogr_read(\n"
     ]
    }
   ],
   "source": [
    "parcelfunks.parcelMHPJoin2(adams_dir)"
   ]
  },
  {
   "cell_type": "code",
   "execution_count": 16,
   "metadata": {},
   "outputs": [],
   "source": [
    "adamsResults = gpd.read_file(os.path.join(adams_dir,'08001multi100_less5.gpkg'),layer='MH_parcels')"
   ]
  },
  {
   "cell_type": "code",
   "execution_count": 31,
   "metadata": {},
   "outputs": [],
   "source": [
    "adamsResults['dup'] = adamsResults.duplicated(subset=['geometry'],keep=False)"
   ]
  },
  {
   "cell_type": "code",
   "execution_count": 54,
   "metadata": {},
   "outputs": [
    {
     "data": {
      "text/html": [
       "<div>\n",
       "<style scoped>\n",
       "    .dataframe tbody tr th:only-of-type {\n",
       "        vertical-align: middle;\n",
       "    }\n",
       "\n",
       "    .dataframe tbody tr th {\n",
       "        vertical-align: top;\n",
       "    }\n",
       "\n",
       "    .dataframe thead th {\n",
       "        text-align: right;\n",
       "    }\n",
       "</style>\n",
       "<table border=\"1\" class=\"dataframe\">\n",
       "  <thead>\n",
       "    <tr style=\"text-align: right;\">\n",
       "      <th></th>\n",
       "      <th>APN</th>\n",
       "      <th>APN2</th>\n",
       "      <th>Sum_Within</th>\n",
       "      <th>mnBlgArea</th>\n",
       "      <th>intLen</th>\n",
       "      <th>intZscore</th>\n",
       "      <th>extLen1</th>\n",
       "      <th>extZscore1</th>\n",
       "      <th>MHPID</th>\n",
       "      <th>MH_NAME</th>\n",
       "      <th>...</th>\n",
       "      <th>MH_CITY</th>\n",
       "      <th>MH_STATE</th>\n",
       "      <th>MH_ZIP</th>\n",
       "      <th>MH_STATUS</th>\n",
       "      <th>MH_COUNTY_FIPS</th>\n",
       "      <th>MH_LATITUDE</th>\n",
       "      <th>MH_LONGITUDE</th>\n",
       "      <th>distances</th>\n",
       "      <th>geometry</th>\n",
       "      <th>dup</th>\n",
       "    </tr>\n",
       "  </thead>\n",
       "  <tbody>\n",
       "    <tr>\n",
       "      <th>28</th>\n",
       "      <td>172118000028</td>\n",
       "      <td>108665</td>\n",
       "      <td>258.0</td>\n",
       "      <td>127.128101</td>\n",
       "      <td>0</td>\n",
       "      <td>0.02231</td>\n",
       "      <td>16</td>\n",
       "      <td>2.002476</td>\n",
       "      <td>38269.0</td>\n",
       "      <td>NOT AVAILABLE</td>\n",
       "      <td>...</td>\n",
       "      <td>THORNTON</td>\n",
       "      <td>CO</td>\n",
       "      <td>80229</td>\n",
       "      <td>OPEN</td>\n",
       "      <td>08001</td>\n",
       "      <td>39.877693</td>\n",
       "      <td>-104.932114</td>\n",
       "      <td>0.0</td>\n",
       "      <td>MULTIPOLYGON (((-755979.854 302035.048, -75599...</td>\n",
       "      <td>True</td>\n",
       "    </tr>\n",
       "    <tr>\n",
       "      <th>30</th>\n",
       "      <td>172118000028</td>\n",
       "      <td>108665</td>\n",
       "      <td>258.0</td>\n",
       "      <td>127.128101</td>\n",
       "      <td>0</td>\n",
       "      <td>0.02231</td>\n",
       "      <td>16</td>\n",
       "      <td>2.002476</td>\n",
       "      <td>38270.0</td>\n",
       "      <td>NOT AVAILABLE</td>\n",
       "      <td>...</td>\n",
       "      <td>THORNTON</td>\n",
       "      <td>CO</td>\n",
       "      <td>80229</td>\n",
       "      <td>OPEN</td>\n",
       "      <td>08001</td>\n",
       "      <td>39.877583</td>\n",
       "      <td>-104.936093</td>\n",
       "      <td>0.0</td>\n",
       "      <td>MULTIPOLYGON (((-755979.854 302035.048, -75599...</td>\n",
       "      <td>True</td>\n",
       "    </tr>\n",
       "  </tbody>\n",
       "</table>\n",
       "<p>2 rows × 21 columns</p>\n",
       "</div>"
      ],
      "text/plain": [
       "             APN    APN2  Sum_Within   mnBlgArea  intLen  intZscore  extLen1  \\\n",
       "28  172118000028  108665       258.0  127.128101       0    0.02231       16   \n",
       "30  172118000028  108665       258.0  127.128101       0    0.02231       16   \n",
       "\n",
       "    extZscore1    MHPID        MH_NAME  ...   MH_CITY MH_STATE MH_ZIP  \\\n",
       "28    2.002476  38269.0  NOT AVAILABLE  ...  THORNTON       CO  80229   \n",
       "30    2.002476  38270.0  NOT AVAILABLE  ...  THORNTON       CO  80229   \n",
       "\n",
       "   MH_STATUS MH_COUNTY_FIPS MH_LATITUDE  MH_LONGITUDE  distances  \\\n",
       "28      OPEN          08001   39.877693   -104.932114        0.0   \n",
       "30      OPEN          08001   39.877583   -104.936093        0.0   \n",
       "\n",
       "                                             geometry   dup  \n",
       "28  MULTIPOLYGON (((-755979.854 302035.048, -75599...  True  \n",
       "30  MULTIPOLYGON (((-755979.854 302035.048, -75599...  True  \n",
       "\n",
       "[2 rows x 21 columns]"
      ]
     },
     "execution_count": 54,
     "metadata": {},
     "output_type": "execute_result"
    }
   ],
   "source": [
    "adamsResults.loc[adamsResults['dup'] == True]"
   ]
  },
  {
   "cell_type": "code",
   "execution_count": 61,
   "metadata": {},
   "outputs": [
    {
     "name": "stderr",
     "output_type": "stream",
     "text": [
      "c:\\Users\\phwh9568\\AppData\\Local\\Continuum\\anaconda3\\envs\\geo_env\\Lib\\site-packages\\pyogrio\\raw.py:194: RuntimeWarning: C:\\Users\\phwh9568\\Data\\ParcelAtlas\\CO_2022\\counties\\08013\\parcels.shp contains polygon(s) with rings with invalid winding order. Autocorrecting them, but that shapefile should be corrected using ogr2ogr for example.\n",
      "  result = ogr_read(\n"
     ]
    }
   ],
   "source": [
    "bocoPath = os.path.join(co_22_dir,county_dir,'08013')\n",
    "parcelfunks.parcelMHPJoin2(bocoPath)"
   ]
  },
  {
   "cell_type": "code",
   "execution_count": 63,
   "metadata": {},
   "outputs": [
    {
     "data": {
      "text/html": [
       "<div>\n",
       "<style scoped>\n",
       "    .dataframe tbody tr th:only-of-type {\n",
       "        vertical-align: middle;\n",
       "    }\n",
       "\n",
       "    .dataframe tbody tr th {\n",
       "        vertical-align: top;\n",
       "    }\n",
       "\n",
       "    .dataframe thead th {\n",
       "        text-align: right;\n",
       "    }\n",
       "</style>\n",
       "<table border=\"1\" class=\"dataframe\">\n",
       "  <thead>\n",
       "    <tr style=\"text-align: right;\">\n",
       "      <th></th>\n",
       "      <th>APN</th>\n",
       "      <th>APN2</th>\n",
       "      <th>Sum_Within</th>\n",
       "      <th>mnBlgArea</th>\n",
       "      <th>intLen</th>\n",
       "      <th>intZscore</th>\n",
       "      <th>extLen1</th>\n",
       "      <th>extZscore1</th>\n",
       "      <th>MHPID</th>\n",
       "      <th>MH_NAME</th>\n",
       "      <th>...</th>\n",
       "      <th>MH_CITY</th>\n",
       "      <th>MH_STATE</th>\n",
       "      <th>MH_ZIP</th>\n",
       "      <th>MH_STATUS</th>\n",
       "      <th>MH_COUNTY_FIPS</th>\n",
       "      <th>MH_LATITUDE</th>\n",
       "      <th>MH_LONGITUDE</th>\n",
       "      <th>distances</th>\n",
       "      <th>geometry</th>\n",
       "      <th>dup</th>\n",
       "    </tr>\n",
       "  </thead>\n",
       "  <tbody>\n",
       "    <tr>\n",
       "      <th>19</th>\n",
       "      <td>157502300020</td>\n",
       "      <td>219690809</td>\n",
       "      <td>39.0</td>\n",
       "      <td>65.308106</td>\n",
       "      <td>0</td>\n",
       "      <td>0.04432</td>\n",
       "      <td>7</td>\n",
       "      <td>0.003392</td>\n",
       "      <td>38249.0</td>\n",
       "      <td>NOT AVAILABLE</td>\n",
       "      <td>...</td>\n",
       "      <td>LAFAYETTE</td>\n",
       "      <td>CO</td>\n",
       "      <td>80026</td>\n",
       "      <td>OPEN</td>\n",
       "      <td>08013</td>\n",
       "      <td>39.991468</td>\n",
       "      <td>-105.090219</td>\n",
       "      <td>0.0</td>\n",
       "      <td>MULTIPOLYGON (((-768052.014 315988.455, -76817...</td>\n",
       "      <td>True</td>\n",
       "    </tr>\n",
       "    <tr>\n",
       "      <th>27</th>\n",
       "      <td>157502300020</td>\n",
       "      <td>219690809</td>\n",
       "      <td>39.0</td>\n",
       "      <td>65.308106</td>\n",
       "      <td>0</td>\n",
       "      <td>0.04432</td>\n",
       "      <td>7</td>\n",
       "      <td>0.003392</td>\n",
       "      <td>38250.0</td>\n",
       "      <td>NOT AVAILABLE</td>\n",
       "      <td>...</td>\n",
       "      <td>LAFAYETTE</td>\n",
       "      <td>CO</td>\n",
       "      <td>80026</td>\n",
       "      <td>OPEN</td>\n",
       "      <td>08013</td>\n",
       "      <td>39.991449</td>\n",
       "      <td>-105.089248</td>\n",
       "      <td>0.0</td>\n",
       "      <td>MULTIPOLYGON (((-768052.014 315988.455, -76817...</td>\n",
       "      <td>True</td>\n",
       "    </tr>\n",
       "  </tbody>\n",
       "</table>\n",
       "<p>2 rows × 21 columns</p>\n",
       "</div>"
      ],
      "text/plain": [
       "             APN       APN2  Sum_Within  mnBlgArea  intLen  intZscore  \\\n",
       "19  157502300020  219690809        39.0  65.308106       0    0.04432   \n",
       "27  157502300020  219690809        39.0  65.308106       0    0.04432   \n",
       "\n",
       "    extLen1  extZscore1    MHPID        MH_NAME  ...    MH_CITY MH_STATE  \\\n",
       "19        7    0.003392  38249.0  NOT AVAILABLE  ...  LAFAYETTE       CO   \n",
       "27        7    0.003392  38250.0  NOT AVAILABLE  ...  LAFAYETTE       CO   \n",
       "\n",
       "   MH_ZIP MH_STATUS MH_COUNTY_FIPS MH_LATITUDE  MH_LONGITUDE  distances  \\\n",
       "19  80026      OPEN          08013   39.991468   -105.090219        0.0   \n",
       "27  80026      OPEN          08013   39.991449   -105.089248        0.0   \n",
       "\n",
       "                                             geometry   dup  \n",
       "19  MULTIPOLYGON (((-768052.014 315988.455, -76817...  True  \n",
       "27  MULTIPOLYGON (((-768052.014 315988.455, -76817...  True  \n",
       "\n",
       "[2 rows x 21 columns]"
      ]
     },
     "execution_count": 63,
     "metadata": {},
     "output_type": "execute_result"
    }
   ],
   "source": [
    "boResults = gpd.read_file(os.path.join(bocoPath,'08013multi100_less5.gpkg'),layer='MH_parcels')\n",
    "boResults['dup'] = boResults.duplicated(subset=['geometry'],keep=False)\n",
    "boResults.loc[boResults['dup']==True]"
   ]
  },
  {
   "cell_type": "code",
   "execution_count": 68,
   "metadata": {},
   "outputs": [
    {
     "name": "stderr",
     "output_type": "stream",
     "text": [
      "c:\\Users\\phwh9568\\AppData\\Local\\Continuum\\anaconda3\\envs\\geo_env\\Lib\\site-packages\\pyogrio\\raw.py:194: RuntimeWarning: C:\\Users\\phwh9568\\Data\\ParcelAtlas\\CO_2022\\counties\\08059\\parcels.shp contains polygon(s) with rings with invalid winding order. Autocorrecting them, but that shapefile should be corrected using ogr2ogr for example.\n",
      "  result = ogr_read(\n"
     ]
    }
   ],
   "source": [
    "jeffcoPath = os.path.join(co_22_dir,county_dir,'08059')\n",
    "parcelfunks.parcelMHPJoin2(jeffcoPath)"
   ]
  },
  {
   "cell_type": "code",
   "execution_count": 69,
   "metadata": {},
   "outputs": [],
   "source": [
    "jeffResults = gpd.read_file(os.path.join(jeffcoPath,'08059multi100_less5.gpkg'),layer='MH_parcels')"
   ]
  },
  {
   "cell_type": "code",
   "execution_count": 76,
   "metadata": {},
   "outputs": [
    {
     "data": {
      "text/html": [
       "<div>\n",
       "<style scoped>\n",
       "    .dataframe tbody tr th:only-of-type {\n",
       "        vertical-align: middle;\n",
       "    }\n",
       "\n",
       "    .dataframe tbody tr th {\n",
       "        vertical-align: top;\n",
       "    }\n",
       "\n",
       "    .dataframe thead th {\n",
       "        text-align: right;\n",
       "    }\n",
       "</style>\n",
       "<table border=\"1\" class=\"dataframe\">\n",
       "  <thead>\n",
       "    <tr style=\"text-align: right;\">\n",
       "      <th></th>\n",
       "      <th>APN</th>\n",
       "      <th>APN2</th>\n",
       "      <th>Sum_Within</th>\n",
       "      <th>mnBlgArea</th>\n",
       "      <th>intLen</th>\n",
       "      <th>intZscore</th>\n",
       "      <th>extLen1</th>\n",
       "      <th>extZscore1</th>\n",
       "      <th>MHPID</th>\n",
       "      <th>MH_NAME</th>\n",
       "      <th>...</th>\n",
       "      <th>MH_CITY</th>\n",
       "      <th>MH_STATE</th>\n",
       "      <th>MH_ZIP</th>\n",
       "      <th>MH_STATUS</th>\n",
       "      <th>MH_COUNTY_FIPS</th>\n",
       "      <th>MH_LATITUDE</th>\n",
       "      <th>MH_LONGITUDE</th>\n",
       "      <th>distances</th>\n",
       "      <th>geometry</th>\n",
       "      <th>dup</th>\n",
       "    </tr>\n",
       "  </thead>\n",
       "  <tbody>\n",
       "  </tbody>\n",
       "</table>\n",
       "<p>0 rows × 21 columns</p>\n",
       "</div>"
      ],
      "text/plain": [
       "Empty GeoDataFrame\n",
       "Columns: [APN, APN2, Sum_Within, mnBlgArea, intLen, intZscore, extLen1, extZscore1, MHPID, MH_NAME, MH_ADDRESS, MH_CITY, MH_STATE, MH_ZIP, MH_STATUS, MH_COUNTY_FIPS, MH_LATITUDE, MH_LONGITUDE, distances, geometry, dup]\n",
       "Index: []\n",
       "\n",
       "[0 rows x 21 columns]"
      ]
     },
     "execution_count": 76,
     "metadata": {},
     "output_type": "execute_result"
    }
   ],
   "source": [
    "adamsResults.loc[adamsResults['MHPID']==24842.0]"
   ]
  },
  {
   "cell_type": "code",
   "execution_count": 77,
   "metadata": {},
   "outputs": [
    {
     "ename": "NameError",
     "evalue": "name 'adams' is not defined",
     "output_type": "error",
     "traceback": [
      "\u001b[1;31m---------------------------------------------------------------------------\u001b[0m",
      "\u001b[1;31mNameError\u001b[0m                                 Traceback (most recent call last)",
      "\u001b[1;32mc:\\Users\\phwh9568\\Data\\ParcelAtlas\\CO_2022\\buildingAreas.ipynb Cell 34\u001b[0m line \u001b[0;36m1\n\u001b[1;32m----> <a href='vscode-notebook-cell:/c%3A/Users/phwh9568/Data/ParcelAtlas/CO_2022/buildingAreas.ipynb#X52sZmlsZQ%3D%3D?line=0'>1</a>\u001b[0m adams\n",
      "\u001b[1;31mNameError\u001b[0m: name 'adams' is not defined"
     ]
    }
   ],
   "source": [
    "adams"
   ]
  },
  {
   "cell_type": "code",
   "execution_count": 89,
   "metadata": {},
   "outputs": [],
   "source": [
    "def parcelMHPJoin2(pFilePath):\n",
    "    fips = pFilePath.split('\\\\')[-1]\n",
    "    mhpPath = os.path.join(pFilePath,fips+'_mhps_OG.gpkg')\n",
    "    if os.path.exists(mhpPath):\n",
    "        parcel = gpd.read_file(os.path.join(pFilePath,'parcels.shp'))\n",
    "        parcel.to_crs(crs='ESRI:102003', inplace=True)\n",
    "        parcel.drop_duplicates(subset=['geometry'], inplace=True)\n",
    "        buildings = gpd.read_file(os.path.join(pFilePath,fips+'_buildings.shp'))\n",
    "        buildings.to_crs(crs='ESRI:102003', inplace=True)\n",
    "        parcel = parcelfunks.sumWithin(parcel,buildings)\n",
    "        parcel['geometry'] = parcel['geometry'].simplify(1)\n",
    "        parcel['intLen'] = parcel.apply(lambda row: parcelfunks.interiorLen(row.geometry), axis=1)\n",
    "        parcel['intZscore'] = np.abs(stats.zscore(parcel['intLen']))\n",
    "        parcel.drop(parcel[parcel.intLen >= 20].index, inplace=True) #dropping outlier inner geometries\n",
    "        parcel.reset_index(inplace=True)\n",
    "        parcel['extLen1'] = parcel.apply(lambda row: parcelfunks.exteriorLen(row.geometry), axis=1)\n",
    "        parcel['extZscore1'] = np.abs(stats.zscore(parcel['extLen1']))\n",
    "        parcel.drop(parcel[(parcel['extZscore1'] > 3) & (parcel['Sum_Within'] < 10)].index, inplace=True) #dropping outlier geometries\n",
    "        parcel.drop(parcel[parcel['Sum_Within'] < 1].index, inplace=True)\n",
    "        parcel.reset_index(inplace=True)\n",
    "        columns = ['APN', 'APN2', 'intLen','intZscore', 'extLen1','extZscore1', 'Sum_Within', 'mnBlgArea', 'geometry']\n",
    "        drops = [c for c in parcel.columns if c not in columns]\n",
    "        parcel.drop(drops, axis=1, inplace=True)        \n",
    "        mobileHomes = gpd.read_file(mhpPath)\n",
    "        mobileHomes.to_crs(crs='ESRI:102003', inplace=True) \n",
    "        if parcel.crs != mobileHomes.crs:\n",
    "            parcel.to_crs(mobileHomes.crs, inplace=True)\n",
    "        phomes = gpd.sjoin_nearest(parcel, mobileHomes, how='inner', max_distance=100.0, distance_col='distances')\n",
    "        #phomes.drop('index_right', axis=1, inplace=True)\n",
    "        #phomes = phomes.sort_values(['MHPID','Sum_Within'], ascending=False).drop_duplicates(subset=['MHPID'], keep='first')\n",
    "        phomes.drop(phomes[(phomes['Sum_Within'] < 10) & (phomes['mnBlgArea'] > 175)].index, inplace=True)\n",
    "        phomes.drop(phomes[phomes['mnBlgArea'] > 200].index, inplace=True)\n",
    "        phomes.drop(phomes[phomes['Sum_Within'] < 5].index, inplace=True) #drop matched parcels with less than 5 buildings\n",
    "        #phomes.drop_duplicates(subset=['geometry'], inplace=True)\n",
    "        #if len(phomes) > 0:\n",
    "        #    phomes.to_file(os.path.join(pFilePath,pFilePath.split('\\\\')[-1]+'multi100_less5.gpkg'),driver='GPKG', layer='MH_parcels')\n",
    "        #else:\n",
    "        #    with open(exceptPath, 'a', newline='', encoding='utf-8') as f: #need to figure out a better way. Is it overwriting?\n",
    "        #        writer = csv.writer(f)\n",
    "        #        writer.writerow([pFilePath.split('\\\\')[-1],'NO JOIN'])\n",
    "        return phomes"
   ]
  },
  {
   "cell_type": "code",
   "execution_count": 90,
   "metadata": {},
   "outputs": [
    {
     "name": "stderr",
     "output_type": "stream",
     "text": [
      "c:\\Users\\phwh9568\\AppData\\Local\\Continuum\\anaconda3\\envs\\geo_env\\Lib\\site-packages\\pyogrio\\raw.py:194: RuntimeWarning: C:\\Users\\phwh9568\\Data\\ParcelAtlas\\CO_2022\\counties\\08001\\parcels.shp contains polygon(s) with rings with invalid winding order. Autocorrecting them, but that shapefile should be corrected using ogr2ogr for example.\n",
      "  result = ogr_read(\n"
     ]
    }
   ],
   "source": [
    "adamsResults = parcelMHPJoin2(adams_dir)"
   ]
  },
  {
   "cell_type": "code",
   "execution_count": 92,
   "metadata": {},
   "outputs": [
    {
     "data": {
      "text/plain": [
       "63380    24859.0\n",
       "2087     12209.0\n",
       "3112     38158.0\n",
       "3045     24864.0\n",
       "3224     38157.0\n",
       "          ...   \n",
       "61528    38240.0\n",
       "61545    38238.0\n",
       "61678    38236.0\n",
       "61750    12087.0\n",
       "61756    12084.0\n",
       "Name: MHPID, Length: 62, dtype: float64"
      ]
     },
     "execution_count": 92,
     "metadata": {},
     "output_type": "execute_result"
    }
   ],
   "source": [
    "adamsResults['MHPID']"
   ]
  },
  {
   "cell_type": "code",
   "execution_count": 99,
   "metadata": {},
   "outputs": [],
   "source": [
    "missedPoints = gpd.read_file(os.path.join(co_22_dir,'08_MHPs_OG.gpkg'), layer='08_mhps_non_matched_multi100_less5').to_crs(crs='ESRI:102003')"
   ]
  },
  {
   "cell_type": "code",
   "execution_count": 100,
   "metadata": {},
   "outputs": [],
   "source": [
    "buffed = missedPoints.buffer(100)"
   ]
  },
  {
   "cell_type": "code",
   "execution_count": 102,
   "metadata": {},
   "outputs": [],
   "source": [
    "buffed.to_file(os.path.join(co_22_dir,'08_MHPs_OG.gpkg'), layer='08_missed_buffs')"
   ]
  },
  {
   "cell_type": "code",
   "execution_count": 112,
   "metadata": {},
   "outputs": [
    {
     "name": "stderr",
     "output_type": "stream",
     "text": [
      "C:\\Users\\phwh9568\\AppData\\Local\\Temp\\ipykernel_248\\3066670642.py:7: FutureWarning: The behavior of DataFrame concatenation with empty or all-NA entries is deprecated. In a future version, this will no longer exclude empty or all-NA columns when determining the result dtypes. To retain the old behavior, exclude the relevant entries before the concat operation.\n",
      "  stateFinalDF = pd.concat([stateFinalDF,countyDF])\n",
      "C:\\Users\\phwh9568\\AppData\\Local\\Temp\\ipykernel_248\\3066670642.py:7: FutureWarning: The behavior of DataFrame concatenation with empty or all-NA entries is deprecated. In a future version, this will no longer exclude empty or all-NA columns when determining the result dtypes. To retain the old behavior, exclude the relevant entries before the concat operation.\n",
      "  stateFinalDF = pd.concat([stateFinalDF,countyDF])\n",
      "C:\\Users\\phwh9568\\AppData\\Local\\Temp\\ipykernel_248\\3066670642.py:7: FutureWarning: The behavior of DataFrame concatenation with empty or all-NA entries is deprecated. In a future version, this will no longer exclude empty or all-NA columns when determining the result dtypes. To retain the old behavior, exclude the relevant entries before the concat operation.\n",
      "  stateFinalDF = pd.concat([stateFinalDF,countyDF])\n",
      "C:\\Users\\phwh9568\\AppData\\Local\\Temp\\ipykernel_248\\3066670642.py:7: FutureWarning: The behavior of DataFrame concatenation with empty or all-NA entries is deprecated. In a future version, this will no longer exclude empty or all-NA columns when determining the result dtypes. To retain the old behavior, exclude the relevant entries before the concat operation.\n",
      "  stateFinalDF = pd.concat([stateFinalDF,countyDF])\n",
      "C:\\Users\\phwh9568\\AppData\\Local\\Temp\\ipykernel_248\\3066670642.py:7: FutureWarning: The behavior of DataFrame concatenation with empty or all-NA entries is deprecated. In a future version, this will no longer exclude empty or all-NA columns when determining the result dtypes. To retain the old behavior, exclude the relevant entries before the concat operation.\n",
      "  stateFinalDF = pd.concat([stateFinalDF,countyDF])\n",
      "C:\\Users\\phwh9568\\AppData\\Local\\Temp\\ipykernel_248\\3066670642.py:7: FutureWarning: The behavior of DataFrame concatenation with empty or all-NA entries is deprecated. In a future version, this will no longer exclude empty or all-NA columns when determining the result dtypes. To retain the old behavior, exclude the relevant entries before the concat operation.\n",
      "  stateFinalDF = pd.concat([stateFinalDF,countyDF])\n",
      "C:\\Users\\phwh9568\\AppData\\Local\\Temp\\ipykernel_248\\3066670642.py:7: FutureWarning: The behavior of DataFrame concatenation with empty or all-NA entries is deprecated. In a future version, this will no longer exclude empty or all-NA columns when determining the result dtypes. To retain the old behavior, exclude the relevant entries before the concat operation.\n",
      "  stateFinalDF = pd.concat([stateFinalDF,countyDF])\n",
      "C:\\Users\\phwh9568\\AppData\\Local\\Temp\\ipykernel_248\\3066670642.py:7: FutureWarning: The behavior of DataFrame concatenation with empty or all-NA entries is deprecated. In a future version, this will no longer exclude empty or all-NA columns when determining the result dtypes. To retain the old behavior, exclude the relevant entries before the concat operation.\n",
      "  stateFinalDF = pd.concat([stateFinalDF,countyDF])\n"
     ]
    }
   ],
   "source": [
    "stateFinalDF = pd.DataFrame()\n",
    "\n",
    "for path in parcelsPaths:\n",
    "    if os.path.exists(os.path.join(path,'MHP_'+path.split('\\\\')[-1]+'double.csv')):\n",
    "        \n",
    "        countyDF = pd.read_csv(os.path.join(path,'MHP_'+path.split('\\\\')[-1]+'double.csv'), dtype={'STATEFP10':str,'COUNTYFP10':str,'TRACTCE10':str,'BLOCKCE10':str,'GEOID10':str,'MTFCC10':str,'UACE10':str,'GEOID10':str,'GEOID10':str, 'MH_COUNTY_FIPS':str, 'MHPID':str})\n",
    "        stateFinalDF = pd.concat([stateFinalDF,countyDF])\n",
    "        \n",
    "stateFinalDF.drop(stateFinalDF.filter(regex='Unnamed*').columns,axis=1, inplace=True)\n",
    "stateFinalDF.to_csv(r'c:/users/phwh9568/data/parcelatlas/CO_2022/Colorado_Final_double.csv')"
   ]
  },
  {
   "cell_type": "code",
   "execution_count": null,
   "metadata": {},
   "outputs": [],
   "source": []
  }
 ],
 "metadata": {
  "kernelspec": {
   "display_name": "geo_env",
   "language": "python",
   "name": "python3"
  },
  "language_info": {
   "codemirror_mode": {
    "name": "ipython",
    "version": 3
   },
   "file_extension": ".py",
   "mimetype": "text/x-python",
   "name": "python",
   "nbconvert_exporter": "python",
   "pygments_lexer": "ipython3",
   "version": "3.12.0"
  }
 },
 "nbformat": 4,
 "nbformat_minor": 2
}
