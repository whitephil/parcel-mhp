{
 "cells": [
  {
   "cell_type": "code",
   "execution_count": 1,
   "metadata": {},
   "outputs": [],
   "source": [
    "import parcelfunks\n",
    "import os\n",
    "import geopandas as gpd\n",
    "import pandas as pd \n",
    "import importlib"
   ]
  },
  {
   "cell_type": "code",
   "execution_count": 19,
   "metadata": {},
   "outputs": [
    {
     "data": {
      "text/plain": [
       "<module 'parcelfunks' from 'c:\\\\Users\\\\phwh9568\\\\Data\\\\ParcelAtlas\\\\CO_2022\\\\parcelfunks.py'>"
      ]
     },
     "execution_count": 19,
     "metadata": {},
     "output_type": "execute_result"
    }
   ],
   "source": [
    "importlib.reload(parcelfunks)"
   ]
  },
  {
   "cell_type": "code",
   "execution_count": 17,
   "metadata": {},
   "outputs": [],
   "source": [
    "co_22_dir = r'C:\\Users\\phwh9568\\Data\\ParcelAtlas\\CO_2022'\n",
    "counties_dir = os.path.join(co_22_dir,'counties')\n",
    "adamsPath = os.path.join(counties_dir,'08001')"
   ]
  },
  {
   "cell_type": "code",
   "execution_count": 20,
   "metadata": {},
   "outputs": [
    {
     "name": "stdout",
     "output_type": "stream",
     "text": [
      "C:\\Users\\phwh9568\\Data\\ParcelAtlas\\CO_2022\\counties\\08001\\08001_COSTAR_mhps.gpkg\n",
      "08001 parcels: 118838\n",
      "08001 buildings: 145666\n",
      "1 118838\n",
      "2 104197\n",
      "3 104197\n",
      "4 104143\n",
      "5 102889\n",
      "6 0\n",
      "7 0\n",
      "7 0\n",
      "08001 0\n",
      "08001 0\n"
     ]
    }
   ],
   "source": [
    "parcelfunks.parcelMHPJoin(adamsPath)"
   ]
  },
  {
   "cell_type": "code",
   "execution_count": 35,
   "metadata": {},
   "outputs": [],
   "source": [
    "parcel = gpd.read_file(os.path.join(adamsPath,'parcels.shp'))\n",
    "buildings = gpd.read_file(os.path.join(adamsPath,'08001_buildings.shp'))"
   ]
  },
  {
   "cell_type": "code",
   "execution_count": 23,
   "metadata": {},
   "outputs": [
    {
     "data": {
      "text/plain": [
       "118838"
      ]
     },
     "execution_count": 23,
     "metadata": {},
     "output_type": "execute_result"
    }
   ],
   "source": [
    "len(parcel)"
   ]
  },
  {
   "cell_type": "code",
   "execution_count": 36,
   "metadata": {},
   "outputs": [],
   "source": [
    "parcel.drop_duplicates(subset=['geometry'], inplace=True)"
   ]
  },
  {
   "cell_type": "code",
   "execution_count": 25,
   "metadata": {},
   "outputs": [
    {
     "data": {
      "text/plain": [
       "104197"
      ]
     },
     "execution_count": 25,
     "metadata": {},
     "output_type": "execute_result"
    }
   ],
   "source": [
    "len(parcel)"
   ]
  },
  {
   "cell_type": "code",
   "execution_count": 26,
   "metadata": {},
   "outputs": [],
   "source": [
    "parcel= parcelfunks.sumWithin(parcel,buildings)"
   ]
  },
  {
   "cell_type": "code",
   "execution_count": 27,
   "metadata": {},
   "outputs": [
    {
     "data": {
      "text/plain": [
       "Index(['APN', 'APN2', 'STATE', 'COUNTY', 'FIPS', 'SIT_HSE_NU', 'SIT_DIR',\n",
       "       'SIT_STR_NA', 'SIT_STR_SF', 'SIT_FULL_S', 'SIT_CITY', 'SIT_STATE',\n",
       "       'SIT_ZIP', 'SIT_ZIP4', 'LAND_VALUE', 'IMPR_VALUE', 'TOT_VALUE',\n",
       "       'ASSMT_YEAR', 'REC_DATE', 'SALES_PRIC', 'YEAR_BUILT', 'STD_LAND_U',\n",
       "       'LOT_SIZE', 'BLDG_AREA', 'DEED_DSCR', 'NO_OF_STOR', 'NO_OF_UNIT',\n",
       "       'BEDROOMS', 'BATHROOMS', 'OWNER', 'OWNER2', 'OWNADDRESS', 'OWNADDRES2',\n",
       "       'OWNCTYSTZP', 'XCOORD', 'YCOORD', 'MINX', 'MINY', 'MAXX', 'MAXY',\n",
       "       'VERSION', 'QUANTARIUM', 'ATTDATE', 'geomCalc', 'geometry', 'FID',\n",
       "       'areas', 'Sum_Within', 'mnBlgArea'],\n",
       "      dtype='object')"
      ]
     },
     "execution_count": 27,
     "metadata": {},
     "output_type": "execute_result"
    }
   ],
   "source": [
    "parcel.columns"
   ]
  },
  {
   "cell_type": "code",
   "execution_count": 34,
   "metadata": {},
   "outputs": [
    {
     "data": {
      "text/html": [
       "<div>\n",
       "<style scoped>\n",
       "    .dataframe tbody tr th:only-of-type {\n",
       "        vertical-align: middle;\n",
       "    }\n",
       "\n",
       "    .dataframe tbody tr th {\n",
       "        vertical-align: top;\n",
       "    }\n",
       "\n",
       "    .dataframe thead th {\n",
       "        text-align: right;\n",
       "    }\n",
       "</style>\n",
       "<table border=\"1\" class=\"dataframe\">\n",
       "  <thead>\n",
       "    <tr style=\"text-align: right;\">\n",
       "      <th></th>\n",
       "      <th>APN</th>\n",
       "      <th>APN2</th>\n",
       "      <th>STATE</th>\n",
       "      <th>COUNTY</th>\n",
       "      <th>FIPS</th>\n",
       "      <th>SIT_HSE_NU</th>\n",
       "      <th>SIT_DIR</th>\n",
       "      <th>SIT_STR_NA</th>\n",
       "      <th>SIT_STR_SF</th>\n",
       "      <th>SIT_FULL_S</th>\n",
       "      <th>...</th>\n",
       "      <th>MAXY</th>\n",
       "      <th>VERSION</th>\n",
       "      <th>QUANTARIUM</th>\n",
       "      <th>ATTDATE</th>\n",
       "      <th>geomCalc</th>\n",
       "      <th>geometry</th>\n",
       "      <th>FID</th>\n",
       "      <th>areas</th>\n",
       "      <th>Sum_Within</th>\n",
       "      <th>mnBlgArea</th>\n",
       "    </tr>\n",
       "  </thead>\n",
       "  <tbody>\n",
       "  </tbody>\n",
       "</table>\n",
       "<p>0 rows × 49 columns</p>\n",
       "</div>"
      ],
      "text/plain": [
       "Empty GeoDataFrame\n",
       "Columns: [APN, APN2, STATE, COUNTY, FIPS, SIT_HSE_NU, SIT_DIR, SIT_STR_NA, SIT_STR_SF, SIT_FULL_S, SIT_CITY, SIT_STATE, SIT_ZIP, SIT_ZIP4, LAND_VALUE, IMPR_VALUE, TOT_VALUE, ASSMT_YEAR, REC_DATE, SALES_PRIC, YEAR_BUILT, STD_LAND_U, LOT_SIZE, BLDG_AREA, DEED_DSCR, NO_OF_STOR, NO_OF_UNIT, BEDROOMS, BATHROOMS, OWNER, OWNER2, OWNADDRESS, OWNADDRES2, OWNCTYSTZP, XCOORD, YCOORD, MINX, MINY, MAXX, MAXY, VERSION, QUANTARIUM, ATTDATE, geomCalc, geometry, FID, areas, Sum_Within, mnBlgArea]\n",
       "Index: []\n",
       "\n",
       "[0 rows x 49 columns]"
      ]
     },
     "execution_count": 34,
     "metadata": {},
     "output_type": "execute_result"
    }
   ],
   "source": [
    "parcel.loc[parcel['Sum_Within']>0]"
   ]
  },
  {
   "cell_type": "code",
   "execution_count": 39,
   "metadata": {},
   "outputs": [],
   "source": [
    "parcel['ID'] = parcel.index"
   ]
  },
  {
   "cell_type": "code",
   "execution_count": 51,
   "metadata": {},
   "outputs": [],
   "source": [
    "cols = parcel.columns.to_list()"
   ]
  },
  {
   "cell_type": "code",
   "execution_count": 52,
   "metadata": {},
   "outputs": [],
   "source": [
    "cols = [cols[-1]] + cols[:-1]"
   ]
  },
  {
   "cell_type": "code",
   "execution_count": 55,
   "metadata": {},
   "outputs": [],
   "source": [
    "parcel = parcel[cols]"
   ]
  },
  {
   "cell_type": "code",
   "execution_count": 56,
   "metadata": {},
   "outputs": [],
   "source": [
    "buildings['areas'] = buildings['geometry'].area"
   ]
  },
  {
   "cell_type": "code",
   "execution_count": 57,
   "metadata": {},
   "outputs": [],
   "source": [
    "dfsjoin = gpd.sjoin(parcel,buildings,predicate='contains')"
   ]
  },
  {
   "cell_type": "code",
   "execution_count": 59,
   "metadata": {},
   "outputs": [
    {
     "data": {
      "text/plain": [
       "Index(['ID', 'APN', 'APN2', 'STATE', 'COUNTY', 'FIPS', 'SIT_HSE_NU', 'SIT_DIR',\n",
       "       'SIT_STR_NA', 'SIT_STR_SF', 'SIT_FULL_S', 'SIT_CITY', 'SIT_STATE',\n",
       "       'SIT_ZIP', 'SIT_ZIP4', 'LAND_VALUE', 'IMPR_VALUE', 'TOT_VALUE',\n",
       "       'ASSMT_YEAR', 'REC_DATE', 'SALES_PRIC', 'YEAR_BUILT', 'STD_LAND_U',\n",
       "       'LOT_SIZE', 'BLDG_AREA', 'DEED_DSCR', 'NO_OF_STOR', 'NO_OF_UNIT',\n",
       "       'BEDROOMS', 'BATHROOMS', 'OWNER', 'OWNER2', 'OWNADDRESS', 'OWNADDRES2',\n",
       "       'OWNCTYSTZP', 'XCOORD', 'YCOORD', 'MINX', 'MINY', 'MAXX', 'MAXY',\n",
       "       'VERSION', 'QUANTARIUM', 'ATTDATE', 'geomCalc', 'geometry',\n",
       "       'index_right', 'FID', 'County', 'areas'],\n",
       "      dtype='object')"
      ]
     },
     "execution_count": 59,
     "metadata": {},
     "output_type": "execute_result"
    }
   ],
   "source": [
    "dfsjoin.columns"
   ]
  },
  {
   "cell_type": "code",
   "execution_count": 60,
   "metadata": {},
   "outputs": [],
   "source": [
    "dfpivot = pd.pivot_table(dfsjoin, index=['ID', 'APN'], aggfunc={'FID':len,'areas':'mean'}).reset_index()"
   ]
  },
  {
   "cell_type": "code",
   "execution_count": 1,
   "metadata": {},
   "outputs": [
    {
     "ename": "NameError",
     "evalue": "name 'dfpivot' is not defined",
     "output_type": "error",
     "traceback": [
      "\u001b[1;31m---------------------------------------------------------------------------\u001b[0m",
      "\u001b[1;31mNameError\u001b[0m                                 Traceback (most recent call last)",
      "Cell \u001b[1;32mIn[1], line 1\u001b[0m\n\u001b[1;32m----> 1\u001b[0m \u001b[43mdfpivot\u001b[49m\u001b[38;5;241m.\u001b[39mindex\n",
      "\u001b[1;31mNameError\u001b[0m: name 'dfpivot' is not defined"
     ]
    }
   ],
   "source": [
    "dfpivot.index"
   ]
  },
  {
   "cell_type": "code",
   "execution_count": 11,
   "metadata": {},
   "outputs": [
    {
     "data": {
      "text/html": [
       "<div>\n",
       "<style scoped>\n",
       "    .dataframe tbody tr th:only-of-type {\n",
       "        vertical-align: middle;\n",
       "    }\n",
       "\n",
       "    .dataframe tbody tr th {\n",
       "        vertical-align: top;\n",
       "    }\n",
       "\n",
       "    .dataframe thead th {\n",
       "        text-align: right;\n",
       "    }\n",
       "</style>\n",
       "<table border=\"1\" class=\"dataframe\">\n",
       "  <thead>\n",
       "    <tr style=\"text-align: right;\">\n",
       "      <th></th>\n",
       "      <th>APN</th>\n",
       "      <th>APN2</th>\n",
       "      <th>STATE</th>\n",
       "      <th>COUNTY</th>\n",
       "      <th>FIPS</th>\n",
       "      <th>SIT_HSE_NU</th>\n",
       "      <th>SIT_DIR</th>\n",
       "      <th>SIT_STR_NA</th>\n",
       "      <th>SIT_STR_SF</th>\n",
       "      <th>SIT_FULL_S</th>\n",
       "      <th>...</th>\n",
       "      <th>YCOORD</th>\n",
       "      <th>MINX</th>\n",
       "      <th>MINY</th>\n",
       "      <th>MAXX</th>\n",
       "      <th>MAXY</th>\n",
       "      <th>MKT_VALUE</th>\n",
       "      <th>ATTDATE</th>\n",
       "      <th>VERSION</th>\n",
       "      <th>QUANTARIUM</th>\n",
       "      <th>geometry</th>\n",
       "    </tr>\n",
       "  </thead>\n",
       "  <tbody>\n",
       "    <tr>\n",
       "      <th>0</th>\n",
       "      <td>1512229002</td>\n",
       "      <td>None</td>\n",
       "      <td>CO</td>\n",
       "      <td>Summit</td>\n",
       "      <td>08117</td>\n",
       "      <td>None</td>\n",
       "      <td>None</td>\n",
       "      <td>None</td>\n",
       "      <td>None</td>\n",
       "      <td>None</td>\n",
       "      <td>...</td>\n",
       "      <td>42.3661</td>\n",
       "      <td>-94.049764</td>\n",
       "      <td>42.365915</td>\n",
       "      <td>-94.049637</td>\n",
       "      <td>42.366243</td>\n",
       "      <td>0</td>\n",
       "      <td>20</td>\n",
       "      <td>10-6-2022</td>\n",
       "      <td>None</td>\n",
       "      <td>POLYGON ((-94.04967 42.36592, -94.04976 42.366...</td>\n",
       "    </tr>\n",
       "    <tr>\n",
       "      <th>1</th>\n",
       "      <td>1213400008</td>\n",
       "      <td>None</td>\n",
       "      <td>CO</td>\n",
       "      <td>Summit</td>\n",
       "      <td>08117</td>\n",
       "      <td>None</td>\n",
       "      <td>None</td>\n",
       "      <td>None</td>\n",
       "      <td>None</td>\n",
       "      <td>None</td>\n",
       "      <td>...</td>\n",
       "      <td>42.4305</td>\n",
       "      <td>-93.936808</td>\n",
       "      <td>42.430054</td>\n",
       "      <td>-93.932073</td>\n",
       "      <td>42.430974</td>\n",
       "      <td>0</td>\n",
       "      <td>20</td>\n",
       "      <td>10-6-2022</td>\n",
       "      <td>None</td>\n",
       "      <td>POLYGON ((-93.93207 42.43096, -93.93208 42.430...</td>\n",
       "    </tr>\n",
       "    <tr>\n",
       "      <th>2</th>\n",
       "      <td>1701353010</td>\n",
       "      <td>None</td>\n",
       "      <td>CO</td>\n",
       "      <td>Summit</td>\n",
       "      <td>08117</td>\n",
       "      <td>None</td>\n",
       "      <td>None</td>\n",
       "      <td>None</td>\n",
       "      <td>None</td>\n",
       "      <td>None</td>\n",
       "      <td>...</td>\n",
       "      <td>42.2837</td>\n",
       "      <td>-94.298161</td>\n",
       "      <td>42.283629</td>\n",
       "      <td>-94.297673</td>\n",
       "      <td>42.283724</td>\n",
       "      <td>0</td>\n",
       "      <td>20</td>\n",
       "      <td>10-6-2022</td>\n",
       "      <td>None</td>\n",
       "      <td>POLYGON ((-94.29767 42.28363, -94.29816 42.283...</td>\n",
       "    </tr>\n",
       "    <tr>\n",
       "      <th>3</th>\n",
       "      <td>1320200005</td>\n",
       "      <td>None</td>\n",
       "      <td>CO</td>\n",
       "      <td>Summit</td>\n",
       "      <td>08117</td>\n",
       "      <td>None</td>\n",
       "      <td>None</td>\n",
       "      <td>None</td>\n",
       "      <td>None</td>\n",
       "      <td>None</td>\n",
       "      <td>...</td>\n",
       "      <td>42.3345</td>\n",
       "      <td>-94.369023</td>\n",
       "      <td>42.332731</td>\n",
       "      <td>-94.368922</td>\n",
       "      <td>42.336365</td>\n",
       "      <td>0</td>\n",
       "      <td>20</td>\n",
       "      <td>10-6-2022</td>\n",
       "      <td>None</td>\n",
       "      <td>POLYGON ((-94.36893 42.33637, -94.36892 42.332...</td>\n",
       "    </tr>\n",
       "    <tr>\n",
       "      <th>4</th>\n",
       "      <td>0720356004</td>\n",
       "      <td>None</td>\n",
       "      <td>CO</td>\n",
       "      <td>Summit</td>\n",
       "      <td>08117</td>\n",
       "      <td>None</td>\n",
       "      <td>None</td>\n",
       "      <td>None</td>\n",
       "      <td>None</td>\n",
       "      <td>None</td>\n",
       "      <td>...</td>\n",
       "      <td>42.5030</td>\n",
       "      <td>-94.185925</td>\n",
       "      <td>42.502750</td>\n",
       "      <td>-94.185610</td>\n",
       "      <td>42.503159</td>\n",
       "      <td>0</td>\n",
       "      <td>20</td>\n",
       "      <td>10-6-2022</td>\n",
       "      <td>None</td>\n",
       "      <td>POLYGON ((-94.18561 42.50278, -94.18583 42.502...</td>\n",
       "    </tr>\n",
       "    <tr>\n",
       "      <th>...</th>\n",
       "      <td>...</td>\n",
       "      <td>...</td>\n",
       "      <td>...</td>\n",
       "      <td>...</td>\n",
       "      <td>...</td>\n",
       "      <td>...</td>\n",
       "      <td>...</td>\n",
       "      <td>...</td>\n",
       "      <td>...</td>\n",
       "      <td>...</td>\n",
       "      <td>...</td>\n",
       "      <td>...</td>\n",
       "      <td>...</td>\n",
       "      <td>...</td>\n",
       "      <td>...</td>\n",
       "      <td>...</td>\n",
       "      <td>...</td>\n",
       "      <td>...</td>\n",
       "      <td>...</td>\n",
       "      <td>...</td>\n",
       "      <td>...</td>\n",
       "    </tr>\n",
       "    <tr>\n",
       "      <th>33404</th>\n",
       "      <td>1519200005</td>\n",
       "      <td>None</td>\n",
       "      <td>CO</td>\n",
       "      <td>Summit</td>\n",
       "      <td>08117</td>\n",
       "      <td>None</td>\n",
       "      <td>None</td>\n",
       "      <td>None</td>\n",
       "      <td>None</td>\n",
       "      <td>None</td>\n",
       "      <td>...</td>\n",
       "      <td>42.3338</td>\n",
       "      <td>-94.150137</td>\n",
       "      <td>42.331965</td>\n",
       "      <td>-94.145399</td>\n",
       "      <td>42.335624</td>\n",
       "      <td>0</td>\n",
       "      <td>20</td>\n",
       "      <td>10-6-2022</td>\n",
       "      <td>None</td>\n",
       "      <td>POLYGON ((-94.14541 42.33554, -94.14540 42.331...</td>\n",
       "    </tr>\n",
       "    <tr>\n",
       "      <th>33405</th>\n",
       "      <td>2022100006</td>\n",
       "      <td>None</td>\n",
       "      <td>CO</td>\n",
       "      <td>Summit</td>\n",
       "      <td>08117</td>\n",
       "      <td>None</td>\n",
       "      <td>None</td>\n",
       "      <td>None</td>\n",
       "      <td>None</td>\n",
       "      <td>None</td>\n",
       "      <td>...</td>\n",
       "      <td>42.2489</td>\n",
       "      <td>-93.985275</td>\n",
       "      <td>42.247662</td>\n",
       "      <td>-93.985144</td>\n",
       "      <td>42.249467</td>\n",
       "      <td>0</td>\n",
       "      <td>20</td>\n",
       "      <td>10-6-2022</td>\n",
       "      <td>None</td>\n",
       "      <td>POLYGON ((-93.98525 42.24766, -93.98527 42.249...</td>\n",
       "    </tr>\n",
       "    <tr>\n",
       "      <th>33406</th>\n",
       "      <td>1203107004</td>\n",
       "      <td>None</td>\n",
       "      <td>CO</td>\n",
       "      <td>Summit</td>\n",
       "      <td>08117</td>\n",
       "      <td>None</td>\n",
       "      <td>None</td>\n",
       "      <td>None</td>\n",
       "      <td>None</td>\n",
       "      <td>None</td>\n",
       "      <td>...</td>\n",
       "      <td>42.4674</td>\n",
       "      <td>-93.990490</td>\n",
       "      <td>42.467320</td>\n",
       "      <td>-93.990014</td>\n",
       "      <td>42.467548</td>\n",
       "      <td>0</td>\n",
       "      <td>20</td>\n",
       "      <td>10-6-2022</td>\n",
       "      <td>None</td>\n",
       "      <td>POLYGON ((-93.99001 42.46755, -93.99002 42.467...</td>\n",
       "    </tr>\n",
       "    <tr>\n",
       "      <th>33407</th>\n",
       "      <td>1307400005</td>\n",
       "      <td>None</td>\n",
       "      <td>CO</td>\n",
       "      <td>Summit</td>\n",
       "      <td>08117</td>\n",
       "      <td>None</td>\n",
       "      <td>None</td>\n",
       "      <td>None</td>\n",
       "      <td>None</td>\n",
       "      <td>None</td>\n",
       "      <td>...</td>\n",
       "      <td>42.3580</td>\n",
       "      <td>-94.388301</td>\n",
       "      <td>42.357939</td>\n",
       "      <td>-94.383419</td>\n",
       "      <td>42.358098</td>\n",
       "      <td>0</td>\n",
       "      <td>20</td>\n",
       "      <td>10-6-2022</td>\n",
       "      <td>None</td>\n",
       "      <td>POLYGON ((-94.38342 42.35805, -94.38830 42.357...</td>\n",
       "    </tr>\n",
       "    <tr>\n",
       "      <th>33408</th>\n",
       "      <td>1712202002</td>\n",
       "      <td>None</td>\n",
       "      <td>CO</td>\n",
       "      <td>Summit</td>\n",
       "      <td>08117</td>\n",
       "      <td>None</td>\n",
       "      <td>None</td>\n",
       "      <td>None</td>\n",
       "      <td>None</td>\n",
       "      <td>None</td>\n",
       "      <td>...</td>\n",
       "      <td>42.2821</td>\n",
       "      <td>-94.289203</td>\n",
       "      <td>42.282135</td>\n",
       "      <td>-94.289166</td>\n",
       "      <td>42.282162</td>\n",
       "      <td>0</td>\n",
       "      <td>20</td>\n",
       "      <td>10-6-2022</td>\n",
       "      <td>None</td>\n",
       "      <td>POLYGON ((-94.28917 42.28216, -94.28917 42.282...</td>\n",
       "    </tr>\n",
       "  </tbody>\n",
       "</table>\n",
       "<p>33409 rows × 45 columns</p>\n",
       "</div>"
      ],
      "text/plain": [
       "              APN  APN2 STATE  COUNTY   FIPS SIT_HSE_NU SIT_DIR SIT_STR_NA  \\\n",
       "0      1512229002  None    CO  Summit  08117       None    None       None   \n",
       "1      1213400008  None    CO  Summit  08117       None    None       None   \n",
       "2      1701353010  None    CO  Summit  08117       None    None       None   \n",
       "3      1320200005  None    CO  Summit  08117       None    None       None   \n",
       "4      0720356004  None    CO  Summit  08117       None    None       None   \n",
       "...           ...   ...   ...     ...    ...        ...     ...        ...   \n",
       "33404  1519200005  None    CO  Summit  08117       None    None       None   \n",
       "33405  2022100006  None    CO  Summit  08117       None    None       None   \n",
       "33406  1203107004  None    CO  Summit  08117       None    None       None   \n",
       "33407  1307400005  None    CO  Summit  08117       None    None       None   \n",
       "33408  1712202002  None    CO  Summit  08117       None    None       None   \n",
       "\n",
       "      SIT_STR_SF SIT_FULL_S  ...   YCOORD       MINX       MINY       MAXX  \\\n",
       "0           None       None  ...  42.3661 -94.049764  42.365915 -94.049637   \n",
       "1           None       None  ...  42.4305 -93.936808  42.430054 -93.932073   \n",
       "2           None       None  ...  42.2837 -94.298161  42.283629 -94.297673   \n",
       "3           None       None  ...  42.3345 -94.369023  42.332731 -94.368922   \n",
       "4           None       None  ...  42.5030 -94.185925  42.502750 -94.185610   \n",
       "...          ...        ...  ...      ...        ...        ...        ...   \n",
       "33404       None       None  ...  42.3338 -94.150137  42.331965 -94.145399   \n",
       "33405       None       None  ...  42.2489 -93.985275  42.247662 -93.985144   \n",
       "33406       None       None  ...  42.4674 -93.990490  42.467320 -93.990014   \n",
       "33407       None       None  ...  42.3580 -94.388301  42.357939 -94.383419   \n",
       "33408       None       None  ...  42.2821 -94.289203  42.282135 -94.289166   \n",
       "\n",
       "            MAXY  MKT_VALUE  ATTDATE    VERSION QUANTARIUM  \\\n",
       "0      42.366243          0       20  10-6-2022       None   \n",
       "1      42.430974          0       20  10-6-2022       None   \n",
       "2      42.283724          0       20  10-6-2022       None   \n",
       "3      42.336365          0       20  10-6-2022       None   \n",
       "4      42.503159          0       20  10-6-2022       None   \n",
       "...          ...        ...      ...        ...        ...   \n",
       "33404  42.335624          0       20  10-6-2022       None   \n",
       "33405  42.249467          0       20  10-6-2022       None   \n",
       "33406  42.467548          0       20  10-6-2022       None   \n",
       "33407  42.358098          0       20  10-6-2022       None   \n",
       "33408  42.282162          0       20  10-6-2022       None   \n",
       "\n",
       "                                                geometry  \n",
       "0      POLYGON ((-94.04967 42.36592, -94.04976 42.366...  \n",
       "1      POLYGON ((-93.93207 42.43096, -93.93208 42.430...  \n",
       "2      POLYGON ((-94.29767 42.28363, -94.29816 42.283...  \n",
       "3      POLYGON ((-94.36893 42.33637, -94.36892 42.332...  \n",
       "4      POLYGON ((-94.18561 42.50278, -94.18583 42.502...  \n",
       "...                                                  ...  \n",
       "33404  POLYGON ((-94.14541 42.33554, -94.14540 42.331...  \n",
       "33405  POLYGON ((-93.98525 42.24766, -93.98527 42.249...  \n",
       "33406  POLYGON ((-93.99001 42.46755, -93.99002 42.467...  \n",
       "33407  POLYGON ((-94.38342 42.35805, -94.38830 42.357...  \n",
       "33408  POLYGON ((-94.28917 42.28216, -94.28917 42.282...  \n",
       "\n",
       "[33409 rows x 45 columns]"
      ]
     },
     "execution_count": 11,
     "metadata": {},
     "output_type": "execute_result"
    }
   ],
   "source": [
    "gpd.read_file(r'C:\\Users\\phwh9568\\Data\\ParcelAtlas\\CO_2022\\counties\\08117\\parcels.shp')"
   ]
  },
  {
   "cell_type": "code",
   "execution_count": 2,
   "metadata": {},
   "outputs": [],
   "source": [
    "from osgeo import gdal"
   ]
  },
  {
   "cell_type": "code",
   "execution_count": 8,
   "metadata": {},
   "outputs": [],
   "source": [
    "gdal.SetConfigOption('SHAPE_RESTORE_SHX','NO')"
   ]
  },
  {
   "cell_type": "code",
   "execution_count": null,
   "metadata": {},
   "outputs": [],
   "source": []
  }
 ],
 "metadata": {
  "kernelspec": {
   "display_name": "geo_env",
   "language": "python",
   "name": "python3"
  },
  "language_info": {
   "codemirror_mode": {
    "name": "ipython",
    "version": 3
   },
   "file_extension": ".py",
   "mimetype": "text/x-python",
   "name": "python",
   "nbconvert_exporter": "python",
   "pygments_lexer": "ipython3",
   "version": "3.12.0"
  }
 },
 "nbformat": 4,
 "nbformat_minor": 2
}
