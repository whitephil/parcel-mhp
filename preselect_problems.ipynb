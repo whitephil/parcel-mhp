{
 "cells": [
  {
   "cell_type": "code",
   "execution_count": 4,
   "metadata": {},
   "outputs": [],
   "source": [
    "import parcelfunks\n",
    "import os\n",
    "import geopandas as gpd\n",
    "import pandas as pd \n",
    "import importlib"
   ]
  },
  {
   "cell_type": "code",
   "execution_count": 19,
   "metadata": {},
   "outputs": [
    {
     "data": {
      "text/plain": [
       "<module 'parcelfunks' from 'c:\\\\Users\\\\phwh9568\\\\Data\\\\ParcelAtlas\\\\CO_2022\\\\parcelfunks.py'>"
      ]
     },
     "execution_count": 19,
     "metadata": {},
     "output_type": "execute_result"
    }
   ],
   "source": [
    "importlib.reload(parcelfunks)"
   ]
  },
  {
   "cell_type": "code",
   "execution_count": 17,
   "metadata": {},
   "outputs": [],
   "source": [
    "co_22_dir = r'C:\\Users\\phwh9568\\Data\\ParcelAtlas\\CO_2022'\n",
    "counties_dir = os.path.join(co_22_dir,'counties')\n",
    "adamsPath = os.path.join(counties_dir,'08001')"
   ]
  },
  {
   "cell_type": "code",
   "execution_count": 20,
   "metadata": {},
   "outputs": [
    {
     "name": "stdout",
     "output_type": "stream",
     "text": [
      "C:\\Users\\phwh9568\\Data\\ParcelAtlas\\CO_2022\\counties\\08001\\08001_COSTAR_mhps.gpkg\n",
      "08001 parcels: 118838\n",
      "08001 buildings: 145666\n",
      "1 118838\n",
      "2 104197\n",
      "3 104197\n",
      "4 104143\n",
      "5 102889\n",
      "6 0\n",
      "7 0\n",
      "7 0\n",
      "08001 0\n",
      "08001 0\n"
     ]
    }
   ],
   "source": [
    "parcelfunks.parcelMHPJoin(adamsPath)"
   ]
  },
  {
   "cell_type": "code",
   "execution_count": 35,
   "metadata": {},
   "outputs": [],
   "source": [
    "parcel = gpd.read_file(os.path.join(adamsPath,'parcels.shp'))\n",
    "buildings = gpd.read_file(os.path.join(adamsPath,'08001_buildings.shp'))"
   ]
  },
  {
   "cell_type": "code",
   "execution_count": 23,
   "metadata": {},
   "outputs": [
    {
     "data": {
      "text/plain": [
       "118838"
      ]
     },
     "execution_count": 23,
     "metadata": {},
     "output_type": "execute_result"
    }
   ],
   "source": [
    "len(parcel)"
   ]
  },
  {
   "cell_type": "code",
   "execution_count": 36,
   "metadata": {},
   "outputs": [],
   "source": [
    "parcel.drop_duplicates(subset=['geometry'], inplace=True)"
   ]
  },
  {
   "cell_type": "code",
   "execution_count": 25,
   "metadata": {},
   "outputs": [
    {
     "data": {
      "text/plain": [
       "104197"
      ]
     },
     "execution_count": 25,
     "metadata": {},
     "output_type": "execute_result"
    }
   ],
   "source": [
    "len(parcel)"
   ]
  },
  {
   "cell_type": "code",
   "execution_count": 26,
   "metadata": {},
   "outputs": [],
   "source": [
    "parcel= parcelfunks.sumWithin(parcel,buildings)"
   ]
  },
  {
   "cell_type": "code",
   "execution_count": 27,
   "metadata": {},
   "outputs": [
    {
     "data": {
      "text/plain": [
       "Index(['APN', 'APN2', 'STATE', 'COUNTY', 'FIPS', 'SIT_HSE_NU', 'SIT_DIR',\n",
       "       'SIT_STR_NA', 'SIT_STR_SF', 'SIT_FULL_S', 'SIT_CITY', 'SIT_STATE',\n",
       "       'SIT_ZIP', 'SIT_ZIP4', 'LAND_VALUE', 'IMPR_VALUE', 'TOT_VALUE',\n",
       "       'ASSMT_YEAR', 'REC_DATE', 'SALES_PRIC', 'YEAR_BUILT', 'STD_LAND_U',\n",
       "       'LOT_SIZE', 'BLDG_AREA', 'DEED_DSCR', 'NO_OF_STOR', 'NO_OF_UNIT',\n",
       "       'BEDROOMS', 'BATHROOMS', 'OWNER', 'OWNER2', 'OWNADDRESS', 'OWNADDRES2',\n",
       "       'OWNCTYSTZP', 'XCOORD', 'YCOORD', 'MINX', 'MINY', 'MAXX', 'MAXY',\n",
       "       'VERSION', 'QUANTARIUM', 'ATTDATE', 'geomCalc', 'geometry', 'FID',\n",
       "       'areas', 'Sum_Within', 'mnBlgArea'],\n",
       "      dtype='object')"
      ]
     },
     "execution_count": 27,
     "metadata": {},
     "output_type": "execute_result"
    }
   ],
   "source": [
    "parcel.columns"
   ]
  },
  {
   "cell_type": "code",
   "execution_count": 34,
   "metadata": {},
   "outputs": [
    {
     "data": {
      "text/html": [
       "<div>\n",
       "<style scoped>\n",
       "    .dataframe tbody tr th:only-of-type {\n",
       "        vertical-align: middle;\n",
       "    }\n",
       "\n",
       "    .dataframe tbody tr th {\n",
       "        vertical-align: top;\n",
       "    }\n",
       "\n",
       "    .dataframe thead th {\n",
       "        text-align: right;\n",
       "    }\n",
       "</style>\n",
       "<table border=\"1\" class=\"dataframe\">\n",
       "  <thead>\n",
       "    <tr style=\"text-align: right;\">\n",
       "      <th></th>\n",
       "      <th>APN</th>\n",
       "      <th>APN2</th>\n",
       "      <th>STATE</th>\n",
       "      <th>COUNTY</th>\n",
       "      <th>FIPS</th>\n",
       "      <th>SIT_HSE_NU</th>\n",
       "      <th>SIT_DIR</th>\n",
       "      <th>SIT_STR_NA</th>\n",
       "      <th>SIT_STR_SF</th>\n",
       "      <th>SIT_FULL_S</th>\n",
       "      <th>...</th>\n",
       "      <th>MAXY</th>\n",
       "      <th>VERSION</th>\n",
       "      <th>QUANTARIUM</th>\n",
       "      <th>ATTDATE</th>\n",
       "      <th>geomCalc</th>\n",
       "      <th>geometry</th>\n",
       "      <th>FID</th>\n",
       "      <th>areas</th>\n",
       "      <th>Sum_Within</th>\n",
       "      <th>mnBlgArea</th>\n",
       "    </tr>\n",
       "  </thead>\n",
       "  <tbody>\n",
       "  </tbody>\n",
       "</table>\n",
       "<p>0 rows × 49 columns</p>\n",
       "</div>"
      ],
      "text/plain": [
       "Empty GeoDataFrame\n",
       "Columns: [APN, APN2, STATE, COUNTY, FIPS, SIT_HSE_NU, SIT_DIR, SIT_STR_NA, SIT_STR_SF, SIT_FULL_S, SIT_CITY, SIT_STATE, SIT_ZIP, SIT_ZIP4, LAND_VALUE, IMPR_VALUE, TOT_VALUE, ASSMT_YEAR, REC_DATE, SALES_PRIC, YEAR_BUILT, STD_LAND_U, LOT_SIZE, BLDG_AREA, DEED_DSCR, NO_OF_STOR, NO_OF_UNIT, BEDROOMS, BATHROOMS, OWNER, OWNER2, OWNADDRESS, OWNADDRES2, OWNCTYSTZP, XCOORD, YCOORD, MINX, MINY, MAXX, MAXY, VERSION, QUANTARIUM, ATTDATE, geomCalc, geometry, FID, areas, Sum_Within, mnBlgArea]\n",
       "Index: []\n",
       "\n",
       "[0 rows x 49 columns]"
      ]
     },
     "execution_count": 34,
     "metadata": {},
     "output_type": "execute_result"
    }
   ],
   "source": [
    "parcel.loc[parcel['Sum_Within']>0]"
   ]
  },
  {
   "cell_type": "code",
   "execution_count": 39,
   "metadata": {},
   "outputs": [],
   "source": [
    "parcel['ID'] = parcel.index"
   ]
  },
  {
   "cell_type": "code",
   "execution_count": 51,
   "metadata": {},
   "outputs": [],
   "source": [
    "cols = parcel.columns.to_list()"
   ]
  },
  {
   "cell_type": "code",
   "execution_count": 52,
   "metadata": {},
   "outputs": [],
   "source": [
    "cols = [cols[-1]] + cols[:-1]"
   ]
  },
  {
   "cell_type": "code",
   "execution_count": 55,
   "metadata": {},
   "outputs": [],
   "source": [
    "parcel = parcel[cols]"
   ]
  },
  {
   "cell_type": "code",
   "execution_count": 56,
   "metadata": {},
   "outputs": [],
   "source": [
    "buildings['areas'] = buildings['geometry'].area"
   ]
  },
  {
   "cell_type": "code",
   "execution_count": 57,
   "metadata": {},
   "outputs": [],
   "source": [
    "dfsjoin = gpd.sjoin(parcel,buildings,predicate='contains')"
   ]
  },
  {
   "cell_type": "code",
   "execution_count": 59,
   "metadata": {},
   "outputs": [
    {
     "data": {
      "text/plain": [
       "Index(['ID', 'APN', 'APN2', 'STATE', 'COUNTY', 'FIPS', 'SIT_HSE_NU', 'SIT_DIR',\n",
       "       'SIT_STR_NA', 'SIT_STR_SF', 'SIT_FULL_S', 'SIT_CITY', 'SIT_STATE',\n",
       "       'SIT_ZIP', 'SIT_ZIP4', 'LAND_VALUE', 'IMPR_VALUE', 'TOT_VALUE',\n",
       "       'ASSMT_YEAR', 'REC_DATE', 'SALES_PRIC', 'YEAR_BUILT', 'STD_LAND_U',\n",
       "       'LOT_SIZE', 'BLDG_AREA', 'DEED_DSCR', 'NO_OF_STOR', 'NO_OF_UNIT',\n",
       "       'BEDROOMS', 'BATHROOMS', 'OWNER', 'OWNER2', 'OWNADDRESS', 'OWNADDRES2',\n",
       "       'OWNCTYSTZP', 'XCOORD', 'YCOORD', 'MINX', 'MINY', 'MAXX', 'MAXY',\n",
       "       'VERSION', 'QUANTARIUM', 'ATTDATE', 'geomCalc', 'geometry',\n",
       "       'index_right', 'FID', 'County', 'areas'],\n",
       "      dtype='object')"
      ]
     },
     "execution_count": 59,
     "metadata": {},
     "output_type": "execute_result"
    }
   ],
   "source": [
    "dfsjoin.columns"
   ]
  },
  {
   "cell_type": "code",
   "execution_count": 60,
   "metadata": {},
   "outputs": [],
   "source": [
    "dfpivot = pd.pivot_table(dfsjoin, index=['ID', 'APN'], aggfunc={'FID':len,'areas':'mean'}).reset_index()"
   ]
  },
  {
   "cell_type": "code",
   "execution_count": 1,
   "metadata": {},
   "outputs": [
    {
     "ename": "NameError",
     "evalue": "name 'dfpivot' is not defined",
     "output_type": "error",
     "traceback": [
      "\u001b[1;31m---------------------------------------------------------------------------\u001b[0m",
      "\u001b[1;31mNameError\u001b[0m                                 Traceback (most recent call last)",
      "Cell \u001b[1;32mIn[1], line 1\u001b[0m\n\u001b[1;32m----> 1\u001b[0m \u001b[43mdfpivot\u001b[49m\u001b[38;5;241m.\u001b[39mindex\n",
      "\u001b[1;31mNameError\u001b[0m: name 'dfpivot' is not defined"
     ]
    }
   ],
   "source": [
    "dfpivot.index"
   ]
  },
  {
   "cell_type": "code",
   "execution_count": null,
   "metadata": {},
   "outputs": [],
   "source": []
  }
 ],
 "metadata": {
  "kernelspec": {
   "display_name": "geo_env",
   "language": "python",
   "name": "python3"
  },
  "language_info": {
   "codemirror_mode": {
    "name": "ipython",
    "version": 3
   },
   "file_extension": ".py",
   "mimetype": "text/x-python",
   "name": "python",
   "nbconvert_exporter": "python",
   "pygments_lexer": "ipython3",
   "version": "3.12.0"
  }
 },
 "nbformat": 4,
 "nbformat_minor": 2
}
