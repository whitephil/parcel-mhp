{
 "cells": [
  {
   "cell_type": "code",
   "execution_count": 29,
   "metadata": {},
   "outputs": [],
   "source": [
    "import os\n",
    "import geopandas as gpd\n",
    "import requests\n",
    "from glob import glob"
   ]
  },
  {
   "cell_type": "code",
   "execution_count": null,
   "metadata": {},
   "outputs": [],
   "source": []
  },
  {
   "cell_type": "code",
   "execution_count": 50,
   "metadata": {},
   "outputs": [],
   "source": [
    "co_counties00 = gpd.read_file(requests.get('https://www2.census.gov/geo/tiger/TIGER2010/COUNTY/2000/tl_2010_08_county00.zip').content)"
   ]
  },
  {
   "cell_type": "code",
   "execution_count": 51,
   "metadata": {},
   "outputs": [],
   "source": [
    "fipsList = co_counties00['CNTYIDFP00'].to_list()"
   ]
  },
  {
   "cell_type": "code",
   "execution_count": 53,
   "metadata": {},
   "outputs": [
    {
     "data": {
      "text/plain": [
       "['08013',\n",
       " '08069',\n",
       " '08071',\n",
       " '08043',\n",
       " '08041',\n",
       " '08027',\n",
       " '08051',\n",
       " '08021',\n",
       " '08097',\n",
       " '08037',\n",
       " '08089',\n",
       " '08117',\n",
       " '08093',\n",
       " '08045',\n",
       " '08025',\n",
       " '08061',\n",
       " '08017',\n",
       " '08063',\n",
       " '08011',\n",
       " '08001',\n",
       " '08039',\n",
       " '08125',\n",
       " '08121',\n",
       " '08055',\n",
       " '08023',\n",
       " '08065',\n",
       " '08029',\n",
       " '08077',\n",
       " '08099',\n",
       " '08083',\n",
       " '08067',\n",
       " '08079',\n",
       " '08073',\n",
       " '08047',\n",
       " '08059',\n",
       " '08031',\n",
       " '08103',\n",
       " '08081',\n",
       " '08115',\n",
       " '08113',\n",
       " '08123',\n",
       " '08087',\n",
       " '08003',\n",
       " '08095',\n",
       " '08091',\n",
       " '08085',\n",
       " '08053',\n",
       " '08109',\n",
       " '08105',\n",
       " '08035',\n",
       " '08005',\n",
       " '08033',\n",
       " '08101',\n",
       " '08009',\n",
       " '08049',\n",
       " '08075',\n",
       " '08019',\n",
       " '08107',\n",
       " '08119',\n",
       " '08015',\n",
       " '08057',\n",
       " '08111',\n",
       " '08007']"
      ]
     },
     "execution_count": 53,
     "metadata": {},
     "output_type": "execute_result"
    }
   ],
   "source": [
    "fipsList"
   ]
  },
  {
   "cell_type": "code",
   "execution_count": 20,
   "metadata": {},
   "outputs": [
    {
     "name": "stderr",
     "output_type": "stream",
     "text": [
      "c:\\Users\\phwh9568\\AppData\\Local\\Continuum\\anaconda3\\envs\\geo_env\\Lib\\site-packages\\pyogrio\\raw.py:194: RuntimeWarning: /vsizip//vsimem/d51fb6e699384304974eb04f6bab3aa7.zip/tl_2010_08001_tabblock00.shp contains polygon(s) with rings with invalid winding order. Autocorrecting them, but that shapefile should be corrected using ogr2ogr for example.\n",
      "  result = ogr_read(\n"
     ]
    }
   ],
   "source": [
    "fips = '08001'\n",
    "blocks00 = gpd.read_file(requests.get('https://www2.census.gov/geo/tiger/TIGER2010/TABBLOCK/2000/'+f'tl_2010_{fips}_tabblock00.zip').content)"
   ]
  },
  {
   "cell_type": "code",
   "execution_count": 10,
   "metadata": {},
   "outputs": [
    {
     "data": {
      "text/plain": [
       "1549"
      ]
     },
     "execution_count": 10,
     "metadata": {},
     "output_type": "execute_result"
    }
   ],
   "source": [
    "len(blocks00)"
   ]
  },
  {
   "cell_type": "code",
   "execution_count": 11,
   "metadata": {},
   "outputs": [
    {
     "data": {
      "text/plain": [
       "Index(['STATEFP00', 'COUNTYFP00', 'TRACTCE00', 'BLOCKCE00', 'BLKIDFP00',\n",
       "       'NAME00', 'MTFCC00', 'UR00', 'UACE00', 'FUNCSTAT00', 'ALAND00',\n",
       "       'AWATER00', 'INTPTLAT00', 'INTPTLON00', 'geometry'],\n",
       "      dtype='object')"
      ]
     },
     "execution_count": 11,
     "metadata": {},
     "output_type": "execute_result"
    }
   ],
   "source": [
    "blocks00.columns"
   ]
  },
  {
   "cell_type": "code",
   "execution_count": 12,
   "metadata": {},
   "outputs": [],
   "source": [
    "blocks10 = gpd.read_file(os.path.join(r'C:\\Users\\phwh9568\\Data\\ParcelAtlas\\CO_2022\\Counties\\08001', '08001_blocks.gpkg'), layer='08001_blocks')"
   ]
  },
  {
   "cell_type": "code",
   "execution_count": 14,
   "metadata": {},
   "outputs": [
    {
     "data": {
      "text/plain": [
       "Index(['STATEFP10', 'COUNTYFP10', 'TRACTCE10', 'BLOCKCE10', 'GEOID10',\n",
       "       'NAME10', 'MTFCC10', 'UR10', 'UACE10', 'UATYPE', 'FUNCSTAT10',\n",
       "       'ALAND10', 'AWATER10', 'INTPTLAT10', 'INTPTLON10', 'Pop_Total',\n",
       "       'blockArea_m', 'geometry'],\n",
       "      dtype='object')"
      ]
     },
     "execution_count": 14,
     "metadata": {},
     "output_type": "execute_result"
    }
   ],
   "source": [
    "blocks10.columns"
   ]
  },
  {
   "cell_type": "code",
   "execution_count": 25,
   "metadata": {},
   "outputs": [
    {
     "data": {
      "text/plain": [
       "<Geographic 2D CRS: EPSG:4269>\n",
       "Name: NAD83\n",
       "Axis Info [ellipsoidal]:\n",
       "- Lat[north]: Geodetic latitude (degree)\n",
       "- Lon[east]: Geodetic longitude (degree)\n",
       "Area of Use:\n",
       "- name: North America - onshore and offshore: Canada - Alberta; British Columbia; Manitoba; New Brunswick; Newfoundland and Labrador; Northwest Territories; Nova Scotia; Nunavut; Ontario; Prince Edward Island; Quebec; Saskatchewan; Yukon. Puerto Rico. United States (USA) - Alabama; Alaska; Arizona; Arkansas; California; Colorado; Connecticut; Delaware; Florida; Georgia; Hawaii; Idaho; Illinois; Indiana; Iowa; Kansas; Kentucky; Louisiana; Maine; Maryland; Massachusetts; Michigan; Minnesota; Mississippi; Missouri; Montana; Nebraska; Nevada; New Hampshire; New Jersey; New Mexico; New York; North Carolina; North Dakota; Ohio; Oklahoma; Oregon; Pennsylvania; Rhode Island; South Carolina; South Dakota; Tennessee; Texas; Utah; Vermont; Virginia; Washington; West Virginia; Wisconsin; Wyoming. US Virgin Islands. British Virgin Islands.\n",
       "- bounds: (167.65, 14.92, -40.73, 86.45)\n",
       "Datum: North American Datum 1983\n",
       "- Ellipsoid: GRS 1980\n",
       "- Prime Meridian: Greenwich"
      ]
     },
     "execution_count": 25,
     "metadata": {},
     "output_type": "execute_result"
    }
   ],
   "source": [
    "blocks00.crs"
   ]
  },
  {
   "cell_type": "code",
   "execution_count": 26,
   "metadata": {},
   "outputs": [],
   "source": [
    "countiesDir = r'C:\\Users\\phwh9568\\Data\\ParcelAtlas\\CO_2022\\Counties'"
   ]
  },
  {
   "cell_type": "code",
   "execution_count": 28,
   "metadata": {},
   "outputs": [
    {
     "data": {
      "text/plain": [
       "False"
      ]
     },
     "execution_count": 28,
     "metadata": {},
     "output_type": "execute_result"
    }
   ],
   "source": [
    "os.path.exists(os.path.join(countiesDir,'08025'))"
   ]
  },
  {
   "cell_type": "markdown",
   "metadata": {},
   "source": [
    "Woops. Overwrote original blocks, delete blocks gpkg, do over "
   ]
  },
  {
   "cell_type": "code",
   "execution_count": 81,
   "metadata": {},
   "outputs": [],
   "source": [
    "paths = glob(countiesDir+'\\\\*\\\\')"
   ]
  },
  {
   "cell_type": "code",
   "execution_count": 45,
   "metadata": {},
   "outputs": [],
   "source": [
    "for path in paths:\n",
    "    fips = path.split('\\\\')[-2]\n",
    "    os.remove(os.path.join(path,f'{fips}_blocks.gpkg'))"
   ]
  },
  {
   "cell_type": "code",
   "execution_count": 46,
   "metadata": {},
   "outputs": [],
   "source": [
    "co10 = gpd.read_file(requests.get('https://www2.census.gov/geo/tiger/TIGER2010/COUNTY/2010/tl_2010_08_county10.zip').content)\n",
    "co00 = gpd.read_file(requests.get('https://www2.census.gov/geo/tiger/TIGER2010/COUNTY/2000/tl_2010_08_county00.zip').content)\n"
   ]
  },
  {
   "cell_type": "code",
   "execution_count": 70,
   "metadata": {},
   "outputs": [
    {
     "data": {
      "text/plain": [
       "Index(['STATEFP10', 'COUNTYFP10', 'COUNTYNS10', 'GEOID10', 'NAME10',\n",
       "       'NAMELSAD10', 'LSAD10', 'CLASSFP10', 'MTFCC10', 'CSAFP10', 'CBSAFP10',\n",
       "       'METDIVFP10', 'FUNCSTAT10', 'ALAND10', 'AWATER10', 'INTPTLAT10',\n",
       "       'INTPTLON10', 'geometry'],\n",
       "      dtype='object')"
      ]
     },
     "execution_count": 70,
     "metadata": {},
     "output_type": "execute_result"
    }
   ],
   "source": [
    "co10.columns"
   ]
  },
  {
   "cell_type": "code",
   "execution_count": 54,
   "metadata": {},
   "outputs": [],
   "source": [
    "import fiona"
   ]
  },
  {
   "cell_type": "code",
   "execution_count": 84,
   "metadata": {},
   "outputs": [],
   "source": [
    "gpkg = os.path.join(countiesDir,'08001','08001_blocks.gpkg')"
   ]
  },
  {
   "cell_type": "code",
   "execution_count": 85,
   "metadata": {},
   "outputs": [],
   "source": [
    "layers = fiona.listlayers(gpkg)"
   ]
  },
  {
   "cell_type": "code",
   "execution_count": 86,
   "metadata": {},
   "outputs": [
    {
     "data": {
      "text/plain": [
       "['08001_blocks00', '08001_blocks10']"
      ]
     },
     "execution_count": 86,
     "metadata": {},
     "output_type": "execute_result"
    }
   ],
   "source": [
    "layers"
   ]
  },
  {
   "cell_type": "code",
   "execution_count": 68,
   "metadata": {},
   "outputs": [],
   "source": [
    "year = layers[0][-2:]"
   ]
  },
  {
   "cell_type": "code",
   "execution_count": 69,
   "metadata": {},
   "outputs": [
    {
     "data": {
      "text/plain": [
       "'00'"
      ]
     },
     "execution_count": 69,
     "metadata": {},
     "output_type": "execute_result"
    }
   ],
   "source": [
    "year"
   ]
  },
  {
   "cell_type": "code",
   "execution_count": 73,
   "metadata": {},
   "outputs": [],
   "source": [
    "adams10 = gpd.read_file(gpkg,layer='08001_blocks10')\n",
    "adams00 = gpd.read_file(gpkg,layer='08001_blocks00')"
   ]
  },
  {
   "cell_type": "code",
   "execution_count": 74,
   "metadata": {},
   "outputs": [
    {
     "data": {
      "text/plain": [
       "Index(['STATEFP10', 'COUNTYFP10', 'TRACTCE10', 'BLOCKCE10', 'GEOID10',\n",
       "       'NAME10', 'MTFCC10', 'UR10', 'UACE10', 'UATYP10', 'FUNCSTAT10',\n",
       "       'ALAND10', 'AWATER10', 'INTPTLAT10', 'INTPTLON10', 'geometry'],\n",
       "      dtype='object')"
      ]
     },
     "execution_count": 74,
     "metadata": {},
     "output_type": "execute_result"
    }
   ],
   "source": [
    "adams10.columns"
   ]
  },
  {
   "cell_type": "code",
   "execution_count": 75,
   "metadata": {},
   "outputs": [
    {
     "data": {
      "text/plain": [
       "Index(['STATEFP00', 'COUNTYFP00', 'TRACTCE00', 'BLOCKCE00', 'GEOID00',\n",
       "       'NAME00', 'MTFCC00', 'UR00', 'UACE00', 'FUNCSTAT00', 'ALAND00',\n",
       "       'AWATER00', 'INTPTLAT00', 'INTPTLON00', 'geometry'],\n",
       "      dtype='object')"
      ]
     },
     "execution_count": 75,
     "metadata": {},
     "output_type": "execute_result"
    }
   ],
   "source": [
    "adams00.columns"
   ]
  },
  {
   "cell_type": "code",
   "execution_count": 78,
   "metadata": {},
   "outputs": [
    {
     "data": {
      "text/html": [
       "<div>\n",
       "<style scoped>\n",
       "    .dataframe tbody tr th:only-of-type {\n",
       "        vertical-align: middle;\n",
       "    }\n",
       "\n",
       "    .dataframe tbody tr th {\n",
       "        vertical-align: top;\n",
       "    }\n",
       "\n",
       "    .dataframe thead th {\n",
       "        text-align: right;\n",
       "    }\n",
       "</style>\n",
       "<table border=\"1\" class=\"dataframe\">\n",
       "  <thead>\n",
       "    <tr style=\"text-align: right;\">\n",
       "      <th></th>\n",
       "      <th>STATEFP10</th>\n",
       "      <th>COUNTYFP10</th>\n",
       "      <th>TRACTCE10</th>\n",
       "      <th>BLOCKCE10</th>\n",
       "      <th>GEOID10</th>\n",
       "      <th>NAME10</th>\n",
       "      <th>MTFCC10</th>\n",
       "      <th>UR10</th>\n",
       "      <th>UACE10</th>\n",
       "      <th>UATYP10</th>\n",
       "      <th>FUNCSTAT10</th>\n",
       "      <th>ALAND10</th>\n",
       "      <th>AWATER10</th>\n",
       "      <th>INTPTLAT10</th>\n",
       "      <th>INTPTLON10</th>\n",
       "      <th>geometry</th>\n",
       "    </tr>\n",
       "  </thead>\n",
       "  <tbody>\n",
       "    <tr>\n",
       "      <th>0</th>\n",
       "      <td>08</td>\n",
       "      <td>001</td>\n",
       "      <td>008535</td>\n",
       "      <td>1020</td>\n",
       "      <td>080010085351020</td>\n",
       "      <td>Block 1020</td>\n",
       "      <td>G5040</td>\n",
       "      <td>U</td>\n",
       "      <td>23527</td>\n",
       "      <td>U</td>\n",
       "      <td>S</td>\n",
       "      <td>1312</td>\n",
       "      <td>0</td>\n",
       "      <td>+39.9143691</td>\n",
       "      <td>-104.8699465</td>\n",
       "      <td>POLYGON ((-750457.230 305640.186, -750448.278 ...</td>\n",
       "    </tr>\n",
       "    <tr>\n",
       "      <th>1</th>\n",
       "      <td>08</td>\n",
       "      <td>001</td>\n",
       "      <td>008535</td>\n",
       "      <td>1021</td>\n",
       "      <td>080010085351021</td>\n",
       "      <td>Block 1021</td>\n",
       "      <td>G5040</td>\n",
       "      <td>U</td>\n",
       "      <td>23527</td>\n",
       "      <td>U</td>\n",
       "      <td>S</td>\n",
       "      <td>11846</td>\n",
       "      <td>0</td>\n",
       "      <td>+39.9174508</td>\n",
       "      <td>-104.8601251</td>\n",
       "      <td>POLYGON ((-749274.479 306334.320, -749255.851 ...</td>\n",
       "    </tr>\n",
       "  </tbody>\n",
       "</table>\n",
       "</div>"
      ],
      "text/plain": [
       "  STATEFP10 COUNTYFP10 TRACTCE10 BLOCKCE10          GEOID10      NAME10  \\\n",
       "0        08        001    008535      1020  080010085351020  Block 1020   \n",
       "1        08        001    008535      1021  080010085351021  Block 1021   \n",
       "\n",
       "  MTFCC10 UR10 UACE10 UATYP10 FUNCSTAT10  ALAND10  AWATER10   INTPTLAT10  \\\n",
       "0   G5040    U  23527       U          S     1312         0  +39.9143691   \n",
       "1   G5040    U  23527       U          S    11846         0  +39.9174508   \n",
       "\n",
       "     INTPTLON10                                           geometry  \n",
       "0  -104.8699465  POLYGON ((-750457.230 305640.186, -750448.278 ...  \n",
       "1  -104.8601251  POLYGON ((-749274.479 306334.320, -749255.851 ...  "
      ]
     },
     "execution_count": 78,
     "metadata": {},
     "output_type": "execute_result"
    }
   ],
   "source": [
    "adams10.head(2)"
   ]
  },
  {
   "cell_type": "code",
   "execution_count": 79,
   "metadata": {},
   "outputs": [
    {
     "data": {
      "text/html": [
       "<div>\n",
       "<style scoped>\n",
       "    .dataframe tbody tr th:only-of-type {\n",
       "        vertical-align: middle;\n",
       "    }\n",
       "\n",
       "    .dataframe tbody tr th {\n",
       "        vertical-align: top;\n",
       "    }\n",
       "\n",
       "    .dataframe thead th {\n",
       "        text-align: right;\n",
       "    }\n",
       "</style>\n",
       "<table border=\"1\" class=\"dataframe\">\n",
       "  <thead>\n",
       "    <tr style=\"text-align: right;\">\n",
       "      <th></th>\n",
       "      <th>STATEFP00</th>\n",
       "      <th>COUNTYFP00</th>\n",
       "      <th>TRACTCE00</th>\n",
       "      <th>BLOCKCE00</th>\n",
       "      <th>GEOID00</th>\n",
       "      <th>NAME00</th>\n",
       "      <th>MTFCC00</th>\n",
       "      <th>UR00</th>\n",
       "      <th>UACE00</th>\n",
       "      <th>FUNCSTAT00</th>\n",
       "      <th>ALAND00</th>\n",
       "      <th>AWATER00</th>\n",
       "      <th>INTPTLAT00</th>\n",
       "      <th>INTPTLON00</th>\n",
       "      <th>geometry</th>\n",
       "    </tr>\n",
       "  </thead>\n",
       "  <tbody>\n",
       "    <tr>\n",
       "      <th>0</th>\n",
       "      <td>08</td>\n",
       "      <td>001</td>\n",
       "      <td>008516</td>\n",
       "      <td>2018</td>\n",
       "      <td>080010085162018</td>\n",
       "      <td>Block 2018</td>\n",
       "      <td>G5040</td>\n",
       "      <td>U</td>\n",
       "      <td>23527</td>\n",
       "      <td>S</td>\n",
       "      <td>42130</td>\n",
       "      <td>0</td>\n",
       "      <td>+39.9355109</td>\n",
       "      <td>-105.0291492</td>\n",
       "      <td>MULTIPOLYGON (((-763601.546 309210.937, -76362...</td>\n",
       "    </tr>\n",
       "    <tr>\n",
       "      <th>1</th>\n",
       "      <td>08</td>\n",
       "      <td>001</td>\n",
       "      <td>008515</td>\n",
       "      <td>1081</td>\n",
       "      <td>080010085151081</td>\n",
       "      <td>Block 1081</td>\n",
       "      <td>G5040</td>\n",
       "      <td>U</td>\n",
       "      <td>23527</td>\n",
       "      <td>S</td>\n",
       "      <td>16112</td>\n",
       "      <td>0</td>\n",
       "      <td>+39.9258092</td>\n",
       "      <td>-105.0471401</td>\n",
       "      <td>MULTIPOLYGON (((-765226.676 308438.253, -76517...</td>\n",
       "    </tr>\n",
       "  </tbody>\n",
       "</table>\n",
       "</div>"
      ],
      "text/plain": [
       "  STATEFP00 COUNTYFP00 TRACTCE00 BLOCKCE00          GEOID00      NAME00  \\\n",
       "0        08        001    008516      2018  080010085162018  Block 2018   \n",
       "1        08        001    008515      1081  080010085151081  Block 1081   \n",
       "\n",
       "  MTFCC00 UR00 UACE00 FUNCSTAT00  ALAND00  AWATER00   INTPTLAT00  \\\n",
       "0   G5040    U  23527          S    42130         0  +39.9355109   \n",
       "1   G5040    U  23527          S    16112         0  +39.9258092   \n",
       "\n",
       "     INTPTLON00                                           geometry  \n",
       "0  -105.0291492  MULTIPOLYGON (((-763601.546 309210.937, -76362...  \n",
       "1  -105.0471401  MULTIPOLYGON (((-765226.676 308438.253, -76517...  "
      ]
     },
     "execution_count": 79,
     "metadata": {},
     "output_type": "execute_result"
    }
   ],
   "source": [
    "adams00.head(2)"
   ]
  },
  {
   "cell_type": "code",
   "execution_count": 80,
   "metadata": {},
   "outputs": [
    {
     "data": {
      "text/plain": [
       "'00'"
      ]
     },
     "execution_count": 80,
     "metadata": {},
     "output_type": "execute_result"
    }
   ],
   "source": [
    "'2000'[-2:]"
   ]
  },
  {
   "cell_type": "markdown",
   "metadata": {},
   "source": [
    "blow up old county output gdfs"
   ]
  },
  {
   "cell_type": "code",
   "execution_count": 82,
   "metadata": {},
   "outputs": [],
   "source": [
    "for path in paths:\n",
    "    fips = path.split('\\\\')[-2]\n",
    "    if os.path.exists(os.path.join(path,f'{fips}.gpkg')) == True:\n",
    "        os.remove(os.path.join(path,f'{fips}.gpkg'))"
   ]
  },
  {
   "cell_type": "code",
   "execution_count": 83,
   "metadata": {},
   "outputs": [],
   "source": [
    "import fiona"
   ]
  },
  {
   "cell_type": "code",
   "execution_count": null,
   "metadata": {},
   "outputs": [],
   "source": []
  }
 ],
 "metadata": {
  "kernelspec": {
   "display_name": "geo_env",
   "language": "python",
   "name": "python3"
  },
  "language_info": {
   "codemirror_mode": {
    "name": "ipython",
    "version": 3
   },
   "file_extension": ".py",
   "mimetype": "text/x-python",
   "name": "python",
   "nbconvert_exporter": "python",
   "pygments_lexer": "ipython3",
   "version": "3.12.0"
  }
 },
 "nbformat": 4,
 "nbformat_minor": 2
}
