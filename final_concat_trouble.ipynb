{
 "cells": [
  {
   "cell_type": "code",
   "execution_count": 1,
   "metadata": {},
   "outputs": [
    {
     "name": "stderr",
     "output_type": "stream",
     "text": [
      "C:\\Users\\phwh9568\\AppData\\Local\\Temp\\ipykernel_17848\\542418829.py:1: DeprecationWarning: \n",
      "Pyarrow will become a required dependency of pandas in the next major release of pandas (pandas 3.0),\n",
      "(to allow more performant data types, such as the Arrow string type, and better interoperability with other libraries)\n",
      "but was not found to be installed on your system.\n",
      "If this would cause problems for you,\n",
      "please provide us feedback at https://github.com/pandas-dev/pandas/issues/54466\n",
      "        \n",
      "  import pandas as pd\n"
     ]
    }
   ],
   "source": [
    "import pandas as pd\n",
    "import os\n",
    "import geopandas as gpd"
   ]
  },
  {
   "cell_type": "code",
   "execution_count": 5,
   "metadata": {},
   "outputs": [
    {
     "name": "stdout",
     "output_type": "stream",
     "text": [
      "Help on function sjoin in module geopandas.tools.sjoin:\n",
      "\n",
      "sjoin(left_df, right_df, how='inner', predicate='intersects', lsuffix='left', rsuffix='right', **kwargs)\n",
      "    Spatial join of two GeoDataFrames.\n",
      "\n",
      "    See the User Guide page :doc:`../../user_guide/mergingdata` for details.\n",
      "\n",
      "\n",
      "    Parameters\n",
      "    ----------\n",
      "    left_df, right_df : GeoDataFrames\n",
      "    how : string, default 'inner'\n",
      "        The type of join:\n",
      "\n",
      "        * 'left': use keys from left_df; retain only left_df geometry column\n",
      "        * 'right': use keys from right_df; retain only right_df geometry column\n",
      "        * 'inner': use intersection of keys from both dfs; retain only\n",
      "          left_df geometry column\n",
      "    predicate : string, default 'intersects'\n",
      "        Binary predicate. Valid values are determined by the spatial index used.\n",
      "        You can check the valid values in left_df or right_df as\n",
      "        ``left_df.sindex.valid_query_predicates`` or\n",
      "        ``right_df.sindex.valid_query_predicates``\n",
      "        Replaces deprecated ``op`` parameter.\n",
      "    lsuffix : string, default 'left'\n",
      "        Suffix to apply to overlapping column names (left GeoDataFrame).\n",
      "    rsuffix : string, default 'right'\n",
      "        Suffix to apply to overlapping column names (right GeoDataFrame).\n",
      "\n",
      "    Examples\n",
      "    --------\n",
      "    >>> import geodatasets\n",
      "    >>> chicago = geopandas.read_file(\n",
      "    ...     geodatasets.get_path(\"geoda.chicago_health\")\n",
      "    ... )\n",
      "    >>> groceries = geopandas.read_file(\n",
      "    ...     geodatasets.get_path(\"geoda.groceries\")\n",
      "    ... ).to_crs(chicago.crs)\n",
      "\n",
      "    >>> chicago.head()  # doctest: +SKIP\n",
      "        ComAreaID  ...                                           geometry\n",
      "    0         35  ...  POLYGON ((-87.60914 41.84469, -87.60915 41.844...\n",
      "    1         36  ...  POLYGON ((-87.59215 41.81693, -87.59231 41.816...\n",
      "    2         37  ...  POLYGON ((-87.62880 41.80189, -87.62879 41.801...\n",
      "    3         38  ...  POLYGON ((-87.60671 41.81681, -87.60670 41.816...\n",
      "    4         39  ...  POLYGON ((-87.59215 41.81693, -87.59215 41.816...\n",
      "    [5 rows x 87 columns]\n",
      "\n",
      "    >>> groceries.head()  # doctest: +SKIP\n",
      "        OBJECTID     Ycoord  ...  Category                         geometry\n",
      "    0        16  41.973266  ...       NaN  MULTIPOINT (-87.65661 41.97321)\n",
      "    1        18  41.696367  ...       NaN  MULTIPOINT (-87.68136 41.69713)\n",
      "    2        22  41.868634  ...       NaN  MULTIPOINT (-87.63918 41.86847)\n",
      "    3        23  41.877590  ...       new  MULTIPOINT (-87.65495 41.87783)\n",
      "    4        27  41.737696  ...       NaN  MULTIPOINT (-87.62715 41.73623)\n",
      "    [5 rows x 8 columns]\n",
      "\n",
      "    >>> groceries_w_communities = geopandas.sjoin(groceries, chicago)\n",
      "    >>> groceries_w_communities.head()  # doctest: +SKIP\n",
      "            OBJECTID     Ycoord     Xcoord  ... GonorrF GonorrM Tuberc\n",
      "    0          16  41.973266 -87.657073  ...   170.8   468.7   13.6\n",
      "    87        365  41.961707 -87.654058  ...   170.8   468.7   13.6\n",
      "    90        373  41.963131 -87.656352  ...   170.8   468.7   13.6\n",
      "    140       582  41.969131 -87.674882  ...   170.8   468.7   13.6\n",
      "    1          18  41.696367 -87.681315  ...   800.5   741.1    2.6\n",
      "    [5 rows x 95 columns]\n",
      "\n",
      "    See also\n",
      "    --------\n",
      "    overlay : overlay operation resulting in a new geometry\n",
      "    GeoDataFrame.sjoin : equivalent method\n",
      "\n",
      "    Notes\n",
      "    -----\n",
      "    Every operation in GeoPandas is planar, i.e. the potential third\n",
      "    dimension is not taken into account.\n",
      "\n"
     ]
    }
   ],
   "source": [
    "help(gpd.sjoin)"
   ]
  },
  {
   "cell_type": "code",
   "execution_count": 3,
   "metadata": {},
   "outputs": [],
   "source": [
    "counties = r'C:\\Users\\phwh9568\\Data\\ParcelAtlas\\CO_2022\\Counties'"
   ]
  },
  {
   "cell_type": "code",
   "execution_count": 2,
   "metadata": {},
   "outputs": [],
   "source": [
    "import pyogrio"
   ]
  },
  {
   "cell_type": "code",
   "execution_count": 5,
   "metadata": {},
   "outputs": [],
   "source": [
    "mhp = pd.read_csv(os.path.join(counties,'08001','MHP_08001_COSTAR.csv'), dtype={'MH_COUNTY_FIPS':str, 'MH_APN':str, 'APN':str, 'APN2':str})"
   ]
  },
  {
   "cell_type": "code",
   "execution_count": 6,
   "metadata": {},
   "outputs": [
    {
     "data": {
      "text/plain": [
       "Index(['Unnamed: 0.3', 'Unnamed: 0.2', 'Unnamed: 0.1', 'Unnamed: 0',\n",
       "       'MH_prop_id', 'MH_prop_name', 'MH_prop_city', 'MH_prop_state',\n",
       "       'MH_prop_county', 'MH_prop_zip', 'MH_lat', 'MH_long', 'MH_APN',\n",
       "       'MH_units', 'MH_COUNTY_FIPS'],\n",
       "      dtype='object')"
      ]
     },
     "execution_count": 6,
     "metadata": {},
     "output_type": "execute_result"
    }
   ],
   "source": [
    "mhp.columns"
   ]
  },
  {
   "cell_type": "code",
   "execution_count": null,
   "metadata": {},
   "outputs": [],
   "source": []
  },
  {
   "cell_type": "code",
   "execution_count": 5,
   "metadata": {},
   "outputs": [],
   "source": [
    "adamsDir = os.path.join(counties,'08001')"
   ]
  },
  {
   "cell_type": "code",
   "execution_count": 6,
   "metadata": {},
   "outputs": [],
   "source": [
    "adams00 = gpd.read_file(os.path.join(adamsDir,'08001.gpkg'),layer='MH_parc_blk_union2000')"
   ]
  },
  {
   "cell_type": "code",
   "execution_count": 7,
   "metadata": {},
   "outputs": [],
   "source": [
    "adams10 = gpd.read_file(os.path.join(adamsDir,'08001.gpkg'),layer='MH_parc_blk_union2010')"
   ]
  },
  {
   "cell_type": "code",
   "execution_count": 18,
   "metadata": {},
   "outputs": [],
   "source": [
    "del adams00"
   ]
  },
  {
   "cell_type": "code",
   "execution_count": 17,
   "metadata": {},
   "outputs": [],
   "source": [
    "del adams10"
   ]
  },
  {
   "cell_type": "code",
   "execution_count": 11,
   "metadata": {},
   "outputs": [],
   "source": [
    "cols = adams10.columns"
   ]
  },
  {
   "cell_type": "code",
   "execution_count": 13,
   "metadata": {},
   "outputs": [],
   "source": [
    "mhps = pd.read_csv(os.path.join(counties,'08001','MHP_08001_COSTAR.csv'), dtype={'MH_COUNTY_FIPS':str, 'MH_APN':str})"
   ]
  },
  {
   "cell_type": "code",
   "execution_count": 16,
   "metadata": {},
   "outputs": [],
   "source": [
    "del mhps"
   ]
  },
  {
   "cell_type": "code",
   "execution_count": 24,
   "metadata": {},
   "outputs": [],
   "source": [
    "co00 = pd.read_csv(os.path.join(counties,'08_2000_final.csv')) \n",
    "co10 = pd.read_csv(os.path.join(counties,'08_2010_final.csv'))"
   ]
  },
  {
   "cell_type": "code",
   "execution_count": 20,
   "metadata": {},
   "outputs": [
    {
     "data": {
      "text/plain": [
       "Index(['Unnamed: 0', 'MH_prop_id', 'MH_prop_name', 'MH_prop_city',\n",
       "       'MH_prop_state', 'MH_prop_county', 'MH_prop_zip', 'MH_lat', 'MH_long',\n",
       "       'MH_APN', 'MH_units', 'MH_COUNTY_FIPS', 'STATEFP00', 'COUNTYFP00',\n",
       "       'TRACTCE00', 'BLOCKCE00', 'GEOID00', 'NAME00', 'MTFCC00', 'UR00',\n",
       "       'UACE00', 'FUNCSTAT00', 'ALAND00', 'AWATER00', 'INTPTLAT00',\n",
       "       'INTPTLON00', 'blockArea_m', 'APN', 'APN2', 'OWNER', 'Sum_Within',\n",
       "       'mnBlgArea', 'intLen', 'intZscore', 'extLen1', 'extZscore1', 'APN_JOIN',\n",
       "       'distances', 'MH_Parcel_Count', 'Total_Blds', 'BLD_UNIT_MARGIN',\n",
       "       'geometry', 'unionArea_m', 'blockParcel_ratio'],\n",
       "      dtype='object')"
      ]
     },
     "execution_count": 20,
     "metadata": {},
     "output_type": "execute_result"
    }
   ],
   "source": [
    "co00.columns"
   ]
  },
  {
   "cell_type": "code",
   "execution_count": 21,
   "metadata": {},
   "outputs": [
    {
     "data": {
      "text/plain": [
       "False"
      ]
     },
     "execution_count": 21,
     "metadata": {},
     "output_type": "execute_result"
    }
   ],
   "source": [
    "len(co00) == len(co10)"
   ]
  },
  {
   "cell_type": "code",
   "execution_count": 22,
   "metadata": {},
   "outputs": [
    {
     "data": {
      "text/plain": [
       "0     -21.739130\n",
       "1     -21.739130\n",
       "2     -10.223642\n",
       "3     -10.223642\n",
       "4     -10.223642\n",
       "         ...    \n",
       "525    58.139535\n",
       "526    58.139535\n",
       "527    58.139535\n",
       "528    58.139535\n",
       "529          NaN\n",
       "Name: BLD_UNIT_MARGIN, Length: 530, dtype: float64"
      ]
     },
     "execution_count": 22,
     "metadata": {},
     "output_type": "execute_result"
    }
   ],
   "source": [
    "co00.BLD_UNIT_MARGIN"
   ]
  },
  {
   "cell_type": "code",
   "execution_count": 23,
   "metadata": {},
   "outputs": [
    {
     "data": {
      "text/plain": [
       "0     -21.739130\n",
       "1     -21.739130\n",
       "2     -10.223642\n",
       "3     -10.223642\n",
       "4     -10.223642\n",
       "         ...    \n",
       "628    58.139535\n",
       "629    58.139535\n",
       "630    58.139535\n",
       "631    58.139535\n",
       "632          NaN\n",
       "Name: BLD_UNIT_MARGIN, Length: 633, dtype: float64"
      ]
     },
     "execution_count": 23,
     "metadata": {},
     "output_type": "execute_result"
    }
   ],
   "source": [
    "co10.BLD_UNIT_MARGIN"
   ]
  },
  {
   "cell_type": "code",
   "execution_count": 34,
   "metadata": {},
   "outputs": [],
   "source": [
    "yr = 00\n",
    "adams00 = pd.read_csv(os.path.join(counties,'08001', 'union_csv2000.csv'), dtype={f'STATEFP{yr}':str,f'COUNTYFP{yr}':str,f'TRACTCE{yr}':str,f'BLOCKCE{yr}':str,f'GEOID{yr}':str,f'MTFCC{yr}':str,f'UACE{yr}':str,f'GEOID{yr}':str, 'MH_COUNTY_FIPS':str, 'MH_APN':str, co00 = pd.read_csv(os.path.join(counties,'08_2000_final.csv'))  'APN2':str})"
   ]
  },
  {
   "cell_type": "code",
   "execution_count": 51,
   "metadata": {},
   "outputs": [
    {
     "data": {
      "text/plain": [
       "str"
      ]
     },
     "execution_count": 51,
     "metadata": {},
     "output_type": "execute_result"
    }
   ],
   "source": [
    "type(adams00['APN'][0])"
   ]
  },
  {
   "cell_type": "code",
   "execution_count": 49,
   "metadata": {},
   "outputs": [],
   "source": [
    "stateFinalDF = pd.DataFrame()"
   ]
  },
  {
   "cell_type": "code",
   "execution_count": 52,
   "metadata": {},
   "outputs": [],
   "source": [
    "stateFinalDF = pd.concat([stateFinalDF, adams00])"
   ]
  },
  {
   "cell_type": "code",
   "execution_count": 53,
   "metadata": {},
   "outputs": [
    {
     "data": {
      "text/plain": [
       "str"
      ]
     },
     "execution_count": 53,
     "metadata": {},
     "output_type": "execute_result"
    }
   ],
   "source": [
    "type(stateFinalDF['APN'][0])"
   ]
  },
  {
   "cell_type": "code",
   "execution_count": 42,
   "metadata": {},
   "outputs": [],
   "source": [
    "co00 = pd.read_csv(os.path.join(counties,'08_2000_final.csv')) "
   ]
  },
  {
   "cell_type": "code",
   "execution_count": 43,
   "metadata": {},
   "outputs": [
    {
     "data": {
      "text/plain": [
       "numpy.float64"
      ]
     },
     "execution_count": 43,
     "metadata": {},
     "output_type": "execute_result"
    }
   ],
   "source": [
    "type(co00['APN'][0])"
   ]
  },
  {
   "cell_type": "code",
   "execution_count": 54,
   "metadata": {},
   "outputs": [],
   "source": [
    "stateFinalDF.to_csv(os.path.join(counties,'testOut.csv'))"
   ]
  },
  {
   "cell_type": "code",
   "execution_count": 57,
   "metadata": {},
   "outputs": [],
   "source": [
    "testOut = pd.read_csv(os.path.join(counties,'testOut.csv'), dtype={'APN':str})"
   ]
  },
  {
   "cell_type": "code",
   "execution_count": 58,
   "metadata": {},
   "outputs": [
    {
     "data": {
      "text/plain": [
       "str"
      ]
     },
     "execution_count": 58,
     "metadata": {},
     "output_type": "execute_result"
    }
   ],
   "source": [
    "type(testOut['APN'][0])"
   ]
  },
  {
   "cell_type": "code",
   "execution_count": null,
   "metadata": {},
   "outputs": [],
   "source": []
  }
 ],
 "metadata": {
  "kernelspec": {
   "display_name": "gis_env",
   "language": "python",
   "name": "python3"
  },
  "language_info": {
   "codemirror_mode": {
    "name": "ipython",
    "version": 3
   },
   "file_extension": ".py",
   "mimetype": "text/x-python",
   "name": "python",
   "nbconvert_exporter": "python",
   "pygments_lexer": "ipython3",
   "version": "3.12.0"
  }
 },
 "nbformat": 4,
 "nbformat_minor": 2
}
