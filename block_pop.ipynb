{
 "cells": [
  {
   "cell_type": "code",
   "execution_count": 298,
   "metadata": {},
   "outputs": [],
   "source": [
    "import pandas as pd\n",
    "import geopandas as gpd\n",
    "import os\n",
    "import parcelfunks\n",
    "import csv\n",
    "import numpy as np\n",
    "from scipy import stats"
   ]
  },
  {
   "cell_type": "code",
   "execution_count": 2,
   "metadata": {},
   "outputs": [],
   "source": [
    "import glob"
   ]
  },
  {
   "cell_type": "markdown",
   "metadata": {},
   "source": [
    "Checking to see if lengths match\n"
   ]
  },
  {
   "cell_type": "code",
   "execution_count": 157,
   "metadata": {},
   "outputs": [],
   "source": [
    "pop_dir = r'C:\\Users\\phwh9568\\OneDrive - UCB-O365\\UCB\\Desktop\\DECENNIALSF12010.H10_2023-09-21T172526'"
   ]
  },
  {
   "cell_type": "code",
   "execution_count": 158,
   "metadata": {},
   "outputs": [],
   "source": [
    "counties_dir = r'C:\\Users\\phwh9568\\Data\\ParcelAtlas\\CO_2022\\counties'\n",
    "blocksPath = r'C:\\Users\\phwh9568\\Data\\Census2020\\tl_2020_08_all\\tl_2020_08_tabblock10.shp'"
   ]
  },
  {
   "cell_type": "code",
   "execution_count": 181,
   "metadata": {},
   "outputs": [],
   "source": [
    "COBlocks = gpd.read_file(blocksPath, dtype={'GEOID10':str})"
   ]
  },
  {
   "cell_type": "code",
   "execution_count": 182,
   "metadata": {},
   "outputs": [
    {
     "data": {
      "text/plain": [
       "10139"
      ]
     },
     "execution_count": 182,
     "metadata": {},
     "output_type": "execute_result"
    }
   ],
   "source": [
    "len(COBlocks.loc[COBlocks['GEOID10'].str.startswith('08059')])"
   ]
  },
  {
   "cell_type": "code",
   "execution_count": 183,
   "metadata": {},
   "outputs": [
    {
     "name": "stderr",
     "output_type": "stream",
     "text": [
      "c:\\Users\\phwh9568\\AppData\\Local\\Continuum\\anaconda3\\lib\\site-packages\\IPython\\core\\interactiveshell.py:3524: DtypeWarning: Columns (7,8) have mixed types.Specify dtype option on import or set low_memory=False.\n",
      "  exec(code_obj, self.user_global_ns, self.user_ns)\n"
     ]
    }
   ],
   "source": [
    "CO_BlocksPop = pd.read_csv(os.path.join(pop_dir,'Colorado_BLocks_Pop_2010.csv'), dtype={'GEOID': str})"
   ]
  },
  {
   "cell_type": "code",
   "execution_count": 184,
   "metadata": {},
   "outputs": [
    {
     "data": {
      "text/plain": [
       "10139"
      ]
     },
     "execution_count": 184,
     "metadata": {},
     "output_type": "execute_result"
    }
   ],
   "source": [
    "len(CO_BlocksPop.loc[CO_BlocksPop['GEOID'].str.startswith('08059')])"
   ]
  },
  {
   "cell_type": "code",
   "execution_count": 185,
   "metadata": {},
   "outputs": [
    {
     "data": {
      "text/plain": [
       "True"
      ]
     },
     "execution_count": 185,
     "metadata": {},
     "output_type": "execute_result"
    }
   ],
   "source": [
    "len(CO_BlocksPop) == len(COBlocks)"
   ]
  },
  {
   "cell_type": "code",
   "execution_count": 186,
   "metadata": {},
   "outputs": [],
   "source": [
    "CO_BlocksPop.rename({'GEOID':'GEOID10', 'Total':'Pop_Total'}, axis='columns',inplace=True)"
   ]
  },
  {
   "cell_type": "code",
   "execution_count": 187,
   "metadata": {},
   "outputs": [
    {
     "data": {
      "text/plain": [
       "Index(['GEO_ID', 'GEOID10', 'NAME', 'H010001', 'H010001ERR', 'Geography',\n",
       "       'Geographic Area Name', 'Pop_Total', 'Errata of Total'],\n",
       "      dtype='object')"
      ]
     },
     "execution_count": 187,
     "metadata": {},
     "output_type": "execute_result"
    }
   ],
   "source": [
    "CO_BlocksPop.columns"
   ]
  },
  {
   "cell_type": "code",
   "execution_count": 188,
   "metadata": {},
   "outputs": [
    {
     "data": {
      "text/plain": [
       "Index(['STATEFP10', 'COUNTYFP10', 'TRACTCE10', 'BLOCKCE10', 'GEOID10',\n",
       "       'NAME10', 'MTFCC10', 'UR10', 'UACE10', 'UATYPE', 'FUNCSTAT10',\n",
       "       'ALAND10', 'AWATER10', 'INTPTLAT10', 'INTPTLON10', 'geometry'],\n",
       "      dtype='object')"
      ]
     },
     "execution_count": 188,
     "metadata": {},
     "output_type": "execute_result"
    }
   ],
   "source": [
    "COBlocks.columns"
   ]
  },
  {
   "cell_type": "markdown",
   "metadata": {},
   "source": [
    "merge:"
   ]
  },
  {
   "cell_type": "code",
   "execution_count": 189,
   "metadata": {},
   "outputs": [],
   "source": [
    "COBlocks = COBlocks.merge(CO_BlocksPop,on='GEOID10')"
   ]
  },
  {
   "cell_type": "code",
   "execution_count": 190,
   "metadata": {},
   "outputs": [
    {
     "data": {
      "text/plain": [
       "True"
      ]
     },
     "execution_count": 190,
     "metadata": {},
     "output_type": "execute_result"
    }
   ],
   "source": [
    "len(CO_BlocksPop) == len(COBlocks)"
   ]
  },
  {
   "cell_type": "markdown",
   "metadata": {},
   "source": [
    "drop extra columns:"
   ]
  },
  {
   "cell_type": "code",
   "execution_count": 191,
   "metadata": {},
   "outputs": [],
   "source": [
    "drops = CO_BlocksPop.columns.tolist()\n",
    "drops.remove('Pop_Total')\n",
    "drops.remove('GEOID10')"
   ]
  },
  {
   "cell_type": "code",
   "execution_count": 192,
   "metadata": {},
   "outputs": [],
   "source": [
    "COBlocks.drop(drops,axis=1, inplace=True)"
   ]
  },
  {
   "cell_type": "markdown",
   "metadata": {},
   "source": [
    "reproject to albers:"
   ]
  },
  {
   "cell_type": "code",
   "execution_count": 172,
   "metadata": {},
   "outputs": [],
   "source": [
    "blocksAlbers = COBlocks.to_crs(crs='ESRI:102003')\n",
    "blocksAlbers['blockArea_m'] = blocksAlbers['geometry'].area"
   ]
  },
  {
   "cell_type": "markdown",
   "metadata": {},
   "source": [
    "split based on counties and write into county dirs:  \n",
    "Hold off on this... TURNS OUT parcelInventory.csv IS BAD"
   ]
  },
  {
   "cell_type": "code",
   "execution_count": 88,
   "metadata": {},
   "outputs": [],
   "source": [
    "externalDrive = r'E:/'\n",
    "pInventory = pd.read_csv(os.path.join(externalDrive,'parcelInventory.csv'), dtype={'STATE':str,'COUNTY':str})\n",
    "CO_path = r'C:\\Users\\phwh9568\\Data\\ParcelAtlas\\CO_2022\\Counties'\n",
    "CO_pInventory = pInventory.loc[pInventory['STATE']=='08']\n",
    "CO_pInventory_True = CO_pInventory.loc[CO_pInventory['DATA_PRESENT']==True]\n",
    "CO_pInventory_False = CO_pInventory.loc[CO_pInventory['DATA_PRESENT']==False]\n",
    "CO_pInventory_False.to_csv(os.path.join(CO_path,'missingParcelData.csv'))\n",
    "fipsList = CO_pInventory_True['COUNTY'].tolist()   \n",
    "parcelsPaths = [os.path.join(CO_path,fips) for fips in fipsList]"
   ]
  },
  {
   "cell_type": "code",
   "execution_count": 23,
   "metadata": {},
   "outputs": [],
   "source": [
    "#not used\n",
    "geoidList = []\n",
    "for g in blocksAlbers.GEOID10.to_list():\n",
    "    geoidList.append(g[0:5])"
   ]
  },
  {
   "cell_type": "code",
   "execution_count": 77,
   "metadata": {},
   "outputs": [],
   "source": [
    "# NOT USING THIS\n",
    "parcelsPaths = glob.glob(r'c:/users/phwh9568/data/ParcelAtlas/CO_2022/Counties/08*')\n",
    "fipsList = [p.split('\\\\')[-1] for p in parcelsPaths]\n",
    "len(fipsList) == len(parcelsPaths)"
   ]
  },
  {
   "cell_type": "code",
   "execution_count": 396,
   "metadata": {},
   "outputs": [],
   "source": [
    "externalDrive = r'E:/'\n",
    "CO_path = r'C:\\Users\\phwh9568\\Data\\ParcelAtlas\\CO_2022\\Counties'\n",
    "pInventory = pd.read_csv(os.path.join(CO_path,'ColoradoInventory.csv'), dtype={'STATE':str,'COUNTY':str})\n",
    "CO_pInventory = pInventory.loc[pInventory['STATE']=='08']\n",
    "CO_pInventory_True = CO_pInventory.loc[CO_pInventory['DATA_PRESENT']==True]\n",
    "CO_pInventory_False = CO_pInventory.loc[CO_pInventory['DATA_PRESENT']==False]\n",
    "CO_pInventory_False.to_csv(os.path.join(CO_path,'missingParcelData.csv'))\n",
    "fipsList = CO_pInventory_True['COUNTY'].tolist()   \n",
    "parcelsPaths = [os.path.join(CO_path,fips) for fips in fipsList]"
   ]
  },
  {
   "cell_type": "code",
   "execution_count": 194,
   "metadata": {},
   "outputs": [],
   "source": [
    "#SPLIT BLOCKS INTO COUNTY DIRS\n",
    "for fips,path in zip(fipsList,parcelsPaths):\n",
    "    countyBlocks = (blocksAlbers.loc[blocksAlbers['GEOID10'].str.startswith(fips)])    \n",
    "    if len(countyBlocks) > 0:\n",
    "        countyBlocks.to_file(os.path.join(path,fips+'_blocks.gpkg'), layer=fips+'_blocks')\n",
    "    else:\n",
    "        print(os.path.join(path,fips))"
   ]
  },
  {
   "cell_type": "markdown",
   "metadata": {},
   "source": [
    "#### Now splitting mobile homes into county directories"
   ]
  },
  {
   "cell_type": "markdown",
   "metadata": {},
   "source": [
    "Get mhps into a gpkg"
   ]
  },
  {
   "cell_type": "code",
   "execution_count": 129,
   "metadata": {},
   "outputs": [],
   "source": [
    "mhps = gpd.read_file(r'C:\\Users\\phwh9568\\Data\\ParcelAtlas\\Mobile_Home_Parks\\MHPgeocoded.shp')"
   ]
  },
  {
   "cell_type": "code",
   "execution_count": 130,
   "metadata": {},
   "outputs": [
    {
     "data": {
      "text/plain": [
       "<Geographic 2D CRS: EPSG:4269>\n",
       "Name: NAD83\n",
       "Axis Info [ellipsoidal]:\n",
       "- Lat[north]: Geodetic latitude (degree)\n",
       "- Lon[east]: Geodetic longitude (degree)\n",
       "Area of Use:\n",
       "- name: North America - NAD83\n",
       "- bounds: (167.65, 14.92, -47.74, 86.46)\n",
       "Datum: North American Datum 1983\n",
       "- Ellipsoid: GRS 1980\n",
       "- Prime Meridian: Greenwich"
      ]
     },
     "execution_count": 130,
     "metadata": {},
     "output_type": "execute_result"
    }
   ],
   "source": [
    "mhps.crs"
   ]
  },
  {
   "cell_type": "code",
   "execution_count": 117,
   "metadata": {},
   "outputs": [],
   "source": [
    "co_mhps = mhps.loc[mhps['USER_COU_1'].str.startswith('08')]"
   ]
  },
  {
   "cell_type": "code",
   "execution_count": 118,
   "metadata": {},
   "outputs": [],
   "source": [
    "mhomesPath = r'C:\\Users\\phwh9568\\Data\\ParcelAtlas\\CO_2022\\08_MHPs.gpkg'"
   ]
  },
  {
   "cell_type": "code",
   "execution_count": 119,
   "metadata": {},
   "outputs": [],
   "source": [
    "co_mhps.to_file(mhomesPath, layer='08_MHPs')"
   ]
  },
  {
   "cell_type": "code",
   "execution_count": 120,
   "metadata": {},
   "outputs": [],
   "source": [
    "mhomesPrepped = parcelfunks.mhomes_prepper(mhomesPath)\n",
    "mhomesPrepped.to_file(mhomesPath, layer='08_MHPs_Prepped')"
   ]
  },
  {
   "cell_type": "code",
   "execution_count": 124,
   "metadata": {},
   "outputs": [],
   "source": [
    "mhps = mhomesPrepped"
   ]
  },
  {
   "cell_type": "code",
   "execution_count": 279,
   "metadata": {},
   "outputs": [],
   "source": [
    "externalDrive = r'E:/'\n",
    "CO_path = r'C:\\Users\\phwh9568\\Data\\ParcelAtlas\\CO_2022\\Counties'\n",
    "pInventory = pd.read_csv(os.path.join(CO_path,'ColoradoInventory.csv'), dtype={'STATE':str,'COUNTY':str})\n",
    "CO_pInventory = pInventory.loc[pInventory['STATE']=='08']\n",
    "CO_pInventory_True = CO_pInventory.loc[CO_pInventory['DATA_PRESENT']==True]\n",
    "CO_pInventory_False = CO_pInventory.loc[CO_pInventory['DATA_PRESENT']==False]\n",
    "CO_pInventory_False.to_csv(os.path.join(CO_path,'missingParcelData.csv'))\n",
    "fipsList = CO_pInventory_True['COUNTY'].tolist()   \n",
    "parcelsPaths = [os.path.join(CO_path,fips) for fips in fipsList]"
   ]
  },
  {
   "cell_type": "code",
   "execution_count": 156,
   "metadata": {},
   "outputs": [
    {
     "name": "stdout",
     "output_type": "stream",
     "text": [
      "C:\\Users\\phwh9568\\Data\\ParcelAtlas\\CO_2022\\Counties\\08017\\08017\n",
      "C:\\Users\\phwh9568\\Data\\ParcelAtlas\\CO_2022\\Counties\\08023\\08023\n",
      "C:\\Users\\phwh9568\\Data\\ParcelAtlas\\CO_2022\\Counties\\08033\\08033\n",
      "C:\\Users\\phwh9568\\Data\\ParcelAtlas\\CO_2022\\Counties\\08047\\08047\n",
      "C:\\Users\\phwh9568\\Data\\ParcelAtlas\\CO_2022\\Counties\\08079\\08079\n",
      "C:\\Users\\phwh9568\\Data\\ParcelAtlas\\CO_2022\\Counties\\08109\\08109\n",
      "C:\\Users\\phwh9568\\Data\\ParcelAtlas\\CO_2022\\Counties\\08111\\08111\n",
      "C:\\Users\\phwh9568\\Data\\ParcelAtlas\\CO_2022\\Counties\\08115\\08115\n"
     ]
    }
   ],
   "source": [
    "#SPLIT MOBILE HOME PARKS INTO COUNTY DIRS\n",
    "for fips,path in zip(fipsList,parcelsPaths):\n",
    "    countyMHPs = (mhps.loc[mhps['MH_COUNTY_FIPS']==fips])    \n",
    "    if len(countyMHPs) > 0:\n",
    "        countyMHPs.to_file(os.path.join(path,fips+'_mhps.gpkg'), layer=fips+'_mhps')\n",
    "    else:\n",
    "        print(os.path.join(path,fips))"
   ]
  },
  {
   "cell_type": "markdown",
   "metadata": {},
   "source": [
    "#### Repeat above mobile home splitting using original dataset (non-regeocoded)"
   ]
  },
  {
   "cell_type": "code",
   "execution_count": 274,
   "metadata": {},
   "outputs": [
    {
     "data": {
      "text/plain": [
       "<module 'parcelfunks' from 'c:\\\\Users\\\\phwh9568\\\\Data\\\\ParcelAtlas\\\\CO_2022\\\\parcelfunks.py'>"
      ]
     },
     "execution_count": 274,
     "metadata": {},
     "output_type": "execute_result"
    }
   ],
   "source": [
    "from importlib import reload\n",
    "reload(parcelfunks)"
   ]
  },
  {
   "cell_type": "code",
   "execution_count": 128,
   "metadata": {},
   "outputs": [],
   "source": [
    "mhps_OG = gpd.read_file(r'C:\\Users\\phwh9568\\Data\\ParcelAtlas\\Mobile_Home_Parks\\MobileHomeParks.shp')\n"
   ]
  },
  {
   "cell_type": "code",
   "execution_count": 134,
   "metadata": {},
   "outputs": [],
   "source": [
    "mhps_OG.to_crs(4269, inplace=True)"
   ]
  },
  {
   "cell_type": "code",
   "execution_count": 135,
   "metadata": {},
   "outputs": [],
   "source": [
    "co_mhps_OG = mhps_OG.loc[mhps_OG['COUNTYFIPS'].str.startswith('08')]"
   ]
  },
  {
   "cell_type": "code",
   "execution_count": 136,
   "metadata": {},
   "outputs": [],
   "source": [
    "mhomesPath_OG = r'C:\\Users\\phwh9568\\Data\\ParcelAtlas\\CO_2022\\08_MHPs_OG.gpkg'"
   ]
  },
  {
   "cell_type": "code",
   "execution_count": 137,
   "metadata": {},
   "outputs": [],
   "source": [
    "co_mhps_OG.to_file(mhomesPath_OG, layer='08_MHPs_OG')"
   ]
  },
  {
   "cell_type": "code",
   "execution_count": 138,
   "metadata": {},
   "outputs": [
    {
     "data": {
      "text/plain": [
       "Index(['OBJECTID', 'MHPID', 'NAME', 'ADDRESS', 'CITY', 'STATE', 'ZIP', 'ZIP4',\n",
       "       'TELEPHONE', 'TYPE', 'STATUS', 'COUNTY', 'COUNTYFIPS', 'COUNTRY',\n",
       "       'LATITUDE', 'LONGITUDE', 'NAICS_CODE', 'NAICS_DESC', 'SOURCE',\n",
       "       'SOURCEDATE', 'VAL_METHOD', 'VAL_DATE', 'WEBSITE', 'UNITS', 'SIZE',\n",
       "       'REVGEOFLAG', 'geometry'],\n",
       "      dtype='object')"
      ]
     },
     "execution_count": 138,
     "metadata": {},
     "output_type": "execute_result"
    }
   ],
   "source": [
    "co_mhps_OG.columns"
   ]
  },
  {
   "cell_type": "code",
   "execution_count": 139,
   "metadata": {},
   "outputs": [],
   "source": [
    "mhomesPrepped_OG = parcelfunks.mhomes_prepper2(mhomesPath_OG)\n",
    "mhomesPrepped_OG.to_file(mhomesPath_OG, layer='08_MHPs_Prepped_OG')"
   ]
  },
  {
   "cell_type": "code",
   "execution_count": 140,
   "metadata": {},
   "outputs": [
    {
     "data": {
      "text/html": [
       "<div>\n",
       "<style scoped>\n",
       "    .dataframe tbody tr th:only-of-type {\n",
       "        vertical-align: middle;\n",
       "    }\n",
       "\n",
       "    .dataframe tbody tr th {\n",
       "        vertical-align: top;\n",
       "    }\n",
       "\n",
       "    .dataframe thead th {\n",
       "        text-align: right;\n",
       "    }\n",
       "</style>\n",
       "<table border=\"1\" class=\"dataframe\">\n",
       "  <thead>\n",
       "    <tr style=\"text-align: right;\">\n",
       "      <th></th>\n",
       "      <th>MHPID</th>\n",
       "      <th>MH_NAME</th>\n",
       "      <th>MH_ADDRESS</th>\n",
       "      <th>MH_CITY</th>\n",
       "      <th>MH_STATE</th>\n",
       "      <th>MH_ZIP</th>\n",
       "      <th>MH_STATUS</th>\n",
       "      <th>MH_COUNTY_FIPS</th>\n",
       "      <th>MH_LATITUDE</th>\n",
       "      <th>MH_LONGITUDE</th>\n",
       "      <th>geometry</th>\n",
       "    </tr>\n",
       "  </thead>\n",
       "  <tbody>\n",
       "    <tr>\n",
       "      <th>0</th>\n",
       "      <td>41534.0</td>\n",
       "      <td>NOT AVAILABLE</td>\n",
       "      <td>938 DENVER AVE</td>\n",
       "      <td>FORT LUPTON</td>\n",
       "      <td>CO</td>\n",
       "      <td>80621</td>\n",
       "      <td>OPEN</td>\n",
       "      <td>08123</td>\n",
       "      <td>40.088103</td>\n",
       "      <td>-104.810604</td>\n",
       "      <td>POINT (-104.81060 40.08810)</td>\n",
       "    </tr>\n",
       "    <tr>\n",
       "      <th>1</th>\n",
       "      <td>41535.0</td>\n",
       "      <td>NOT AVAILABLE</td>\n",
       "      <td>2485 FOLSOM ST</td>\n",
       "      <td>BOULDER</td>\n",
       "      <td>CO</td>\n",
       "      <td>80304</td>\n",
       "      <td>OPEN</td>\n",
       "      <td>08013</td>\n",
       "      <td>40.025773</td>\n",
       "      <td>-105.262849</td>\n",
       "      <td>POINT (-105.26285 40.02577)</td>\n",
       "    </tr>\n",
       "    <tr>\n",
       "      <th>2</th>\n",
       "      <td>41537.0</td>\n",
       "      <td>FORT COLLINS KOA</td>\n",
       "      <td>LAKESIDE RESORT LN</td>\n",
       "      <td>FORT COLLINS</td>\n",
       "      <td>CO</td>\n",
       "      <td>80524</td>\n",
       "      <td>OPEN</td>\n",
       "      <td>08069</td>\n",
       "      <td>40.615220</td>\n",
       "      <td>-105.108135</td>\n",
       "      <td>POINT (-105.10814 40.61522)</td>\n",
       "    </tr>\n",
       "    <tr>\n",
       "      <th>3</th>\n",
       "      <td>41518.0</td>\n",
       "      <td>NOT AVAILABLE</td>\n",
       "      <td>2406 KARA CT</td>\n",
       "      <td>PUEBLO</td>\n",
       "      <td>CO</td>\n",
       "      <td>81004</td>\n",
       "      <td>OPEN</td>\n",
       "      <td>08101</td>\n",
       "      <td>38.232781</td>\n",
       "      <td>-104.639150</td>\n",
       "      <td>POINT (-104.63915 38.23278)</td>\n",
       "    </tr>\n",
       "    <tr>\n",
       "      <th>4</th>\n",
       "      <td>41507.0</td>\n",
       "      <td>NOT AVAILABLE</td>\n",
       "      <td>1050 W JEFFERSON AVE</td>\n",
       "      <td>HAYDEN</td>\n",
       "      <td>CO</td>\n",
       "      <td>81639</td>\n",
       "      <td>OPEN</td>\n",
       "      <td>08107</td>\n",
       "      <td>40.494103</td>\n",
       "      <td>-107.269038</td>\n",
       "      <td>POINT (-107.26904 40.49410)</td>\n",
       "    </tr>\n",
       "    <tr>\n",
       "      <th>...</th>\n",
       "      <td>...</td>\n",
       "      <td>...</td>\n",
       "      <td>...</td>\n",
       "      <td>...</td>\n",
       "      <td>...</td>\n",
       "      <td>...</td>\n",
       "      <td>...</td>\n",
       "      <td>...</td>\n",
       "      <td>...</td>\n",
       "      <td>...</td>\n",
       "      <td>...</td>\n",
       "    </tr>\n",
       "    <tr>\n",
       "      <th>679</th>\n",
       "      <td>56505.0</td>\n",
       "      <td>NOT AVAILABLE</td>\n",
       "      <td>899 BAUER AVE</td>\n",
       "      <td>MANCOS</td>\n",
       "      <td>CO</td>\n",
       "      <td>81328</td>\n",
       "      <td>OPEN</td>\n",
       "      <td>08083</td>\n",
       "      <td>37.345413</td>\n",
       "      <td>-108.302316</td>\n",
       "      <td>POINT (-108.30232 37.34541)</td>\n",
       "    </tr>\n",
       "    <tr>\n",
       "      <th>680</th>\n",
       "      <td>56506.0</td>\n",
       "      <td>NOT AVAILABLE</td>\n",
       "      <td>500 W GRAND AVE</td>\n",
       "      <td>MANCOS</td>\n",
       "      <td>CO</td>\n",
       "      <td>81328</td>\n",
       "      <td>OPEN</td>\n",
       "      <td>08083</td>\n",
       "      <td>37.344749</td>\n",
       "      <td>-108.295038</td>\n",
       "      <td>POINT (-108.29504 37.34475)</td>\n",
       "    </tr>\n",
       "    <tr>\n",
       "      <th>681</th>\n",
       "      <td>56507.0</td>\n",
       "      <td>NOT AVAILABLE</td>\n",
       "      <td>273 E MENEFEE ST</td>\n",
       "      <td>MANCOS</td>\n",
       "      <td>CO</td>\n",
       "      <td>81328</td>\n",
       "      <td>OPEN</td>\n",
       "      <td>08083</td>\n",
       "      <td>37.348561</td>\n",
       "      <td>-108.286911</td>\n",
       "      <td>POINT (-108.28691 37.34856)</td>\n",
       "    </tr>\n",
       "    <tr>\n",
       "      <th>682</th>\n",
       "      <td>56508.0</td>\n",
       "      <td>NOT AVAILABLE</td>\n",
       "      <td>458 LYELL ST</td>\n",
       "      <td>MONTE VISTA</td>\n",
       "      <td>CO</td>\n",
       "      <td>81144</td>\n",
       "      <td>OPEN</td>\n",
       "      <td>08105</td>\n",
       "      <td>37.575851</td>\n",
       "      <td>-106.138208</td>\n",
       "      <td>POINT (-106.13821 37.57585)</td>\n",
       "    </tr>\n",
       "    <tr>\n",
       "      <th>683</th>\n",
       "      <td>56509.0</td>\n",
       "      <td>NOT AVAILABLE</td>\n",
       "      <td>95 CR-1</td>\n",
       "      <td>MONTE VISTA</td>\n",
       "      <td>CO</td>\n",
       "      <td>81144</td>\n",
       "      <td>OPEN</td>\n",
       "      <td>08105</td>\n",
       "      <td>37.574092</td>\n",
       "      <td>-106.131107</td>\n",
       "      <td>POINT (-106.13111 37.57409)</td>\n",
       "    </tr>\n",
       "  </tbody>\n",
       "</table>\n",
       "<p>684 rows × 11 columns</p>\n",
       "</div>"
      ],
      "text/plain": [
       "       MHPID           MH_NAME            MH_ADDRESS       MH_CITY MH_STATE  \\\n",
       "0    41534.0     NOT AVAILABLE        938 DENVER AVE   FORT LUPTON       CO   \n",
       "1    41535.0     NOT AVAILABLE        2485 FOLSOM ST       BOULDER       CO   \n",
       "2    41537.0  FORT COLLINS KOA    LAKESIDE RESORT LN  FORT COLLINS       CO   \n",
       "3    41518.0     NOT AVAILABLE          2406 KARA CT        PUEBLO       CO   \n",
       "4    41507.0     NOT AVAILABLE  1050 W JEFFERSON AVE        HAYDEN       CO   \n",
       "..       ...               ...                   ...           ...      ...   \n",
       "679  56505.0     NOT AVAILABLE         899 BAUER AVE        MANCOS       CO   \n",
       "680  56506.0     NOT AVAILABLE       500 W GRAND AVE        MANCOS       CO   \n",
       "681  56507.0     NOT AVAILABLE      273 E MENEFEE ST        MANCOS       CO   \n",
       "682  56508.0     NOT AVAILABLE          458 LYELL ST   MONTE VISTA       CO   \n",
       "683  56509.0     NOT AVAILABLE               95 CR-1   MONTE VISTA       CO   \n",
       "\n",
       "    MH_ZIP MH_STATUS MH_COUNTY_FIPS  MH_LATITUDE  MH_LONGITUDE  \\\n",
       "0    80621      OPEN          08123    40.088103   -104.810604   \n",
       "1    80304      OPEN          08013    40.025773   -105.262849   \n",
       "2    80524      OPEN          08069    40.615220   -105.108135   \n",
       "3    81004      OPEN          08101    38.232781   -104.639150   \n",
       "4    81639      OPEN          08107    40.494103   -107.269038   \n",
       "..     ...       ...            ...          ...           ...   \n",
       "679  81328      OPEN          08083    37.345413   -108.302316   \n",
       "680  81328      OPEN          08083    37.344749   -108.295038   \n",
       "681  81328      OPEN          08083    37.348561   -108.286911   \n",
       "682  81144      OPEN          08105    37.575851   -106.138208   \n",
       "683  81144      OPEN          08105    37.574092   -106.131107   \n",
       "\n",
       "                        geometry  \n",
       "0    POINT (-104.81060 40.08810)  \n",
       "1    POINT (-105.26285 40.02577)  \n",
       "2    POINT (-105.10814 40.61522)  \n",
       "3    POINT (-104.63915 38.23278)  \n",
       "4    POINT (-107.26904 40.49410)  \n",
       "..                           ...  \n",
       "679  POINT (-108.30232 37.34541)  \n",
       "680  POINT (-108.29504 37.34475)  \n",
       "681  POINT (-108.28691 37.34856)  \n",
       "682  POINT (-106.13821 37.57585)  \n",
       "683  POINT (-106.13111 37.57409)  \n",
       "\n",
       "[684 rows x 11 columns]"
      ]
     },
     "execution_count": 140,
     "metadata": {},
     "output_type": "execute_result"
    }
   ],
   "source": [
    "mhomesPrepped_OG"
   ]
  },
  {
   "cell_type": "code",
   "execution_count": 141,
   "metadata": {},
   "outputs": [
    {
     "name": "stdout",
     "output_type": "stream",
     "text": [
      "C:\\Users\\phwh9568\\Data\\ParcelAtlas\\CO_2022\\Counties\\08017\\08017\n",
      "C:\\Users\\phwh9568\\Data\\ParcelAtlas\\CO_2022\\Counties\\08023\\08023\n",
      "C:\\Users\\phwh9568\\Data\\ParcelAtlas\\CO_2022\\Counties\\08033\\08033\n",
      "C:\\Users\\phwh9568\\Data\\ParcelAtlas\\CO_2022\\Counties\\08047\\08047\n",
      "C:\\Users\\phwh9568\\Data\\ParcelAtlas\\CO_2022\\Counties\\08079\\08079\n",
      "C:\\Users\\phwh9568\\Data\\ParcelAtlas\\CO_2022\\Counties\\08109\\08109\n",
      "C:\\Users\\phwh9568\\Data\\ParcelAtlas\\CO_2022\\Counties\\08111\\08111\n",
      "C:\\Users\\phwh9568\\Data\\ParcelAtlas\\CO_2022\\Counties\\08115\\08115\n"
     ]
    }
   ],
   "source": [
    "#SPLIT ORIGINAL MOBILE HOME PARKS INTO COUNTY DIRS\n",
    "for fips,path in zip(fipsList,parcelsPaths):\n",
    "    countyMHPs = (mhomesPrepped_OG.loc[mhomesPrepped_OG['MH_COUNTY_FIPS']==fips])    \n",
    "    if len(countyMHPs) > 0:\n",
    "        countyMHPs.to_file(os.path.join(path,fips+'_mhps_OG.gpkg'), layer=fips+'_mhps_OG_prepped')\n",
    "    else:\n",
    "        print(os.path.join(path,fips))"
   ]
  },
  {
   "cell_type": "code",
   "execution_count": null,
   "metadata": {},
   "outputs": [],
   "source": []
  },
  {
   "cell_type": "code",
   "execution_count": 52,
   "metadata": {},
   "outputs": [],
   "source": [
    "# SPLITTING BLOCKS DATA INTO COUNTY DIRECTORIES\n",
    "\n",
    "for fips, path in zip(fipsList,parcelsPaths):\n",
    "    countyBlocks = blocksAlbers.loc[blocksAlbers['GEOID10'].str.startswith(fips)]\n",
    "    countyBlocks.to_file(os.path.join(path,fips+'_blocks.gpkg'),layer=fips+'_blocks')"
   ]
  },
  {
   "cell_type": "code",
   "execution_count": 72,
   "metadata": {},
   "outputs": [],
   "source": [
    "adams = gpd.read_file(os.path.join(parcelsPaths[0],fipsList[0]+'_blocks.gpkg'), layer=fipsList[0]+'_blocks')"
   ]
  },
  {
   "cell_type": "code",
   "execution_count": 73,
   "metadata": {},
   "outputs": [
    {
     "data": {
      "text/plain": [
       "Index(['STATEFP10', 'COUNTYFP10', 'TRACTCE10', 'BLOCKCE10', 'GEOID10',\n",
       "       'NAME10', 'MTFCC10', 'UR10', 'UACE10', 'UATYPE', 'FUNCSTAT10',\n",
       "       'ALAND10', 'AWATER10', 'INTPTLAT10', 'INTPTLON10', 'Pop_Total',\n",
       "       'blockArea_m', 'geometry'],\n",
       "      dtype='object')"
      ]
     },
     "execution_count": 73,
     "metadata": {},
     "output_type": "execute_result"
    }
   ],
   "source": [
    "adams.columns"
   ]
  },
  {
   "cell_type": "markdown",
   "metadata": {},
   "source": [
    "prep mobile homes:"
   ]
  },
  {
   "cell_type": "code",
   "execution_count": 400,
   "metadata": {},
   "outputs": [],
   "source": [
    "for fips, path in zip(fipsList,parcelsPaths):\n",
    "    if os.path.exists(os.path.join(path,fips+'2.gpkg')):\n",
    "        os.remove((os.path.join(path,fips+'2.gpkg')))"
   ]
  },
  {
   "cell_type": "code",
   "execution_count": 76,
   "metadata": {},
   "outputs": [
    {
     "name": "stdout",
     "output_type": "stream",
     "text": [
      "c:/users/phwh9568/data/ParcelAtlas/CO_2022/Counties\\08001\\08001.gpkg\n",
      "c:/users/phwh9568/data/ParcelAtlas/CO_2022/Counties\\08003\\08003.gpkg\n",
      "c:/users/phwh9568/data/ParcelAtlas/CO_2022/Counties\\08005\\08005.gpkg\n",
      "c:/users/phwh9568/data/ParcelAtlas/CO_2022/Counties\\08007\\08007.gpkg\n",
      "c:/users/phwh9568/data/ParcelAtlas/CO_2022/Counties\\08013\\08013.gpkg\n",
      "c:/users/phwh9568/data/ParcelAtlas/CO_2022/Counties\\08014\\08014.gpkg\n",
      "c:/users/phwh9568/data/ParcelAtlas/CO_2022/Counties\\08015\\08015.gpkg\n",
      "c:/users/phwh9568/data/ParcelAtlas/CO_2022/Counties\\08019\\08019.gpkg\n",
      "c:/users/phwh9568/data/ParcelAtlas/CO_2022/Counties\\08021\\08021.gpkg\n",
      "c:/users/phwh9568/data/ParcelAtlas/CO_2022/Counties\\08027\\08027.gpkg\n",
      "c:/users/phwh9568/data/ParcelAtlas/CO_2022/Counties\\08029\\08029.gpkg\n",
      "c:/users/phwh9568/data/ParcelAtlas/CO_2022/Counties\\08031\\08031.gpkg\n",
      "c:/users/phwh9568/data/ParcelAtlas/CO_2022/Counties\\08035\\08035.gpkg\n",
      "c:/users/phwh9568/data/ParcelAtlas/CO_2022/Counties\\08037\\08037.gpkg\n",
      "c:/users/phwh9568/data/ParcelAtlas/CO_2022/Counties\\08039\\08039.gpkg\n",
      "c:/users/phwh9568/data/ParcelAtlas/CO_2022/Counties\\08041\\08041.gpkg\n",
      "c:/users/phwh9568/data/ParcelAtlas/CO_2022/Counties\\08043\\08043.gpkg\n",
      "c:/users/phwh9568/data/ParcelAtlas/CO_2022/Counties\\08045\\08045.gpkg\n",
      "c:/users/phwh9568/data/ParcelAtlas/CO_2022/Counties\\08049\\08049.gpkg\n",
      "c:/users/phwh9568/data/ParcelAtlas/CO_2022/Counties\\08051\\08051.gpkg\n",
      "c:/users/phwh9568/data/ParcelAtlas/CO_2022/Counties\\08055\\08055.gpkg\n",
      "c:/users/phwh9568/data/ParcelAtlas/CO_2022/Counties\\08057\\08057.gpkg\n",
      "c:/users/phwh9568/data/ParcelAtlas/CO_2022/Counties\\08059\\08059.gpkg\n",
      "c:/users/phwh9568/data/ParcelAtlas/CO_2022/Counties\\08063\\08063.gpkg\n",
      "c:/users/phwh9568/data/ParcelAtlas/CO_2022/Counties\\08071\\08071.gpkg\n",
      "c:/users/phwh9568/data/ParcelAtlas/CO_2022/Counties\\08075\\08075.gpkg\n",
      "c:/users/phwh9568/data/ParcelAtlas/CO_2022/Counties\\08077\\08077.gpkg\n",
      "c:/users/phwh9568/data/ParcelAtlas/CO_2022/Counties\\08081\\08081.gpkg\n",
      "c:/users/phwh9568/data/ParcelAtlas/CO_2022/Counties\\08083\\08083.gpkg\n",
      "c:/users/phwh9568/data/ParcelAtlas/CO_2022/Counties\\08085\\08085.gpkg\n",
      "c:/users/phwh9568/data/ParcelAtlas/CO_2022/Counties\\08087\\08087.gpkg\n",
      "c:/users/phwh9568/data/ParcelAtlas/CO_2022/Counties\\08089\\08089.gpkg\n",
      "c:/users/phwh9568/data/ParcelAtlas/CO_2022/Counties\\08091\\08091.gpkg\n",
      "c:/users/phwh9568/data/ParcelAtlas/CO_2022/Counties\\08093\\08093.gpkg\n",
      "c:/users/phwh9568/data/ParcelAtlas/CO_2022/Counties\\08095\\08095.gpkg\n",
      "c:/users/phwh9568/data/ParcelAtlas/CO_2022/Counties\\08097\\08097.gpkg\n",
      "c:/users/phwh9568/data/ParcelAtlas/CO_2022/Counties\\08101\\08101.gpkg\n",
      "c:/users/phwh9568/data/ParcelAtlas/CO_2022/Counties\\08103\\08103.gpkg\n",
      "c:/users/phwh9568/data/ParcelAtlas/CO_2022/Counties\\08105\\08105.gpkg\n",
      "c:/users/phwh9568/data/ParcelAtlas/CO_2022/Counties\\08107\\08107.gpkg\n",
      "c:/users/phwh9568/data/ParcelAtlas/CO_2022/Counties\\08113\\08113.gpkg\n",
      "c:/users/phwh9568/data/ParcelAtlas/CO_2022/Counties\\08119\\08119.gpkg\n",
      "c:/users/phwh9568/data/ParcelAtlas/CO_2022/Counties\\08123\\08123.gpkg\n"
     ]
    }
   ],
   "source": [
    "for fips, path in zip(fipsList, parcelsPaths):\n",
    "    if os.path.exists(os.path.join(path,fips+'.gpkg')):\n",
    "        "
   ]
  },
  {
   "cell_type": "markdown",
   "metadata": {},
   "source": [
    "figuring out fips problem"
   ]
  },
  {
   "cell_type": "code",
   "execution_count": 130,
   "metadata": {},
   "outputs": [],
   "source": [
    "stateFips = pd.read_csv(r'C:\\Users\\phwh9568\\Data\\ParcelAtlas\\stateFips.csv', dtype={'STATEFP':str})\n",
    "stateFipsList = stateFips['STATEFP'].tolist()\n",
    "countyFips = pd.read_csv(r'C:\\Users\\phwh9568\\Data\\ParcelAtlas\\fips-by-state.csv', dtype={'fips':str}, encoding='iso-8859-1')\n",
    "countyFipsList = countyFips['fips'].tolist()"
   ]
  },
  {
   "cell_type": "code",
   "execution_count": 131,
   "metadata": {},
   "outputs": [
    {
     "data": {
      "text/plain": [
       "True"
      ]
     },
     "execution_count": 131,
     "metadata": {},
     "output_type": "execute_result"
    }
   ],
   "source": [
    "'08059' in countyFipsList"
   ]
  },
  {
   "cell_type": "code",
   "execution_count": 134,
   "metadata": {},
   "outputs": [],
   "source": [
    "co_fips = countyFips.loc[countyFips['fips'].str.startswith('08')]"
   ]
  },
  {
   "cell_type": "code",
   "execution_count": 139,
   "metadata": {},
   "outputs": [],
   "source": [
    "co_fips_list = co_fips['fips'].to_list()"
   ]
  },
  {
   "cell_type": "code",
   "execution_count": 140,
   "metadata": {},
   "outputs": [
    {
     "data": {
      "text/plain": [
       "True"
      ]
     },
     "execution_count": 140,
     "metadata": {},
     "output_type": "execute_result"
    }
   ],
   "source": [
    "for fips in co_fips_list:\n",
    "    if os.path.exists(os.path.join(externalDrive))"
   ]
  },
  {
   "cell_type": "markdown",
   "metadata": {},
   "source": [
    "ah ha! for some reason, jeff co was missing from the external drive copy of the parcel data, don't know why, but probably others. Need to make sure data on the external drive matches what's on my laptop/the original parcel data.\n",
    "\n",
    "For now, I will modify the code below to generate an inventory of just colorado based on my local copy."
   ]
  },
  {
   "cell_type": "code",
   "execution_count": 4,
   "metadata": {},
   "outputs": [],
   "source": [
    "countiesPath = r'C:\\Users\\phwh9568\\Data\\ParcelAtlas\\CO_2022\\counties'"
   ]
  },
  {
   "cell_type": "code",
   "execution_count": 151,
   "metadata": {},
   "outputs": [],
   "source": [
    "with open(os.path.join(countiesPath,'ColoradoInventory.csv'),'w', newline='', encoding='utf-8') as f:\n",
    "    writer = csv.writer(f)\n",
    "    writer.writerow(['STATE','COUNTY','DATA_PRESENT'])\n",
    "    for cfip in co_fips_list:\n",
    "        if os.path.exists(os.path.join(countiesPath, cfip)) :\n",
    "            writer.writerow(['08',cfip,'True'])\n",
    "        else:\n",
    "            writer.writerow(['08',cfip,'False'])"
   ]
  },
  {
   "cell_type": "code",
   "execution_count": 149,
   "metadata": {},
   "outputs": [
    {
     "name": "stdout",
     "output_type": "stream",
     "text": [
      "C:\\Users\\phwh9568\\Data\\ParcelAtlas\\CO_2022\\counties\\08001\n",
      "C:\\Users\\phwh9568\\Data\\ParcelAtlas\\CO_2022\\counties\\08003\n",
      "C:\\Users\\phwh9568\\Data\\ParcelAtlas\\CO_2022\\counties\\08005\n",
      "C:\\Users\\phwh9568\\Data\\ParcelAtlas\\CO_2022\\counties\\08007\n",
      "C:\\Users\\phwh9568\\Data\\ParcelAtlas\\CO_2022\\counties\\08009\n",
      "C:\\Users\\phwh9568\\Data\\ParcelAtlas\\CO_2022\\counties\\08011\n",
      "C:\\Users\\phwh9568\\Data\\ParcelAtlas\\CO_2022\\counties\\08013\n",
      "C:\\Users\\phwh9568\\Data\\ParcelAtlas\\CO_2022\\counties\\08014\n",
      "C:\\Users\\phwh9568\\Data\\ParcelAtlas\\CO_2022\\counties\\08015\n",
      "C:\\Users\\phwh9568\\Data\\ParcelAtlas\\CO_2022\\counties\\08017\n",
      "C:\\Users\\phwh9568\\Data\\ParcelAtlas\\CO_2022\\counties\\08019\n",
      "C:\\Users\\phwh9568\\Data\\ParcelAtlas\\CO_2022\\counties\\08021\n",
      "C:\\Users\\phwh9568\\Data\\ParcelAtlas\\CO_2022\\counties\\08023\n",
      "C:\\Users\\phwh9568\\Data\\ParcelAtlas\\CO_2022\\counties\\08025\n",
      "C:\\Users\\phwh9568\\Data\\ParcelAtlas\\CO_2022\\counties\\08027\n",
      "C:\\Users\\phwh9568\\Data\\ParcelAtlas\\CO_2022\\counties\\08029\n",
      "C:\\Users\\phwh9568\\Data\\ParcelAtlas\\CO_2022\\counties\\08031\n",
      "C:\\Users\\phwh9568\\Data\\ParcelAtlas\\CO_2022\\counties\\08033\n",
      "C:\\Users\\phwh9568\\Data\\ParcelAtlas\\CO_2022\\counties\\08035\n",
      "C:\\Users\\phwh9568\\Data\\ParcelAtlas\\CO_2022\\counties\\08037\n",
      "C:\\Users\\phwh9568\\Data\\ParcelAtlas\\CO_2022\\counties\\08039\n",
      "C:\\Users\\phwh9568\\Data\\ParcelAtlas\\CO_2022\\counties\\08041\n",
      "C:\\Users\\phwh9568\\Data\\ParcelAtlas\\CO_2022\\counties\\08043\n",
      "C:\\Users\\phwh9568\\Data\\ParcelAtlas\\CO_2022\\counties\\08045\n",
      "C:\\Users\\phwh9568\\Data\\ParcelAtlas\\CO_2022\\counties\\08047\n",
      "C:\\Users\\phwh9568\\Data\\ParcelAtlas\\CO_2022\\counties\\08049\n",
      "C:\\Users\\phwh9568\\Data\\ParcelAtlas\\CO_2022\\counties\\08051\n",
      "C:\\Users\\phwh9568\\Data\\ParcelAtlas\\CO_2022\\counties\\08053\n",
      "C:\\Users\\phwh9568\\Data\\ParcelAtlas\\CO_2022\\counties\\08055\n",
      "C:\\Users\\phwh9568\\Data\\ParcelAtlas\\CO_2022\\counties\\08057\n",
      "C:\\Users\\phwh9568\\Data\\ParcelAtlas\\CO_2022\\counties\\08059\n",
      "C:\\Users\\phwh9568\\Data\\ParcelAtlas\\CO_2022\\counties\\08061\n",
      "C:\\Users\\phwh9568\\Data\\ParcelAtlas\\CO_2022\\counties\\08063\n",
      "C:\\Users\\phwh9568\\Data\\ParcelAtlas\\CO_2022\\counties\\08065\n",
      "C:\\Users\\phwh9568\\Data\\ParcelAtlas\\CO_2022\\counties\\08067\n",
      "C:\\Users\\phwh9568\\Data\\ParcelAtlas\\CO_2022\\counties\\08069\n",
      "C:\\Users\\phwh9568\\Data\\ParcelAtlas\\CO_2022\\counties\\08071\n",
      "C:\\Users\\phwh9568\\Data\\ParcelAtlas\\CO_2022\\counties\\08073\n",
      "C:\\Users\\phwh9568\\Data\\ParcelAtlas\\CO_2022\\counties\\08075\n",
      "C:\\Users\\phwh9568\\Data\\ParcelAtlas\\CO_2022\\counties\\08077\n",
      "C:\\Users\\phwh9568\\Data\\ParcelAtlas\\CO_2022\\counties\\08079\n",
      "C:\\Users\\phwh9568\\Data\\ParcelAtlas\\CO_2022\\counties\\08081\n",
      "C:\\Users\\phwh9568\\Data\\ParcelAtlas\\CO_2022\\counties\\08083\n",
      "C:\\Users\\phwh9568\\Data\\ParcelAtlas\\CO_2022\\counties\\08085\n",
      "C:\\Users\\phwh9568\\Data\\ParcelAtlas\\CO_2022\\counties\\08087\n",
      "C:\\Users\\phwh9568\\Data\\ParcelAtlas\\CO_2022\\counties\\08089\n",
      "C:\\Users\\phwh9568\\Data\\ParcelAtlas\\CO_2022\\counties\\08091\n",
      "C:\\Users\\phwh9568\\Data\\ParcelAtlas\\CO_2022\\counties\\08093\n",
      "C:\\Users\\phwh9568\\Data\\ParcelAtlas\\CO_2022\\counties\\08095\n",
      "C:\\Users\\phwh9568\\Data\\ParcelAtlas\\CO_2022\\counties\\08097\n",
      "C:\\Users\\phwh9568\\Data\\ParcelAtlas\\CO_2022\\counties\\08099\n",
      "C:\\Users\\phwh9568\\Data\\ParcelAtlas\\CO_2022\\counties\\08101\n",
      "C:\\Users\\phwh9568\\Data\\ParcelAtlas\\CO_2022\\counties\\08103\n",
      "C:\\Users\\phwh9568\\Data\\ParcelAtlas\\CO_2022\\counties\\08105\n",
      "C:\\Users\\phwh9568\\Data\\ParcelAtlas\\CO_2022\\counties\\08107\n",
      "C:\\Users\\phwh9568\\Data\\ParcelAtlas\\CO_2022\\counties\\08109\n",
      "C:\\Users\\phwh9568\\Data\\ParcelAtlas\\CO_2022\\counties\\08111\n",
      "C:\\Users\\phwh9568\\Data\\ParcelAtlas\\CO_2022\\counties\\08113\n",
      "C:\\Users\\phwh9568\\Data\\ParcelAtlas\\CO_2022\\counties\\08115\n",
      "C:\\Users\\phwh9568\\Data\\ParcelAtlas\\CO_2022\\counties\\08117\n",
      "C:\\Users\\phwh9568\\Data\\ParcelAtlas\\CO_2022\\counties\\08119\n",
      "C:\\Users\\phwh9568\\Data\\ParcelAtlas\\CO_2022\\counties\\08121\n",
      "C:\\Users\\phwh9568\\Data\\ParcelAtlas\\CO_2022\\counties\\08123\n",
      "C:\\Users\\phwh9568\\Data\\ParcelAtlas\\CO_2022\\counties\\08125\n"
     ]
    }
   ],
   "source": [
    "for cfip in co_fips_list:\n",
    "    print(os.path.join(countiesPath,cfip))"
   ]
  },
  {
   "cell_type": "code",
   "execution_count": 148,
   "metadata": {},
   "outputs": [
    {
     "data": {
      "text/html": [
       "<div>\n",
       "<style scoped>\n",
       "    .dataframe tbody tr th:only-of-type {\n",
       "        vertical-align: middle;\n",
       "    }\n",
       "\n",
       "    .dataframe tbody tr th {\n",
       "        vertical-align: top;\n",
       "    }\n",
       "\n",
       "    .dataframe thead th {\n",
       "        text-align: right;\n",
       "    }\n",
       "</style>\n",
       "<table border=\"1\" class=\"dataframe\">\n",
       "  <thead>\n",
       "    <tr style=\"text-align: right;\">\n",
       "      <th></th>\n",
       "      <th>fips</th>\n",
       "      <th>name</th>\n",
       "      <th>state</th>\n",
       "    </tr>\n",
       "  </thead>\n",
       "  <tbody>\n",
       "    <tr>\n",
       "      <th>244</th>\n",
       "      <td>08001</td>\n",
       "      <td>Adams County</td>\n",
       "      <td>CO</td>\n",
       "    </tr>\n",
       "    <tr>\n",
       "      <th>245</th>\n",
       "      <td>08003</td>\n",
       "      <td>Alamosa County</td>\n",
       "      <td>CO</td>\n",
       "    </tr>\n",
       "    <tr>\n",
       "      <th>246</th>\n",
       "      <td>08005</td>\n",
       "      <td>Arapahoe County</td>\n",
       "      <td>CO</td>\n",
       "    </tr>\n",
       "    <tr>\n",
       "      <th>247</th>\n",
       "      <td>08007</td>\n",
       "      <td>Archuleta County</td>\n",
       "      <td>CO</td>\n",
       "    </tr>\n",
       "    <tr>\n",
       "      <th>248</th>\n",
       "      <td>08009</td>\n",
       "      <td>Baca County</td>\n",
       "      <td>CO</td>\n",
       "    </tr>\n",
       "    <tr>\n",
       "      <th>...</th>\n",
       "      <td>...</td>\n",
       "      <td>...</td>\n",
       "      <td>...</td>\n",
       "    </tr>\n",
       "    <tr>\n",
       "      <th>303</th>\n",
       "      <td>08117</td>\n",
       "      <td>Summit County</td>\n",
       "      <td>CO</td>\n",
       "    </tr>\n",
       "    <tr>\n",
       "      <th>304</th>\n",
       "      <td>08119</td>\n",
       "      <td>Teller County</td>\n",
       "      <td>CO</td>\n",
       "    </tr>\n",
       "    <tr>\n",
       "      <th>305</th>\n",
       "      <td>08121</td>\n",
       "      <td>Washington County</td>\n",
       "      <td>CO</td>\n",
       "    </tr>\n",
       "    <tr>\n",
       "      <th>306</th>\n",
       "      <td>08123</td>\n",
       "      <td>Weld County</td>\n",
       "      <td>CO</td>\n",
       "    </tr>\n",
       "    <tr>\n",
       "      <th>307</th>\n",
       "      <td>08125</td>\n",
       "      <td>Yuma County</td>\n",
       "      <td>CO</td>\n",
       "    </tr>\n",
       "  </tbody>\n",
       "</table>\n",
       "<p>64 rows × 3 columns</p>\n",
       "</div>"
      ],
      "text/plain": [
       "      fips               name state\n",
       "244  08001       Adams County    CO\n",
       "245  08003     Alamosa County    CO\n",
       "246  08005    Arapahoe County    CO\n",
       "247  08007   Archuleta County    CO\n",
       "248  08009        Baca County    CO\n",
       "..     ...                ...   ...\n",
       "303  08117      Summit County    CO\n",
       "304  08119      Teller County    CO\n",
       "305  08121  Washington County    CO\n",
       "306  08123        Weld County    CO\n",
       "307  08125        Yuma County    CO\n",
       "\n",
       "[64 rows x 3 columns]"
      ]
     },
     "execution_count": 148,
     "metadata": {},
     "output_type": "execute_result"
    }
   ],
   "source": [
    "co_fips"
   ]
  },
  {
   "cell_type": "code",
   "execution_count": 196,
   "metadata": {},
   "outputs": [
    {
     "data": {
      "text/plain": [
       "['C:\\\\Users\\\\phwh9568\\\\Data\\\\ParcelAtlas\\\\CO_2022\\\\Counties\\\\08001',\n",
       " 'C:\\\\Users\\\\phwh9568\\\\Data\\\\ParcelAtlas\\\\CO_2022\\\\Counties\\\\08003',\n",
       " 'C:\\\\Users\\\\phwh9568\\\\Data\\\\ParcelAtlas\\\\CO_2022\\\\Counties\\\\08005',\n",
       " 'C:\\\\Users\\\\phwh9568\\\\Data\\\\ParcelAtlas\\\\CO_2022\\\\Counties\\\\08007',\n",
       " 'C:\\\\Users\\\\phwh9568\\\\Data\\\\ParcelAtlas\\\\CO_2022\\\\Counties\\\\08013',\n",
       " 'C:\\\\Users\\\\phwh9568\\\\Data\\\\ParcelAtlas\\\\CO_2022\\\\Counties\\\\08014',\n",
       " 'C:\\\\Users\\\\phwh9568\\\\Data\\\\ParcelAtlas\\\\CO_2022\\\\Counties\\\\08015',\n",
       " 'C:\\\\Users\\\\phwh9568\\\\Data\\\\ParcelAtlas\\\\CO_2022\\\\Counties\\\\08017',\n",
       " 'C:\\\\Users\\\\phwh9568\\\\Data\\\\ParcelAtlas\\\\CO_2022\\\\Counties\\\\08019',\n",
       " 'C:\\\\Users\\\\phwh9568\\\\Data\\\\ParcelAtlas\\\\CO_2022\\\\Counties\\\\08021',\n",
       " 'C:\\\\Users\\\\phwh9568\\\\Data\\\\ParcelAtlas\\\\CO_2022\\\\Counties\\\\08023',\n",
       " 'C:\\\\Users\\\\phwh9568\\\\Data\\\\ParcelAtlas\\\\CO_2022\\\\Counties\\\\08027',\n",
       " 'C:\\\\Users\\\\phwh9568\\\\Data\\\\ParcelAtlas\\\\CO_2022\\\\Counties\\\\08029',\n",
       " 'C:\\\\Users\\\\phwh9568\\\\Data\\\\ParcelAtlas\\\\CO_2022\\\\Counties\\\\08031',\n",
       " 'C:\\\\Users\\\\phwh9568\\\\Data\\\\ParcelAtlas\\\\CO_2022\\\\Counties\\\\08033',\n",
       " 'C:\\\\Users\\\\phwh9568\\\\Data\\\\ParcelAtlas\\\\CO_2022\\\\Counties\\\\08035',\n",
       " 'C:\\\\Users\\\\phwh9568\\\\Data\\\\ParcelAtlas\\\\CO_2022\\\\Counties\\\\08037',\n",
       " 'C:\\\\Users\\\\phwh9568\\\\Data\\\\ParcelAtlas\\\\CO_2022\\\\Counties\\\\08039',\n",
       " 'C:\\\\Users\\\\phwh9568\\\\Data\\\\ParcelAtlas\\\\CO_2022\\\\Counties\\\\08041',\n",
       " 'C:\\\\Users\\\\phwh9568\\\\Data\\\\ParcelAtlas\\\\CO_2022\\\\Counties\\\\08043',\n",
       " 'C:\\\\Users\\\\phwh9568\\\\Data\\\\ParcelAtlas\\\\CO_2022\\\\Counties\\\\08045',\n",
       " 'C:\\\\Users\\\\phwh9568\\\\Data\\\\ParcelAtlas\\\\CO_2022\\\\Counties\\\\08047',\n",
       " 'C:\\\\Users\\\\phwh9568\\\\Data\\\\ParcelAtlas\\\\CO_2022\\\\Counties\\\\08049',\n",
       " 'C:\\\\Users\\\\phwh9568\\\\Data\\\\ParcelAtlas\\\\CO_2022\\\\Counties\\\\08051',\n",
       " 'C:\\\\Users\\\\phwh9568\\\\Data\\\\ParcelAtlas\\\\CO_2022\\\\Counties\\\\08055',\n",
       " 'C:\\\\Users\\\\phwh9568\\\\Data\\\\ParcelAtlas\\\\CO_2022\\\\Counties\\\\08057',\n",
       " 'C:\\\\Users\\\\phwh9568\\\\Data\\\\ParcelAtlas\\\\CO_2022\\\\Counties\\\\08059',\n",
       " 'C:\\\\Users\\\\phwh9568\\\\Data\\\\ParcelAtlas\\\\CO_2022\\\\Counties\\\\08063',\n",
       " 'C:\\\\Users\\\\phwh9568\\\\Data\\\\ParcelAtlas\\\\CO_2022\\\\Counties\\\\08065',\n",
       " 'C:\\\\Users\\\\phwh9568\\\\Data\\\\ParcelAtlas\\\\CO_2022\\\\Counties\\\\08067',\n",
       " 'C:\\\\Users\\\\phwh9568\\\\Data\\\\ParcelAtlas\\\\CO_2022\\\\Counties\\\\08069',\n",
       " 'C:\\\\Users\\\\phwh9568\\\\Data\\\\ParcelAtlas\\\\CO_2022\\\\Counties\\\\08071',\n",
       " 'C:\\\\Users\\\\phwh9568\\\\Data\\\\ParcelAtlas\\\\CO_2022\\\\Counties\\\\08075',\n",
       " 'C:\\\\Users\\\\phwh9568\\\\Data\\\\ParcelAtlas\\\\CO_2022\\\\Counties\\\\08077',\n",
       " 'C:\\\\Users\\\\phwh9568\\\\Data\\\\ParcelAtlas\\\\CO_2022\\\\Counties\\\\08079',\n",
       " 'C:\\\\Users\\\\phwh9568\\\\Data\\\\ParcelAtlas\\\\CO_2022\\\\Counties\\\\08081',\n",
       " 'C:\\\\Users\\\\phwh9568\\\\Data\\\\ParcelAtlas\\\\CO_2022\\\\Counties\\\\08083',\n",
       " 'C:\\\\Users\\\\phwh9568\\\\Data\\\\ParcelAtlas\\\\CO_2022\\\\Counties\\\\08085',\n",
       " 'C:\\\\Users\\\\phwh9568\\\\Data\\\\ParcelAtlas\\\\CO_2022\\\\Counties\\\\08087',\n",
       " 'C:\\\\Users\\\\phwh9568\\\\Data\\\\ParcelAtlas\\\\CO_2022\\\\Counties\\\\08089',\n",
       " 'C:\\\\Users\\\\phwh9568\\\\Data\\\\ParcelAtlas\\\\CO_2022\\\\Counties\\\\08091',\n",
       " 'C:\\\\Users\\\\phwh9568\\\\Data\\\\ParcelAtlas\\\\CO_2022\\\\Counties\\\\08093',\n",
       " 'C:\\\\Users\\\\phwh9568\\\\Data\\\\ParcelAtlas\\\\CO_2022\\\\Counties\\\\08095',\n",
       " 'C:\\\\Users\\\\phwh9568\\\\Data\\\\ParcelAtlas\\\\CO_2022\\\\Counties\\\\08097',\n",
       " 'C:\\\\Users\\\\phwh9568\\\\Data\\\\ParcelAtlas\\\\CO_2022\\\\Counties\\\\08101',\n",
       " 'C:\\\\Users\\\\phwh9568\\\\Data\\\\ParcelAtlas\\\\CO_2022\\\\Counties\\\\08103',\n",
       " 'C:\\\\Users\\\\phwh9568\\\\Data\\\\ParcelAtlas\\\\CO_2022\\\\Counties\\\\08105',\n",
       " 'C:\\\\Users\\\\phwh9568\\\\Data\\\\ParcelAtlas\\\\CO_2022\\\\Counties\\\\08107',\n",
       " 'C:\\\\Users\\\\phwh9568\\\\Data\\\\ParcelAtlas\\\\CO_2022\\\\Counties\\\\08109',\n",
       " 'C:\\\\Users\\\\phwh9568\\\\Data\\\\ParcelAtlas\\\\CO_2022\\\\Counties\\\\08111',\n",
       " 'C:\\\\Users\\\\phwh9568\\\\Data\\\\ParcelAtlas\\\\CO_2022\\\\Counties\\\\08113',\n",
       " 'C:\\\\Users\\\\phwh9568\\\\Data\\\\ParcelAtlas\\\\CO_2022\\\\Counties\\\\08115',\n",
       " 'C:\\\\Users\\\\phwh9568\\\\Data\\\\ParcelAtlas\\\\CO_2022\\\\Counties\\\\08117',\n",
       " 'C:\\\\Users\\\\phwh9568\\\\Data\\\\ParcelAtlas\\\\CO_2022\\\\Counties\\\\08119',\n",
       " 'C:\\\\Users\\\\phwh9568\\\\Data\\\\ParcelAtlas\\\\CO_2022\\\\Counties\\\\08123',\n",
       " 'C:\\\\Users\\\\phwh9568\\\\Data\\\\ParcelAtlas\\\\CO_2022\\\\Counties\\\\08125']"
      ]
     },
     "execution_count": 196,
     "metadata": {},
     "output_type": "execute_result"
    }
   ],
   "source": [
    "parcelsPaths"
   ]
  },
  {
   "cell_type": "markdown",
   "metadata": {},
   "source": [
    "Trouble shooting union merge:"
   ]
  },
  {
   "cell_type": "code",
   "execution_count": null,
   "metadata": {},
   "outputs": [],
   "source": [
    "unioncsv = pd.read_csv(r'C:\\Users\\phwh9568\\Data\\ParcelAtlas\\CO_2022\\Counties\\08001\\union_csv.csv')\n",
    "mhpgpkg = gpd.read_file(r'C:\\Users\\phwh9568\\Data\\ParcelAtlas\\CO_2022\\Counties\\08001\\08001.gpkg', layer='MH_parc_blk_union')"
   ]
  },
  {
   "cell_type": "markdown",
   "metadata": {},
   "source": [
    "Comparing OG vs Regeocoded results:"
   ]
  },
  {
   "cell_type": "code",
   "execution_count": 401,
   "metadata": {},
   "outputs": [],
   "source": [
    "regeo = pd.read_csv(os.path.join(r'C:\\Users\\phwh9568\\Data\\ParcelAtlas\\CO_2022', 'Colorado_regeocoded.csv'), dtype={'STATEFP10':str,'COUNTYFP10':str,'TRACTCE10':str,'BLOCKCE10':str,'GEOID10':str,'MTFCC10':str,'UACE10':str,'GEOID10':str,'GEOID10':str, 'MH_COUNTY_FIPS':str, 'MHPID':str})\n",
    "og = pd.read_csv(os.path.join(r'C:\\Users\\phwh9568\\Data\\ParcelAtlas\\CO_2022', 'Colorado_original2.csv'), dtype={'STATEFP10':str,'COUNTYFP10':str,'TRACTCE10':str,'BLOCKCE10':str,'GEOID10':str,'MTFCC10':str,'UACE10':str,'GEOID10':str,'GEOID10':str, 'MH_COUNTY_FIPS':str, 'MHPID':str})"
   ]
  },
  {
   "cell_type": "code",
   "execution_count": 402,
   "metadata": {},
   "outputs": [
    {
     "data": {
      "text/plain": [
       "False"
      ]
     },
     "execution_count": 402,
     "metadata": {},
     "output_type": "execute_result"
    }
   ],
   "source": [
    "og.equals(regeo)"
   ]
  },
  {
   "cell_type": "code",
   "execution_count": 403,
   "metadata": {},
   "outputs": [
    {
     "data": {
      "text/plain": [
       "1632"
      ]
     },
     "execution_count": 403,
     "metadata": {},
     "output_type": "execute_result"
    }
   ],
   "source": [
    "len(og)"
   ]
  },
  {
   "cell_type": "code",
   "execution_count": 404,
   "metadata": {},
   "outputs": [
    {
     "data": {
      "text/plain": [
       "1764"
      ]
     },
     "execution_count": 404,
     "metadata": {},
     "output_type": "execute_result"
    }
   ],
   "source": [
    "len(regeo)"
   ]
  },
  {
   "cell_type": "code",
   "execution_count": 405,
   "metadata": {},
   "outputs": [],
   "source": [
    "co_22_dir = r'C:\\Users\\phwh9568\\Data\\ParcelAtlas\\CO_2022'"
   ]
  },
  {
   "cell_type": "code",
   "execution_count": 476,
   "metadata": {},
   "outputs": [],
   "source": [
    "mhps_regeocoded = gpd.read_file(os.path.join(co_22_dir, '08_MHPs.gpkg'))\n",
    "mhps_original = gpd.read_file(os.path.join(co_22_dir, '08_MHPs_OG.gpkg'))"
   ]
  },
  {
   "cell_type": "code",
   "execution_count": 13,
   "metadata": {},
   "outputs": [
    {
     "data": {
      "text/plain": [
       "(684, 684)"
      ]
     },
     "execution_count": 13,
     "metadata": {},
     "output_type": "execute_result"
    }
   ],
   "source": [
    "len(mhps_regeocoded), len(mhps_original)"
   ]
  },
  {
   "cell_type": "code",
   "execution_count": 126,
   "metadata": {},
   "outputs": [
    {
     "data": {
      "text/plain": [
       "False"
      ]
     },
     "execution_count": 126,
     "metadata": {},
     "output_type": "execute_result"
    }
   ],
   "source": [
    "mhps_regeocoded.crs == mhps_original.crs"
   ]
  },
  {
   "cell_type": "markdown",
   "metadata": {},
   "source": [
    "Trying to figure out why these are so different.  \n",
    "\n",
    "Will combine all MH_parc_blk_union layers into one state layer and visually compare... "
   ]
  },
  {
   "cell_type": "code",
   "execution_count": 408,
   "metadata": {},
   "outputs": [],
   "source": [
    "finalDF = pd.DataFrame()\n",
    "for path in parcelsPaths:\n",
    "    fips = path.split('\\\\')[-1]\n",
    "    if os.path.exists(os.path.join(path,fips+'.gpkg')):\n",
    "        county = gpd.read_file(os.path.join(path, fips+'.gpkg'),layer='MH_parc_blk_union')\n",
    "        finalDF = pd.concat([finalDF,county])\n",
    "finalDF.to_file(os.path.join(co_22_dir,'Colorado_Final_regeo.gpkg'),layer='Colorado_Final_regeo')"
   ]
  },
  {
   "cell_type": "code",
   "execution_count": 409,
   "metadata": {},
   "outputs": [],
   "source": [
    "finalDF = pd.DataFrame()\n",
    "for path in parcelsPaths:\n",
    "    fips = path.split('\\\\')[-1]\n",
    "    if os.path.exists(os.path.join(path,fips+'2.gpkg')):\n",
    "        county = gpd.read_file(os.path.join(path, fips+'2.gpkg'),layer='MH_parc_blk_union')\n",
    "        finalDF = pd.concat([finalDF,county])\n",
    "finalDF.to_file(os.path.join(co_22_dir,'Colorado_Final_original.gpkg'),layer='Colorado_Final_original')"
   ]
  },
  {
   "cell_type": "code",
   "execution_count": 440,
   "metadata": {},
   "outputs": [],
   "source": [
    "mhp_parcels_regeo = gpd.read_file(os.path.join(co_22_dir,'Colorado_Final_regeo.gpkg'), layer='Colorado_Final_regeo_mhp-parcels')\n",
    "mhp_parcels_orig = gpd.read_file(os.path.join(co_22_dir,'Colorado_Final_original.gpkg'), layer='Colorado_Final_original_mhp-parcels')"
   ]
  },
  {
   "cell_type": "code",
   "execution_count": 442,
   "metadata": {},
   "outputs": [],
   "source": [
    "# write tables to csvs\n",
    "mhp_parcels_regeoDF = pd.DataFrame(mhp_parcels_regeo)\n",
    "mhp_parcels_origDF = pd.DataFrame(mhp_parcels_orig)\n",
    "mhp_parcels_regeoDF.to_csv(os.path.join(co_22_dir,'Colorado_MHP_Parcels_regeo.csv'))\n",
    "mhp_parcels_origDF.to_csv(os.path.join(co_22_dir,'Colorado_MHP_Parcels_original.csv'))"
   ]
  },
  {
   "cell_type": "markdown",
   "metadata": {},
   "source": [
    "prepping for merge in order to find differences"
   ]
  },
  {
   "cell_type": "code",
   "execution_count": 444,
   "metadata": {},
   "outputs": [],
   "source": [
    "mhp_parcels_orig['VERSION'] = 'original'\n",
    "mhp_parcels_regeo['VERSION'] = 'regeocoded'"
   ]
  },
  {
   "cell_type": "code",
   "execution_count": 445,
   "metadata": {},
   "outputs": [],
   "source": [
    "mhp_parcels_orig['MH_Geocoded_X'] = np.nan\n",
    "mhp_parcels_orig['MH_Geocoded_Y'] = np.nan"
   ]
  },
  {
   "cell_type": "code",
   "execution_count": 446,
   "metadata": {},
   "outputs": [],
   "source": [
    "#just re-ordering the columns here\n",
    "mhp_parcels_orig = mhp_parcels_orig[['APN', 'APN2', 'MH_Geocoded_X', 'MH_Geocoded_Y', 'MHPID', 'MH_NAME',\n",
    "       'MH_ADDRESS', 'MH_CITY', 'MH_STATE', 'MH_ZIP', 'MH_STATUS',\n",
    "       'MH_COUNTY_FIPS', 'MH_LATITUDE', 'MH_LONGITUDE', 'geometry', 'VERSION']]"
   ]
  },
  {
   "cell_type": "code",
   "execution_count": 447,
   "metadata": {},
   "outputs": [
    {
     "data": {
      "text/plain": [
       "array([ True,  True,  True,  True,  True,  True,  True,  True,  True,\n",
       "        True,  True,  True,  True,  True,  True,  True])"
      ]
     },
     "execution_count": 447,
     "metadata": {},
     "output_type": "execute_result"
    }
   ],
   "source": [
    "mhp_parcels_regeo.columns == mhp_parcels_orig.columns"
   ]
  },
  {
   "cell_type": "markdown",
   "metadata": {},
   "source": [
    "merged: this df is only MHPIDs that are in both datasets. Some will be to same parcels, some will be to different parcels."
   ]
  },
  {
   "cell_type": "code",
   "execution_count": 448,
   "metadata": {},
   "outputs": [],
   "source": [
    "merged = mhp_parcels_orig.merge(mhp_parcels_regeo, on='MHPID', how='inner')"
   ]
  },
  {
   "cell_type": "code",
   "execution_count": 449,
   "metadata": {},
   "outputs": [
    {
     "data": {
      "text/plain": [
       "(442, 211)"
      ]
     },
     "execution_count": 449,
     "metadata": {},
     "output_type": "execute_result"
    }
   ],
   "source": [
    "len(mhp_parcels_regeo), len(mhp_parcels_orig)"
   ]
  },
  {
   "cell_type": "code",
   "execution_count": 450,
   "metadata": {},
   "outputs": [
    {
     "data": {
      "text/plain": [
       "178"
      ]
     },
     "execution_count": 450,
     "metadata": {},
     "output_type": "execute_result"
    }
   ],
   "source": [
    "len(merged)"
   ]
  },
  {
   "cell_type": "code",
   "execution_count": 451,
   "metadata": {},
   "outputs": [],
   "source": [
    "merged['match'] = merged['APN_x'] == merged['APN_y'] #creates a boolean column"
   ]
  },
  {
   "cell_type": "markdown",
   "metadata": {},
   "source": [
    "merged_diff represents all mhp/parcels that matched in both versions but to different parcels."
   ]
  },
  {
   "cell_type": "code",
   "execution_count": 452,
   "metadata": {},
   "outputs": [],
   "source": [
    "merged_diff = merged.loc[merged['match']==False]"
   ]
  },
  {
   "cell_type": "code",
   "execution_count": 455,
   "metadata": {},
   "outputs": [],
   "source": [
    "merged_same = merged.loc[merged['match']==True]"
   ]
  },
  {
   "cell_type": "code",
   "execution_count": 456,
   "metadata": {},
   "outputs": [
    {
     "data": {
      "text/plain": [
       "106"
      ]
     },
     "execution_count": 456,
     "metadata": {},
     "output_type": "execute_result"
    }
   ],
   "source": [
    "len(merged_same)"
   ]
  },
  {
   "cell_type": "code",
   "execution_count": 453,
   "metadata": {},
   "outputs": [
    {
     "data": {
      "text/plain": [
       "72"
      ]
     },
     "execution_count": 453,
     "metadata": {},
     "output_type": "execute_result"
    }
   ],
   "source": [
    "len(merged_diff)"
   ]
  },
  {
   "cell_type": "code",
   "execution_count": 514,
   "metadata": {},
   "outputs": [],
   "source": [
    "merged_diff.drop(['geometry_x','geometry_y'],axis=1).to_csv(os.path.join(co_22_dir,'Colorado_diffs.csv'))"
   ]
  },
  {
   "cell_type": "markdown",
   "metadata": {},
   "source": [
    "finding the mhp/parcels matched in the regeocoded data but not matched in original"
   ]
  },
  {
   "cell_type": "code",
   "execution_count": 468,
   "metadata": {},
   "outputs": [],
   "source": [
    "mhp_parcels_concat = pd.concat([mhp_parcels_orig, mhp_parcels_regeo])"
   ]
  },
  {
   "cell_type": "code",
   "execution_count": 469,
   "metadata": {},
   "outputs": [
    {
     "data": {
      "text/plain": [
       "653"
      ]
     },
     "execution_count": 469,
     "metadata": {},
     "output_type": "execute_result"
    }
   ],
   "source": [
    "len(mhp_parcels_concat)"
   ]
  },
  {
   "cell_type": "code",
   "execution_count": 470,
   "metadata": {},
   "outputs": [],
   "source": [
    "mhp_parcels_unique = mhp_parcels_concat.drop_duplicates(subset=['MHPID'], keep=False)"
   ]
  },
  {
   "cell_type": "code",
   "execution_count": 471,
   "metadata": {},
   "outputs": [
    {
     "data": {
      "text/plain": [
       "300"
      ]
     },
     "execution_count": 471,
     "metadata": {},
     "output_type": "execute_result"
    }
   ],
   "source": [
    "len(mhp_parcels_unique)"
   ]
  },
  {
   "cell_type": "code",
   "execution_count": 465,
   "metadata": {},
   "outputs": [],
   "source": [
    "mhp_parcels_unique_regeo = mhp_parcels_unique.loc[mhp_parcels_unique['VERSION']=='regeocoded']\n",
    "mhp_parcels_unique_orig = mhp_parcels_unique.loc[mhp_parcels_unique['VERSION']=='original']"
   ]
  },
  {
   "cell_type": "code",
   "execution_count": 466,
   "metadata": {},
   "outputs": [
    {
     "data": {
      "text/plain": [
       "(264, 36)"
      ]
     },
     "execution_count": 466,
     "metadata": {},
     "output_type": "execute_result"
    }
   ],
   "source": [
    "len(mhp_parcels_unique_regeo), len(mhp_parcels_unique_orig)"
   ]
  },
  {
   "cell_type": "code",
   "execution_count": 430,
   "metadata": {},
   "outputs": [],
   "source": [
    "mhp_parcels_unique_regeo.to_file(os.path.join(co_22_dir, 'Colorado_Final_regeo.gpkg'), layer='mhp_parcels_unique_regeo')\n",
    "mhp_parcels_unique_orig.to_file(os.path.join(co_22_dir, 'Colorado_Final_original.gpkg'), layer='mhp_parcels_unique_orig')"
   ]
  },
  {
   "cell_type": "markdown",
   "metadata": {},
   "source": [
    "Find non-matched:"
   ]
  },
  {
   "cell_type": "code",
   "execution_count": 488,
   "metadata": {},
   "outputs": [
    {
     "data": {
      "text/plain": [
       "(653, 684)"
      ]
     },
     "execution_count": 488,
     "metadata": {},
     "output_type": "execute_result"
    }
   ],
   "source": [
    "len(mhp_parcels_concat), len(mhps_original)"
   ]
  },
  {
   "cell_type": "code",
   "execution_count": 494,
   "metadata": {},
   "outputs": [],
   "source": [
    "mhps = mhps_original.merge(mhp_parcels_concat, on='MHPID', how='outer')"
   ]
  },
  {
   "cell_type": "code",
   "execution_count": 495,
   "metadata": {},
   "outputs": [
    {
     "data": {
      "text/plain": [
       "862"
      ]
     },
     "execution_count": 495,
     "metadata": {},
     "output_type": "execute_result"
    }
   ],
   "source": [
    "len(mhps)"
   ]
  },
  {
   "cell_type": "code",
   "execution_count": 503,
   "metadata": {},
   "outputs": [],
   "source": [
    "mhps_noMatch = mhps.loc[mhps['VERSION'].isna()]"
   ]
  },
  {
   "cell_type": "code",
   "execution_count": 504,
   "metadata": {},
   "outputs": [
    {
     "data": {
      "text/plain": [
       "209"
      ]
     },
     "execution_count": 504,
     "metadata": {},
     "output_type": "execute_result"
    }
   ],
   "source": [
    "len(mhps_noMatch)"
   ]
  },
  {
   "cell_type": "code",
   "execution_count": 506,
   "metadata": {},
   "outputs": [],
   "source": [
    "MHPIDS = mhps_original['MHPID'].unique().tolist()\n",
    "MHPIDS_matched = mhp_parcels_concat['MHPID'].unique().tolist()"
   ]
  },
  {
   "cell_type": "code",
   "execution_count": 507,
   "metadata": {},
   "outputs": [
    {
     "name": "stdout",
     "output_type": "stream",
     "text": [
      "Yes: 475\n",
      "No: 209\n"
     ]
    }
   ],
   "source": [
    "yes = 0\n",
    "no = 0\n",
    "for mhpid in MHPIDS:\n",
    "    if mhpid in MHPIDS_matched:\n",
    "        yes+=1\n",
    "    else:\n",
    "        no+=1\n",
    "\n",
    "print('Yes:',yes)\n",
    "print('No:',no)"
   ]
  },
  {
   "cell_type": "code",
   "execution_count": 508,
   "metadata": {},
   "outputs": [
    {
     "data": {
      "text/plain": [
       "684"
      ]
     },
     "execution_count": 508,
     "metadata": {},
     "output_type": "execute_result"
    }
   ],
   "source": [
    "475+209"
   ]
  },
  {
   "cell_type": "code",
   "execution_count": 509,
   "metadata": {},
   "outputs": [],
   "source": [
    "mhps_noMatch.to_csv(os.path.join(co_22_dir,'mhps_nonmatched.csv'))"
   ]
  },
  {
   "cell_type": "markdown",
   "metadata": {},
   "source": [
    "filtering out complex parcel geometries (which would typically be street grids or roads)"
   ]
  },
  {
   "cell_type": "code",
   "execution_count": 164,
   "metadata": {},
   "outputs": [
    {
     "data": {
      "text/plain": [
       "1      POLYGON ((-104.43109 39.75824, -104.43149 39.7...\n",
       "2      POLYGON ((-104.42858 39.75536, -104.42858 39.7...\n",
       "3      POLYGON ((-104.78241 39.98664, -104.78239 39.9...\n",
       "6      POLYGON ((-105.01078 39.86897, -105.01077 39.8...\n",
       "7      POLYGON ((-105.01564 39.87578, -105.01563 39.8...\n",
       "                             ...                        \n",
       "455    POLYGON ((-104.90152 40.33344, -104.90150 40.3...\n",
       "457    POLYGON ((-104.85947 40.33010, -104.85947 40.3...\n",
       "460    POLYGON ((-104.80975 40.08772, -104.80998 40.0...\n",
       "461    POLYGON ((-105.02906 40.16105, -105.03220 40.1...\n",
       "465    POLYGON ((-104.92932 40.08744, -104.92930 40.0...\n",
       "Name: geometry, Length: 258, dtype: geometry"
      ]
     },
     "execution_count": 164,
     "metadata": {},
     "output_type": "execute_result"
    }
   ],
   "source": [
    "mhp_parcels_unique_regeo.geometry"
   ]
  },
  {
   "cell_type": "code",
   "execution_count": 182,
   "metadata": {},
   "outputs": [],
   "source": [
    "poly = mhp_parcels_unique_regeo.iloc[59].geometry"
   ]
  },
  {
   "cell_type": "code",
   "execution_count": 202,
   "metadata": {},
   "outputs": [
    {
     "data": {
      "text/plain": [
       "1665"
      ]
     },
     "execution_count": 202,
     "metadata": {},
     "output_type": "execute_result"
    }
   ],
   "source": [
    "len(poly.exterior.xy[0])"
   ]
  },
  {
   "cell_type": "code",
   "execution_count": 203,
   "metadata": {},
   "outputs": [],
   "source": [
    "poly2 = mhp_parcels_unique_regeo.iloc[0].geometry"
   ]
  },
  {
   "cell_type": "code",
   "execution_count": 279,
   "metadata": {},
   "outputs": [],
   "source": [
    "def geomLen(geom):\n",
    "    return len(geom.exterior.xy[0])"
   ]
  },
  {
   "cell_type": "code",
   "execution_count": 309,
   "metadata": {},
   "outputs": [],
   "source": [
    "def geomZscore(geom):\n",
    "    return stats.zscore(len(geom.exterior.xy[0]))"
   ]
  },
  {
   "cell_type": "code",
   "execution_count": 360,
   "metadata": {},
   "outputs": [],
   "source": [
    "testdf = mhp_parcels_unique_regeo.copy()"
   ]
  },
  {
   "cell_type": "code",
   "execution_count": 361,
   "metadata": {},
   "outputs": [],
   "source": [
    "testdf['polyLen'] = testdf.apply(lambda row: geomLen(row.geometry), axis=1)"
   ]
  },
  {
   "cell_type": "code",
   "execution_count": 362,
   "metadata": {},
   "outputs": [],
   "source": [
    "testdf['geomZscore'] = np.abs(stats.zscore(testdf['polyLen']))"
   ]
  },
  {
   "cell_type": "code",
   "execution_count": 348,
   "metadata": {},
   "outputs": [
    {
     "data": {
      "text/html": [
       "<div>\n",
       "<style scoped>\n",
       "    .dataframe tbody tr th:only-of-type {\n",
       "        vertical-align: middle;\n",
       "    }\n",
       "\n",
       "    .dataframe tbody tr th {\n",
       "        vertical-align: top;\n",
       "    }\n",
       "\n",
       "    .dataframe thead th {\n",
       "        text-align: right;\n",
       "    }\n",
       "</style>\n",
       "<table border=\"1\" class=\"dataframe\">\n",
       "  <thead>\n",
       "    <tr style=\"text-align: right;\">\n",
       "      <th></th>\n",
       "      <th>APN</th>\n",
       "      <th>APN2</th>\n",
       "      <th>MH_Geocoded_X</th>\n",
       "      <th>MH_Geocoded_Y</th>\n",
       "      <th>MHPID</th>\n",
       "      <th>MH_NAME</th>\n",
       "      <th>MH_ADDRESS</th>\n",
       "      <th>MH_CITY</th>\n",
       "      <th>MH_STATE</th>\n",
       "      <th>MH_ZIP</th>\n",
       "      <th>MH_STATUS</th>\n",
       "      <th>MH_COUNTY_FIPS</th>\n",
       "      <th>MH_LATITUDE</th>\n",
       "      <th>MH_LONGITUDE</th>\n",
       "      <th>geometry</th>\n",
       "      <th>VERSION</th>\n",
       "      <th>polyLen</th>\n",
       "      <th>geomZscore</th>\n",
       "    </tr>\n",
       "  </thead>\n",
       "  <tbody>\n",
       "    <tr>\n",
       "      <th>120</th>\n",
       "      <td>183916400905</td>\n",
       "      <td>None</td>\n",
       "      <td>-105.682575</td>\n",
       "      <td>39.76097</td>\n",
       "      <td>12153.0</td>\n",
       "      <td>ROCKY MEADOWS TRAILER PARK</td>\n",
       "      <td>PO BOX 445</td>\n",
       "      <td>EMPIRE</td>\n",
       "      <td>CO</td>\n",
       "      <td>80438</td>\n",
       "      <td>OPEN</td>\n",
       "      <td>08019</td>\n",
       "      <td>39.761342</td>\n",
       "      <td>-105.6854</td>\n",
       "      <td>POLYGON ((-105.78425 39.77697, -105.77240 39.7...</td>\n",
       "      <td>regeocoded</td>\n",
       "      <td>1665</td>\n",
       "      <td>15.318169</td>\n",
       "    </tr>\n",
       "  </tbody>\n",
       "</table>\n",
       "</div>"
      ],
      "text/plain": [
       "              APN  APN2  MH_Geocoded_X  MH_Geocoded_Y    MHPID  \\\n",
       "120  183916400905  None    -105.682575       39.76097  12153.0   \n",
       "\n",
       "                        MH_NAME  MH_ADDRESS MH_CITY MH_STATE MH_ZIP MH_STATUS  \\\n",
       "120  ROCKY MEADOWS TRAILER PARK  PO BOX 445  EMPIRE       CO  80438      OPEN   \n",
       "\n",
       "    MH_COUNTY_FIPS  MH_LATITUDE  MH_LONGITUDE  \\\n",
       "120          08019    39.761342     -105.6854   \n",
       "\n",
       "                                              geometry     VERSION  polyLen  \\\n",
       "120  POLYGON ((-105.78425 39.77697, -105.77240 39.7...  regeocoded     1665   \n",
       "\n",
       "     geomZscore  \n",
       "120   15.318169  "
      ]
     },
     "execution_count": 348,
     "metadata": {},
     "output_type": "execute_result"
    }
   ],
   "source": [
    "testdf.loc[testdf['geomZscore']>3]"
   ]
  },
  {
   "cell_type": "code",
   "execution_count": 363,
   "metadata": {},
   "outputs": [],
   "source": [
    "testdf.drop(testdf[testdf.geomZscore >3].index, inplace=True)"
   ]
  },
  {
   "cell_type": "code",
   "execution_count": 367,
   "metadata": {},
   "outputs": [],
   "source": [
    "testdf.reset_index(inplace=True)"
   ]
  },
  {
   "cell_type": "code",
   "execution_count": 369,
   "metadata": {},
   "outputs": [],
   "source": [
    "testdf.drop(['index'],axis=1, inplace=True)"
   ]
  },
  {
   "cell_type": "code",
   "execution_count": null,
   "metadata": {},
   "outputs": [],
   "source": [
    "testdf"
   ]
  },
  {
   "cell_type": "markdown",
   "metadata": {},
   "source": [
    "Albers versions of MHP datasets:"
   ]
  },
  {
   "cell_type": "code",
   "execution_count": 438,
   "metadata": {},
   "outputs": [],
   "source": [
    "mhps_regeo = gpd.read_file(os.path.join(co_22_dir,'08_MHPS.gpkg'),layer='08_MHPs_Prepped')\n",
    "mhps_orig = gpd.read_file(os.path.join(co_22_dir,'08_MHPS_OG.gpkg'),layer='08_MHPs_Prepped_OG')"
   ]
  },
  {
   "cell_type": "code",
   "execution_count": 439,
   "metadata": {},
   "outputs": [],
   "source": [
    "mhps_regeo.to_crs(crs='ESRI:102003', inplace=True)\n",
    "mhps_original.to_crs(crs='ESRI:102003', inplace=True)\n",
    "mhps_regeo.to_file(os.path.join(co_22_dir,'08_MHPS_Albers.gpkg'),layer='08_MHPs_regeo_albers')\n",
    "mhps_original.to_file(os.path.join(co_22_dir,'08_MHPS_Albers.gpkg'),layer='08_MHPs_original_albers')"
   ]
  },
  {
   "cell_type": "code",
   "execution_count": null,
   "metadata": {},
   "outputs": [],
   "source": []
  }
 ],
 "metadata": {
  "kernelspec": {
   "display_name": "base",
   "language": "python",
   "name": "python3"
  },
  "language_info": {
   "codemirror_mode": {
    "name": "ipython",
    "version": 3
   },
   "file_extension": ".py",
   "mimetype": "text/x-python",
   "name": "python",
   "nbconvert_exporter": "python",
   "pygments_lexer": "ipython3",
   "version": "3.7.4"
  },
  "orig_nbformat": 4
 },
 "nbformat": 4,
 "nbformat_minor": 2
}
