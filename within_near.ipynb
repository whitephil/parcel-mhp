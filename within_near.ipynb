{
 "cells": [
  {
   "cell_type": "code",
   "execution_count": 296,
   "metadata": {},
   "outputs": [],
   "source": [
    "import geopandas as gpd\n",
    "import pandas as pd\n",
    "import os\n",
    "import parcelfunks\n",
    "import numpy as np\n",
    "from scipy import stats\n",
    "import shutil\n",
    "from glob import glob"
   ]
  },
  {
   "cell_type": "code",
   "execution_count": 88,
   "metadata": {},
   "outputs": [],
   "source": [
    "mhomesPath = r'C:\\Users\\phwh9568\\Data\\ParcelAtlas\\CO_2022\\Counties\\08001\\08001_mhps_OG.gpkg'"
   ]
  },
  {
   "cell_type": "code",
   "execution_count": 89,
   "metadata": {},
   "outputs": [],
   "source": [
    "parcelsPath = r'C:\\Users\\phwh9568\\Data\\ParcelAtlas\\CO_2022\\Counties\\08001\\parcels.shp'"
   ]
  },
  {
   "cell_type": "code",
   "execution_count": 90,
   "metadata": {},
   "outputs": [],
   "source": [
    "mhomes = gpd.read_file(mhomesPath, layer='08001_mhps_OG_prepped').to_crs(crs='ESRI:102003')"
   ]
  },
  {
   "cell_type": "code",
   "execution_count": 61,
   "metadata": {},
   "outputs": [],
   "source": [
    "mhomes.to_file(mhomesPath, layer='mhomes_OG_albers')"
   ]
  },
  {
   "cell_type": "code",
   "execution_count": 97,
   "metadata": {},
   "outputs": [
    {
     "name": "stderr",
     "output_type": "stream",
     "text": [
      "c:\\Users\\phwh9568\\AppData\\Local\\Continuum\\anaconda3\\envs\\geo_env\\Lib\\site-packages\\pyogrio\\raw.py:194: RuntimeWarning: C:\\Users\\phwh9568\\Data\\ParcelAtlas\\CO_2022\\Counties\\08001\\parcels.shp contains polygon(s) with rings with invalid winding order. Autocorrecting them, but that shapefile should be corrected using ogr2ogr for example.\n",
      "  result = ogr_read(\n"
     ]
    }
   ],
   "source": [
    "parcel = gpd.read_file(parcelsPath).to_crs(crs='ESRI:102003')"
   ]
  },
  {
   "cell_type": "code",
   "execution_count": 63,
   "metadata": {},
   "outputs": [
    {
     "data": {
      "text/plain": [
       "True"
      ]
     },
     "execution_count": 63,
     "metadata": {},
     "output_type": "execute_result"
    }
   ],
   "source": [
    "mhomes.crs == parcel.crs"
   ]
  },
  {
   "cell_type": "code",
   "execution_count": 13,
   "metadata": {},
   "outputs": [],
   "source": [
    "def geomLen(geom):\n",
    "    return len(geom.exterior.xy[0])\n",
    "\n",
    "def geomZscore(geom):\n",
    "    return stats.zscore(len(geom.exterior.xy[0]))"
   ]
  },
  {
   "cell_type": "code",
   "execution_count": 98,
   "metadata": {},
   "outputs": [],
   "source": [
    "parcel.drop_duplicates(subset=['geometry'], inplace=True)\n",
    "parcel = parcel.explode(index_parts=False)\n",
    "parcel['polyLen1'] = parcel.apply(lambda row: geomLen(row.geometry), axis=1)\n",
    "parcel['geomZscore1'] = np.abs(stats.zscore(parcel['polyLen1']))\n",
    "parcel['geometry'] = parcel['geometry'].simplify(1)\n",
    "parcel['polyLen2'] = parcel.apply(lambda row: geomLen(row.geometry), axis=1)\n",
    "parcel['geomZscore2'] = np.abs(stats.zscore(parcel['polyLen2']))\n",
    "#parcel.drop(parcel[parcel.geomZscore > 3].index, inplace=True)\n",
    "#parcel.reset_index(inplace=True)\n",
    "columns = ['APN', 'APN2', 'polyLen1', 'geomZscore1', 'polyLen2', 'geomZscore2','geometry']\n",
    "drops = [c for c in parcel.columns if c not in columns]\n",
    "parcel.drop(drops, axis=1, inplace=True)        \n",
    "#mobileHomes = gpd.read_file(mhpPath)\n",
    "if parcel.crs != mhomes.crs:\n",
    "    parcel.to_crs(mhomes.crs, inplace=True)\n",
    "phomes_sjoin = gpd.sjoin(parcel,mhomes)\n",
    "phomes_sjoin.drop('index_right', axis=1, inplace=True)\n",
    "phomes_near = gpd.sjoin_nearest(parcel, mhomes, max_distance=5.0, distance_col='distances')\n",
    "phomes_near.drop('index_right', axis=1, inplace=True)\n",
    "phomes_near = phomes_near.sort_values(['MHPID','distances']).drop_duplicates(subset=['MHPID'], keep='first')\n",
    "\n"
   ]
  },
  {
   "cell_type": "code",
   "execution_count": 33,
   "metadata": {},
   "outputs": [
    {
     "data": {
      "text/plain": [
       "12"
      ]
     },
     "execution_count": 33,
     "metadata": {},
     "output_type": "execute_result"
    }
   ],
   "source": [
    "len(phomes_sjoin)"
   ]
  },
  {
   "cell_type": "code",
   "execution_count": 34,
   "metadata": {},
   "outputs": [
    {
     "data": {
      "text/plain": [
       "26"
      ]
     },
     "execution_count": 34,
     "metadata": {},
     "output_type": "execute_result"
    }
   ],
   "source": [
    "len(phomes_near)"
   ]
  },
  {
   "cell_type": "code",
   "execution_count": 99,
   "metadata": {},
   "outputs": [],
   "source": [
    "phomes_near.to_file(r'C:\\Users\\phwh9568\\Data\\ParcelAtlas\\CO_2022\\Counties\\08001\\08001_OG.gpkg', layer='MH_parcels_near')"
   ]
  },
  {
   "cell_type": "code",
   "execution_count": 37,
   "metadata": {},
   "outputs": [],
   "source": [
    "phomes_sjoin.to_file(r'C:\\Users\\phwh9568\\Data\\ParcelAtlas\\CO_2022\\Counties\\08069\\08069_OG.gpkg', layer='MH_parcels')"
   ]
  },
  {
   "cell_type": "code",
   "execution_count": 11,
   "metadata": {},
   "outputs": [
    {
     "data": {
      "text/plain": [
       "103394"
      ]
     },
     "execution_count": 11,
     "metadata": {},
     "output_type": "execute_result"
    }
   ],
   "source": [
    "len(parcel)"
   ]
  },
  {
   "cell_type": "code",
   "execution_count": 12,
   "metadata": {},
   "outputs": [
    {
     "data": {
      "text/plain": [
       "<Geographic 2D CRS: EPSG:4269>\n",
       "Name: NAD83\n",
       "Axis Info [ellipsoidal]:\n",
       "- Lat[north]: Geodetic latitude (degree)\n",
       "- Lon[east]: Geodetic longitude (degree)\n",
       "Area of Use:\n",
       "- name: North America - NAD83\n",
       "- bounds: (167.65, 14.92, -47.74, 86.46)\n",
       "Datum: North American Datum 1983\n",
       "- Ellipsoid: GRS 1980\n",
       "- Prime Meridian: Greenwich"
      ]
     },
     "execution_count": 12,
     "metadata": {},
     "output_type": "execute_result"
    }
   ],
   "source": [
    "parcel.crs"
   ]
  },
  {
   "cell_type": "code",
   "execution_count": 13,
   "metadata": {},
   "outputs": [
    {
     "data": {
      "text/plain": [
       "<Geographic 2D CRS: EPSG:4269>\n",
       "Name: NAD83\n",
       "Axis Info [ellipsoidal]:\n",
       "- Lat[north]: Geodetic latitude (degree)\n",
       "- Lon[east]: Geodetic longitude (degree)\n",
       "Area of Use:\n",
       "- name: North America - NAD83\n",
       "- bounds: (167.65, 14.92, -47.74, 86.46)\n",
       "Datum: North American Datum 1983\n",
       "- Ellipsoid: GRS 1980\n",
       "- Prime Meridian: Greenwich"
      ]
     },
     "execution_count": 13,
     "metadata": {},
     "output_type": "execute_result"
    }
   ],
   "source": [
    "mhomes.crs"
   ]
  },
  {
   "cell_type": "code",
   "execution_count": 14,
   "metadata": {},
   "outputs": [],
   "source": [
    "mhomes_albers = mhomes.to_crs(crs='ESRI:102003')"
   ]
  },
  {
   "cell_type": "code",
   "execution_count": 20,
   "metadata": {},
   "outputs": [
    {
     "data": {
      "text/plain": [
       "<Projected CRS: ESRI:102003>\n",
       "Name: USA_Contiguous_Albers_Equal_Area_Conic\n",
       "Axis Info [cartesian]:\n",
       "- E[east]: Easting (metre)\n",
       "- N[north]: Northing (metre)\n",
       "Area of Use:\n",
       "- name: USA - CONUS - onshore\n",
       "- bounds: (-124.79, 24.41, -66.91, 49.38)\n",
       "Coordinate Operation:\n",
       "- name: USA_Contiguous_Albers_Equal_Area_Conic\n",
       "- method: Albers Equal Area\n",
       "Datum: North American Datum 1983\n",
       "- Ellipsoid: GRS 1980\n",
       "- Prime Meridian: Greenwich"
      ]
     },
     "execution_count": 20,
     "metadata": {},
     "output_type": "execute_result"
    }
   ],
   "source": [
    "mhomes_albers.crs"
   ]
  },
  {
   "cell_type": "code",
   "execution_count": 2,
   "metadata": {},
   "outputs": [],
   "source": [
    "parcelsPath = r'C:\\Users\\phwh9568\\Data\\ParcelAtlas\\CO_2022\\Counties\\08001\\parcels.shp'"
   ]
  },
  {
   "cell_type": "code",
   "execution_count": 3,
   "metadata": {},
   "outputs": [
    {
     "name": "stderr",
     "output_type": "stream",
     "text": [
      "c:\\Users\\phwh9568\\AppData\\Local\\Continuum\\anaconda3\\envs\\geo_env\\Lib\\site-packages\\pyogrio\\raw.py:194: RuntimeWarning: C:\\Users\\phwh9568\\Data\\ParcelAtlas\\CO_2022\\Counties\\08001\\parcels.shp contains polygon(s) with rings with invalid winding order. Autocorrecting them, but that shapefile should be corrected using ogr2ogr for example.\n",
      "  result = ogr_read(\n"
     ]
    }
   ],
   "source": [
    "parcels = gpd.read_file(parcelsPath)"
   ]
  },
  {
   "cell_type": "code",
   "execution_count": 4,
   "metadata": {},
   "outputs": [
    {
     "data": {
      "text/plain": [
       "<Geographic 2D CRS: EPSG:4269>\n",
       "Name: NAD83\n",
       "Axis Info [ellipsoidal]:\n",
       "- Lat[north]: Geodetic latitude (degree)\n",
       "- Lon[east]: Geodetic longitude (degree)\n",
       "Area of Use:\n",
       "- name: North America - onshore and offshore: Canada - Alberta; British Columbia; Manitoba; New Brunswick; Newfoundland and Labrador; Northwest Territories; Nova Scotia; Nunavut; Ontario; Prince Edward Island; Quebec; Saskatchewan; Yukon. Puerto Rico. United States (USA) - Alabama; Alaska; Arizona; Arkansas; California; Colorado; Connecticut; Delaware; Florida; Georgia; Hawaii; Idaho; Illinois; Indiana; Iowa; Kansas; Kentucky; Louisiana; Maine; Maryland; Massachusetts; Michigan; Minnesota; Mississippi; Missouri; Montana; Nebraska; Nevada; New Hampshire; New Jersey; New Mexico; New York; North Carolina; North Dakota; Ohio; Oklahoma; Oregon; Pennsylvania; Rhode Island; South Carolina; South Dakota; Tennessee; Texas; Utah; Vermont; Virginia; Washington; West Virginia; Wisconsin; Wyoming. US Virgin Islands. British Virgin Islands.\n",
       "- bounds: (167.65, 14.92, -40.73, 86.45)\n",
       "Datum: North American Datum 1983\n",
       "- Ellipsoid: GRS 1980\n",
       "- Prime Meridian: Greenwich"
      ]
     },
     "execution_count": 4,
     "metadata": {},
     "output_type": "execute_result"
    }
   ],
   "source": [
    "parcels.crs"
   ]
  },
  {
   "cell_type": "code",
   "execution_count": 5,
   "metadata": {},
   "outputs": [],
   "source": [
    "parcels = parcels.to_crs(crs = 'ESRI:102003')"
   ]
  },
  {
   "cell_type": "code",
   "execution_count": 7,
   "metadata": {},
   "outputs": [],
   "source": [
    "blocks = gpd.read_file(os.path.join(r'C:\\Users\\phwh9568\\Data\\ParcelAtlas\\CO_2022\\Counties\\08001','08001_blocks.gpkg'), layer='08001_blocks')"
   ]
  },
  {
   "cell_type": "code",
   "execution_count": 9,
   "metadata": {},
   "outputs": [
    {
     "data": {
      "text/plain": [
       "<Projected CRS: ESRI:102003>\n",
       "Name: USA_Contiguous_Albers_Equal_Area_Conic\n",
       "Axis Info [cartesian]:\n",
       "- [east]: Easting (metre)\n",
       "- [north]: Northing (metre)\n",
       "Area of Use:\n",
       "- undefined\n",
       "Coordinate Operation:\n",
       "- name: unnamed\n",
       "- method: Albers Equal Area\n",
       "Datum: North American Datum 1983\n",
       "- Ellipsoid: GRS 1980\n",
       "- Prime Meridian: Greenwich"
      ]
     },
     "execution_count": 9,
     "metadata": {},
     "output_type": "execute_result"
    }
   ],
   "source": [
    "blocks.crs"
   ]
  },
  {
   "cell_type": "code",
   "execution_count": 203,
   "metadata": {},
   "outputs": [],
   "source": [
    "CO_path = r'C:\\Users\\phwh9568\\Data\\ParcelAtlas\\CO_2022\\Counties'\n",
    "#CO_pInventory = pInventory.loc[pInventory['STATE']=='08']\n",
    "CO_pInventory = pd.read_csv(r'C:\\Users\\phwh9568\\Data\\ParcelAtlas\\CO_2022\\counties\\ColoradoInventory.csv', dtype={'STATE':str,'COUNTY':str})\n",
    "CO_pInventory_True = CO_pInventory.loc[CO_pInventory['DATA_PRESENT']==True]\n",
    "CO_pInventory_False = CO_pInventory.loc[CO_pInventory['DATA_PRESENT']==False]\n",
    "CO_pInventory_False.to_csv(os.path.join(CO_path,'missingParcelData.csv')) # need to get this to work\n",
    "fipsList = CO_pInventory_True['COUNTY'].tolist()   \n",
    "parcelsPaths = [os.path.join(CO_path,fips) for fips in fipsList]"
   ]
  },
  {
   "cell_type": "code",
   "execution_count": 204,
   "metadata": {},
   "outputs": [],
   "source": [
    "co_22_dir = r'C:\\Users\\phwh9568\\Data\\ParcelAtlas\\CO_2022'\n",
    "unionDF = pd.DataFrame()\n",
    "joinDF = pd.DataFrame()\n",
    "for path in parcelsPaths:\n",
    "    fips = path.split('\\\\')[-1]\n",
    "    if os.path.exists(os.path.join(path,fips+'.gpkg')):\n",
    "        union = gpd.read_file(os.path.join(path, fips+'.gpkg'),layer='MH_parc_blk_union')\n",
    "        unionDF = pd.concat([unionDF,union])\n",
    "        join = gpd.read_file(os.path.join(path, fips+'.gpkg'),layer='MH_parcels')\n",
    "        joinDF = pd.concat([joinDF,join])        \n",
    "unionDF.to_file(os.path.join(co_22_dir,'Colorado_Final_near.gpkg'),layer='Colorado_Final_union')\n",
    "#joinDF['polyLen_3'] = joinDF.apply(lambda row: geomLen(row.geometry), axis=1)\n",
    "#joinDF['geomZscore_3'] = np.abs(stats.zscore(joinDF['polyLen2']))\n",
    "joinDF.to_file(os.path.join(co_22_dir, 'Colorado_Final_near.gpkg'),layer='Colorado_Final_MH_parcels')"
   ]
  },
  {
   "cell_type": "markdown",
   "metadata": {},
   "source": [
    "Blow up old ones"
   ]
  },
  {
   "cell_type": "code",
   "execution_count": 200,
   "metadata": {},
   "outputs": [],
   "source": [
    "for fips, path in zip(fipsList,parcelsPaths):\n",
    "    if os.path.exists(os.path.join(path,fips+'.gpkg')):\n",
    "        os.remove((os.path.join(path,fips+'.gpkg')))"
   ]
  },
  {
   "cell_type": "markdown",
   "metadata": {},
   "source": [
    "Larimer"
   ]
  },
  {
   "cell_type": "code",
   "execution_count": 18,
   "metadata": {},
   "outputs": [
    {
     "name": "stderr",
     "output_type": "stream",
     "text": [
      "c:\\Users\\phwh9568\\AppData\\Local\\Continuum\\anaconda3\\envs\\geo_env\\Lib\\site-packages\\pyogrio\\raw.py:194: RuntimeWarning: C:\\Users\\phwh9568\\Data\\ParcelAtlas\\CO_2022\\Counties\\08069\\parcels.shp contains polygon(s) with rings with invalid winding order. Autocorrecting them, but that shapefile should be corrected using ogr2ogr for example.\n",
      "  result = ogr_read(\n"
     ]
    }
   ],
   "source": [
    "larmier = gpd.read_file(r'C:\\Users\\phwh9568\\Data\\ParcelAtlas\\CO_2022\\Counties\\08069\\parcels.shp')"
   ]
  },
  {
   "cell_type": "code",
   "execution_count": 24,
   "metadata": {},
   "outputs": [
    {
     "data": {
      "text/plain": [
       "str"
      ]
     },
     "execution_count": 24,
     "metadata": {},
     "output_type": "execute_result"
    }
   ],
   "source": [
    "type(larmier['APN'][0])"
   ]
  },
  {
   "cell_type": "markdown",
   "metadata": {},
   "source": [
    "Working on dropping non-nearest joins"
   ]
  },
  {
   "cell_type": "code",
   "execution_count": 47,
   "metadata": {},
   "outputs": [],
   "source": [
    "boco = gpd.read_file(r'C:\\Users\\phwh9568\\Data\\ParcelAtlas\\CO_2022\\Counties\\08013\\08013_OG.gpkg', layer='MH_parcels_near')"
   ]
  },
  {
   "cell_type": "code",
   "execution_count": 48,
   "metadata": {},
   "outputs": [
    {
     "data": {
      "text/plain": [
       "Index(['APN', 'APN2', 'polyLen', 'geomZscore', 'MHPID', 'MH_NAME',\n",
       "       'MH_ADDRESS', 'MH_CITY', 'MH_STATE', 'MH_ZIP', 'MH_STATUS',\n",
       "       'MH_COUNTY_FIPS', 'MH_LATITUDE', 'MH_LONGITUDE', 'distances',\n",
       "       'geometry'],\n",
       "      dtype='object')"
      ]
     },
     "execution_count": 48,
     "metadata": {},
     "output_type": "execute_result"
    }
   ],
   "source": [
    "boco.columns"
   ]
  },
  {
   "cell_type": "code",
   "execution_count": 63,
   "metadata": {},
   "outputs": [],
   "source": [
    "dupMHPIDs = boco.loc[boco['MHPID'].duplicated() == True]['MHPID']"
   ]
  },
  {
   "cell_type": "code",
   "execution_count": 66,
   "metadata": {},
   "outputs": [
    {
     "data": {
      "text/plain": [
       "Index(['APN', 'APN2', 'polyLen', 'geomZscore', 'MHPID', 'MH_NAME',\n",
       "       'MH_ADDRESS', 'MH_CITY', 'MH_STATE', 'MH_ZIP', 'MH_STATUS',\n",
       "       'MH_COUNTY_FIPS', 'MH_LATITUDE', 'MH_LONGITUDE', 'distances',\n",
       "       'geometry'],\n",
       "      dtype='object')"
      ]
     },
     "execution_count": 66,
     "metadata": {},
     "output_type": "execute_result"
    }
   ],
   "source": [
    "boco.columns"
   ]
  },
  {
   "cell_type": "code",
   "execution_count": 72,
   "metadata": {},
   "outputs": [],
   "source": [
    "boco_group = boco.groupby(['MHPID', 'distances']).first()"
   ]
  },
  {
   "cell_type": "markdown",
   "metadata": {},
   "source": [
    "this works"
   ]
  },
  {
   "cell_type": "code",
   "execution_count": null,
   "metadata": {},
   "outputs": [],
   "source": [
    "boco.sort_values(['MHPID','distances']).drop_duplicates(subset=['MHPID'], keep='first')"
   ]
  },
  {
   "cell_type": "markdown",
   "metadata": {},
   "source": [
    "Simplifying geometry"
   ]
  },
  {
   "cell_type": "code",
   "execution_count": null,
   "metadata": {},
   "outputs": [],
   "source": [
    "parcel['geometry'] = parcel['geometry'].simplify(1)"
   ]
  },
  {
   "cell_type": "code",
   "execution_count": 106,
   "metadata": {},
   "outputs": [],
   "source": [
    "colorado = gpd.read_file(r'C:\\Users\\phwh9568\\Data\\ParcelAtlas\\CO_2022\\Colorado_Final_near.gpkg', layer='Colorado_Final_MH_parcels')"
   ]
  },
  {
   "cell_type": "code",
   "execution_count": 107,
   "metadata": {},
   "outputs": [
    {
     "data": {
      "text/plain": [
       "418"
      ]
     },
     "execution_count": 107,
     "metadata": {},
     "output_type": "execute_result"
    }
   ],
   "source": [
    "len(colorado)"
   ]
  },
  {
   "cell_type": "code",
   "execution_count": 124,
   "metadata": {},
   "outputs": [
    {
     "ename": "AttributeError",
     "evalue": "'InteriorRingSequence' object has no attribute 'xy'",
     "output_type": "error",
     "traceback": [
      "\u001b[1;31m---------------------------------------------------------------------------\u001b[0m",
      "\u001b[1;31mAttributeError\u001b[0m                            Traceback (most recent call last)",
      "\u001b[1;32mc:\\Users\\phwh9568\\Data\\ParcelAtlas\\CO_2022\\within_near.ipynb Cell 42\u001b[0m line \u001b[0;36m1\n\u001b[1;32m----> <a href='vscode-notebook-cell:/c%3A/Users/phwh9568/Data/ParcelAtlas/CO_2022/within_near.ipynb#Y104sZmlsZQ%3D%3D?line=0'>1</a>\u001b[0m \u001b[39mlen\u001b[39m(colorado[\u001b[39m'\u001b[39m\u001b[39mgeometry\u001b[39m\u001b[39m'\u001b[39m][\u001b[39m107\u001b[39m]\u001b[39m.\u001b[39mexterior\u001b[39m.\u001b[39mxy[\u001b[39m0\u001b[39m] \u001b[39m+\u001b[39m \u001b[39mlen\u001b[39m(colorado[\u001b[39m'\u001b[39;49m\u001b[39mgeometry\u001b[39;49m\u001b[39m'\u001b[39;49m][\u001b[39m107\u001b[39;49m]\u001b[39m.\u001b[39;49minteriors\u001b[39m.\u001b[39;49mxy[\u001b[39m0\u001b[39m]))\n",
      "\u001b[1;31mAttributeError\u001b[0m: 'InteriorRingSequence' object has no attribute 'xy'"
     ]
    }
   ],
   "source": [
    "len(colorado['geometry'][107].exterior.xy[0] + len(colorado['geometry'][107].interiors.xy[0]))"
   ]
  },
  {
   "cell_type": "code",
   "execution_count": 172,
   "metadata": {},
   "outputs": [],
   "source": [
    "interiors = colorado['geometry'][107].interiors"
   ]
  },
  {
   "cell_type": "code",
   "execution_count": 171,
   "metadata": {},
   "outputs": [
    {
     "ename": "IndexError",
     "evalue": "index out of range",
     "output_type": "error",
     "traceback": [
      "\u001b[1;31m---------------------------------------------------------------------------\u001b[0m",
      "\u001b[1;31mIndexError\u001b[0m                                Traceback (most recent call last)",
      "\u001b[1;32mc:\\Users\\phwh9568\\Data\\ParcelAtlas\\CO_2022\\within_near.ipynb Cell 44\u001b[0m line \u001b[0;36m1\n\u001b[1;32m----> <a href='vscode-notebook-cell:/c%3A/Users/phwh9568/Data/ParcelAtlas/CO_2022/within_near.ipynb#Y115sZmlsZQ%3D%3D?line=0'>1</a>\u001b[0m interiors[\u001b[39m0\u001b[39;49m]\n",
      "File \u001b[1;32mc:\\Users\\phwh9568\\AppData\\Local\\Continuum\\anaconda3\\envs\\geo_env\\Lib\\site-packages\\shapely\\geometry\\polygon.py:164\u001b[0m, in \u001b[0;36mInteriorRingSequence.__getitem__\u001b[1;34m(self, key)\u001b[0m\n\u001b[0;32m    162\u001b[0m \u001b[39mif\u001b[39;00m \u001b[39misinstance\u001b[39m(key, \u001b[39mint\u001b[39m):\n\u001b[0;32m    163\u001b[0m     \u001b[39mif\u001b[39;00m key \u001b[39m+\u001b[39m m \u001b[39m<\u001b[39m \u001b[39m0\u001b[39m \u001b[39mor\u001b[39;00m key \u001b[39m>\u001b[39m\u001b[39m=\u001b[39m m:\n\u001b[1;32m--> 164\u001b[0m         \u001b[39mraise\u001b[39;00m \u001b[39mIndexError\u001b[39;00m(\u001b[39m\"\u001b[39m\u001b[39mindex out of range\u001b[39m\u001b[39m\"\u001b[39m)\n\u001b[0;32m    165\u001b[0m     \u001b[39mif\u001b[39;00m key \u001b[39m<\u001b[39m \u001b[39m0\u001b[39m:\n\u001b[0;32m    166\u001b[0m         i \u001b[39m=\u001b[39m m \u001b[39m+\u001b[39m key\n",
      "\u001b[1;31mIndexError\u001b[0m: index out of range"
     ]
    }
   ],
   "source": [
    "interiors[0]"
   ]
  },
  {
   "cell_type": "code",
   "execution_count": 162,
   "metadata": {},
   "outputs": [
    {
     "data": {
      "text/plain": [
       "5"
      ]
     },
     "execution_count": 162,
     "metadata": {},
     "output_type": "execute_result"
    }
   ],
   "source": [
    "len(interiors[0].xy[0])\n"
   ]
  },
  {
   "cell_type": "code",
   "execution_count": 134,
   "metadata": {},
   "outputs": [],
   "source": [
    "total = 0\n",
    "for g in interiors:\n",
    "    total += len(g.xy[0])"
   ]
  },
  {
   "cell_type": "code",
   "execution_count": 135,
   "metadata": {},
   "outputs": [
    {
     "data": {
      "text/plain": [
       "1608"
      ]
     },
     "execution_count": 135,
     "metadata": {},
     "output_type": "execute_result"
    }
   ],
   "source": [
    "total"
   ]
  },
  {
   "cell_type": "code",
   "execution_count": 136,
   "metadata": {},
   "outputs": [],
   "source": [
    "interiorSum = sum([len(g.xy[0]) for g in interiors])"
   ]
  },
  {
   "cell_type": "code",
   "execution_count": 137,
   "metadata": {},
   "outputs": [
    {
     "data": {
      "text/plain": [
       "1608"
      ]
     },
     "execution_count": 137,
     "metadata": {},
     "output_type": "execute_result"
    }
   ],
   "source": [
    "interiorSum"
   ]
  },
  {
   "cell_type": "code",
   "execution_count": 176,
   "metadata": {},
   "outputs": [],
   "source": [
    "geom = colorado['geometry'][106]"
   ]
  },
  {
   "cell_type": "code",
   "execution_count": 177,
   "metadata": {},
   "outputs": [],
   "source": [
    "def geomLen(geom):\n",
    "    exterior = len(geom.exterior.xy[0])\n",
    "    interior = sum([len(g.xy[0]) for g in geom.interiors]) if len(geom.interiors) > 0 else 0\n",
    "    return exterior+interior"
   ]
  },
  {
   "cell_type": "code",
   "execution_count": 180,
   "metadata": {},
   "outputs": [],
   "source": [
    "def geomLenOld(geom):\n",
    "    exterior = len(geom.exterior.xy[0])\n",
    "    #interior = sum([len(g.xy[0]) for g in geom.interiors]) if len(geom.interiors) > 0 else 0\n",
    "    return exterior"
   ]
  },
  {
   "cell_type": "code",
   "execution_count": 182,
   "metadata": {},
   "outputs": [
    {
     "name": "stdout",
     "output_type": "stream",
     "text": [
      "10\n"
     ]
    }
   ],
   "source": [
    "x = geomLen(geom)\n",
    "print(x)"
   ]
  },
  {
   "cell_type": "code",
   "execution_count": 179,
   "metadata": {},
   "outputs": [
    {
     "data": {
      "image/svg+xml": [
       "<svg xmlns=\"http://www.w3.org/2000/svg\" xmlns:xlink=\"http://www.w3.org/1999/xlink\" width=\"300\" height=\"300\" viewBox=\"-881619.8271489493 -1125.2412732554153 913.4760129734641 557.1534995256451\" preserveAspectRatio=\"xMinYMin meet\"><g transform=\"matrix(1,0,0,-1,0,-1693.3290469851854)\"><path fill-rule=\"evenodd\" fill=\"#66cc99\" stroke=\"#555555\" stroke-width=\"6.089840086489761\" opacity=\"0.6\" d=\"M -881077.7130027133,-649.4386906143069 L -881082.0666907205,-689.7773855396805 L -880952.6983873755,-702.2968314024041 L -880949.5563963252,-662.5571581044832 L -880740.1835809008,-683.989227689081 L -880785.8060734851,-1091.408828330475 L -881191.3990489419,-1046.2960582968976 L -881585.9947040243,-1009.1691562996173 L -881541.9338261475,-601.9202186547105 L -881077.7130027133,-649.4386906143069 z\" /></g></svg>"
      ],
      "text/plain": [
       "<POLYGON ((-881077.713 -649.439, -881082.067 -689.777, -880952.698 -702.297,...>"
      ]
     },
     "execution_count": 179,
     "metadata": {},
     "output_type": "execute_result"
    }
   ],
   "source": [
    "geom"
   ]
  },
  {
   "cell_type": "markdown",
   "metadata": {},
   "source": [
    "Adding buildings"
   ]
  },
  {
   "cell_type": "code",
   "execution_count": 208,
   "metadata": {},
   "outputs": [],
   "source": [
    "parcelAtlas_path = r'C:\\Users\\phwh9568\\Data\\ParcelAtlas'"
   ]
  },
  {
   "cell_type": "code",
   "execution_count": 210,
   "metadata": {},
   "outputs": [],
   "source": [
    "US_county_fips = pd.read_csv(os.path.join(parcelAtlas_path, 'US_county_fips.csv'), dtype={'FIPS':str})"
   ]
  },
  {
   "cell_type": "code",
   "execution_count": 234,
   "metadata": {},
   "outputs": [],
   "source": [
    "co_county_fips = dict(zip(colorado_county_fips['FIPS'].to_list(), colorado_county_fips['Name'].to_list()))"
   ]
  },
  {
   "cell_type": "code",
   "execution_count": 272,
   "metadata": {},
   "outputs": [],
   "source": [
    "county_dir = r'C:\\Users\\phwh9568\\Data\\ParcelAtlas\\CO_2022\\Counties'\n",
    "buildings_dir = r'C:\\Users\\phwh9568\\Data\\Colorado_Microsoft_Footprints'"
   ]
  },
  {
   "cell_type": "code",
   "execution_count": 320,
   "metadata": {},
   "outputs": [],
   "source": [
    "for f,n in co_county_fips.items():\n",
    "    if os.path.exists(os.path.join(county_dir,f)):\n",
    "        name = n.replace(' ','_')+'_Buildings'\n",
    "        files = glob(os.path.join(buildings_dir,name,name+'*'))\n",
    "        for src in files:\n",
    "            dst = os.path.join(county_dir,f,f+'_'+src.split('_')[-1].lower())\n",
    "            shutil.copy(src, dst)\n",
    "        #src = os.path.join(buildings_dir,name,name+'.shp')\n",
    "        #dst = (os.path.join(county_dir,f,f+'_buildings.shp'))\n",
    "        #shutil.copy(src,dst)\n"
   ]
  },
  {
   "cell_type": "markdown",
   "metadata": {},
   "source": [
    "blow up old ones"
   ]
  },
  {
   "cell_type": "code",
   "execution_count": 294,
   "metadata": {},
   "outputs": [],
   "source": [
    "for f,n in co_county_fips.items():\n",
    "    path = os.path.join(county_dir, f+'_buildings.shp')\n",
    "    if os.path.exists(path):\n",
    "        os.remove(path)"
   ]
  },
  {
   "cell_type": "code",
   "execution_count": 474,
   "metadata": {},
   "outputs": [
    {
     "data": {
      "text/plain": [
       "{'08001': 'Adams County',\n",
       " '08003': 'Alamosa County',\n",
       " '08005': 'Arapahoe County',\n",
       " '08007': 'Archuleta County',\n",
       " '08009': 'Baca County',\n",
       " '08011': 'Bent County',\n",
       " '08013': 'Boulder County',\n",
       " '08015': 'Chaffee County',\n",
       " '08017': 'Cheyenne County',\n",
       " '08019': 'Clear Creek County',\n",
       " '08021': 'Conejos County',\n",
       " '08023': 'Costilla County',\n",
       " '08025': 'Crowley County',\n",
       " '08027': 'Custer County',\n",
       " '08029': 'Delta County',\n",
       " '08031': 'Denver County',\n",
       " '08033': 'Dolores County',\n",
       " '08035': 'Douglas County',\n",
       " '08037': 'Eagle County',\n",
       " '08039': 'Elbert County',\n",
       " '08041': 'El Paso County',\n",
       " '08043': 'Fremont County',\n",
       " '08045': 'Garfield County',\n",
       " '08047': 'Gilpin County',\n",
       " '08049': 'Grand County',\n",
       " '08051': 'Gunnison County',\n",
       " '08053': 'Hinsdale County',\n",
       " '08055': 'Huerfano County',\n",
       " '08057': 'Jackson County',\n",
       " '08059': 'Jefferson County',\n",
       " '08061': 'Kiowa County',\n",
       " '08063': 'Kit Carson County',\n",
       " '08065': 'Lake County',\n",
       " '08067': 'La Plata County',\n",
       " '08069': 'Larimer County',\n",
       " '08071': 'Las Animas County',\n",
       " '08073': 'Lincoln County',\n",
       " '08075': 'Logan County',\n",
       " '08077': 'Mesa County',\n",
       " '08079': 'Mineral County',\n",
       " '08081': 'Moffat County',\n",
       " '08083': 'Montezuma County',\n",
       " '08085': 'Montrose County',\n",
       " '08087': 'Morgan County',\n",
       " '08089': 'Otero County',\n",
       " '08091': 'Ouray County',\n",
       " '08093': 'Park County',\n",
       " '08095': 'Phillips County',\n",
       " '08097': 'Pitkin County',\n",
       " '08099': 'Prowers County',\n",
       " '08101': 'Pueblo County',\n",
       " '08103': 'Rio Blanco County',\n",
       " '08105': 'Rio Grande County',\n",
       " '08107': 'Routt County',\n",
       " '08109': 'Saguache County',\n",
       " '08111': 'San Juan County',\n",
       " '08113': 'San Miguel County',\n",
       " '08115': 'Sedgwick County',\n",
       " '08117': 'Summit County',\n",
       " '08119': 'Teller County',\n",
       " '08121': 'Washington County',\n",
       " '08123': 'Weld County',\n",
       " '08125': 'Yuma County'}"
      ]
     },
     "execution_count": 474,
     "metadata": {},
     "output_type": "execute_result"
    }
   ],
   "source": [
    "co_county_fips"
   ]
  },
  {
   "cell_type": "markdown",
   "metadata": {},
   "source": [
    "Sum of Buildings within parcels"
   ]
  },
  {
   "cell_type": "code",
   "execution_count": 468,
   "metadata": {},
   "outputs": [
    {
     "name": "stderr",
     "output_type": "stream",
     "text": [
      "c:\\Users\\phwh9568\\AppData\\Local\\Continuum\\anaconda3\\envs\\geo_env\\Lib\\site-packages\\pyogrio\\raw.py:194: RuntimeWarning: C:\\Users\\phwh9568\\Data\\ParcelAtlas\\CO_2022\\Counties\\08001\\parcels.shp contains polygon(s) with rings with invalid winding order. Autocorrecting them, but that shapefile should be corrected using ogr2ogr for example.\n",
      "  result = ogr_read(\n"
     ]
    }
   ],
   "source": [
    "adams = gpd.read_file(os.path.join(county_dir,'08001', 'parcels.shp')).to_crs('ESRI:102003')"
   ]
  },
  {
   "cell_type": "code",
   "execution_count": 469,
   "metadata": {},
   "outputs": [],
   "source": [
    "adams['ID'] = adams.index\n",
    "cols = adams.columns.to_list()\n",
    "cols = [cols[-1]] + cols[:-1] "
   ]
  },
  {
   "cell_type": "code",
   "execution_count": 472,
   "metadata": {},
   "outputs": [],
   "source": [
    "adams = adams[cols]"
   ]
  },
  {
   "cell_type": "code",
   "execution_count": 473,
   "metadata": {},
   "outputs": [
    {
     "data": {
      "text/plain": [
       "Index(['ID', 'APN', 'APN2', 'STATE', 'COUNTY', 'FIPS', 'SIT_HSE_NU', 'SIT_DIR',\n",
       "       'SIT_STR_NA', 'SIT_STR_SF', 'SIT_FULL_S', 'SIT_CITY', 'SIT_STATE',\n",
       "       'SIT_ZIP', 'SIT_ZIP4', 'LAND_VALUE', 'IMPR_VALUE', 'TOT_VALUE',\n",
       "       'ASSMT_YEAR', 'REC_DATE', 'SALES_PRIC', 'YEAR_BUILT', 'STD_LAND_U',\n",
       "       'LOT_SIZE', 'BLDG_AREA', 'DEED_DSCR', 'NO_OF_STOR', 'NO_OF_UNIT',\n",
       "       'BEDROOMS', 'BATHROOMS', 'OWNER', 'OWNER2', 'OWNADDRESS', 'OWNADDRES2',\n",
       "       'OWNCTYSTZP', 'XCOORD', 'YCOORD', 'MINX', 'MINY', 'MAXX', 'MAXY',\n",
       "       'VERSION', 'QUANTARIUM', 'ATTDATE', 'geomCalc', 'geometry'],\n",
       "      dtype='object')"
      ]
     },
     "execution_count": 473,
     "metadata": {},
     "output_type": "execute_result"
    }
   ],
   "source": [
    "adams.columns"
   ]
  },
  {
   "cell_type": "code",
   "execution_count": 443,
   "metadata": {},
   "outputs": [],
   "source": [
    "adamsBuildings = gpd.read_file(os.path.join(county_dir,'08001','08001_buildings.shp')).to_crs('ESRI:102003')"
   ]
  },
  {
   "cell_type": "code",
   "execution_count": null,
   "metadata": {},
   "outputs": [],
   "source": []
  },
  {
   "cell_type": "code",
   "execution_count": 444,
   "metadata": {},
   "outputs": [],
   "source": [
    "dfsjoin = gpd.sjoin(adams, adamsBuildings, predicate='contains') #Spatial join Points to polygons"
   ]
  },
  {
   "cell_type": "code",
   "execution_count": 445,
   "metadata": {},
   "outputs": [],
   "source": [
    "dfpivot = pd.pivot_table(dfsjoin,index=['ID','APN'], aggfunc={'FID':len}).reset_index()"
   ]
  },
  {
   "cell_type": "code",
   "execution_count": 447,
   "metadata": {},
   "outputs": [],
   "source": [
    "dfpolynew = adams.merge(dfpivot, how='left', on='ID')"
   ]
  },
  {
   "cell_type": "code",
   "execution_count": 455,
   "metadata": {},
   "outputs": [],
   "source": [
    "dfpolynew.rename({'APN_x':'APN', 'FID': 'Build_Count'}, axis='columns',inplace=True)"
   ]
  },
  {
   "cell_type": "code",
   "execution_count": 457,
   "metadata": {},
   "outputs": [],
   "source": [
    "dfpolynew['Build_Count'].fillna(0, inplace=True)"
   ]
  },
  {
   "cell_type": "code",
   "execution_count": 459,
   "metadata": {},
   "outputs": [],
   "source": [
    "dfpolynew.drop(['ID','APN_y'], axis=1, inplace=True)"
   ]
  },
  {
   "cell_type": "code",
   "execution_count": 464,
   "metadata": {},
   "outputs": [],
   "source": [
    "def sumWithin(df1,df2):\n",
    "    dfsjoin = gpd.sjoin(df1,df2,predicate='contains')\n",
    "    dfpivot = pd.pivot_table(dfsjoin,index=['ID','APN'], aggfunc={'FID':len}).reset_index()\n",
    "    dfpolynew = df1.merge(dfpivot, how='left', on='ID')\n",
    "    dfpolynew.rename({'APN_x':'APN', 'FID': 'Sum_Within'}, axis='columns',inplace=True)\n",
    "    dfpolynew['Sum_Within'].fillna(0, inplace=True)\n",
    "    dfpolynew.drop(['ID','APN_y'], axis=1, inplace=True)\n",
    "    return dfpolynew\n"
   ]
  },
  {
   "cell_type": "code",
   "execution_count": 461,
   "metadata": {},
   "outputs": [
    {
     "data": {
      "text/plain": [
       "118838"
      ]
     },
     "execution_count": 461,
     "metadata": {},
     "output_type": "execute_result"
    }
   ],
   "source": [
    "len(adams)"
   ]
  },
  {
   "cell_type": "code",
   "execution_count": 465,
   "metadata": {},
   "outputs": [],
   "source": [
    "testdf = sumWithin(adams,adamsBuildings)"
   ]
  },
  {
   "cell_type": "code",
   "execution_count": 467,
   "metadata": {},
   "outputs": [
    {
     "data": {
      "text/html": [
       "<div>\n",
       "<style scoped>\n",
       "    .dataframe tbody tr th:only-of-type {\n",
       "        vertical-align: middle;\n",
       "    }\n",
       "\n",
       "    .dataframe tbody tr th {\n",
       "        vertical-align: top;\n",
       "    }\n",
       "\n",
       "    .dataframe thead th {\n",
       "        text-align: right;\n",
       "    }\n",
       "</style>\n",
       "<table border=\"1\" class=\"dataframe\">\n",
       "  <thead>\n",
       "    <tr style=\"text-align: right;\">\n",
       "      <th></th>\n",
       "      <th>APN</th>\n",
       "      <th>APN2</th>\n",
       "      <th>STATE</th>\n",
       "      <th>COUNTY</th>\n",
       "      <th>FIPS</th>\n",
       "      <th>SIT_HSE_NU</th>\n",
       "      <th>SIT_DIR</th>\n",
       "      <th>SIT_STR_NA</th>\n",
       "      <th>SIT_STR_SF</th>\n",
       "      <th>SIT_FULL_S</th>\n",
       "      <th>...</th>\n",
       "      <th>MINX</th>\n",
       "      <th>MINY</th>\n",
       "      <th>MAXX</th>\n",
       "      <th>MAXY</th>\n",
       "      <th>VERSION</th>\n",
       "      <th>QUANTARIUM</th>\n",
       "      <th>ATTDATE</th>\n",
       "      <th>geomCalc</th>\n",
       "      <th>geometry</th>\n",
       "      <th>Sum_Within</th>\n",
       "    </tr>\n",
       "  </thead>\n",
       "  <tbody>\n",
       "    <tr>\n",
       "      <th>0</th>\n",
       "      <td>155700000045</td>\n",
       "      <td>1</td>\n",
       "      <td>CO</td>\n",
       "      <td>Adams</td>\n",
       "      <td>08001</td>\n",
       "      <td>None</td>\n",
       "      <td>None</td>\n",
       "      <td>None</td>\n",
       "      <td>None</td>\n",
       "      <td>None</td>\n",
       "      <td>...</td>\n",
       "      <td>-104.066892</td>\n",
       "      <td>39.978658</td>\n",
       "      <td>-104.057487</td>\n",
       "      <td>39.985909</td>\n",
       "      <td>12/20/2016</td>\n",
       "      <td>None</td>\n",
       "      <td>20211030</td>\n",
       "      <td>630151.6230</td>\n",
       "      <td>POLYGON ((-681231.654 306696.813, -681999.276 ...</td>\n",
       "      <td>0.0</td>\n",
       "    </tr>\n",
       "    <tr>\n",
       "      <th>1</th>\n",
       "      <td>155700000007</td>\n",
       "      <td>2</td>\n",
       "      <td>CO</td>\n",
       "      <td>Adams</td>\n",
       "      <td>08001</td>\n",
       "      <td>None</td>\n",
       "      <td>None</td>\n",
       "      <td>None</td>\n",
       "      <td>None</td>\n",
       "      <td>None</td>\n",
       "      <td>...</td>\n",
       "      <td>-104.067448</td>\n",
       "      <td>39.996597</td>\n",
       "      <td>-104.057978</td>\n",
       "      <td>40.001045</td>\n",
       "      <td>12/20/2016</td>\n",
       "      <td>None</td>\n",
       "      <td>20211030</td>\n",
       "      <td>384020.4328</td>\n",
       "      <td>POLYGON ((-681449.948 309232.732, -681450.962 ...</td>\n",
       "      <td>0.0</td>\n",
       "    </tr>\n",
       "    <tr>\n",
       "      <th>2</th>\n",
       "      <td>155700000150</td>\n",
       "      <td>3</td>\n",
       "      <td>CO</td>\n",
       "      <td>Adams</td>\n",
       "      <td>08001</td>\n",
       "      <td>None</td>\n",
       "      <td>None</td>\n",
       "      <td>None</td>\n",
       "      <td>None</td>\n",
       "      <td>None</td>\n",
       "      <td>...</td>\n",
       "      <td>-104.057782</td>\n",
       "      <td>39.993095</td>\n",
       "      <td>-104.038983</td>\n",
       "      <td>39.997066</td>\n",
       "      <td>12/20/2016</td>\n",
       "      <td>None</td>\n",
       "      <td>20211030</td>\n",
       "      <td>669224.3293</td>\n",
       "      <td>POLYGON ((-679532.942 308190.972, -680326.252 ...</td>\n",
       "      <td>0.0</td>\n",
       "    </tr>\n",
       "    <tr>\n",
       "      <th>3</th>\n",
       "      <td>155700000149</td>\n",
       "      <td>4</td>\n",
       "      <td>CO</td>\n",
       "      <td>Adams</td>\n",
       "      <td>08001</td>\n",
       "      <td>None</td>\n",
       "      <td>None</td>\n",
       "      <td>None</td>\n",
       "      <td>None</td>\n",
       "      <td>None</td>\n",
       "      <td>...</td>\n",
       "      <td>-104.053055</td>\n",
       "      <td>39.996835</td>\n",
       "      <td>-104.039052</td>\n",
       "      <td>40.000994</td>\n",
       "      <td>12/20/2016</td>\n",
       "      <td>None</td>\n",
       "      <td>20211030</td>\n",
       "      <td>532267.7586</td>\n",
       "      <td>POLYGON ((-680646.427 309153.695, -680646.245 ...</td>\n",
       "      <td>0.0</td>\n",
       "    </tr>\n",
       "    <tr>\n",
       "      <th>4</th>\n",
       "      <td>155700000006</td>\n",
       "      <td>5</td>\n",
       "      <td>CO</td>\n",
       "      <td>Adams</td>\n",
       "      <td>08001</td>\n",
       "      <td>16704</td>\n",
       "      <td>None</td>\n",
       "      <td>MIMOSA MILE</td>\n",
       "      <td>RD</td>\n",
       "      <td>16704 MIMOSA MILE RD</td>\n",
       "      <td>...</td>\n",
       "      <td>-104.057856</td>\n",
       "      <td>39.996766</td>\n",
       "      <td>-104.052995</td>\n",
       "      <td>40.000949</td>\n",
       "      <td>12/20/2016</td>\n",
       "      <td>22098024</td>\n",
       "      <td>20211030</td>\n",
       "      <td>187514.4901</td>\n",
       "      <td>POLYGON ((-680680.353 308693.941, -681061.940 ...</td>\n",
       "      <td>2.0</td>\n",
       "    </tr>\n",
       "    <tr>\n",
       "      <th>...</th>\n",
       "      <td>...</td>\n",
       "      <td>...</td>\n",
       "      <td>...</td>\n",
       "      <td>...</td>\n",
       "      <td>...</td>\n",
       "      <td>...</td>\n",
       "      <td>...</td>\n",
       "      <td>...</td>\n",
       "      <td>...</td>\n",
       "      <td>...</td>\n",
       "      <td>...</td>\n",
       "      <td>...</td>\n",
       "      <td>...</td>\n",
       "      <td>...</td>\n",
       "      <td>...</td>\n",
       "      <td>...</td>\n",
       "      <td>...</td>\n",
       "      <td>...</td>\n",
       "      <td>...</td>\n",
       "      <td>...</td>\n",
       "      <td>...</td>\n",
       "    </tr>\n",
       "    <tr>\n",
       "      <th>118833</th>\n",
       "      <td>181333111009</td>\n",
       "      <td>166570</td>\n",
       "      <td>CO</td>\n",
       "      <td>Adams</td>\n",
       "      <td>08001</td>\n",
       "      <td>None</td>\n",
       "      <td>None</td>\n",
       "      <td>None</td>\n",
       "      <td>None</td>\n",
       "      <td>166570 2315 TROUT RD</td>\n",
       "      <td>...</td>\n",
       "      <td>-104.330532</td>\n",
       "      <td>39.749104</td>\n",
       "      <td>-104.330119</td>\n",
       "      <td>39.749356</td>\n",
       "      <td>12/20/2016</td>\n",
       "      <td>None</td>\n",
       "      <td>20211030</td>\n",
       "      <td>977.4080</td>\n",
       "      <td>POLYGON ((-706475.383 283060.727, -706510.315 ...</td>\n",
       "      <td>0.0</td>\n",
       "    </tr>\n",
       "    <tr>\n",
       "      <th>118834</th>\n",
       "      <td>182504302022</td>\n",
       "      <td>166571</td>\n",
       "      <td>CO</td>\n",
       "      <td>Adams</td>\n",
       "      <td>08001</td>\n",
       "      <td>None</td>\n",
       "      <td>None</td>\n",
       "      <td>None</td>\n",
       "      <td>None</td>\n",
       "      <td>166571 2125 W 64TH AVE</td>\n",
       "      <td>...</td>\n",
       "      <td>-105.012647</td>\n",
       "      <td>39.812962</td>\n",
       "      <td>-105.010913</td>\n",
       "      <td>39.813580</td>\n",
       "      <td>12/20/2016</td>\n",
       "      <td>None</td>\n",
       "      <td>20211030</td>\n",
       "      <td>5394.8983</td>\n",
       "      <td>POLYGON ((-763401.996 295518.311, -763365.602 ...</td>\n",
       "      <td>0.0</td>\n",
       "    </tr>\n",
       "    <tr>\n",
       "      <th>118835</th>\n",
       "      <td>182504302021</td>\n",
       "      <td>166572</td>\n",
       "      <td>CO</td>\n",
       "      <td>Adams</td>\n",
       "      <td>08001</td>\n",
       "      <td>None</td>\n",
       "      <td>None</td>\n",
       "      <td>None</td>\n",
       "      <td>None</td>\n",
       "      <td>166572 2075 W 64TH AVE</td>\n",
       "      <td>...</td>\n",
       "      <td>-105.014805</td>\n",
       "      <td>39.812963</td>\n",
       "      <td>-105.011479</td>\n",
       "      <td>39.815228</td>\n",
       "      <td>12/20/2016</td>\n",
       "      <td>22244250</td>\n",
       "      <td>20211030</td>\n",
       "      <td>40742.1354</td>\n",
       "      <td>POLYGON ((-763622.608 295727.276, -763483.233 ...</td>\n",
       "      <td>0.0</td>\n",
       "    </tr>\n",
       "    <tr>\n",
       "      <th>118836</th>\n",
       "      <td>182504302020</td>\n",
       "      <td>166573</td>\n",
       "      <td>CO</td>\n",
       "      <td>Adams</td>\n",
       "      <td>08001</td>\n",
       "      <td>None</td>\n",
       "      <td>None</td>\n",
       "      <td>None</td>\n",
       "      <td>None</td>\n",
       "      <td>166573 2175 W 64TH AVE</td>\n",
       "      <td>...</td>\n",
       "      <td>-105.012533</td>\n",
       "      <td>39.813529</td>\n",
       "      <td>-105.009931</td>\n",
       "      <td>39.815120</td>\n",
       "      <td>12/20/2016</td>\n",
       "      <td>None</td>\n",
       "      <td>20211030</td>\n",
       "      <td>21055.6189</td>\n",
       "      <td>POLYGON ((-763366.706 295686.630, -763315.925 ...</td>\n",
       "      <td>0.0</td>\n",
       "    </tr>\n",
       "    <tr>\n",
       "      <th>118837</th>\n",
       "      <td>181933401001</td>\n",
       "      <td>166574</td>\n",
       "      <td>CO</td>\n",
       "      <td>Adams</td>\n",
       "      <td>08001</td>\n",
       "      <td>None</td>\n",
       "      <td>None</td>\n",
       "      <td>None</td>\n",
       "      <td>None</td>\n",
       "      <td>166574</td>\n",
       "      <td>...</td>\n",
       "      <td>-104.664723</td>\n",
       "      <td>39.743651</td>\n",
       "      <td>-104.659704</td>\n",
       "      <td>39.749108</td>\n",
       "      <td>12/20/2016</td>\n",
       "      <td>None</td>\n",
       "      <td>20211030</td>\n",
       "      <td>234074.7664</td>\n",
       "      <td>POLYGON ((-734351.803 285555.492, -734371.119 ...</td>\n",
       "      <td>0.0</td>\n",
       "    </tr>\n",
       "  </tbody>\n",
       "</table>\n",
       "<p>118838 rows × 46 columns</p>\n",
       "</div>"
      ],
      "text/plain": [
       "                 APN    APN2 STATE COUNTY   FIPS SIT_HSE_NU SIT_DIR  \\\n",
       "0       155700000045       1    CO  Adams  08001       None    None   \n",
       "1       155700000007       2    CO  Adams  08001       None    None   \n",
       "2       155700000150       3    CO  Adams  08001       None    None   \n",
       "3       155700000149       4    CO  Adams  08001       None    None   \n",
       "4       155700000006       5    CO  Adams  08001      16704    None   \n",
       "...              ...     ...   ...    ...    ...        ...     ...   \n",
       "118833  181333111009  166570    CO  Adams  08001       None    None   \n",
       "118834  182504302022  166571    CO  Adams  08001       None    None   \n",
       "118835  182504302021  166572    CO  Adams  08001       None    None   \n",
       "118836  182504302020  166573    CO  Adams  08001       None    None   \n",
       "118837  181933401001  166574    CO  Adams  08001       None    None   \n",
       "\n",
       "         SIT_STR_NA SIT_STR_SF              SIT_FULL_S  ...        MINX  \\\n",
       "0              None       None                    None  ... -104.066892   \n",
       "1              None       None                    None  ... -104.067448   \n",
       "2              None       None                    None  ... -104.057782   \n",
       "3              None       None                    None  ... -104.053055   \n",
       "4       MIMOSA MILE         RD    16704 MIMOSA MILE RD  ... -104.057856   \n",
       "...             ...        ...                     ...  ...         ...   \n",
       "118833         None       None    166570 2315 TROUT RD  ... -104.330532   \n",
       "118834         None       None  166571 2125 W 64TH AVE  ... -105.012647   \n",
       "118835         None       None  166572 2075 W 64TH AVE  ... -105.014805   \n",
       "118836         None       None  166573 2175 W 64TH AVE  ... -105.012533   \n",
       "118837         None       None                  166574  ... -104.664723   \n",
       "\n",
       "             MINY        MAXX       MAXY     VERSION  QUANTARIUM   ATTDATE  \\\n",
       "0       39.978658 -104.057487  39.985909  12/20/2016        None  20211030   \n",
       "1       39.996597 -104.057978  40.001045  12/20/2016        None  20211030   \n",
       "2       39.993095 -104.038983  39.997066  12/20/2016        None  20211030   \n",
       "3       39.996835 -104.039052  40.000994  12/20/2016        None  20211030   \n",
       "4       39.996766 -104.052995  40.000949  12/20/2016    22098024  20211030   \n",
       "...           ...         ...        ...         ...         ...       ...   \n",
       "118833  39.749104 -104.330119  39.749356  12/20/2016        None  20211030   \n",
       "118834  39.812962 -105.010913  39.813580  12/20/2016        None  20211030   \n",
       "118835  39.812963 -105.011479  39.815228  12/20/2016    22244250  20211030   \n",
       "118836  39.813529 -105.009931  39.815120  12/20/2016        None  20211030   \n",
       "118837  39.743651 -104.659704  39.749108  12/20/2016        None  20211030   \n",
       "\n",
       "           geomCalc                                           geometry  \\\n",
       "0       630151.6230  POLYGON ((-681231.654 306696.813, -681999.276 ...   \n",
       "1       384020.4328  POLYGON ((-681449.948 309232.732, -681450.962 ...   \n",
       "2       669224.3293  POLYGON ((-679532.942 308190.972, -680326.252 ...   \n",
       "3       532267.7586  POLYGON ((-680646.427 309153.695, -680646.245 ...   \n",
       "4       187514.4901  POLYGON ((-680680.353 308693.941, -681061.940 ...   \n",
       "...             ...                                                ...   \n",
       "118833     977.4080  POLYGON ((-706475.383 283060.727, -706510.315 ...   \n",
       "118834    5394.8983  POLYGON ((-763401.996 295518.311, -763365.602 ...   \n",
       "118835   40742.1354  POLYGON ((-763622.608 295727.276, -763483.233 ...   \n",
       "118836   21055.6189  POLYGON ((-763366.706 295686.630, -763315.925 ...   \n",
       "118837  234074.7664  POLYGON ((-734351.803 285555.492, -734371.119 ...   \n",
       "\n",
       "        Sum_Within  \n",
       "0              0.0  \n",
       "1              0.0  \n",
       "2              0.0  \n",
       "3              0.0  \n",
       "4              2.0  \n",
       "...            ...  \n",
       "118833         0.0  \n",
       "118834         0.0  \n",
       "118835         0.0  \n",
       "118836         0.0  \n",
       "118837         0.0  \n",
       "\n",
       "[118838 rows x 46 columns]"
      ]
     },
     "execution_count": 467,
     "metadata": {},
     "output_type": "execute_result"
    }
   ],
   "source": [
    "testdf"
   ]
  },
  {
   "cell_type": "code",
   "execution_count": null,
   "metadata": {},
   "outputs": [],
   "source": []
  }
 ],
 "metadata": {
  "kernelspec": {
   "display_name": "base",
   "language": "python",
   "name": "python3"
  },
  "language_info": {
   "codemirror_mode": {
    "name": "ipython",
    "version": 3
   },
   "file_extension": ".py",
   "mimetype": "text/x-python",
   "name": "python",
   "nbconvert_exporter": "python",
   "pygments_lexer": "ipython3",
   "version": "3.12.0"
  }
 },
 "nbformat": 4,
 "nbformat_minor": 2
}
