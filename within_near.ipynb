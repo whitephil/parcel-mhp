{
 "cells": [
  {
   "cell_type": "code",
   "execution_count": 3,
   "metadata": {},
   "outputs": [],
   "source": [
    "import geopandas as gpd\n",
    "import pandas as pd\n",
    "import os\n",
    "import parcelfunks\n",
    "import numpy as np\n",
    "from scipy import stats\n",
    "import shutil\n",
    "from glob import glob"
   ]
  },
  {
   "cell_type": "code",
   "execution_count": 88,
   "metadata": {},
   "outputs": [],
   "source": [
    "mhomesPath = r'C:\\Users\\phwh9568\\Data\\ParcelAtlas\\CO_2022\\Counties\\08001\\08001_mhps_OG.gpkg'"
   ]
  },
  {
   "cell_type": "code",
   "execution_count": 6,
   "metadata": {},
   "outputs": [],
   "source": [
    "parcelsPath = r'C:\\Users\\phwh9568\\Data\\ParcelAtlas\\CO_2022\\Counties\\08001\\parcels.shp'"
   ]
  },
  {
   "cell_type": "code",
   "execution_count": 90,
   "metadata": {},
   "outputs": [],
   "source": [
    "mhomes = gpd.read_file(mhomesPath, layer='08001_mhps_OG_prepped').to_crs(crs='ESRI:102003')"
   ]
  },
  {
   "cell_type": "code",
   "execution_count": 61,
   "metadata": {},
   "outputs": [],
   "source": [
    "mhomes.to_file(mhomesPath, layer='mhomes_OG_albers')"
   ]
  },
  {
   "cell_type": "code",
   "execution_count": 97,
   "metadata": {},
   "outputs": [
    {
     "name": "stderr",
     "output_type": "stream",
     "text": [
      "c:\\Users\\phwh9568\\AppData\\Local\\Continuum\\anaconda3\\envs\\geo_env\\Lib\\site-packages\\pyogrio\\raw.py:194: RuntimeWarning: C:\\Users\\phwh9568\\Data\\ParcelAtlas\\CO_2022\\Counties\\08001\\parcels.shp contains polygon(s) with rings with invalid winding order. Autocorrecting them, but that shapefile should be corrected using ogr2ogr for example.\n",
      "  result = ogr_read(\n"
     ]
    }
   ],
   "source": [
    "parcel = gpd.read_file(parcelsPath).to_crs(crs='ESRI:102003')"
   ]
  },
  {
   "cell_type": "code",
   "execution_count": 63,
   "metadata": {},
   "outputs": [
    {
     "data": {
      "text/plain": [
       "True"
      ]
     },
     "execution_count": 63,
     "metadata": {},
     "output_type": "execute_result"
    }
   ],
   "source": [
    "mhomes.crs == parcel.crs"
   ]
  },
  {
   "cell_type": "code",
   "execution_count": 13,
   "metadata": {},
   "outputs": [],
   "source": [
    "def geomLen(geom):\n",
    "    return len(geom.exterior.xy[0])\n",
    "\n",
    "def geomZscore(geom):\n",
    "    return stats.zscore(len(geom.exterior.xy[0]))"
   ]
  },
  {
   "cell_type": "code",
   "execution_count": 98,
   "metadata": {},
   "outputs": [],
   "source": [
    "parcel.drop_duplicates(subset=['geometry'], inplace=True)\n",
    "parcel = parcel.explode(index_parts=False)\n",
    "parcel['polyLen1'] = parcel.apply(lambda row: geomLen(row.geometry), axis=1)\n",
    "parcel['geomZscore1'] = np.abs(stats.zscore(parcel['polyLen1']))\n",
    "parcel['geometry'] = parcel['geometry'].simplify(1)\n",
    "parcel['polyLen2'] = parcel.apply(lambda row: geomLen(row.geometry), axis=1)\n",
    "parcel['geomZscore2'] = np.abs(stats.zscore(parcel['polyLen2']))\n",
    "#parcel.drop(parcel[parcel.geomZscore > 3].index, inplace=True)\n",
    "#parcel.reset_index(inplace=True)\n",
    "columns = ['APN', 'APN2', 'polyLen1', 'geomZscore1', 'polyLen2', 'geomZscore2','geometry']\n",
    "drops = [c for c in parcel.columns if c not in columns]\n",
    "parcel.drop(drops, axis=1, inplace=True)        \n",
    "#mobileHomes = gpd.read_file(mhpPath)\n",
    "if boulder.crs != mhomes.crs:\n",
    "    boulder.to_crs(mhomes.crs, inplace=True)\n",
    "phomes_sjoin = gpd.sjoin(boulder,mhomes)\n",
    "phomes_sjoin.drop('index_right', axis=1, inplace=True)\n",
    "phomes_near = gpd.sjoin_nearest(boulder, mhomes, max_distance=5.0, distance_col='distances')\n",
    "phomes_near.drop('index_right', axis=1, inplace=True)\n",
    "phomes_near = phomes_near.sort_values(['MHPID','distances']).drop_duplicates(subset=['MHPID'], keep='first')\n",
    "\n"
   ]
  },
  {
   "cell_type": "code",
   "execution_count": 33,
   "metadata": {},
   "outputs": [
    {
     "data": {
      "text/plain": [
       "12"
      ]
     },
     "execution_count": 33,
     "metadata": {},
     "output_type": "execute_result"
    }
   ],
   "source": [
    "len(phomes_sjoin)"
   ]
  },
  {
   "cell_type": "code",
   "execution_count": 34,
   "metadata": {},
   "outputs": [
    {
     "data": {
      "text/plain": [
       "26"
      ]
     },
     "execution_count": 34,
     "metadata": {},
     "output_type": "execute_result"
    }
   ],
   "source": [
    "len(phomes_near)"
   ]
  },
  {
   "cell_type": "code",
   "execution_count": 99,
   "metadata": {},
   "outputs": [],
   "source": [
    "phomes_near.to_file(r'C:\\Users\\phwh9568\\Data\\ParcelAtlas\\CO_2022\\Counties\\08001\\08001_OG.gpkg', layer='MH_parcels_near')"
   ]
  },
  {
   "cell_type": "code",
   "execution_count": 37,
   "metadata": {},
   "outputs": [],
   "source": [
    "phomes_sjoin.to_file(r'C:\\Users\\phwh9568\\Data\\ParcelAtlas\\CO_2022\\Counties\\08069\\08069_OG.gpkg', layer='MH_parcels')"
   ]
  },
  {
   "cell_type": "code",
   "execution_count": 11,
   "metadata": {},
   "outputs": [
    {
     "data": {
      "text/plain": [
       "103394"
      ]
     },
     "execution_count": 11,
     "metadata": {},
     "output_type": "execute_result"
    }
   ],
   "source": [
    "len(parcel)"
   ]
  },
  {
   "cell_type": "code",
   "execution_count": 12,
   "metadata": {},
   "outputs": [
    {
     "data": {
      "text/plain": [
       "<Geographic 2D CRS: EPSG:4269>\n",
       "Name: NAD83\n",
       "Axis Info [ellipsoidal]:\n",
       "- Lat[north]: Geodetic latitude (degree)\n",
       "- Lon[east]: Geodetic longitude (degree)\n",
       "Area of Use:\n",
       "- name: North America - NAD83\n",
       "- bounds: (167.65, 14.92, -47.74, 86.46)\n",
       "Datum: North American Datum 1983\n",
       "- Ellipsoid: GRS 1980\n",
       "- Prime Meridian: Greenwich"
      ]
     },
     "execution_count": 12,
     "metadata": {},
     "output_type": "execute_result"
    }
   ],
   "source": [
    "parcel.crs"
   ]
  },
  {
   "cell_type": "code",
   "execution_count": 13,
   "metadata": {},
   "outputs": [
    {
     "data": {
      "text/plain": [
       "<Geographic 2D CRS: EPSG:4269>\n",
       "Name: NAD83\n",
       "Axis Info [ellipsoidal]:\n",
       "- Lat[north]: Geodetic latitude (degree)\n",
       "- Lon[east]: Geodetic longitude (degree)\n",
       "Area of Use:\n",
       "- name: North America - NAD83\n",
       "- bounds: (167.65, 14.92, -47.74, 86.46)\n",
       "Datum: North American Datum 1983\n",
       "- Ellipsoid: GRS 1980\n",
       "- Prime Meridian: Greenwich"
      ]
     },
     "execution_count": 13,
     "metadata": {},
     "output_type": "execute_result"
    }
   ],
   "source": [
    "mhomes.crs"
   ]
  },
  {
   "cell_type": "code",
   "execution_count": 14,
   "metadata": {},
   "outputs": [],
   "source": [
    "mhomes_albers = mhomes.to_crs(crs='ESRI:102003')"
   ]
  },
  {
   "cell_type": "code",
   "execution_count": 20,
   "metadata": {},
   "outputs": [
    {
     "data": {
      "text/plain": [
       "<Projected CRS: ESRI:102003>\n",
       "Name: USA_Contiguous_Albers_Equal_Area_Conic\n",
       "Axis Info [cartesian]:\n",
       "- E[east]: Easting (metre)\n",
       "- N[north]: Northing (metre)\n",
       "Area of Use:\n",
       "- name: USA - CONUS - onshore\n",
       "- bounds: (-124.79, 24.41, -66.91, 49.38)\n",
       "Coordinate Operation:\n",
       "- name: USA_Contiguous_Albers_Equal_Area_Conic\n",
       "- method: Albers Equal Area\n",
       "Datum: North American Datum 1983\n",
       "- Ellipsoid: GRS 1980\n",
       "- Prime Meridian: Greenwich"
      ]
     },
     "execution_count": 20,
     "metadata": {},
     "output_type": "execute_result"
    }
   ],
   "source": [
    "mhomes_albers.crs"
   ]
  },
  {
   "cell_type": "code",
   "execution_count": 2,
   "metadata": {},
   "outputs": [],
   "source": [
    "parcelsPath = r'C:\\Users\\phwh9568\\Data\\ParcelAtlas\\CO_2022\\Counties\\08001\\parcels.shp'"
   ]
  },
  {
   "cell_type": "code",
   "execution_count": 3,
   "metadata": {},
   "outputs": [
    {
     "name": "stderr",
     "output_type": "stream",
     "text": [
      "c:\\Users\\phwh9568\\AppData\\Local\\Continuum\\anaconda3\\envs\\geo_env\\Lib\\site-packages\\pyogrio\\raw.py:194: RuntimeWarning: C:\\Users\\phwh9568\\Data\\ParcelAtlas\\CO_2022\\Counties\\08001\\parcels.shp contains polygon(s) with rings with invalid winding order. Autocorrecting them, but that shapefile should be corrected using ogr2ogr for example.\n",
      "  result = ogr_read(\n"
     ]
    }
   ],
   "source": [
    "parcels = gpd.read_file(parcelsPath)"
   ]
  },
  {
   "cell_type": "code",
   "execution_count": 4,
   "metadata": {},
   "outputs": [
    {
     "data": {
      "text/plain": [
       "<Geographic 2D CRS: EPSG:4269>\n",
       "Name: NAD83\n",
       "Axis Info [ellipsoidal]:\n",
       "- Lat[north]: Geodetic latitude (degree)\n",
       "- Lon[east]: Geodetic longitude (degree)\n",
       "Area of Use:\n",
       "- name: North America - onshore and offshore: Canada - Alberta; British Columbia; Manitoba; New Brunswick; Newfoundland and Labrador; Northwest Territories; Nova Scotia; Nunavut; Ontario; Prince Edward Island; Quebec; Saskatchewan; Yukon. Puerto Rico. United States (USA) - Alabama; Alaska; Arizona; Arkansas; California; Colorado; Connecticut; Delaware; Florida; Georgia; Hawaii; Idaho; Illinois; Indiana; Iowa; Kansas; Kentucky; Louisiana; Maine; Maryland; Massachusetts; Michigan; Minnesota; Mississippi; Missouri; Montana; Nebraska; Nevada; New Hampshire; New Jersey; New Mexico; New York; North Carolina; North Dakota; Ohio; Oklahoma; Oregon; Pennsylvania; Rhode Island; South Carolina; South Dakota; Tennessee; Texas; Utah; Vermont; Virginia; Washington; West Virginia; Wisconsin; Wyoming. US Virgin Islands. British Virgin Islands.\n",
       "- bounds: (167.65, 14.92, -40.73, 86.45)\n",
       "Datum: North American Datum 1983\n",
       "- Ellipsoid: GRS 1980\n",
       "- Prime Meridian: Greenwich"
      ]
     },
     "execution_count": 4,
     "metadata": {},
     "output_type": "execute_result"
    }
   ],
   "source": [
    "parcels.crs"
   ]
  },
  {
   "cell_type": "code",
   "execution_count": 5,
   "metadata": {},
   "outputs": [],
   "source": [
    "parcels = parcels.to_crs(crs = 'ESRI:102003')"
   ]
  },
  {
   "cell_type": "code",
   "execution_count": 7,
   "metadata": {},
   "outputs": [],
   "source": [
    "blocks = gpd.read_file(os.path.join(r'C:\\Users\\phwh9568\\Data\\ParcelAtlas\\CO_2022\\Counties\\08001','08001_blocks.gpkg'), layer='08001_blocks')"
   ]
  },
  {
   "cell_type": "code",
   "execution_count": 9,
   "metadata": {},
   "outputs": [
    {
     "data": {
      "text/plain": [
       "<Projected CRS: ESRI:102003>\n",
       "Name: USA_Contiguous_Albers_Equal_Area_Conic\n",
       "Axis Info [cartesian]:\n",
       "- [east]: Easting (metre)\n",
       "- [north]: Northing (metre)\n",
       "Area of Use:\n",
       "- undefined\n",
       "Coordinate Operation:\n",
       "- name: unnamed\n",
       "- method: Albers Equal Area\n",
       "Datum: North American Datum 1983\n",
       "- Ellipsoid: GRS 1980\n",
       "- Prime Meridian: Greenwich"
      ]
     },
     "execution_count": 9,
     "metadata": {},
     "output_type": "execute_result"
    }
   ],
   "source": [
    "blocks.crs"
   ]
  },
  {
   "cell_type": "code",
   "execution_count": 15,
   "metadata": {},
   "outputs": [],
   "source": [
    "CO_path = r'C:\\Users\\phwh9568\\Data\\ParcelAtlas\\CO_2022\\Counties'\n",
    "#CO_pInventory = pInventory.loc[pInventory['STATE']=='08']\n",
    "CO_pInventory = pd.read_csv(r'C:\\Users\\phwh9568\\Data\\ParcelAtlas\\CO_2022\\counties\\ColoradoInventory.csv', dtype={'STATE':str,'COUNTY':str})\n",
    "CO_pInventory_True = CO_pInventory.loc[CO_pInventory['DATA_PRESENT']==True]\n",
    "CO_pInventory_False = CO_pInventory.loc[CO_pInventory['DATA_PRESENT']==False]\n",
    "CO_pInventory_False.to_csv(os.path.join(CO_path,'missingParcelData.csv')) # need to get this to work\n",
    "fipsList = CO_pInventory_True['COUNTY'].tolist()   \n",
    "parcelsPaths = [os.path.join(CO_path,fips) for fips in fipsList]"
   ]
  },
  {
   "cell_type": "code",
   "execution_count": 52,
   "metadata": {},
   "outputs": [],
   "source": [
    "co_22_dir = r'C:\\Users\\phwh9568\\Data\\ParcelAtlas\\CO_2022'\n",
    "unionDF = pd.DataFrame()\n",
    "joinDF = pd.DataFrame()\n",
    "for path in parcelsPaths:\n",
    "    fips = path.split('\\\\')[-1]\n",
    "    if os.path.exists(os.path.join(path,fips+'multi15.gpkg')):\n",
    "        union = gpd.read_file(os.path.join(path, fips+'multi15.gpkg'),layer='MH_parc_blk_union')\n",
    "        unionDF = pd.concat([unionDF,union])\n",
    "        join = gpd.read_file(os.path.join(path, fips+'multi15.gpkg'),layer='MH_parcels')\n",
    "        joinDF = pd.concat([joinDF,join])        \n",
    "unionDF.to_file(os.path.join(co_22_dir,'Colorado_Final_multi15.gpkg'),layer='Colorado_Final_union')\n",
    "#joinDF['polyLen_3'] = joinDF.apply(lambda row: geomLen(row.geometry), axis=1)\n",
    "#joinDF['geomZscore_3'] = np.abs(stats.zscore(joinDF['polyLen2']))\n",
    "joinDF.to_file(os.path.join(co_22_dir, 'Colorado_Final_multi15.gpkg'),layer='Colorado_Final_MH_parcels')"
   ]
  },
  {
   "cell_type": "code",
   "execution_count": 17,
   "metadata": {},
   "outputs": [],
   "source": [
    "final_near_join = gpd.read_file(os.path.join(co_22_dir, 'Colorado_Final_multi15.gpkg'), layer='Colorado_Final_MH_parcels')\n",
    "final_near_join.to_csv(os.path.join(co_22_dir, 'Colorado_Final_multi15_parcels.csv'))"
   ]
  },
  {
   "cell_type": "markdown",
   "metadata": {},
   "source": [
    "Blow up old ones"
   ]
  },
  {
   "cell_type": "code",
   "execution_count": 51,
   "metadata": {},
   "outputs": [],
   "source": [
    "for fips, path in zip(fipsList,parcelsPaths):\n",
    "    if os.path.exists(os.path.join(path,fips+'multi15.gpkg')):\n",
    "        os.remove((os.path.join(path,fips+'multi15.gpkg')))"
   ]
  },
  {
   "cell_type": "markdown",
   "metadata": {},
   "source": [
    "Larimer"
   ]
  },
  {
   "cell_type": "code",
   "execution_count": 18,
   "metadata": {},
   "outputs": [
    {
     "name": "stderr",
     "output_type": "stream",
     "text": [
      "c:\\Users\\phwh9568\\AppData\\Local\\Continuum\\anaconda3\\envs\\geo_env\\Lib\\site-packages\\pyogrio\\raw.py:194: RuntimeWarning: C:\\Users\\phwh9568\\Data\\ParcelAtlas\\CO_2022\\Counties\\08069\\parcels.shp contains polygon(s) with rings with invalid winding order. Autocorrecting them, but that shapefile should be corrected using ogr2ogr for example.\n",
      "  result = ogr_read(\n"
     ]
    }
   ],
   "source": [
    "larmier = gpd.read_file(r'C:\\Users\\phwh9568\\Data\\ParcelAtlas\\CO_2022\\Counties\\08069\\parcels.shp')"
   ]
  },
  {
   "cell_type": "code",
   "execution_count": 24,
   "metadata": {},
   "outputs": [
    {
     "data": {
      "text/plain": [
       "str"
      ]
     },
     "execution_count": 24,
     "metadata": {},
     "output_type": "execute_result"
    }
   ],
   "source": [
    "type(larmier['APN'][0])"
   ]
  },
  {
   "cell_type": "markdown",
   "metadata": {},
   "source": [
    "Working on dropping non-nearest joins"
   ]
  },
  {
   "cell_type": "code",
   "execution_count": 47,
   "metadata": {},
   "outputs": [],
   "source": [
    "boco = gpd.read_file(r'C:\\Users\\phwh9568\\Data\\ParcelAtlas\\CO_2022\\Counties\\08013\\08013_OG.gpkg', layer='MH_parcels_near')"
   ]
  },
  {
   "cell_type": "code",
   "execution_count": 48,
   "metadata": {},
   "outputs": [
    {
     "data": {
      "text/plain": [
       "Index(['APN', 'APN2', 'polyLen', 'geomZscore', 'MHPID', 'MH_NAME',\n",
       "       'MH_ADDRESS', 'MH_CITY', 'MH_STATE', 'MH_ZIP', 'MH_STATUS',\n",
       "       'MH_COUNTY_FIPS', 'MH_LATITUDE', 'MH_LONGITUDE', 'distances',\n",
       "       'geometry'],\n",
       "      dtype='object')"
      ]
     },
     "execution_count": 48,
     "metadata": {},
     "output_type": "execute_result"
    }
   ],
   "source": [
    "boco.columns"
   ]
  },
  {
   "cell_type": "code",
   "execution_count": 63,
   "metadata": {},
   "outputs": [],
   "source": [
    "dupMHPIDs = boco.loc[boco['MHPID'].duplicated() == True]['MHPID']"
   ]
  },
  {
   "cell_type": "code",
   "execution_count": 66,
   "metadata": {},
   "outputs": [
    {
     "data": {
      "text/plain": [
       "Index(['APN', 'APN2', 'polyLen', 'geomZscore', 'MHPID', 'MH_NAME',\n",
       "       'MH_ADDRESS', 'MH_CITY', 'MH_STATE', 'MH_ZIP', 'MH_STATUS',\n",
       "       'MH_COUNTY_FIPS', 'MH_LATITUDE', 'MH_LONGITUDE', 'distances',\n",
       "       'geometry'],\n",
       "      dtype='object')"
      ]
     },
     "execution_count": 66,
     "metadata": {},
     "output_type": "execute_result"
    }
   ],
   "source": [
    "boco.columns"
   ]
  },
  {
   "cell_type": "code",
   "execution_count": 72,
   "metadata": {},
   "outputs": [],
   "source": [
    "boco_group = boco.groupby(['MHPID', 'distances']).first()"
   ]
  },
  {
   "cell_type": "markdown",
   "metadata": {},
   "source": [
    "this works"
   ]
  },
  {
   "cell_type": "code",
   "execution_count": null,
   "metadata": {},
   "outputs": [],
   "source": [
    "boco.sort_values(['MHPID','distances']).drop_duplicates(subset=['MHPID'], keep='first')"
   ]
  },
  {
   "cell_type": "markdown",
   "metadata": {},
   "source": [
    "Simplifying geometry"
   ]
  },
  {
   "cell_type": "code",
   "execution_count": null,
   "metadata": {},
   "outputs": [],
   "source": [
    "parcel['geometry'] = parcel['geometry'].simplify(1)"
   ]
  },
  {
   "cell_type": "code",
   "execution_count": 106,
   "metadata": {},
   "outputs": [],
   "source": [
    "colorado = gpd.read_file(r'C:\\Users\\phwh9568\\Data\\ParcelAtlas\\CO_2022\\Colorado_Final_near.gpkg', layer='Colorado_Final_MH_parcels')"
   ]
  },
  {
   "cell_type": "code",
   "execution_count": 107,
   "metadata": {},
   "outputs": [
    {
     "data": {
      "text/plain": [
       "418"
      ]
     },
     "execution_count": 107,
     "metadata": {},
     "output_type": "execute_result"
    }
   ],
   "source": [
    "len(colorado)"
   ]
  },
  {
   "cell_type": "code",
   "execution_count": 124,
   "metadata": {},
   "outputs": [
    {
     "ename": "AttributeError",
     "evalue": "'InteriorRingSequence' object has no attribute 'xy'",
     "output_type": "error",
     "traceback": [
      "\u001b[1;31m---------------------------------------------------------------------------\u001b[0m",
      "\u001b[1;31mAttributeError\u001b[0m                            Traceback (most recent call last)",
      "\u001b[1;32mc:\\Users\\phwh9568\\Data\\ParcelAtlas\\CO_2022\\within_near.ipynb Cell 42\u001b[0m line \u001b[0;36m1\n\u001b[1;32m----> <a href='vscode-notebook-cell:/c%3A/Users/phwh9568/Data/ParcelAtlas/CO_2022/within_near.ipynb#Y104sZmlsZQ%3D%3D?line=0'>1</a>\u001b[0m \u001b[39mlen\u001b[39m(colorado[\u001b[39m'\u001b[39m\u001b[39mgeometry\u001b[39m\u001b[39m'\u001b[39m][\u001b[39m107\u001b[39m]\u001b[39m.\u001b[39mexterior\u001b[39m.\u001b[39mxy[\u001b[39m0\u001b[39m] \u001b[39m+\u001b[39m \u001b[39mlen\u001b[39m(colorado[\u001b[39m'\u001b[39;49m\u001b[39mgeometry\u001b[39;49m\u001b[39m'\u001b[39;49m][\u001b[39m107\u001b[39;49m]\u001b[39m.\u001b[39;49minteriors\u001b[39m.\u001b[39;49mxy[\u001b[39m0\u001b[39m]))\n",
      "\u001b[1;31mAttributeError\u001b[0m: 'InteriorRingSequence' object has no attribute 'xy'"
     ]
    }
   ],
   "source": [
    "len(colorado['geometry'][107].exterior.xy[0] + len(colorado['geometry'][107].interiors.xy[0]))"
   ]
  },
  {
   "cell_type": "code",
   "execution_count": 172,
   "metadata": {},
   "outputs": [],
   "source": [
    "interiors = colorado['geometry'][107].interiors"
   ]
  },
  {
   "cell_type": "code",
   "execution_count": 171,
   "metadata": {},
   "outputs": [
    {
     "ename": "IndexError",
     "evalue": "index out of range",
     "output_type": "error",
     "traceback": [
      "\u001b[1;31m---------------------------------------------------------------------------\u001b[0m",
      "\u001b[1;31mIndexError\u001b[0m                                Traceback (most recent call last)",
      "\u001b[1;32mc:\\Users\\phwh9568\\Data\\ParcelAtlas\\CO_2022\\within_near.ipynb Cell 44\u001b[0m line \u001b[0;36m1\n\u001b[1;32m----> <a href='vscode-notebook-cell:/c%3A/Users/phwh9568/Data/ParcelAtlas/CO_2022/within_near.ipynb#Y115sZmlsZQ%3D%3D?line=0'>1</a>\u001b[0m interiors[\u001b[39m0\u001b[39;49m]\n",
      "File \u001b[1;32mc:\\Users\\phwh9568\\AppData\\Local\\Continuum\\anaconda3\\envs\\geo_env\\Lib\\site-packages\\shapely\\geometry\\polygon.py:164\u001b[0m, in \u001b[0;36mInteriorRingSequence.__getitem__\u001b[1;34m(self, key)\u001b[0m\n\u001b[0;32m    162\u001b[0m \u001b[39mif\u001b[39;00m \u001b[39misinstance\u001b[39m(key, \u001b[39mint\u001b[39m):\n\u001b[0;32m    163\u001b[0m     \u001b[39mif\u001b[39;00m key \u001b[39m+\u001b[39m m \u001b[39m<\u001b[39m \u001b[39m0\u001b[39m \u001b[39mor\u001b[39;00m key \u001b[39m>\u001b[39m\u001b[39m=\u001b[39m m:\n\u001b[1;32m--> 164\u001b[0m         \u001b[39mraise\u001b[39;00m \u001b[39mIndexError\u001b[39;00m(\u001b[39m\"\u001b[39m\u001b[39mindex out of range\u001b[39m\u001b[39m\"\u001b[39m)\n\u001b[0;32m    165\u001b[0m     \u001b[39mif\u001b[39;00m key \u001b[39m<\u001b[39m \u001b[39m0\u001b[39m:\n\u001b[0;32m    166\u001b[0m         i \u001b[39m=\u001b[39m m \u001b[39m+\u001b[39m key\n",
      "\u001b[1;31mIndexError\u001b[0m: index out of range"
     ]
    }
   ],
   "source": [
    "interiors[0]"
   ]
  },
  {
   "cell_type": "code",
   "execution_count": 162,
   "metadata": {},
   "outputs": [
    {
     "data": {
      "text/plain": [
       "5"
      ]
     },
     "execution_count": 162,
     "metadata": {},
     "output_type": "execute_result"
    }
   ],
   "source": [
    "len(interiors[0].xy[0])\n"
   ]
  },
  {
   "cell_type": "code",
   "execution_count": 134,
   "metadata": {},
   "outputs": [],
   "source": [
    "total = 0\n",
    "for g in interiors:\n",
    "    total += len(g.xy[0])"
   ]
  },
  {
   "cell_type": "code",
   "execution_count": 135,
   "metadata": {},
   "outputs": [
    {
     "data": {
      "text/plain": [
       "1608"
      ]
     },
     "execution_count": 135,
     "metadata": {},
     "output_type": "execute_result"
    }
   ],
   "source": [
    "total"
   ]
  },
  {
   "cell_type": "code",
   "execution_count": 136,
   "metadata": {},
   "outputs": [],
   "source": [
    "interiorSum = sum([len(g.xy[0]) for g in interiors])"
   ]
  },
  {
   "cell_type": "code",
   "execution_count": 137,
   "metadata": {},
   "outputs": [
    {
     "data": {
      "text/plain": [
       "1608"
      ]
     },
     "execution_count": 137,
     "metadata": {},
     "output_type": "execute_result"
    }
   ],
   "source": [
    "interiorSum"
   ]
  },
  {
   "cell_type": "code",
   "execution_count": 176,
   "metadata": {},
   "outputs": [],
   "source": [
    "geom = colorado['geometry'][106]"
   ]
  },
  {
   "cell_type": "code",
   "execution_count": 177,
   "metadata": {},
   "outputs": [],
   "source": [
    "def geomLen(geom):\n",
    "    exterior = len(geom.exterior.xy[0])\n",
    "    interior = sum([len(g.xy[0]) for g in geom.interiors]) if len(geom.interiors) > 0 else 0\n",
    "    return exterior+interior"
   ]
  },
  {
   "cell_type": "code",
   "execution_count": 180,
   "metadata": {},
   "outputs": [],
   "source": [
    "def geomLenOld(geom):\n",
    "    exterior = len(geom.exterior.xy[0])\n",
    "    #interior = sum([len(g.xy[0]) for g in geom.interiors]) if len(geom.interiors) > 0 else 0\n",
    "    return exterior"
   ]
  },
  {
   "cell_type": "code",
   "execution_count": 182,
   "metadata": {},
   "outputs": [
    {
     "name": "stdout",
     "output_type": "stream",
     "text": [
      "10\n"
     ]
    }
   ],
   "source": [
    "x = geomLen(geom)\n",
    "print(x)"
   ]
  },
  {
   "cell_type": "code",
   "execution_count": 179,
   "metadata": {},
   "outputs": [
    {
     "data": {
      "image/svg+xml": [
       "<svg xmlns=\"http://www.w3.org/2000/svg\" xmlns:xlink=\"http://www.w3.org/1999/xlink\" width=\"300\" height=\"300\" viewBox=\"-881619.8271489493 -1125.2412732554153 913.4760129734641 557.1534995256451\" preserveAspectRatio=\"xMinYMin meet\"><g transform=\"matrix(1,0,0,-1,0,-1693.3290469851854)\"><path fill-rule=\"evenodd\" fill=\"#66cc99\" stroke=\"#555555\" stroke-width=\"6.089840086489761\" opacity=\"0.6\" d=\"M -881077.7130027133,-649.4386906143069 L -881082.0666907205,-689.7773855396805 L -880952.6983873755,-702.2968314024041 L -880949.5563963252,-662.5571581044832 L -880740.1835809008,-683.989227689081 L -880785.8060734851,-1091.408828330475 L -881191.3990489419,-1046.2960582968976 L -881585.9947040243,-1009.1691562996173 L -881541.9338261475,-601.9202186547105 L -881077.7130027133,-649.4386906143069 z\" /></g></svg>"
      ],
      "text/plain": [
       "<POLYGON ((-881077.713 -649.439, -881082.067 -689.777, -880952.698 -702.297,...>"
      ]
     },
     "execution_count": 179,
     "metadata": {},
     "output_type": "execute_result"
    }
   ],
   "source": [
    "geom"
   ]
  },
  {
   "cell_type": "markdown",
   "metadata": {},
   "source": [
    "Adding buildings"
   ]
  },
  {
   "cell_type": "code",
   "execution_count": 208,
   "metadata": {},
   "outputs": [],
   "source": [
    "parcelAtlas_path = r'C:\\Users\\phwh9568\\Data\\ParcelAtlas'"
   ]
  },
  {
   "cell_type": "code",
   "execution_count": 475,
   "metadata": {},
   "outputs": [],
   "source": [
    "US_county_fips = pd.read_csv(os.path.join(parcelAtlas_path, 'US_county_fips.csv'), dtype={'FIPS':str})"
   ]
  },
  {
   "cell_type": "code",
   "execution_count": 478,
   "metadata": {},
   "outputs": [],
   "source": [
    "colorado_county_fips = US_county_fips.loc[US_county_fips['FIPS'].str.startswith('08')]"
   ]
  },
  {
   "cell_type": "code",
   "execution_count": 479,
   "metadata": {},
   "outputs": [],
   "source": [
    "co_county_fips = dict(zip(colorado_county_fips['FIPS'].to_list(), colorado_county_fips['NAME'].to_list()))"
   ]
  },
  {
   "cell_type": "code",
   "execution_count": 480,
   "metadata": {},
   "outputs": [
    {
     "data": {
      "text/plain": [
       "64"
      ]
     },
     "execution_count": 480,
     "metadata": {},
     "output_type": "execute_result"
    }
   ],
   "source": [
    "len(co_county_fips)"
   ]
  },
  {
   "cell_type": "code",
   "execution_count": 482,
   "metadata": {},
   "outputs": [],
   "source": [
    "county_dir = r'C:\\Users\\phwh9568\\Data\\ParcelAtlas\\CO_2022\\Counties'\n",
    "buildings_dir = r'C:\\Users\\phwh9568\\Data\\Colorado_Microsoft_Footprints'"
   ]
  },
  {
   "cell_type": "code",
   "execution_count": 483,
   "metadata": {},
   "outputs": [],
   "source": [
    "for f,n in co_county_fips.items():\n",
    "    if os.path.exists(os.path.join(county_dir,f)):\n",
    "        name = n.replace(' ','_')+'_Buildings'\n",
    "        files = glob(os.path.join(buildings_dir,name,name+'*'))\n",
    "        for src in files:\n",
    "            dst = os.path.join(county_dir,f,f+'_'+src.split('_')[-1].lower())\n",
    "            shutil.copy(src, dst)\n",
    "        #src = os.path.join(buildings_dir,name,name+'.shp')\n",
    "        #dst = (os.path.join(county_dir,f,f+'_buildings.shp'))\n",
    "        #shutil.copy(src,dst)\n"
   ]
  },
  {
   "cell_type": "markdown",
   "metadata": {},
   "source": [
    "blow up old ones"
   ]
  },
  {
   "cell_type": "code",
   "execution_count": 481,
   "metadata": {},
   "outputs": [],
   "source": [
    "for f,n in co_county_fips.items():\n",
    "    path = os.path.join(county_dir, f+'_buildings.shp')\n",
    "    if os.path.exists(path):\n",
    "        os.remove(path)"
   ]
  },
  {
   "cell_type": "code",
   "execution_count": 484,
   "metadata": {},
   "outputs": [
    {
     "data": {
      "text/plain": [
       "{'08001': 'Adams County',\n",
       " '08003': 'Alamosa County',\n",
       " '08005': 'Arapahoe County',\n",
       " '08007': 'Archuleta County',\n",
       " '08009': 'Baca County',\n",
       " '08011': 'Bent County',\n",
       " '08013': 'Boulder County',\n",
       " '08014': 'Broomfield County',\n",
       " '08015': 'Chaffee County',\n",
       " '08017': 'Cheyenne County',\n",
       " '08019': 'Clear Creek County',\n",
       " '08021': 'Conejos County',\n",
       " '08023': 'Costilla County',\n",
       " '08025': 'Crowley County',\n",
       " '08027': 'Custer County',\n",
       " '08029': 'Delta County',\n",
       " '08031': 'Denver County',\n",
       " '08033': 'Dolores County',\n",
       " '08035': 'Douglas County',\n",
       " '08037': 'Eagle County',\n",
       " '08039': 'Elbert County',\n",
       " '08041': 'El Paso County',\n",
       " '08043': 'Fremont County',\n",
       " '08045': 'Garfield County',\n",
       " '08047': 'Gilpin County',\n",
       " '08049': 'Grand County',\n",
       " '08051': 'Gunnison County',\n",
       " '08053': 'Hinsdale County',\n",
       " '08055': 'Huerfano County',\n",
       " '08057': 'Jackson County',\n",
       " '08059': 'Jefferson County',\n",
       " '08061': 'Kiowa County',\n",
       " '08063': 'Kit Carson County',\n",
       " '08065': 'Lake County',\n",
       " '08067': 'La Plata County',\n",
       " '08069': 'Larimer County',\n",
       " '08071': 'Las Animas County',\n",
       " '08073': 'Lincoln County',\n",
       " '08075': 'Logan County',\n",
       " '08077': 'Mesa County',\n",
       " '08079': 'Mineral County',\n",
       " '08081': 'Moffat County',\n",
       " '08083': 'Montezuma County',\n",
       " '08085': 'Montrose County',\n",
       " '08087': 'Morgan County',\n",
       " '08089': 'Otero County',\n",
       " '08091': 'Ouray County',\n",
       " '08093': 'Park County',\n",
       " '08095': 'Phillips County',\n",
       " '08097': 'Pitkin County',\n",
       " '08099': 'Prowers County',\n",
       " '08101': 'Pueblo County',\n",
       " '08103': 'Rio Blanco County',\n",
       " '08105': 'Rio Grande County',\n",
       " '08107': 'Routt County',\n",
       " '08109': 'Saguache County',\n",
       " '08111': 'San Juan County',\n",
       " '08113': 'San Miguel County',\n",
       " '08115': 'Sedgwick County',\n",
       " '08117': 'Summit County',\n",
       " '08119': 'Teller County',\n",
       " '08121': 'Washington County',\n",
       " '08123': 'Weld County',\n",
       " '08125': 'Yuma County'}"
      ]
     },
     "execution_count": 484,
     "metadata": {},
     "output_type": "execute_result"
    }
   ],
   "source": [
    "co_county_fips"
   ]
  },
  {
   "cell_type": "markdown",
   "metadata": {},
   "source": [
    "Sum of Buildings within parcels"
   ]
  },
  {
   "cell_type": "code",
   "execution_count": 468,
   "metadata": {},
   "outputs": [
    {
     "name": "stderr",
     "output_type": "stream",
     "text": [
      "c:\\Users\\phwh9568\\AppData\\Local\\Continuum\\anaconda3\\envs\\geo_env\\Lib\\site-packages\\pyogrio\\raw.py:194: RuntimeWarning: C:\\Users\\phwh9568\\Data\\ParcelAtlas\\CO_2022\\Counties\\08001\\parcels.shp contains polygon(s) with rings with invalid winding order. Autocorrecting them, but that shapefile should be corrected using ogr2ogr for example.\n",
      "  result = ogr_read(\n"
     ]
    }
   ],
   "source": [
    "adams = gpd.read_file(os.path.join(county_dir,'08001', 'parcels.shp')).to_crs('ESRI:102003')"
   ]
  },
  {
   "cell_type": "code",
   "execution_count": 469,
   "metadata": {},
   "outputs": [],
   "source": [
    "adams['ID'] = adams.index\n",
    "cols = adams.columns.to_list()\n",
    "cols = [cols[-1]] + cols[:-1] "
   ]
  },
  {
   "cell_type": "code",
   "execution_count": 472,
   "metadata": {},
   "outputs": [],
   "source": [
    "adams = adams[cols]"
   ]
  },
  {
   "cell_type": "code",
   "execution_count": 473,
   "metadata": {},
   "outputs": [
    {
     "data": {
      "text/plain": [
       "Index(['ID', 'APN', 'APN2', 'STATE', 'COUNTY', 'FIPS', 'SIT_HSE_NU', 'SIT_DIR',\n",
       "       'SIT_STR_NA', 'SIT_STR_SF', 'SIT_FULL_S', 'SIT_CITY', 'SIT_STATE',\n",
       "       'SIT_ZIP', 'SIT_ZIP4', 'LAND_VALUE', 'IMPR_VALUE', 'TOT_VALUE',\n",
       "       'ASSMT_YEAR', 'REC_DATE', 'SALES_PRIC', 'YEAR_BUILT', 'STD_LAND_U',\n",
       "       'LOT_SIZE', 'BLDG_AREA', 'DEED_DSCR', 'NO_OF_STOR', 'NO_OF_UNIT',\n",
       "       'BEDROOMS', 'BATHROOMS', 'OWNER', 'OWNER2', 'OWNADDRESS', 'OWNADDRES2',\n",
       "       'OWNCTYSTZP', 'XCOORD', 'YCOORD', 'MINX', 'MINY', 'MAXX', 'MAXY',\n",
       "       'VERSION', 'QUANTARIUM', 'ATTDATE', 'geomCalc', 'geometry'],\n",
       "      dtype='object')"
      ]
     },
     "execution_count": 473,
     "metadata": {},
     "output_type": "execute_result"
    }
   ],
   "source": [
    "adams.columns"
   ]
  },
  {
   "cell_type": "code",
   "execution_count": 443,
   "metadata": {},
   "outputs": [],
   "source": [
    "adamsBuildings = gpd.read_file(os.path.join(county_dir,'08001','08001_buildings.shp')).to_crs('ESRI:102003')"
   ]
  },
  {
   "cell_type": "code",
   "execution_count": null,
   "metadata": {},
   "outputs": [],
   "source": []
  },
  {
   "cell_type": "code",
   "execution_count": 444,
   "metadata": {},
   "outputs": [],
   "source": [
    "dfsjoin = gpd.sjoin(adams, adamsBuildings, predicate='contains') #Spatial join Points to polygons"
   ]
  },
  {
   "cell_type": "code",
   "execution_count": 445,
   "metadata": {},
   "outputs": [],
   "source": [
    "dfpivot = pd.pivot_table(dfsjoin,index=['ID','APN'], aggfunc={'FID':len}).reset_index()"
   ]
  },
  {
   "cell_type": "code",
   "execution_count": 447,
   "metadata": {},
   "outputs": [],
   "source": [
    "dfpolynew = adams.merge(dfpivot, how='left', on='ID')"
   ]
  },
  {
   "cell_type": "code",
   "execution_count": 455,
   "metadata": {},
   "outputs": [],
   "source": [
    "dfpolynew.rename({'APN_x':'APN', 'FID': 'Build_Count'}, axis='columns',inplace=True)"
   ]
  },
  {
   "cell_type": "code",
   "execution_count": 457,
   "metadata": {},
   "outputs": [],
   "source": [
    "dfpolynew['Build_Count'].fillna(0, inplace=True)"
   ]
  },
  {
   "cell_type": "code",
   "execution_count": 459,
   "metadata": {},
   "outputs": [],
   "source": [
    "dfpolynew.drop(['ID','APN_y'], axis=1, inplace=True)"
   ]
  },
  {
   "cell_type": "code",
   "execution_count": 464,
   "metadata": {},
   "outputs": [],
   "source": [
    "def sumWithin(df1,df2):\n",
    "    dfsjoin = gpd.sjoin(df1,df2,predicate='contains')\n",
    "    dfpivot = pd.pivot_table(dfsjoin,index=['ID','APN'], aggfunc={'FID':len}).reset_index()\n",
    "    dfpolynew = df1.merge(dfpivot, how='left', on='ID')\n",
    "    dfpolynew.rename({'APN_x':'APN', 'FID': 'Sum_Within'}, axis='columns',inplace=True)\n",
    "    dfpolynew['Sum_Within'].fillna(0, inplace=True)\n",
    "    dfpolynew.drop(['ID','APN_y'], axis=1, inplace=True)\n",
    "    return dfpolynew\n"
   ]
  },
  {
   "cell_type": "code",
   "execution_count": 461,
   "metadata": {},
   "outputs": [
    {
     "data": {
      "text/plain": [
       "118838"
      ]
     },
     "execution_count": 461,
     "metadata": {},
     "output_type": "execute_result"
    }
   ],
   "source": [
    "len(adams)"
   ]
  },
  {
   "cell_type": "code",
   "execution_count": 465,
   "metadata": {},
   "outputs": [],
   "source": [
    "testdf = sumWithin(adams,adamsBuildings)"
   ]
  },
  {
   "cell_type": "code",
   "execution_count": 467,
   "metadata": {},
   "outputs": [
    {
     "data": {
      "text/html": [
       "<div>\n",
       "<style scoped>\n",
       "    .dataframe tbody tr th:only-of-type {\n",
       "        vertical-align: middle;\n",
       "    }\n",
       "\n",
       "    .dataframe tbody tr th {\n",
       "        vertical-align: top;\n",
       "    }\n",
       "\n",
       "    .dataframe thead th {\n",
       "        text-align: right;\n",
       "    }\n",
       "</style>\n",
       "<table border=\"1\" class=\"dataframe\">\n",
       "  <thead>\n",
       "    <tr style=\"text-align: right;\">\n",
       "      <th></th>\n",
       "      <th>APN</th>\n",
       "      <th>APN2</th>\n",
       "      <th>STATE</th>\n",
       "      <th>COUNTY</th>\n",
       "      <th>FIPS</th>\n",
       "      <th>SIT_HSE_NU</th>\n",
       "      <th>SIT_DIR</th>\n",
       "      <th>SIT_STR_NA</th>\n",
       "      <th>SIT_STR_SF</th>\n",
       "      <th>SIT_FULL_S</th>\n",
       "      <th>...</th>\n",
       "      <th>MINX</th>\n",
       "      <th>MINY</th>\n",
       "      <th>MAXX</th>\n",
       "      <th>MAXY</th>\n",
       "      <th>VERSION</th>\n",
       "      <th>QUANTARIUM</th>\n",
       "      <th>ATTDATE</th>\n",
       "      <th>geomCalc</th>\n",
       "      <th>geometry</th>\n",
       "      <th>Sum_Within</th>\n",
       "    </tr>\n",
       "  </thead>\n",
       "  <tbody>\n",
       "    <tr>\n",
       "      <th>0</th>\n",
       "      <td>155700000045</td>\n",
       "      <td>1</td>\n",
       "      <td>CO</td>\n",
       "      <td>Adams</td>\n",
       "      <td>08001</td>\n",
       "      <td>None</td>\n",
       "      <td>None</td>\n",
       "      <td>None</td>\n",
       "      <td>None</td>\n",
       "      <td>None</td>\n",
       "      <td>...</td>\n",
       "      <td>-104.066892</td>\n",
       "      <td>39.978658</td>\n",
       "      <td>-104.057487</td>\n",
       "      <td>39.985909</td>\n",
       "      <td>12/20/2016</td>\n",
       "      <td>None</td>\n",
       "      <td>20211030</td>\n",
       "      <td>630151.6230</td>\n",
       "      <td>POLYGON ((-681231.654 306696.813, -681999.276 ...</td>\n",
       "      <td>0.0</td>\n",
       "    </tr>\n",
       "    <tr>\n",
       "      <th>1</th>\n",
       "      <td>155700000007</td>\n",
       "      <td>2</td>\n",
       "      <td>CO</td>\n",
       "      <td>Adams</td>\n",
       "      <td>08001</td>\n",
       "      <td>None</td>\n",
       "      <td>None</td>\n",
       "      <td>None</td>\n",
       "      <td>None</td>\n",
       "      <td>None</td>\n",
       "      <td>...</td>\n",
       "      <td>-104.067448</td>\n",
       "      <td>39.996597</td>\n",
       "      <td>-104.057978</td>\n",
       "      <td>40.001045</td>\n",
       "      <td>12/20/2016</td>\n",
       "      <td>None</td>\n",
       "      <td>20211030</td>\n",
       "      <td>384020.4328</td>\n",
       "      <td>POLYGON ((-681449.948 309232.732, -681450.962 ...</td>\n",
       "      <td>0.0</td>\n",
       "    </tr>\n",
       "    <tr>\n",
       "      <th>2</th>\n",
       "      <td>155700000150</td>\n",
       "      <td>3</td>\n",
       "      <td>CO</td>\n",
       "      <td>Adams</td>\n",
       "      <td>08001</td>\n",
       "      <td>None</td>\n",
       "      <td>None</td>\n",
       "      <td>None</td>\n",
       "      <td>None</td>\n",
       "      <td>None</td>\n",
       "      <td>...</td>\n",
       "      <td>-104.057782</td>\n",
       "      <td>39.993095</td>\n",
       "      <td>-104.038983</td>\n",
       "      <td>39.997066</td>\n",
       "      <td>12/20/2016</td>\n",
       "      <td>None</td>\n",
       "      <td>20211030</td>\n",
       "      <td>669224.3293</td>\n",
       "      <td>POLYGON ((-679532.942 308190.972, -680326.252 ...</td>\n",
       "      <td>0.0</td>\n",
       "    </tr>\n",
       "    <tr>\n",
       "      <th>3</th>\n",
       "      <td>155700000149</td>\n",
       "      <td>4</td>\n",
       "      <td>CO</td>\n",
       "      <td>Adams</td>\n",
       "      <td>08001</td>\n",
       "      <td>None</td>\n",
       "      <td>None</td>\n",
       "      <td>None</td>\n",
       "      <td>None</td>\n",
       "      <td>None</td>\n",
       "      <td>...</td>\n",
       "      <td>-104.053055</td>\n",
       "      <td>39.996835</td>\n",
       "      <td>-104.039052</td>\n",
       "      <td>40.000994</td>\n",
       "      <td>12/20/2016</td>\n",
       "      <td>None</td>\n",
       "      <td>20211030</td>\n",
       "      <td>532267.7586</td>\n",
       "      <td>POLYGON ((-680646.427 309153.695, -680646.245 ...</td>\n",
       "      <td>0.0</td>\n",
       "    </tr>\n",
       "    <tr>\n",
       "      <th>4</th>\n",
       "      <td>155700000006</td>\n",
       "      <td>5</td>\n",
       "      <td>CO</td>\n",
       "      <td>Adams</td>\n",
       "      <td>08001</td>\n",
       "      <td>16704</td>\n",
       "      <td>None</td>\n",
       "      <td>MIMOSA MILE</td>\n",
       "      <td>RD</td>\n",
       "      <td>16704 MIMOSA MILE RD</td>\n",
       "      <td>...</td>\n",
       "      <td>-104.057856</td>\n",
       "      <td>39.996766</td>\n",
       "      <td>-104.052995</td>\n",
       "      <td>40.000949</td>\n",
       "      <td>12/20/2016</td>\n",
       "      <td>22098024</td>\n",
       "      <td>20211030</td>\n",
       "      <td>187514.4901</td>\n",
       "      <td>POLYGON ((-680680.353 308693.941, -681061.940 ...</td>\n",
       "      <td>2.0</td>\n",
       "    </tr>\n",
       "    <tr>\n",
       "      <th>...</th>\n",
       "      <td>...</td>\n",
       "      <td>...</td>\n",
       "      <td>...</td>\n",
       "      <td>...</td>\n",
       "      <td>...</td>\n",
       "      <td>...</td>\n",
       "      <td>...</td>\n",
       "      <td>...</td>\n",
       "      <td>...</td>\n",
       "      <td>...</td>\n",
       "      <td>...</td>\n",
       "      <td>...</td>\n",
       "      <td>...</td>\n",
       "      <td>...</td>\n",
       "      <td>...</td>\n",
       "      <td>...</td>\n",
       "      <td>...</td>\n",
       "      <td>...</td>\n",
       "      <td>...</td>\n",
       "      <td>...</td>\n",
       "      <td>...</td>\n",
       "    </tr>\n",
       "    <tr>\n",
       "      <th>118833</th>\n",
       "      <td>181333111009</td>\n",
       "      <td>166570</td>\n",
       "      <td>CO</td>\n",
       "      <td>Adams</td>\n",
       "      <td>08001</td>\n",
       "      <td>None</td>\n",
       "      <td>None</td>\n",
       "      <td>None</td>\n",
       "      <td>None</td>\n",
       "      <td>166570 2315 TROUT RD</td>\n",
       "      <td>...</td>\n",
       "      <td>-104.330532</td>\n",
       "      <td>39.749104</td>\n",
       "      <td>-104.330119</td>\n",
       "      <td>39.749356</td>\n",
       "      <td>12/20/2016</td>\n",
       "      <td>None</td>\n",
       "      <td>20211030</td>\n",
       "      <td>977.4080</td>\n",
       "      <td>POLYGON ((-706475.383 283060.727, -706510.315 ...</td>\n",
       "      <td>0.0</td>\n",
       "    </tr>\n",
       "    <tr>\n",
       "      <th>118834</th>\n",
       "      <td>182504302022</td>\n",
       "      <td>166571</td>\n",
       "      <td>CO</td>\n",
       "      <td>Adams</td>\n",
       "      <td>08001</td>\n",
       "      <td>None</td>\n",
       "      <td>None</td>\n",
       "      <td>None</td>\n",
       "      <td>None</td>\n",
       "      <td>166571 2125 W 64TH AVE</td>\n",
       "      <td>...</td>\n",
       "      <td>-105.012647</td>\n",
       "      <td>39.812962</td>\n",
       "      <td>-105.010913</td>\n",
       "      <td>39.813580</td>\n",
       "      <td>12/20/2016</td>\n",
       "      <td>None</td>\n",
       "      <td>20211030</td>\n",
       "      <td>5394.8983</td>\n",
       "      <td>POLYGON ((-763401.996 295518.311, -763365.602 ...</td>\n",
       "      <td>0.0</td>\n",
       "    </tr>\n",
       "    <tr>\n",
       "      <th>118835</th>\n",
       "      <td>182504302021</td>\n",
       "      <td>166572</td>\n",
       "      <td>CO</td>\n",
       "      <td>Adams</td>\n",
       "      <td>08001</td>\n",
       "      <td>None</td>\n",
       "      <td>None</td>\n",
       "      <td>None</td>\n",
       "      <td>None</td>\n",
       "      <td>166572 2075 W 64TH AVE</td>\n",
       "      <td>...</td>\n",
       "      <td>-105.014805</td>\n",
       "      <td>39.812963</td>\n",
       "      <td>-105.011479</td>\n",
       "      <td>39.815228</td>\n",
       "      <td>12/20/2016</td>\n",
       "      <td>22244250</td>\n",
       "      <td>20211030</td>\n",
       "      <td>40742.1354</td>\n",
       "      <td>POLYGON ((-763622.608 295727.276, -763483.233 ...</td>\n",
       "      <td>0.0</td>\n",
       "    </tr>\n",
       "    <tr>\n",
       "      <th>118836</th>\n",
       "      <td>182504302020</td>\n",
       "      <td>166573</td>\n",
       "      <td>CO</td>\n",
       "      <td>Adams</td>\n",
       "      <td>08001</td>\n",
       "      <td>None</td>\n",
       "      <td>None</td>\n",
       "      <td>None</td>\n",
       "      <td>None</td>\n",
       "      <td>166573 2175 W 64TH AVE</td>\n",
       "      <td>...</td>\n",
       "      <td>-105.012533</td>\n",
       "      <td>39.813529</td>\n",
       "      <td>-105.009931</td>\n",
       "      <td>39.815120</td>\n",
       "      <td>12/20/2016</td>\n",
       "      <td>None</td>\n",
       "      <td>20211030</td>\n",
       "      <td>21055.6189</td>\n",
       "      <td>POLYGON ((-763366.706 295686.630, -763315.925 ...</td>\n",
       "      <td>0.0</td>\n",
       "    </tr>\n",
       "    <tr>\n",
       "      <th>118837</th>\n",
       "      <td>181933401001</td>\n",
       "      <td>166574</td>\n",
       "      <td>CO</td>\n",
       "      <td>Adams</td>\n",
       "      <td>08001</td>\n",
       "      <td>None</td>\n",
       "      <td>None</td>\n",
       "      <td>None</td>\n",
       "      <td>None</td>\n",
       "      <td>166574</td>\n",
       "      <td>...</td>\n",
       "      <td>-104.664723</td>\n",
       "      <td>39.743651</td>\n",
       "      <td>-104.659704</td>\n",
       "      <td>39.749108</td>\n",
       "      <td>12/20/2016</td>\n",
       "      <td>None</td>\n",
       "      <td>20211030</td>\n",
       "      <td>234074.7664</td>\n",
       "      <td>POLYGON ((-734351.803 285555.492, -734371.119 ...</td>\n",
       "      <td>0.0</td>\n",
       "    </tr>\n",
       "  </tbody>\n",
       "</table>\n",
       "<p>118838 rows × 46 columns</p>\n",
       "</div>"
      ],
      "text/plain": [
       "                 APN    APN2 STATE COUNTY   FIPS SIT_HSE_NU SIT_DIR  \\\n",
       "0       155700000045       1    CO  Adams  08001       None    None   \n",
       "1       155700000007       2    CO  Adams  08001       None    None   \n",
       "2       155700000150       3    CO  Adams  08001       None    None   \n",
       "3       155700000149       4    CO  Adams  08001       None    None   \n",
       "4       155700000006       5    CO  Adams  08001      16704    None   \n",
       "...              ...     ...   ...    ...    ...        ...     ...   \n",
       "118833  181333111009  166570    CO  Adams  08001       None    None   \n",
       "118834  182504302022  166571    CO  Adams  08001       None    None   \n",
       "118835  182504302021  166572    CO  Adams  08001       None    None   \n",
       "118836  182504302020  166573    CO  Adams  08001       None    None   \n",
       "118837  181933401001  166574    CO  Adams  08001       None    None   \n",
       "\n",
       "         SIT_STR_NA SIT_STR_SF              SIT_FULL_S  ...        MINX  \\\n",
       "0              None       None                    None  ... -104.066892   \n",
       "1              None       None                    None  ... -104.067448   \n",
       "2              None       None                    None  ... -104.057782   \n",
       "3              None       None                    None  ... -104.053055   \n",
       "4       MIMOSA MILE         RD    16704 MIMOSA MILE RD  ... -104.057856   \n",
       "...             ...        ...                     ...  ...         ...   \n",
       "118833         None       None    166570 2315 TROUT RD  ... -104.330532   \n",
       "118834         None       None  166571 2125 W 64TH AVE  ... -105.012647   \n",
       "118835         None       None  166572 2075 W 64TH AVE  ... -105.014805   \n",
       "118836         None       None  166573 2175 W 64TH AVE  ... -105.012533   \n",
       "118837         None       None                  166574  ... -104.664723   \n",
       "\n",
       "             MINY        MAXX       MAXY     VERSION  QUANTARIUM   ATTDATE  \\\n",
       "0       39.978658 -104.057487  39.985909  12/20/2016        None  20211030   \n",
       "1       39.996597 -104.057978  40.001045  12/20/2016        None  20211030   \n",
       "2       39.993095 -104.038983  39.997066  12/20/2016        None  20211030   \n",
       "3       39.996835 -104.039052  40.000994  12/20/2016        None  20211030   \n",
       "4       39.996766 -104.052995  40.000949  12/20/2016    22098024  20211030   \n",
       "...           ...         ...        ...         ...         ...       ...   \n",
       "118833  39.749104 -104.330119  39.749356  12/20/2016        None  20211030   \n",
       "118834  39.812962 -105.010913  39.813580  12/20/2016        None  20211030   \n",
       "118835  39.812963 -105.011479  39.815228  12/20/2016    22244250  20211030   \n",
       "118836  39.813529 -105.009931  39.815120  12/20/2016        None  20211030   \n",
       "118837  39.743651 -104.659704  39.749108  12/20/2016        None  20211030   \n",
       "\n",
       "           geomCalc                                           geometry  \\\n",
       "0       630151.6230  POLYGON ((-681231.654 306696.813, -681999.276 ...   \n",
       "1       384020.4328  POLYGON ((-681449.948 309232.732, -681450.962 ...   \n",
       "2       669224.3293  POLYGON ((-679532.942 308190.972, -680326.252 ...   \n",
       "3       532267.7586  POLYGON ((-680646.427 309153.695, -680646.245 ...   \n",
       "4       187514.4901  POLYGON ((-680680.353 308693.941, -681061.940 ...   \n",
       "...             ...                                                ...   \n",
       "118833     977.4080  POLYGON ((-706475.383 283060.727, -706510.315 ...   \n",
       "118834    5394.8983  POLYGON ((-763401.996 295518.311, -763365.602 ...   \n",
       "118835   40742.1354  POLYGON ((-763622.608 295727.276, -763483.233 ...   \n",
       "118836   21055.6189  POLYGON ((-763366.706 295686.630, -763315.925 ...   \n",
       "118837  234074.7664  POLYGON ((-734351.803 285555.492, -734371.119 ...   \n",
       "\n",
       "        Sum_Within  \n",
       "0              0.0  \n",
       "1              0.0  \n",
       "2              0.0  \n",
       "3              0.0  \n",
       "4              2.0  \n",
       "...            ...  \n",
       "118833         0.0  \n",
       "118834         0.0  \n",
       "118835         0.0  \n",
       "118836         0.0  \n",
       "118837         0.0  \n",
       "\n",
       "[118838 rows x 46 columns]"
      ]
     },
     "execution_count": 467,
     "metadata": {},
     "output_type": "execute_result"
    }
   ],
   "source": [
    "testdf"
   ]
  },
  {
   "cell_type": "code",
   "execution_count": 8,
   "metadata": {},
   "outputs": [
    {
     "name": "stderr",
     "output_type": "stream",
     "text": [
      "c:\\Users\\phwh9568\\AppData\\Local\\Continuum\\anaconda3\\envs\\geo_env\\Lib\\site-packages\\pyogrio\\raw.py:194: RuntimeWarning: C:\\Users\\phwh9568\\Data\\ParcelAtlas\\CO_2022\\Counties\\08001\\parcels.shp contains polygon(s) with rings with invalid winding order. Autocorrecting them, but that shapefile should be corrected using ogr2ogr for example.\n",
      "  result = ogr_read(\n"
     ]
    }
   ],
   "source": [
    "adams = gpd.read_file(parcelsPath)"
   ]
  },
  {
   "cell_type": "code",
   "execution_count": 9,
   "metadata": {},
   "outputs": [
    {
     "data": {
      "text/plain": [
       "Index(['APN', 'APN2', 'STATE', 'COUNTY', 'FIPS', 'SIT_HSE_NU', 'SIT_DIR',\n",
       "       'SIT_STR_NA', 'SIT_STR_SF', 'SIT_FULL_S', 'SIT_CITY', 'SIT_STATE',\n",
       "       'SIT_ZIP', 'SIT_ZIP4', 'LAND_VALUE', 'IMPR_VALUE', 'TOT_VALUE',\n",
       "       'ASSMT_YEAR', 'REC_DATE', 'SALES_PRIC', 'YEAR_BUILT', 'STD_LAND_U',\n",
       "       'LOT_SIZE', 'BLDG_AREA', 'DEED_DSCR', 'NO_OF_STOR', 'NO_OF_UNIT',\n",
       "       'BEDROOMS', 'BATHROOMS', 'OWNER', 'OWNER2', 'OWNADDRESS', 'OWNADDRES2',\n",
       "       'OWNCTYSTZP', 'XCOORD', 'YCOORD', 'MINX', 'MINY', 'MAXX', 'MAXY',\n",
       "       'VERSION', 'QUANTARIUM', 'ATTDATE', 'geomCalc', 'geometry'],\n",
       "      dtype='object')"
      ]
     },
     "execution_count": 9,
     "metadata": {},
     "output_type": "execute_result"
    }
   ],
   "source": [
    "adams.columns"
   ]
  },
  {
   "cell_type": "code",
   "execution_count": 10,
   "metadata": {},
   "outputs": [
    {
     "data": {
      "text/plain": [
       "0         False\n",
       "1         False\n",
       "2         False\n",
       "3         False\n",
       "4         False\n",
       "          ...  \n",
       "118833    False\n",
       "118834    False\n",
       "118835    False\n",
       "118836    False\n",
       "118837    False\n",
       "Name: LOT_SIZE, Length: 118838, dtype: bool"
      ]
     },
     "execution_count": 10,
     "metadata": {},
     "output_type": "execute_result"
    }
   ],
   "source": [
    "adams['LOT_SIZE'] == True"
   ]
  },
  {
   "cell_type": "code",
   "execution_count": 27,
   "metadata": {},
   "outputs": [],
   "source": [
    "import winsound\n",
    "duration = 1000  # milliseconds\n",
    "freq = 450  # Hz\n",
    "winsound.Beep(freq, duration)"
   ]
  },
  {
   "cell_type": "code",
   "execution_count": 35,
   "metadata": {},
   "outputs": [
    {
     "data": {
      "text/html": [
       "<div>\n",
       "<style scoped>\n",
       "    .dataframe tbody tr th:only-of-type {\n",
       "        vertical-align: middle;\n",
       "    }\n",
       "\n",
       "    .dataframe tbody tr th {\n",
       "        vertical-align: top;\n",
       "    }\n",
       "\n",
       "    .dataframe thead th {\n",
       "        text-align: right;\n",
       "    }\n",
       "</style>\n",
       "<table border=\"1\" class=\"dataframe\">\n",
       "  <thead>\n",
       "    <tr style=\"text-align: right;\">\n",
       "      <th></th>\n",
       "      <th>APN</th>\n",
       "      <th>APN2</th>\n",
       "      <th>STATE</th>\n",
       "      <th>COUNTY</th>\n",
       "      <th>FIPS</th>\n",
       "      <th>SIT_HSE_NU</th>\n",
       "      <th>SIT_DIR</th>\n",
       "      <th>SIT_STR_NA</th>\n",
       "      <th>SIT_STR_SF</th>\n",
       "      <th>SIT_FULL_S</th>\n",
       "      <th>...</th>\n",
       "      <th>YCOORD</th>\n",
       "      <th>MINX</th>\n",
       "      <th>MINY</th>\n",
       "      <th>MAXX</th>\n",
       "      <th>MAXY</th>\n",
       "      <th>VERSION</th>\n",
       "      <th>QUANTARIUM</th>\n",
       "      <th>ATTDATE</th>\n",
       "      <th>geomCalc</th>\n",
       "      <th>geometry</th>\n",
       "    </tr>\n",
       "  </thead>\n",
       "  <tbody>\n",
       "    <tr>\n",
       "      <th>0</th>\n",
       "      <td>155700000045</td>\n",
       "      <td>1</td>\n",
       "      <td>CO</td>\n",
       "      <td>Adams</td>\n",
       "      <td>08001</td>\n",
       "      <td>None</td>\n",
       "      <td>None</td>\n",
       "      <td>None</td>\n",
       "      <td>None</td>\n",
       "      <td>None</td>\n",
       "      <td>...</td>\n",
       "      <td>39.9823</td>\n",
       "      <td>-104.066892</td>\n",
       "      <td>39.978658</td>\n",
       "      <td>-104.057487</td>\n",
       "      <td>39.985909</td>\n",
       "      <td>12/20/2016</td>\n",
       "      <td>None</td>\n",
       "      <td>20211030</td>\n",
       "      <td>630151.6230</td>\n",
       "      <td>POLYGON ((-104.05749 39.97866, -104.06659 39.9...</td>\n",
       "    </tr>\n",
       "    <tr>\n",
       "      <th>1</th>\n",
       "      <td>155700000007</td>\n",
       "      <td>2</td>\n",
       "      <td>CO</td>\n",
       "      <td>Adams</td>\n",
       "      <td>08001</td>\n",
       "      <td>None</td>\n",
       "      <td>None</td>\n",
       "      <td>None</td>\n",
       "      <td>None</td>\n",
       "      <td>None</td>\n",
       "      <td>...</td>\n",
       "      <td>39.9988</td>\n",
       "      <td>-104.067448</td>\n",
       "      <td>39.996597</td>\n",
       "      <td>-104.057978</td>\n",
       "      <td>40.001045</td>\n",
       "      <td>12/20/2016</td>\n",
       "      <td>None</td>\n",
       "      <td>20211030</td>\n",
       "      <td>384020.4328</td>\n",
       "      <td>POLYGON ((-104.06260 40.00104, -104.06260 40.0...</td>\n",
       "    </tr>\n",
       "    <tr>\n",
       "      <th>2</th>\n",
       "      <td>155700000150</td>\n",
       "      <td>3</td>\n",
       "      <td>CO</td>\n",
       "      <td>Adams</td>\n",
       "      <td>08001</td>\n",
       "      <td>None</td>\n",
       "      <td>None</td>\n",
       "      <td>None</td>\n",
       "      <td>None</td>\n",
       "      <td>None</td>\n",
       "      <td>...</td>\n",
       "      <td>39.9950</td>\n",
       "      <td>-104.057782</td>\n",
       "      <td>39.993095</td>\n",
       "      <td>-104.038983</td>\n",
       "      <td>39.997066</td>\n",
       "      <td>12/20/2016</td>\n",
       "      <td>None</td>\n",
       "      <td>20211030</td>\n",
       "      <td>669224.3293</td>\n",
       "      <td>POLYGON ((-104.03898 39.99323, -104.04838 39.9...</td>\n",
       "    </tr>\n",
       "    <tr>\n",
       "      <th>3</th>\n",
       "      <td>155700000149</td>\n",
       "      <td>4</td>\n",
       "      <td>CO</td>\n",
       "      <td>Adams</td>\n",
       "      <td>08001</td>\n",
       "      <td>None</td>\n",
       "      <td>None</td>\n",
       "      <td>None</td>\n",
       "      <td>None</td>\n",
       "      <td>None</td>\n",
       "      <td>...</td>\n",
       "      <td>39.9990</td>\n",
       "      <td>-104.053055</td>\n",
       "      <td>39.996835</td>\n",
       "      <td>-104.039052</td>\n",
       "      <td>40.000994</td>\n",
       "      <td>12/20/2016</td>\n",
       "      <td>None</td>\n",
       "      <td>20211030</td>\n",
       "      <td>532267.7586</td>\n",
       "      <td>POLYGON ((-104.05306 40.00095, -104.05306 40.0...</td>\n",
       "    </tr>\n",
       "    <tr>\n",
       "      <th>4</th>\n",
       "      <td>155700000006</td>\n",
       "      <td>5</td>\n",
       "      <td>CO</td>\n",
       "      <td>Adams</td>\n",
       "      <td>08001</td>\n",
       "      <td>16704</td>\n",
       "      <td>None</td>\n",
       "      <td>MIMOSA MILE</td>\n",
       "      <td>RD</td>\n",
       "      <td>16704 MIMOSA MILE RD</td>\n",
       "      <td>...</td>\n",
       "      <td>39.9989</td>\n",
       "      <td>-104.057856</td>\n",
       "      <td>39.996766</td>\n",
       "      <td>-104.052995</td>\n",
       "      <td>40.000949</td>\n",
       "      <td>12/20/2016</td>\n",
       "      <td>22098024</td>\n",
       "      <td>20211030</td>\n",
       "      <td>187514.4901</td>\n",
       "      <td>POLYGON ((-104.05299 39.99683, -104.05751 39.9...</td>\n",
       "    </tr>\n",
       "    <tr>\n",
       "      <th>...</th>\n",
       "      <td>...</td>\n",
       "      <td>...</td>\n",
       "      <td>...</td>\n",
       "      <td>...</td>\n",
       "      <td>...</td>\n",
       "      <td>...</td>\n",
       "      <td>...</td>\n",
       "      <td>...</td>\n",
       "      <td>...</td>\n",
       "      <td>...</td>\n",
       "      <td>...</td>\n",
       "      <td>...</td>\n",
       "      <td>...</td>\n",
       "      <td>...</td>\n",
       "      <td>...</td>\n",
       "      <td>...</td>\n",
       "      <td>...</td>\n",
       "      <td>...</td>\n",
       "      <td>...</td>\n",
       "      <td>...</td>\n",
       "      <td>...</td>\n",
       "    </tr>\n",
       "    <tr>\n",
       "      <th>118833</th>\n",
       "      <td>181333111009</td>\n",
       "      <td>166570</td>\n",
       "      <td>CO</td>\n",
       "      <td>Adams</td>\n",
       "      <td>08001</td>\n",
       "      <td>None</td>\n",
       "      <td>None</td>\n",
       "      <td>None</td>\n",
       "      <td>None</td>\n",
       "      <td>166570 2315 TROUT RD</td>\n",
       "      <td>...</td>\n",
       "      <td>39.7492</td>\n",
       "      <td>-104.330532</td>\n",
       "      <td>39.749104</td>\n",
       "      <td>-104.330119</td>\n",
       "      <td>39.749356</td>\n",
       "      <td>12/20/2016</td>\n",
       "      <td>None</td>\n",
       "      <td>20211030</td>\n",
       "      <td>977.4080</td>\n",
       "      <td>POLYGON ((-104.33012 39.74911, -104.33053 39.7...</td>\n",
       "    </tr>\n",
       "    <tr>\n",
       "      <th>118834</th>\n",
       "      <td>182504302022</td>\n",
       "      <td>166571</td>\n",
       "      <td>CO</td>\n",
       "      <td>Adams</td>\n",
       "      <td>08001</td>\n",
       "      <td>None</td>\n",
       "      <td>None</td>\n",
       "      <td>None</td>\n",
       "      <td>None</td>\n",
       "      <td>166571 2125 W 64TH AVE</td>\n",
       "      <td>...</td>\n",
       "      <td>39.8132</td>\n",
       "      <td>-105.012647</td>\n",
       "      <td>39.812962</td>\n",
       "      <td>-105.010913</td>\n",
       "      <td>39.813580</td>\n",
       "      <td>12/20/2016</td>\n",
       "      <td>None</td>\n",
       "      <td>20211030</td>\n",
       "      <td>5394.8983</td>\n",
       "      <td>POLYGON ((-105.01137 39.81353, -105.01091 39.8...</td>\n",
       "    </tr>\n",
       "    <tr>\n",
       "      <th>118835</th>\n",
       "      <td>182504302021</td>\n",
       "      <td>166572</td>\n",
       "      <td>CO</td>\n",
       "      <td>Adams</td>\n",
       "      <td>08001</td>\n",
       "      <td>None</td>\n",
       "      <td>None</td>\n",
       "      <td>None</td>\n",
       "      <td>None</td>\n",
       "      <td>166572 2075 W 64TH AVE</td>\n",
       "      <td>...</td>\n",
       "      <td>39.8142</td>\n",
       "      <td>-105.014805</td>\n",
       "      <td>39.812963</td>\n",
       "      <td>-105.011479</td>\n",
       "      <td>39.815228</td>\n",
       "      <td>12/20/2016</td>\n",
       "      <td>22244250</td>\n",
       "      <td>20211030</td>\n",
       "      <td>40742.1354</td>\n",
       "      <td>POLYGON ((-105.01419 39.81520, -105.01253 39.8...</td>\n",
       "    </tr>\n",
       "    <tr>\n",
       "      <th>118836</th>\n",
       "      <td>182504302020</td>\n",
       "      <td>166573</td>\n",
       "      <td>CO</td>\n",
       "      <td>Adams</td>\n",
       "      <td>08001</td>\n",
       "      <td>None</td>\n",
       "      <td>None</td>\n",
       "      <td>None</td>\n",
       "      <td>None</td>\n",
       "      <td>166573 2175 W 64TH AVE</td>\n",
       "      <td>...</td>\n",
       "      <td>39.8145</td>\n",
       "      <td>-105.012533</td>\n",
       "      <td>39.813529</td>\n",
       "      <td>-105.009931</td>\n",
       "      <td>39.815120</td>\n",
       "      <td>12/20/2016</td>\n",
       "      <td>None</td>\n",
       "      <td>20211030</td>\n",
       "      <td>21055.6189</td>\n",
       "      <td>POLYGON ((-105.01114 39.81505, -105.01054 39.8...</td>\n",
       "    </tr>\n",
       "    <tr>\n",
       "      <th>118837</th>\n",
       "      <td>181933401001</td>\n",
       "      <td>166574</td>\n",
       "      <td>CO</td>\n",
       "      <td>Adams</td>\n",
       "      <td>08001</td>\n",
       "      <td>None</td>\n",
       "      <td>None</td>\n",
       "      <td>None</td>\n",
       "      <td>None</td>\n",
       "      <td>166574</td>\n",
       "      <td>...</td>\n",
       "      <td>39.7466</td>\n",
       "      <td>-104.664723</td>\n",
       "      <td>39.743651</td>\n",
       "      <td>-104.659704</td>\n",
       "      <td>39.749108</td>\n",
       "      <td>12/20/2016</td>\n",
       "      <td>None</td>\n",
       "      <td>20211030</td>\n",
       "      <td>234074.7664</td>\n",
       "      <td>POLYGON ((-104.65970 39.74907, -104.65971 39.7...</td>\n",
       "    </tr>\n",
       "  </tbody>\n",
       "</table>\n",
       "<p>118838 rows × 45 columns</p>\n",
       "</div>"
      ],
      "text/plain": [
       "                 APN    APN2 STATE COUNTY   FIPS SIT_HSE_NU SIT_DIR  \\\n",
       "0       155700000045       1    CO  Adams  08001       None    None   \n",
       "1       155700000007       2    CO  Adams  08001       None    None   \n",
       "2       155700000150       3    CO  Adams  08001       None    None   \n",
       "3       155700000149       4    CO  Adams  08001       None    None   \n",
       "4       155700000006       5    CO  Adams  08001      16704    None   \n",
       "...              ...     ...   ...    ...    ...        ...     ...   \n",
       "118833  181333111009  166570    CO  Adams  08001       None    None   \n",
       "118834  182504302022  166571    CO  Adams  08001       None    None   \n",
       "118835  182504302021  166572    CO  Adams  08001       None    None   \n",
       "118836  182504302020  166573    CO  Adams  08001       None    None   \n",
       "118837  181933401001  166574    CO  Adams  08001       None    None   \n",
       "\n",
       "         SIT_STR_NA SIT_STR_SF              SIT_FULL_S  ...   YCOORD  \\\n",
       "0              None       None                    None  ...  39.9823   \n",
       "1              None       None                    None  ...  39.9988   \n",
       "2              None       None                    None  ...  39.9950   \n",
       "3              None       None                    None  ...  39.9990   \n",
       "4       MIMOSA MILE         RD    16704 MIMOSA MILE RD  ...  39.9989   \n",
       "...             ...        ...                     ...  ...      ...   \n",
       "118833         None       None    166570 2315 TROUT RD  ...  39.7492   \n",
       "118834         None       None  166571 2125 W 64TH AVE  ...  39.8132   \n",
       "118835         None       None  166572 2075 W 64TH AVE  ...  39.8142   \n",
       "118836         None       None  166573 2175 W 64TH AVE  ...  39.8145   \n",
       "118837         None       None                  166574  ...  39.7466   \n",
       "\n",
       "              MINX       MINY        MAXX       MAXY     VERSION  QUANTARIUM  \\\n",
       "0      -104.066892  39.978658 -104.057487  39.985909  12/20/2016        None   \n",
       "1      -104.067448  39.996597 -104.057978  40.001045  12/20/2016        None   \n",
       "2      -104.057782  39.993095 -104.038983  39.997066  12/20/2016        None   \n",
       "3      -104.053055  39.996835 -104.039052  40.000994  12/20/2016        None   \n",
       "4      -104.057856  39.996766 -104.052995  40.000949  12/20/2016    22098024   \n",
       "...            ...        ...         ...        ...         ...         ...   \n",
       "118833 -104.330532  39.749104 -104.330119  39.749356  12/20/2016        None   \n",
       "118834 -105.012647  39.812962 -105.010913  39.813580  12/20/2016        None   \n",
       "118835 -105.014805  39.812963 -105.011479  39.815228  12/20/2016    22244250   \n",
       "118836 -105.012533  39.813529 -105.009931  39.815120  12/20/2016        None   \n",
       "118837 -104.664723  39.743651 -104.659704  39.749108  12/20/2016        None   \n",
       "\n",
       "         ATTDATE     geomCalc  \\\n",
       "0       20211030  630151.6230   \n",
       "1       20211030  384020.4328   \n",
       "2       20211030  669224.3293   \n",
       "3       20211030  532267.7586   \n",
       "4       20211030  187514.4901   \n",
       "...          ...          ...   \n",
       "118833  20211030     977.4080   \n",
       "118834  20211030    5394.8983   \n",
       "118835  20211030   40742.1354   \n",
       "118836  20211030   21055.6189   \n",
       "118837  20211030  234074.7664   \n",
       "\n",
       "                                                 geometry  \n",
       "0       POLYGON ((-104.05749 39.97866, -104.06659 39.9...  \n",
       "1       POLYGON ((-104.06260 40.00104, -104.06260 40.0...  \n",
       "2       POLYGON ((-104.03898 39.99323, -104.04838 39.9...  \n",
       "3       POLYGON ((-104.05306 40.00095, -104.05306 40.0...  \n",
       "4       POLYGON ((-104.05299 39.99683, -104.05751 39.9...  \n",
       "...                                                   ...  \n",
       "118833  POLYGON ((-104.33012 39.74911, -104.33053 39.7...  \n",
       "118834  POLYGON ((-105.01137 39.81353, -105.01091 39.8...  \n",
       "118835  POLYGON ((-105.01419 39.81520, -105.01253 39.8...  \n",
       "118836  POLYGON ((-105.01114 39.81505, -105.01054 39.8...  \n",
       "118837  POLYGON ((-104.65970 39.74907, -104.65971 39.7...  \n",
       "\n",
       "[118838 rows x 45 columns]"
      ]
     },
     "execution_count": 35,
     "metadata": {},
     "output_type": "execute_result"
    }
   ],
   "source": []
  },
  {
   "cell_type": "code",
   "execution_count": 44,
   "metadata": {},
   "outputs": [],
   "source": [
    "del testdf"
   ]
  },
  {
   "cell_type": "code",
   "execution_count": 50,
   "metadata": {},
   "outputs": [],
   "source": [
    "mesa = os.path.join(co_22_dir,'counties','08077','parcels.shp')\n",
    "mesaBlgs = os.path.join(co_22_dir,'counties','08077','08077_buildings.shp')"
   ]
  },
  {
   "cell_type": "code",
   "execution_count": 49,
   "metadata": {},
   "outputs": [
    {
     "name": "stderr",
     "output_type": "stream",
     "text": [
      "c:\\Users\\phwh9568\\AppData\\Local\\Continuum\\anaconda3\\envs\\geo_env\\Lib\\site-packages\\pyogrio\\raw.py:194: RuntimeWarning: C:\\Users\\phwh9568\\Data\\ParcelAtlas\\CO_2022\\counties\\08077\\parcels.shp contains polygon(s) with rings with invalid winding order. Autocorrecting them, but that shapefile should be corrected using ogr2ogr for example.\n",
      "  result = ogr_read(\n"
     ]
    }
   ],
   "source": [
    "parcelfunks.parcelMHPJoin(mesa)"
   ]
  },
  {
   "cell_type": "code",
   "execution_count": 61,
   "metadata": {},
   "outputs": [
    {
     "name": "stderr",
     "output_type": "stream",
     "text": [
      "c:\\Users\\phwh9568\\AppData\\Local\\Continuum\\anaconda3\\envs\\geo_env\\Lib\\site-packages\\pyogrio\\raw.py:194: RuntimeWarning: C:\\Users\\phwh9568\\Data\\ParcelAtlas\\CO_2022\\counties\\08077\\parcels.shp contains polygon(s) with rings with invalid winding order. Autocorrecting them, but that shapefile should be corrected using ogr2ogr for example.\n",
      "  result = ogr_read(\n"
     ]
    }
   ],
   "source": [
    "mesaParcels = gpd.read_file(mesa).to_crs('ESRI:102003')\n",
    "mesaBuildings = gpd.read_file(mesaBlgs).to_crs('ESRI:102003')"
   ]
  },
  {
   "cell_type": "code",
   "execution_count": 62,
   "metadata": {},
   "outputs": [],
   "source": [
    "mesaParcels.drop_duplicates(subset=['geometry'], inplace=True)\n",
    "mesaParcels = mesaParcels.explode(index_parts=False)"
   ]
  },
  {
   "cell_type": "code",
   "execution_count": 63,
   "metadata": {},
   "outputs": [],
   "source": [
    "mesaJoins = gpd.sjoin(mesaParcels,mesaBuildings,predicate='contains')"
   ]
  },
  {
   "cell_type": "code",
   "execution_count": 58,
   "metadata": {},
   "outputs": [
    {
     "data": {
      "text/plain": [
       "Index(['APN', 'APN2', 'STATE', 'COUNTY', 'FIPS', 'SIT_HSE_NU', 'SIT_DIR',\n",
       "       'SIT_STR_NA', 'SIT_STR_SF', 'SIT_FULL_S', 'SIT_CITY', 'SIT_STATE',\n",
       "       'SIT_ZIP', 'SIT_ZIP4', 'LAND_VALUE', 'IMPR_VALUE', 'TOT_VALUE',\n",
       "       'ASSMT_YEAR', 'REC_DATE', 'SALES_PRIC', 'YEAR_BUILT', 'STD_LAND_U',\n",
       "       'LOT_SIZE', 'BLDG_AREA', 'DEED_DSCR', 'NO_OF_STOR', 'NO_OF_UNIT',\n",
       "       'BEDROOMS', 'BATHROOMS', 'OWNER', 'OWNER2', 'OWNADDRESS', 'OWNADDRES2',\n",
       "       'OWNCTYSTZP', 'XCOORD', 'YCOORD', 'MINX', 'MINY', 'MAXX', 'MAXY',\n",
       "       'MKT_VALUE', 'ATTDATE', 'VERSION', 'QUANTARIUM', 'geometry',\n",
       "       'index_right', 'FID', 'County'],\n",
       "      dtype='object')"
      ]
     },
     "execution_count": 58,
     "metadata": {},
     "output_type": "execute_result"
    }
   ],
   "source": [
    "mesaJoins.columns"
   ]
  },
  {
   "cell_type": "code",
   "execution_count": 64,
   "metadata": {},
   "outputs": [
    {
     "data": {
      "text/html": [
       "<div>\n",
       "<style scoped>\n",
       "    .dataframe tbody tr th:only-of-type {\n",
       "        vertical-align: middle;\n",
       "    }\n",
       "\n",
       "    .dataframe tbody tr th {\n",
       "        vertical-align: top;\n",
       "    }\n",
       "\n",
       "    .dataframe thead th {\n",
       "        text-align: right;\n",
       "    }\n",
       "</style>\n",
       "<table border=\"1\" class=\"dataframe\">\n",
       "  <thead>\n",
       "    <tr style=\"text-align: right;\">\n",
       "      <th></th>\n",
       "      <th>APN</th>\n",
       "      <th>APN2</th>\n",
       "      <th>STATE</th>\n",
       "      <th>COUNTY</th>\n",
       "      <th>FIPS</th>\n",
       "      <th>SIT_HSE_NU</th>\n",
       "      <th>SIT_DIR</th>\n",
       "      <th>SIT_STR_NA</th>\n",
       "      <th>SIT_STR_SF</th>\n",
       "      <th>SIT_FULL_S</th>\n",
       "      <th>...</th>\n",
       "      <th>MAXX</th>\n",
       "      <th>MAXY</th>\n",
       "      <th>MKT_VALUE</th>\n",
       "      <th>ATTDATE</th>\n",
       "      <th>VERSION</th>\n",
       "      <th>QUANTARIUM</th>\n",
       "      <th>geometry</th>\n",
       "      <th>index_right</th>\n",
       "      <th>FID</th>\n",
       "      <th>County</th>\n",
       "    </tr>\n",
       "  </thead>\n",
       "  <tbody>\n",
       "    <tr>\n",
       "      <th>40069</th>\n",
       "      <td>294312200193</td>\n",
       "      <td>None</td>\n",
       "      <td>CO</td>\n",
       "      <td>Mesa</td>\n",
       "      <td>08077</td>\n",
       "      <td>3349</td>\n",
       "      <td>None</td>\n",
       "      <td>F</td>\n",
       "      <td>RD</td>\n",
       "      <td>3349 F RD</td>\n",
       "      <td>...</td>\n",
       "      <td>-108.431632</td>\n",
       "      <td>39.09154</td>\n",
       "      <td>281510.0</td>\n",
       "      <td>20211030</td>\n",
       "      <td>3-6-2022</td>\n",
       "      <td>24122474</td>\n",
       "      <td>POLYGON ((-1062417.456 247890.899, -1062407.06...</td>\n",
       "      <td>42984</td>\n",
       "      <td>1261601</td>\n",
       "      <td>Mesa County</td>\n",
       "    </tr>\n",
       "  </tbody>\n",
       "</table>\n",
       "<p>1 rows × 48 columns</p>\n",
       "</div>"
      ],
      "text/plain": [
       "                APN  APN2 STATE COUNTY   FIPS SIT_HSE_NU SIT_DIR SIT_STR_NA  \\\n",
       "40069  294312200193  None    CO   Mesa  08077       3349    None          F   \n",
       "\n",
       "      SIT_STR_SF SIT_FULL_S  ...        MAXX      MAXY MKT_VALUE   ATTDATE  \\\n",
       "40069         RD  3349 F RD  ... -108.431632  39.09154  281510.0  20211030   \n",
       "\n",
       "        VERSION  QUANTARIUM  \\\n",
       "40069  3-6-2022    24122474   \n",
       "\n",
       "                                                geometry  index_right  \\\n",
       "40069  POLYGON ((-1062417.456 247890.899, -1062407.06...        42984   \n",
       "\n",
       "           FID       County  \n",
       "40069  1261601  Mesa County  \n",
       "\n",
       "[1 rows x 48 columns]"
      ]
     },
     "execution_count": 64,
     "metadata": {},
     "output_type": "execute_result"
    }
   ],
   "source": [
    "mesaJoins.loc[mesaJoins['APN'] == '294312200193']"
   ]
  },
  {
   "cell_type": "markdown",
   "metadata": {},
   "source": [
    "trouble shooting multipart problem"
   ]
  },
  {
   "cell_type": "code",
   "execution_count": 91,
   "metadata": {},
   "outputs": [],
   "source": [
    "import importlib"
   ]
  },
  {
   "cell_type": "code",
   "execution_count": 117,
   "metadata": {},
   "outputs": [
    {
     "data": {
      "text/plain": [
       "<module 'parcelfunks' from 'c:\\\\Users\\\\phwh9568\\\\Data\\\\ParcelAtlas\\\\CO_2022\\\\parcelfunks.py'>"
      ]
     },
     "execution_count": 117,
     "metadata": {},
     "output_type": "execute_result"
    }
   ],
   "source": [
    "importlib.reload(parcelfunks)"
   ]
  },
  {
   "cell_type": "code",
   "execution_count": 118,
   "metadata": {},
   "outputs": [
    {
     "name": "stderr",
     "output_type": "stream",
     "text": [
      "c:\\Users\\phwh9568\\AppData\\Local\\Continuum\\anaconda3\\envs\\geo_env\\Lib\\site-packages\\pyogrio\\raw.py:194: RuntimeWarning: C:\\Users\\phwh9568\\Data\\ParcelAtlas\\CO_2022\\counties\\08091\\parcels.shp contains polygon(s) with rings with invalid winding order. Autocorrecting them, but that shapefile should be corrected using ogr2ogr for example.\n",
      "  result = ogr_read(\n"
     ]
    }
   ],
   "source": [
    "ouray = gpd.read_file(os.path.join(co_22_dir,'counties','08091','parcels.shp')).to_crs(crs='ESRI:102003')"
   ]
  },
  {
   "cell_type": "code",
   "execution_count": 119,
   "metadata": {},
   "outputs": [],
   "source": [
    "ouray.drop_duplicates(subset=['geometry'], inplace=True)"
   ]
  },
  {
   "cell_type": "code",
   "execution_count": 120,
   "metadata": {},
   "outputs": [
    {
     "data": {
      "text/plain": [
       "Index(['APN', 'APN2', 'STATE', 'COUNTY', 'FIPS', 'SIT_HSE_NU', 'SIT_DIR',\n",
       "       'SIT_STR_NA', 'SIT_STR_SF', 'SIT_FULL_S', 'SIT_CITY', 'SIT_STATE',\n",
       "       'SIT_ZIP', 'SIT_ZIP4', 'LAND_VALUE', 'IMPR_VALUE', 'TOT_VALUE',\n",
       "       'ASSMT_YEAR', 'REC_DATE', 'SALES_PRIC', 'YEAR_BUILT', 'STD_LAND_U',\n",
       "       'LOT_SIZE', 'BLDG_AREA', 'DEED_DSCR', 'NO_OF_STOR', 'NO_OF_UNIT',\n",
       "       'BEDROOMS', 'BATHROOMS', 'OWNER', 'OWNER2', 'OWNADDRESS', 'OWNADDRES2',\n",
       "       'OWNCTYSTZP', 'XCOORD', 'YCOORD', 'MINX', 'MINY', 'MAXX', 'MAXY',\n",
       "       'VERSION', 'QUANTARIUM', 'ATTDATE', 'geometry'],\n",
       "      dtype='object')"
      ]
     },
     "execution_count": 120,
     "metadata": {},
     "output_type": "execute_result"
    }
   ],
   "source": [
    "ouray.columns"
   ]
  },
  {
   "cell_type": "code",
   "execution_count": 129,
   "metadata": {},
   "outputs": [],
   "source": [
    "ourayExploded = ouray.explode(index_parts=False)"
   ]
  },
  {
   "cell_type": "code",
   "execution_count": 130,
   "metadata": {},
   "outputs": [
    {
     "data": {
      "text/plain": [
       "Index(['APN', 'APN2', 'STATE', 'COUNTY', 'FIPS', 'SIT_HSE_NU', 'SIT_DIR',\n",
       "       'SIT_STR_NA', 'SIT_STR_SF', 'SIT_FULL_S', 'SIT_CITY', 'SIT_STATE',\n",
       "       'SIT_ZIP', 'SIT_ZIP4', 'LAND_VALUE', 'IMPR_VALUE', 'TOT_VALUE',\n",
       "       'ASSMT_YEAR', 'REC_DATE', 'SALES_PRIC', 'YEAR_BUILT', 'STD_LAND_U',\n",
       "       'LOT_SIZE', 'BLDG_AREA', 'DEED_DSCR', 'NO_OF_STOR', 'NO_OF_UNIT',\n",
       "       'BEDROOMS', 'BATHROOMS', 'OWNER', 'OWNER2', 'OWNADDRESS', 'OWNADDRES2',\n",
       "       'OWNCTYSTZP', 'XCOORD', 'YCOORD', 'MINX', 'MINY', 'MAXX', 'MAXY',\n",
       "       'VERSION', 'QUANTARIUM', 'ATTDATE', 'geometry'],\n",
       "      dtype='object')"
      ]
     },
     "execution_count": 130,
     "metadata": {},
     "output_type": "execute_result"
    }
   ],
   "source": [
    "ourayExploded.columns"
   ]
  },
  {
   "cell_type": "code",
   "execution_count": 131,
   "metadata": {},
   "outputs": [],
   "source": [
    "ourayExploded.reset_index(inplace=True)"
   ]
  },
  {
   "cell_type": "code",
   "execution_count": 132,
   "metadata": {},
   "outputs": [
    {
     "data": {
      "text/plain": [
       "Index(['index', 'APN', 'APN2', 'STATE', 'COUNTY', 'FIPS', 'SIT_HSE_NU',\n",
       "       'SIT_DIR', 'SIT_STR_NA', 'SIT_STR_SF', 'SIT_FULL_S', 'SIT_CITY',\n",
       "       'SIT_STATE', 'SIT_ZIP', 'SIT_ZIP4', 'LAND_VALUE', 'IMPR_VALUE',\n",
       "       'TOT_VALUE', 'ASSMT_YEAR', 'REC_DATE', 'SALES_PRIC', 'YEAR_BUILT',\n",
       "       'STD_LAND_U', 'LOT_SIZE', 'BLDG_AREA', 'DEED_DSCR', 'NO_OF_STOR',\n",
       "       'NO_OF_UNIT', 'BEDROOMS', 'BATHROOMS', 'OWNER', 'OWNER2', 'OWNADDRESS',\n",
       "       'OWNADDRES2', 'OWNCTYSTZP', 'XCOORD', 'YCOORD', 'MINX', 'MINY', 'MAXX',\n",
       "       'MAXY', 'VERSION', 'QUANTARIUM', 'ATTDATE', 'geometry'],\n",
       "      dtype='object')"
      ]
     },
     "execution_count": 132,
     "metadata": {},
     "output_type": "execute_result"
    }
   ],
   "source": [
    "ourayExploded.columns"
   ]
  },
  {
   "cell_type": "code",
   "execution_count": 133,
   "metadata": {},
   "outputs": [],
   "source": [
    "ourayExploded.drop(['index'], axis=1,inplace=True)"
   ]
  },
  {
   "cell_type": "code",
   "execution_count": 134,
   "metadata": {},
   "outputs": [
    {
     "data": {
      "text/plain": [
       "Index(['APN', 'APN2', 'STATE', 'COUNTY', 'FIPS', 'SIT_HSE_NU', 'SIT_DIR',\n",
       "       'SIT_STR_NA', 'SIT_STR_SF', 'SIT_FULL_S', 'SIT_CITY', 'SIT_STATE',\n",
       "       'SIT_ZIP', 'SIT_ZIP4', 'LAND_VALUE', 'IMPR_VALUE', 'TOT_VALUE',\n",
       "       'ASSMT_YEAR', 'REC_DATE', 'SALES_PRIC', 'YEAR_BUILT', 'STD_LAND_U',\n",
       "       'LOT_SIZE', 'BLDG_AREA', 'DEED_DSCR', 'NO_OF_STOR', 'NO_OF_UNIT',\n",
       "       'BEDROOMS', 'BATHROOMS', 'OWNER', 'OWNER2', 'OWNADDRESS', 'OWNADDRES2',\n",
       "       'OWNCTYSTZP', 'XCOORD', 'YCOORD', 'MINX', 'MINY', 'MAXX', 'MAXY',\n",
       "       'VERSION', 'QUANTARIUM', 'ATTDATE', 'geometry'],\n",
       "      dtype='object')"
      ]
     },
     "execution_count": 134,
     "metadata": {},
     "output_type": "execute_result"
    }
   ],
   "source": [
    "ourayExploded.columns"
   ]
  },
  {
   "cell_type": "code",
   "execution_count": 135,
   "metadata": {},
   "outputs": [
    {
     "data": {
      "text/html": [
       "<div>\n",
       "<style scoped>\n",
       "    .dataframe tbody tr th:only-of-type {\n",
       "        vertical-align: middle;\n",
       "    }\n",
       "\n",
       "    .dataframe tbody tr th {\n",
       "        vertical-align: top;\n",
       "    }\n",
       "\n",
       "    .dataframe thead th {\n",
       "        text-align: right;\n",
       "    }\n",
       "</style>\n",
       "<table border=\"1\" class=\"dataframe\">\n",
       "  <thead>\n",
       "    <tr style=\"text-align: right;\">\n",
       "      <th></th>\n",
       "      <th>APN</th>\n",
       "      <th>APN2</th>\n",
       "      <th>STATE</th>\n",
       "      <th>COUNTY</th>\n",
       "      <th>FIPS</th>\n",
       "      <th>SIT_HSE_NU</th>\n",
       "      <th>SIT_DIR</th>\n",
       "      <th>SIT_STR_NA</th>\n",
       "      <th>SIT_STR_SF</th>\n",
       "      <th>SIT_FULL_S</th>\n",
       "      <th>...</th>\n",
       "      <th>XCOORD</th>\n",
       "      <th>YCOORD</th>\n",
       "      <th>MINX</th>\n",
       "      <th>MINY</th>\n",
       "      <th>MAXX</th>\n",
       "      <th>MAXY</th>\n",
       "      <th>VERSION</th>\n",
       "      <th>QUANTARIUM</th>\n",
       "      <th>ATTDATE</th>\n",
       "      <th>geometry</th>\n",
       "    </tr>\n",
       "  </thead>\n",
       "  <tbody>\n",
       "    <tr>\n",
       "      <th>3721</th>\n",
       "      <td>R000553</td>\n",
       "      <td>451531224032</td>\n",
       "      <td>CO</td>\n",
       "      <td>Ouray</td>\n",
       "      <td>08091</td>\n",
       "      <td>790</td>\n",
       "      <td>None</td>\n",
       "      <td>OAK</td>\n",
       "      <td>ST</td>\n",
       "      <td>790 OAK ST</td>\n",
       "      <td>...</td>\n",
       "      <td>-107.674</td>\n",
       "      <td>38.0264</td>\n",
       "      <td>-107.674719</td>\n",
       "      <td>38.024392</td>\n",
       "      <td>-107.673263</td>\n",
       "      <td>38.028229</td>\n",
       "      <td>1/7/2012</td>\n",
       "      <td>24251599</td>\n",
       "      <td>20211030</td>\n",
       "      <td>POLYGON ((-1012547.261 121198.504, -1012572.08...</td>\n",
       "    </tr>\n",
       "    <tr>\n",
       "      <th>3722</th>\n",
       "      <td>R000553</td>\n",
       "      <td>451531224032</td>\n",
       "      <td>CO</td>\n",
       "      <td>Ouray</td>\n",
       "      <td>08091</td>\n",
       "      <td>790</td>\n",
       "      <td>None</td>\n",
       "      <td>OAK</td>\n",
       "      <td>ST</td>\n",
       "      <td>790 OAK ST</td>\n",
       "      <td>...</td>\n",
       "      <td>-107.674</td>\n",
       "      <td>38.0264</td>\n",
       "      <td>-107.674719</td>\n",
       "      <td>38.024392</td>\n",
       "      <td>-107.673263</td>\n",
       "      <td>38.028229</td>\n",
       "      <td>1/7/2012</td>\n",
       "      <td>24251599</td>\n",
       "      <td>20211030</td>\n",
       "      <td>POLYGON ((-1012539.452 121063.945, -1012549.63...</td>\n",
       "    </tr>\n",
       "  </tbody>\n",
       "</table>\n",
       "<p>2 rows × 44 columns</p>\n",
       "</div>"
      ],
      "text/plain": [
       "          APN          APN2 STATE COUNTY   FIPS SIT_HSE_NU SIT_DIR SIT_STR_NA  \\\n",
       "3721  R000553  451531224032    CO  Ouray  08091        790    None        OAK   \n",
       "3722  R000553  451531224032    CO  Ouray  08091        790    None        OAK   \n",
       "\n",
       "     SIT_STR_SF  SIT_FULL_S  ...   XCOORD   YCOORD        MINX       MINY  \\\n",
       "3721         ST  790 OAK ST  ... -107.674  38.0264 -107.674719  38.024392   \n",
       "3722         ST  790 OAK ST  ... -107.674  38.0264 -107.674719  38.024392   \n",
       "\n",
       "            MAXX       MAXY   VERSION  QUANTARIUM   ATTDATE  \\\n",
       "3721 -107.673263  38.028229  1/7/2012    24251599  20211030   \n",
       "3722 -107.673263  38.028229  1/7/2012    24251599  20211030   \n",
       "\n",
       "                                               geometry  \n",
       "3721  POLYGON ((-1012547.261 121198.504, -1012572.08...  \n",
       "3722  POLYGON ((-1012539.452 121063.945, -1012549.63...  \n",
       "\n",
       "[2 rows x 44 columns]"
      ]
     },
     "execution_count": 135,
     "metadata": {},
     "output_type": "execute_result"
    }
   ],
   "source": [
    "ourayExploded.loc[ourayExploded['APN']=='R000553']"
   ]
  },
  {
   "cell_type": "code",
   "execution_count": 110,
   "metadata": {},
   "outputs": [],
   "source": [
    "problem =ourayExploded.loc[ourayExploded['APN']=='R000553']"
   ]
  },
  {
   "cell_type": "code",
   "execution_count": 111,
   "metadata": {},
   "outputs": [
    {
     "data": {
      "text/html": [
       "<div>\n",
       "<style scoped>\n",
       "    .dataframe tbody tr th:only-of-type {\n",
       "        vertical-align: middle;\n",
       "    }\n",
       "\n",
       "    .dataframe tbody tr th {\n",
       "        vertical-align: top;\n",
       "    }\n",
       "\n",
       "    .dataframe thead th {\n",
       "        text-align: right;\n",
       "    }\n",
       "</style>\n",
       "<table border=\"1\" class=\"dataframe\">\n",
       "  <thead>\n",
       "    <tr style=\"text-align: right;\">\n",
       "      <th></th>\n",
       "      <th>index</th>\n",
       "      <th>APN</th>\n",
       "      <th>APN2</th>\n",
       "      <th>STATE</th>\n",
       "      <th>COUNTY</th>\n",
       "      <th>FIPS</th>\n",
       "      <th>SIT_HSE_NU</th>\n",
       "      <th>SIT_DIR</th>\n",
       "      <th>SIT_STR_NA</th>\n",
       "      <th>SIT_STR_SF</th>\n",
       "      <th>...</th>\n",
       "      <th>XCOORD</th>\n",
       "      <th>YCOORD</th>\n",
       "      <th>MINX</th>\n",
       "      <th>MINY</th>\n",
       "      <th>MAXX</th>\n",
       "      <th>MAXY</th>\n",
       "      <th>VERSION</th>\n",
       "      <th>QUANTARIUM</th>\n",
       "      <th>ATTDATE</th>\n",
       "      <th>geometry</th>\n",
       "    </tr>\n",
       "  </thead>\n",
       "  <tbody>\n",
       "    <tr>\n",
       "      <th>3721</th>\n",
       "      <td>4452</td>\n",
       "      <td>R000553</td>\n",
       "      <td>451531224032</td>\n",
       "      <td>CO</td>\n",
       "      <td>Ouray</td>\n",
       "      <td>08091</td>\n",
       "      <td>790</td>\n",
       "      <td>None</td>\n",
       "      <td>OAK</td>\n",
       "      <td>ST</td>\n",
       "      <td>...</td>\n",
       "      <td>-107.674</td>\n",
       "      <td>38.0264</td>\n",
       "      <td>-107.674719</td>\n",
       "      <td>38.024392</td>\n",
       "      <td>-107.673263</td>\n",
       "      <td>38.028229</td>\n",
       "      <td>1/7/2012</td>\n",
       "      <td>24251599</td>\n",
       "      <td>20211030</td>\n",
       "      <td>POLYGON ((-1012547.261 121198.504, -1012572.08...</td>\n",
       "    </tr>\n",
       "    <tr>\n",
       "      <th>3722</th>\n",
       "      <td>4452</td>\n",
       "      <td>R000553</td>\n",
       "      <td>451531224032</td>\n",
       "      <td>CO</td>\n",
       "      <td>Ouray</td>\n",
       "      <td>08091</td>\n",
       "      <td>790</td>\n",
       "      <td>None</td>\n",
       "      <td>OAK</td>\n",
       "      <td>ST</td>\n",
       "      <td>...</td>\n",
       "      <td>-107.674</td>\n",
       "      <td>38.0264</td>\n",
       "      <td>-107.674719</td>\n",
       "      <td>38.024392</td>\n",
       "      <td>-107.673263</td>\n",
       "      <td>38.028229</td>\n",
       "      <td>1/7/2012</td>\n",
       "      <td>24251599</td>\n",
       "      <td>20211030</td>\n",
       "      <td>POLYGON ((-1012539.452 121063.945, -1012549.63...</td>\n",
       "    </tr>\n",
       "  </tbody>\n",
       "</table>\n",
       "<p>2 rows × 45 columns</p>\n",
       "</div>"
      ],
      "text/plain": [
       "      index      APN          APN2 STATE COUNTY   FIPS SIT_HSE_NU SIT_DIR  \\\n",
       "3721   4452  R000553  451531224032    CO  Ouray  08091        790    None   \n",
       "3722   4452  R000553  451531224032    CO  Ouray  08091        790    None   \n",
       "\n",
       "     SIT_STR_NA SIT_STR_SF  ...   XCOORD   YCOORD        MINX       MINY  \\\n",
       "3721        OAK         ST  ... -107.674  38.0264 -107.674719  38.024392   \n",
       "3722        OAK         ST  ... -107.674  38.0264 -107.674719  38.024392   \n",
       "\n",
       "            MAXX       MAXY   VERSION  QUANTARIUM   ATTDATE  \\\n",
       "3721 -107.673263  38.028229  1/7/2012    24251599  20211030   \n",
       "3722 -107.673263  38.028229  1/7/2012    24251599  20211030   \n",
       "\n",
       "                                               geometry  \n",
       "3721  POLYGON ((-1012547.261 121198.504, -1012572.08...  \n",
       "3722  POLYGON ((-1012539.452 121063.945, -1012549.63...  \n",
       "\n",
       "[2 rows x 45 columns]"
      ]
     },
     "execution_count": 111,
     "metadata": {},
     "output_type": "execute_result"
    }
   ],
   "source": [
    "problem"
   ]
  },
  {
   "cell_type": "code",
   "execution_count": 83,
   "metadata": {},
   "outputs": [
    {
     "data": {
      "image/svg+xml": [
       "<svg xmlns=\"http://www.w3.org/2000/svg\" xmlns:xlink=\"http://www.w3.org/1999/xlink\" width=\"200.10669191216584\" height=\"300\" viewBox=\"-1012607.2122726995 121026.44052265638 200.10669191216584 453.069132656834\" preserveAspectRatio=\"xMinYMin meet\"><g transform=\"matrix(1,0,0,-1,0,242505.9501779696)\"><path fill-rule=\"evenodd\" fill=\"#66cc99\" stroke=\"#555555\" stroke-width=\"3.020460884378893\" opacity=\"0.6\" d=\"M -1012539.451825063,121063.94544828586 L -1012549.6389014152,121043.22086090293 L -1012590.431934453,121060.21746816137 L -1012518.3312742715,121231.14010099243 L -1012514.3015237799,121245.36307176492 L -1012508.7164817753,121265.66316810895 L -1012503.9405082187,121283.86337915131 L -1012500.6654351356,121299.09655001108 L -1012497.2443490715,121325.50477009709 L -1012484.414162864,121462.72931706667 L -1012433.8959862961,121462.30138964402 L -1012427.3867321389,121417.956561837 L -1012423.8859190338,121401.87416290156 L -1012443.492104921,121338.72106203933 L -1012455.4392647267,121300.04958553376 L -1012470.3579013501,121252.18495020801 L -1012481.7722053388,121226.36015390621 L -1012483.7048014413,121211.72246074157 L -1012486.2099902631,121192.64662529294 L -1012488.715065058,121173.57108092224 L -1012491.4989273926,121152.33952418347 L -1012498.2819465474,121139.31803212342 L -1012504.5281223241,121130.44649325035 L -1012511.8983113035,121119.06270471496 L -1012516.9406216869,121107.4357977773 L -1012527.1372856834,121085.69216592523 L -1012534.9809681113,121073.00223450275 L -1012539.451825063,121063.94544828586 z\" /></g></svg>"
      ],
      "text/plain": [
       "<POLYGON ((-1012539.452 121063.945, -1012549.639 121043.221, -1012590.432 12...>"
      ]
     },
     "execution_count": 83,
     "metadata": {},
     "output_type": "execute_result"
    }
   ],
   "source": [
    "problem.iloc[1].geometry"
   ]
  },
  {
   "cell_type": "code",
   "execution_count": 84,
   "metadata": {},
   "outputs": [],
   "source": [
    "ourayBuildings = gpd.read_file(os.path.join(co_22_dir, 'counties', '08091', '08091_buildings.shp')).to_crs(crs='ESRI:102003')"
   ]
  },
  {
   "cell_type": "code",
   "execution_count": 112,
   "metadata": {},
   "outputs": [],
   "source": [
    "within = parcelfunks.sumWithin('08091', ourayExploded,ourayBuildings)"
   ]
  },
  {
   "cell_type": "code",
   "execution_count": 113,
   "metadata": {},
   "outputs": [],
   "source": [
    "probWithin = within.loc[within['APN']=='R000553']"
   ]
  },
  {
   "cell_type": "code",
   "execution_count": 114,
   "metadata": {},
   "outputs": [
    {
     "data": {
      "text/html": [
       "<div>\n",
       "<style scoped>\n",
       "    .dataframe tbody tr th:only-of-type {\n",
       "        vertical-align: middle;\n",
       "    }\n",
       "\n",
       "    .dataframe tbody tr th {\n",
       "        vertical-align: top;\n",
       "    }\n",
       "\n",
       "    .dataframe thead th {\n",
       "        text-align: right;\n",
       "    }\n",
       "</style>\n",
       "<table border=\"1\" class=\"dataframe\">\n",
       "  <thead>\n",
       "    <tr style=\"text-align: right;\">\n",
       "      <th></th>\n",
       "      <th>ID</th>\n",
       "      <th>index</th>\n",
       "      <th>APN</th>\n",
       "      <th>APN2</th>\n",
       "      <th>STATE</th>\n",
       "      <th>COUNTY</th>\n",
       "      <th>FIPS</th>\n",
       "      <th>SIT_HSE_NU</th>\n",
       "      <th>SIT_DIR</th>\n",
       "      <th>SIT_STR_NA</th>\n",
       "      <th>...</th>\n",
       "      <th>YCOORD</th>\n",
       "      <th>MINX</th>\n",
       "      <th>MINY</th>\n",
       "      <th>MAXX</th>\n",
       "      <th>MAXY</th>\n",
       "      <th>VERSION</th>\n",
       "      <th>QUANTARIUM</th>\n",
       "      <th>ATTDATE</th>\n",
       "      <th>geometry</th>\n",
       "      <th>Sum_Within</th>\n",
       "    </tr>\n",
       "  </thead>\n",
       "  <tbody>\n",
       "    <tr>\n",
       "      <th>3721</th>\n",
       "      <td>3721</td>\n",
       "      <td>4452</td>\n",
       "      <td>R000553</td>\n",
       "      <td>451531224032</td>\n",
       "      <td>CO</td>\n",
       "      <td>Ouray</td>\n",
       "      <td>08091</td>\n",
       "      <td>790</td>\n",
       "      <td>None</td>\n",
       "      <td>OAK</td>\n",
       "      <td>...</td>\n",
       "      <td>38.0264</td>\n",
       "      <td>-107.674719</td>\n",
       "      <td>38.024392</td>\n",
       "      <td>-107.673263</td>\n",
       "      <td>38.028229</td>\n",
       "      <td>1/7/2012</td>\n",
       "      <td>24251599</td>\n",
       "      <td>20211030</td>\n",
       "      <td>POLYGON ((-1012547.261 121198.504, -1012572.08...</td>\n",
       "      <td>0.0</td>\n",
       "    </tr>\n",
       "    <tr>\n",
       "      <th>3722</th>\n",
       "      <td>3722</td>\n",
       "      <td>4452</td>\n",
       "      <td>R000553</td>\n",
       "      <td>451531224032</td>\n",
       "      <td>CO</td>\n",
       "      <td>Ouray</td>\n",
       "      <td>08091</td>\n",
       "      <td>790</td>\n",
       "      <td>None</td>\n",
       "      <td>OAK</td>\n",
       "      <td>...</td>\n",
       "      <td>38.0264</td>\n",
       "      <td>-107.674719</td>\n",
       "      <td>38.024392</td>\n",
       "      <td>-107.673263</td>\n",
       "      <td>38.028229</td>\n",
       "      <td>1/7/2012</td>\n",
       "      <td>24251599</td>\n",
       "      <td>20211030</td>\n",
       "      <td>POLYGON ((-1012539.452 121063.945, -1012549.63...</td>\n",
       "      <td>16.0</td>\n",
       "    </tr>\n",
       "  </tbody>\n",
       "</table>\n",
       "<p>2 rows × 47 columns</p>\n",
       "</div>"
      ],
      "text/plain": [
       "        ID  index      APN          APN2 STATE COUNTY   FIPS SIT_HSE_NU  \\\n",
       "3721  3721   4452  R000553  451531224032    CO  Ouray  08091        790   \n",
       "3722  3722   4452  R000553  451531224032    CO  Ouray  08091        790   \n",
       "\n",
       "     SIT_DIR SIT_STR_NA  ...   YCOORD        MINX       MINY        MAXX  \\\n",
       "3721    None        OAK  ...  38.0264 -107.674719  38.024392 -107.673263   \n",
       "3722    None        OAK  ...  38.0264 -107.674719  38.024392 -107.673263   \n",
       "\n",
       "           MAXY   VERSION  QUANTARIUM   ATTDATE  \\\n",
       "3721  38.028229  1/7/2012    24251599  20211030   \n",
       "3722  38.028229  1/7/2012    24251599  20211030   \n",
       "\n",
       "                                               geometry  Sum_Within  \n",
       "3721  POLYGON ((-1012547.261 121198.504, -1012572.08...         0.0  \n",
       "3722  POLYGON ((-1012539.452 121063.945, -1012549.63...        16.0  \n",
       "\n",
       "[2 rows x 47 columns]"
      ]
     },
     "execution_count": 114,
     "metadata": {},
     "output_type": "execute_result"
    }
   ],
   "source": [
    "probWithin"
   ]
  },
  {
   "cell_type": "markdown",
   "metadata": {},
   "source": [
    "What if I leave multiparts?"
   ]
  },
  {
   "cell_type": "code",
   "execution_count": 141,
   "metadata": {},
   "outputs": [],
   "source": [
    "withinMulti = parcelfunks.sumWithin('08091', ouray,ourayBuildings)"
   ]
  },
  {
   "cell_type": "code",
   "execution_count": 144,
   "metadata": {},
   "outputs": [],
   "source": [
    "probWithinMulti = probWithin = withinMulti.loc[withinMulti['APN']=='R000553']"
   ]
  },
  {
   "cell_type": "code",
   "execution_count": 188,
   "metadata": {},
   "outputs": [
    {
     "data": {
      "text/plain": [
       "3533    MULTIPOLYGON (((-1012547.261 121198.504, -1012...\n",
       "Name: geometry, dtype: geometry"
      ]
     },
     "execution_count": 188,
     "metadata": {},
     "output_type": "execute_result"
    }
   ],
   "source": [
    "probWithinMulti['geometry']"
   ]
  },
  {
   "cell_type": "code",
   "execution_count": 146,
   "metadata": {},
   "outputs": [],
   "source": [
    "withinMulti['geometry'] = withinMulti['geometry'].simplify(1)"
   ]
  },
  {
   "cell_type": "code",
   "execution_count": 149,
   "metadata": {},
   "outputs": [
    {
     "ename": "AttributeError",
     "evalue": "'MultiPolygon' object has no attribute 'interiors'",
     "output_type": "error",
     "traceback": [
      "\u001b[1;31m---------------------------------------------------------------------------\u001b[0m",
      "\u001b[1;31mAttributeError\u001b[0m                            Traceback (most recent call last)",
      "\u001b[1;32mc:\\Users\\phwh9568\\Data\\ParcelAtlas\\CO_2022\\within_near.ipynb Cell 124\u001b[0m line \u001b[0;36m1\n\u001b[1;32m----> <a href='vscode-notebook-cell:/c%3A/Users/phwh9568/Data/ParcelAtlas/CO_2022/within_near.ipynb#Y241sZmlsZQ%3D%3D?line=0'>1</a>\u001b[0m withinMulti[\u001b[39m'\u001b[39m\u001b[39mintLen\u001b[39m\u001b[39m'\u001b[39m] \u001b[39m=\u001b[39m withinMulti\u001b[39m.\u001b[39;49mapply(\u001b[39mlambda\u001b[39;49;00m row: parcelfunks\u001b[39m.\u001b[39;49minteriorLen(row\u001b[39m.\u001b[39;49mgeometry), axis\u001b[39m=\u001b[39;49m\u001b[39m1\u001b[39;49m)\n",
      "File \u001b[1;32mc:\\Users\\phwh9568\\AppData\\Local\\Continuum\\anaconda3\\envs\\geo_env\\Lib\\site-packages\\geopandas\\geodataframe.py:1586\u001b[0m, in \u001b[0;36mGeoDataFrame.apply\u001b[1;34m(self, func, axis, raw, result_type, args, **kwargs)\u001b[0m\n\u001b[0;32m   1584\u001b[0m \u001b[39m@doc\u001b[39m(pd\u001b[39m.\u001b[39mDataFrame)\n\u001b[0;32m   1585\u001b[0m \u001b[39mdef\u001b[39;00m \u001b[39mapply\u001b[39m(\u001b[39mself\u001b[39m, func, axis\u001b[39m=\u001b[39m\u001b[39m0\u001b[39m, raw\u001b[39m=\u001b[39m\u001b[39mFalse\u001b[39;00m, result_type\u001b[39m=\u001b[39m\u001b[39mNone\u001b[39;00m, args\u001b[39m=\u001b[39m(), \u001b[39m*\u001b[39m\u001b[39m*\u001b[39mkwargs):\n\u001b[1;32m-> 1586\u001b[0m     result \u001b[39m=\u001b[39m \u001b[39msuper\u001b[39;49m()\u001b[39m.\u001b[39;49mapply(\n\u001b[0;32m   1587\u001b[0m         func, axis\u001b[39m=\u001b[39;49maxis, raw\u001b[39m=\u001b[39;49mraw, result_type\u001b[39m=\u001b[39;49mresult_type, args\u001b[39m=\u001b[39;49margs, \u001b[39m*\u001b[39;49m\u001b[39m*\u001b[39;49mkwargs\n\u001b[0;32m   1588\u001b[0m     )\n\u001b[0;32m   1589\u001b[0m     \u001b[39m# pandas <1.4 re-attach last geometry col if lost\u001b[39;00m\n\u001b[0;32m   1590\u001b[0m     \u001b[39mif\u001b[39;00m (\n\u001b[0;32m   1591\u001b[0m         \u001b[39mnot\u001b[39;00m compat\u001b[39m.\u001b[39mPANDAS_GE_14\n\u001b[0;32m   1592\u001b[0m         \u001b[39mand\u001b[39;00m \u001b[39misinstance\u001b[39m(result, GeoDataFrame)\n\u001b[0;32m   1593\u001b[0m         \u001b[39mand\u001b[39;00m result\u001b[39m.\u001b[39m_geometry_column_name \u001b[39mis\u001b[39;00m \u001b[39mNone\u001b[39;00m\n\u001b[0;32m   1594\u001b[0m     ):\n",
      "File \u001b[1;32mc:\\Users\\phwh9568\\AppData\\Local\\Continuum\\anaconda3\\envs\\geo_env\\Lib\\site-packages\\pandas\\core\\frame.py:10034\u001b[0m, in \u001b[0;36mDataFrame.apply\u001b[1;34m(self, func, axis, raw, result_type, args, by_row, **kwargs)\u001b[0m\n\u001b[0;32m  10022\u001b[0m \u001b[39mfrom\u001b[39;00m \u001b[39mpandas\u001b[39;00m\u001b[39m.\u001b[39;00m\u001b[39mcore\u001b[39;00m\u001b[39m.\u001b[39;00m\u001b[39mapply\u001b[39;00m \u001b[39mimport\u001b[39;00m frame_apply\n\u001b[0;32m  10024\u001b[0m op \u001b[39m=\u001b[39m frame_apply(\n\u001b[0;32m  10025\u001b[0m     \u001b[39mself\u001b[39m,\n\u001b[0;32m  10026\u001b[0m     func\u001b[39m=\u001b[39mfunc,\n\u001b[1;32m   (...)\u001b[0m\n\u001b[0;32m  10032\u001b[0m     kwargs\u001b[39m=\u001b[39mkwargs,\n\u001b[0;32m  10033\u001b[0m )\n\u001b[1;32m> 10034\u001b[0m \u001b[39mreturn\u001b[39;00m op\u001b[39m.\u001b[39;49mapply()\u001b[39m.\u001b[39m__finalize__(\u001b[39mself\u001b[39m, method\u001b[39m=\u001b[39m\u001b[39m\"\u001b[39m\u001b[39mapply\u001b[39m\u001b[39m\"\u001b[39m)\n",
      "File \u001b[1;32mc:\\Users\\phwh9568\\AppData\\Local\\Continuum\\anaconda3\\envs\\geo_env\\Lib\\site-packages\\pandas\\core\\apply.py:837\u001b[0m, in \u001b[0;36mFrameApply.apply\u001b[1;34m(self)\u001b[0m\n\u001b[0;32m    834\u001b[0m \u001b[39melif\u001b[39;00m \u001b[39mself\u001b[39m\u001b[39m.\u001b[39mraw:\n\u001b[0;32m    835\u001b[0m     \u001b[39mreturn\u001b[39;00m \u001b[39mself\u001b[39m\u001b[39m.\u001b[39mapply_raw()\n\u001b[1;32m--> 837\u001b[0m \u001b[39mreturn\u001b[39;00m \u001b[39mself\u001b[39;49m\u001b[39m.\u001b[39;49mapply_standard()\n",
      "File \u001b[1;32mc:\\Users\\phwh9568\\AppData\\Local\\Continuum\\anaconda3\\envs\\geo_env\\Lib\\site-packages\\pandas\\core\\apply.py:963\u001b[0m, in \u001b[0;36mFrameApply.apply_standard\u001b[1;34m(self)\u001b[0m\n\u001b[0;32m    962\u001b[0m \u001b[39mdef\u001b[39;00m \u001b[39mapply_standard\u001b[39m(\u001b[39mself\u001b[39m):\n\u001b[1;32m--> 963\u001b[0m     results, res_index \u001b[39m=\u001b[39m \u001b[39mself\u001b[39;49m\u001b[39m.\u001b[39;49mapply_series_generator()\n\u001b[0;32m    965\u001b[0m     \u001b[39m# wrap results\u001b[39;00m\n\u001b[0;32m    966\u001b[0m     \u001b[39mreturn\u001b[39;00m \u001b[39mself\u001b[39m\u001b[39m.\u001b[39mwrap_results(results, res_index)\n",
      "File \u001b[1;32mc:\\Users\\phwh9568\\AppData\\Local\\Continuum\\anaconda3\\envs\\geo_env\\Lib\\site-packages\\pandas\\core\\apply.py:979\u001b[0m, in \u001b[0;36mFrameApply.apply_series_generator\u001b[1;34m(self)\u001b[0m\n\u001b[0;32m    976\u001b[0m \u001b[39mwith\u001b[39;00m option_context(\u001b[39m\"\u001b[39m\u001b[39mmode.chained_assignment\u001b[39m\u001b[39m\"\u001b[39m, \u001b[39mNone\u001b[39;00m):\n\u001b[0;32m    977\u001b[0m     \u001b[39mfor\u001b[39;00m i, v \u001b[39min\u001b[39;00m \u001b[39menumerate\u001b[39m(series_gen):\n\u001b[0;32m    978\u001b[0m         \u001b[39m# ignore SettingWithCopy here in case the user mutates\u001b[39;00m\n\u001b[1;32m--> 979\u001b[0m         results[i] \u001b[39m=\u001b[39m \u001b[39mself\u001b[39;49m\u001b[39m.\u001b[39;49mfunc(v, \u001b[39m*\u001b[39;49m\u001b[39mself\u001b[39;49m\u001b[39m.\u001b[39;49margs, \u001b[39m*\u001b[39;49m\u001b[39m*\u001b[39;49m\u001b[39mself\u001b[39;49m\u001b[39m.\u001b[39;49mkwargs)\n\u001b[0;32m    980\u001b[0m         \u001b[39mif\u001b[39;00m \u001b[39misinstance\u001b[39m(results[i], ABCSeries):\n\u001b[0;32m    981\u001b[0m             \u001b[39m# If we have a view on v, we need to make a copy because\u001b[39;00m\n\u001b[0;32m    982\u001b[0m             \u001b[39m#  series_generator will swap out the underlying data\u001b[39;00m\n\u001b[0;32m    983\u001b[0m             results[i] \u001b[39m=\u001b[39m results[i]\u001b[39m.\u001b[39mcopy(deep\u001b[39m=\u001b[39m\u001b[39mFalse\u001b[39;00m)\n",
      "\u001b[1;32mc:\\Users\\phwh9568\\Data\\ParcelAtlas\\CO_2022\\within_near.ipynb Cell 124\u001b[0m line \u001b[0;36m1\n\u001b[1;32m----> <a href='vscode-notebook-cell:/c%3A/Users/phwh9568/Data/ParcelAtlas/CO_2022/within_near.ipynb#Y241sZmlsZQ%3D%3D?line=0'>1</a>\u001b[0m withinMulti[\u001b[39m'\u001b[39m\u001b[39mintLen\u001b[39m\u001b[39m'\u001b[39m] \u001b[39m=\u001b[39m withinMulti\u001b[39m.\u001b[39mapply(\u001b[39mlambda\u001b[39;00m row: parcelfunks\u001b[39m.\u001b[39;49minteriorLen(row\u001b[39m.\u001b[39;49mgeometry), axis\u001b[39m=\u001b[39m\u001b[39m1\u001b[39m)\n",
      "File \u001b[1;32mc:\\Users\\phwh9568\\Data\\ParcelAtlas\\CO_2022\\parcelfunks.py:31\u001b[0m, in \u001b[0;36minteriorLen\u001b[1;34m(geom)\u001b[0m\n\u001b[0;32m     27\u001b[0m \u001b[39mdef\u001b[39;00m \u001b[39minteriorLen\u001b[39m(geom):\n\u001b[0;32m     28\u001b[0m \u001b[39m    \u001b[39m\u001b[39m'''\u001b[39;00m\n\u001b[0;32m     29\u001b[0m \u001b[39m    sum of interior points in a polygon\u001b[39;00m\n\u001b[0;32m     30\u001b[0m \u001b[39m    '''\u001b[39;00m\n\u001b[1;32m---> 31\u001b[0m     \u001b[39mreturn\u001b[39;00m \u001b[39msum\u001b[39m([\u001b[39mlen\u001b[39m(g\u001b[39m.\u001b[39mxy[\u001b[39m0\u001b[39m]) \u001b[39mfor\u001b[39;00m g \u001b[39min\u001b[39;00m geom\u001b[39m.\u001b[39minteriors]) \u001b[39mif\u001b[39;00m \u001b[39mlen\u001b[39m(geom\u001b[39m.\u001b[39;49minteriors) \u001b[39m>\u001b[39m \u001b[39m0\u001b[39m \u001b[39melse\u001b[39;00m \u001b[39m0\u001b[39m\n",
      "\u001b[1;31mAttributeError\u001b[0m: 'MultiPolygon' object has no attribute 'interiors'"
     ]
    }
   ],
   "source": [
    "withinMulti['intLen'] = withinMulti.apply(lambda row: parcelfunks.interiorLen(row.geometry), axis=1)"
   ]
  },
  {
   "cell_type": "code",
   "execution_count": 164,
   "metadata": {},
   "outputs": [
    {
     "ename": "AttributeError",
     "evalue": "'GeoSeries' object has no attribute 'xy'",
     "output_type": "error",
     "traceback": [
      "\u001b[1;31m---------------------------------------------------------------------------\u001b[0m",
      "\u001b[1;31mAttributeError\u001b[0m                            Traceback (most recent call last)",
      "\u001b[1;32m~\\AppData\\Local\\Temp\\ipykernel_21256\\2102462301.py\u001b[0m in \u001b[0;36m?\u001b[1;34m()\u001b[0m\n\u001b[1;32m----> 1\u001b[1;33m \u001b[0mwithinMulti\u001b[0m\u001b[1;33m[\u001b[0m\u001b[1;34m'geometry'\u001b[0m\u001b[1;33m]\u001b[0m\u001b[1;33m.\u001b[0m\u001b[0mxy\u001b[0m\u001b[1;33m\u001b[0m\u001b[1;33m\u001b[0m\u001b[0m\n\u001b[0m",
      "\u001b[1;32mc:\\Users\\phwh9568\\AppData\\Local\\Continuum\\anaconda3\\envs\\geo_env\\Lib\\site-packages\\pandas\\core\\generic.py\u001b[0m in \u001b[0;36m?\u001b[1;34m(self, name)\u001b[0m\n\u001b[0;32m   6200\u001b[0m             \u001b[1;32mand\u001b[0m \u001b[0mname\u001b[0m \u001b[1;32mnot\u001b[0m \u001b[1;32min\u001b[0m \u001b[0mself\u001b[0m\u001b[1;33m.\u001b[0m\u001b[0m_accessors\u001b[0m\u001b[1;33m\u001b[0m\u001b[1;33m\u001b[0m\u001b[0m\n\u001b[0;32m   6201\u001b[0m             \u001b[1;32mand\u001b[0m \u001b[0mself\u001b[0m\u001b[1;33m.\u001b[0m\u001b[0m_info_axis\u001b[0m\u001b[1;33m.\u001b[0m\u001b[0m_can_hold_identifiers_and_holds_name\u001b[0m\u001b[1;33m(\u001b[0m\u001b[0mname\u001b[0m\u001b[1;33m)\u001b[0m\u001b[1;33m\u001b[0m\u001b[1;33m\u001b[0m\u001b[0m\n\u001b[0;32m   6202\u001b[0m         \u001b[1;33m)\u001b[0m\u001b[1;33m:\u001b[0m\u001b[1;33m\u001b[0m\u001b[1;33m\u001b[0m\u001b[0m\n\u001b[0;32m   6203\u001b[0m             \u001b[1;32mreturn\u001b[0m \u001b[0mself\u001b[0m\u001b[1;33m[\u001b[0m\u001b[0mname\u001b[0m\u001b[1;33m]\u001b[0m\u001b[1;33m\u001b[0m\u001b[1;33m\u001b[0m\u001b[0m\n\u001b[1;32m-> 6204\u001b[1;33m         \u001b[1;32mreturn\u001b[0m \u001b[0mobject\u001b[0m\u001b[1;33m.\u001b[0m\u001b[0m__getattribute__\u001b[0m\u001b[1;33m(\u001b[0m\u001b[0mself\u001b[0m\u001b[1;33m,\u001b[0m \u001b[0mname\u001b[0m\u001b[1;33m)\u001b[0m\u001b[1;33m\u001b[0m\u001b[1;33m\u001b[0m\u001b[0m\n\u001b[0m",
      "\u001b[1;31mAttributeError\u001b[0m: 'GeoSeries' object has no attribute 'xy'"
     ]
    }
   ],
   "source": [
    "withinMulti['geometry'].xy"
   ]
  },
  {
   "cell_type": "code",
   "execution_count": 250,
   "metadata": {},
   "outputs": [],
   "source": [
    "first = withinMulti.iloc[0]"
   ]
  },
  {
   "cell_type": "code",
   "execution_count": 223,
   "metadata": {},
   "outputs": [
    {
     "data": {
      "text/plain": [
       "5"
      ]
     },
     "execution_count": 223,
     "metadata": {},
     "output_type": "execute_result"
    }
   ],
   "source": [
    "len(first['geometry'].geoms[0].exterior.xy[0])"
   ]
  },
  {
   "cell_type": "code",
   "execution_count": 251,
   "metadata": {},
   "outputs": [],
   "source": [
    "geometry = first['geometry']"
   ]
  },
  {
   "cell_type": "code",
   "execution_count": 252,
   "metadata": {},
   "outputs": [
    {
     "name": "stdout",
     "output_type": "stream",
     "text": [
      "10\n"
     ]
    }
   ],
   "source": [
    "if geometry.geom_type == 'MultiPolygon':\n",
    "    print(sum([len(g.exterior.xy[0]) for g in geometry.geoms]))\n",
    "if geometry.geom_type == 'Polygon':\n",
    "    print(len(g.exterior.xy[0]))"
   ]
  },
  {
   "cell_type": "code",
   "execution_count": 189,
   "metadata": {},
   "outputs": [
    {
     "data": {
      "text/html": [
       "<div>\n",
       "<style scoped>\n",
       "    .dataframe tbody tr th:only-of-type {\n",
       "        vertical-align: middle;\n",
       "    }\n",
       "\n",
       "    .dataframe tbody tr th {\n",
       "        vertical-align: top;\n",
       "    }\n",
       "\n",
       "    .dataframe thead th {\n",
       "        text-align: right;\n",
       "    }\n",
       "</style>\n",
       "<table border=\"1\" class=\"dataframe\">\n",
       "  <thead>\n",
       "    <tr style=\"text-align: right;\">\n",
       "      <th></th>\n",
       "      <th>APN</th>\n",
       "      <th>APN2</th>\n",
       "      <th>STATE</th>\n",
       "      <th>COUNTY</th>\n",
       "      <th>FIPS</th>\n",
       "      <th>SIT_HSE_NU</th>\n",
       "      <th>SIT_DIR</th>\n",
       "      <th>SIT_STR_NA</th>\n",
       "      <th>SIT_STR_SF</th>\n",
       "      <th>SIT_FULL_S</th>\n",
       "      <th>...</th>\n",
       "      <th>YCOORD</th>\n",
       "      <th>MINX</th>\n",
       "      <th>MINY</th>\n",
       "      <th>MAXX</th>\n",
       "      <th>MAXY</th>\n",
       "      <th>VERSION</th>\n",
       "      <th>QUANTARIUM</th>\n",
       "      <th>ATTDATE</th>\n",
       "      <th>geometry</th>\n",
       "      <th>Sum_Within</th>\n",
       "    </tr>\n",
       "  </thead>\n",
       "  <tbody>\n",
       "    <tr>\n",
       "      <th>3533</th>\n",
       "      <td>R000553</td>\n",
       "      <td>451531224032</td>\n",
       "      <td>CO</td>\n",
       "      <td>Ouray</td>\n",
       "      <td>08091</td>\n",
       "      <td>790</td>\n",
       "      <td>None</td>\n",
       "      <td>OAK</td>\n",
       "      <td>ST</td>\n",
       "      <td>790 OAK ST</td>\n",
       "      <td>...</td>\n",
       "      <td>38.0264</td>\n",
       "      <td>-107.674719</td>\n",
       "      <td>38.024392</td>\n",
       "      <td>-107.673263</td>\n",
       "      <td>38.028229</td>\n",
       "      <td>1/7/2012</td>\n",
       "      <td>24251599</td>\n",
       "      <td>20211030</td>\n",
       "      <td>MULTIPOLYGON (((-1012547.261 121198.504, -1012...</td>\n",
       "      <td>16.0</td>\n",
       "    </tr>\n",
       "  </tbody>\n",
       "</table>\n",
       "<p>1 rows × 45 columns</p>\n",
       "</div>"
      ],
      "text/plain": [
       "          APN          APN2 STATE COUNTY   FIPS SIT_HSE_NU SIT_DIR SIT_STR_NA  \\\n",
       "3533  R000553  451531224032    CO  Ouray  08091        790    None        OAK   \n",
       "\n",
       "     SIT_STR_SF  SIT_FULL_S  ...   YCOORD        MINX       MINY        MAXX  \\\n",
       "3533         ST  790 OAK ST  ...  38.0264 -107.674719  38.024392 -107.673263   \n",
       "\n",
       "           MAXY   VERSION  QUANTARIUM   ATTDATE  \\\n",
       "3533  38.028229  1/7/2012    24251599  20211030   \n",
       "\n",
       "                                               geometry  Sum_Within  \n",
       "3533  MULTIPOLYGON (((-1012547.261 121198.504, -1012...        16.0  \n",
       "\n",
       "[1 rows x 45 columns]"
      ]
     },
     "execution_count": 189,
     "metadata": {},
     "output_type": "execute_result"
    }
   ],
   "source": [
    "probWithinMulti"
   ]
  },
  {
   "cell_type": "code",
   "execution_count": 254,
   "metadata": {},
   "outputs": [],
   "source": [
    "adamsMultis = adams.loc[adams['geometry'].geom_type=='MultiPolygon']"
   ]
  },
  {
   "cell_type": "code",
   "execution_count": 262,
   "metadata": {},
   "outputs": [
    {
     "data": {
      "text/plain": [
       "array([None], dtype=object)"
      ]
     },
     "execution_count": 262,
     "metadata": {},
     "output_type": "execute_result"
    }
   ],
   "source": [
    "adamsMultis['geometry'].interiors.unique()"
   ]
  },
  {
   "cell_type": "code",
   "execution_count": 263,
   "metadata": {},
   "outputs": [
    {
     "name": "stderr",
     "output_type": "stream",
     "text": [
      "c:\\Users\\phwh9568\\AppData\\Local\\Continuum\\anaconda3\\envs\\geo_env\\Lib\\site-packages\\pyogrio\\raw.py:194: RuntimeWarning: C:\\Users\\phwh9568\\Data\\ParcelAtlas\\CO_2022\\counties\\08013\\parcels.shp contains polygon(s) with rings with invalid winding order. Autocorrecting them, but that shapefile should be corrected using ogr2ogr for example.\n",
      "  result = ogr_read(\n",
      "c:\\Users\\phwh9568\\AppData\\Local\\Continuum\\anaconda3\\envs\\geo_env\\Lib\\site-packages\\pyogrio\\raw.py:194: RuntimeWarning: C:\\Users\\phwh9568\\Data\\ParcelAtlas\\CO_2022\\counties\\08059\\parcels.shp contains polygon(s) with rings with invalid winding order. Autocorrecting them, but that shapefile should be corrected using ogr2ogr for example.\n",
      "  result = ogr_read(\n"
     ]
    }
   ],
   "source": [
    "boulder = gpd.read_file(os.path.join(co_22_dir,'counties','08013','parcels.shp'))\n",
    "jeffco = gpd.read_file(os.path.join(co_22_dir,'counties','08059','parcels.shp'))"
   ]
  },
  {
   "cell_type": "code",
   "execution_count": 264,
   "metadata": {},
   "outputs": [],
   "source": [
    "boulderMultis = boulder.loc[boulder['geometry'].geom_type=='MultiPolygon']\n",
    "jeffcoMultis  = jeffco.loc[jeffco['geometry'].geom_type=='MultiPolygon']"
   ]
  },
  {
   "cell_type": "code",
   "execution_count": 369,
   "metadata": {},
   "outputs": [],
   "source": [
    "boulderMultis.reset_index(inplace=True)"
   ]
  },
  {
   "cell_type": "code",
   "execution_count": 363,
   "metadata": {},
   "outputs": [
    {
     "data": {
      "text/plain": [
       "4760"
      ]
     },
     "execution_count": 363,
     "metadata": {},
     "output_type": "execute_result"
    }
   ],
   "source": [
    "len(boulderMultis)"
   ]
  },
  {
   "cell_type": "code",
   "execution_count": 370,
   "metadata": {},
   "outputs": [
    {
     "name": "stdout",
     "output_type": "stream",
     "text": [
      "87 120100000023\n",
      "116 120131000026\n",
      "171 120526418001\n",
      "172 120526418001\n",
      "173 120526418001\n",
      "174 120526418001\n",
      "175 120526418001\n",
      "176 120526418001\n",
      "177 120526418001\n",
      "178 120526418001\n",
      "179 120526418001\n",
      "180 120526418001\n",
      "181 120526418001\n",
      "182 120526418001\n",
      "235 131501172009\n",
      "241 131501211034\n",
      "295 131507464001\n",
      "296 131507464001\n",
      "297 131507464001\n",
      "298 131507464001\n",
      "299 131507464001\n",
      "300 131507464001\n",
      "301 131507464001\n",
      "302 131507464001\n",
      "309 131507463001\n",
      "310 131507463001\n",
      "311 131507463001\n",
      "312 131507463001\n",
      "313 131507463001\n",
      "327 131507462001\n",
      "328 131507462001\n",
      "329 131507462001\n",
      "330 131507462001\n",
      "331 131507462001\n",
      "332 131507462001\n",
      "333 131507462001\n",
      "334 131507462001\n",
      "335 131507462001\n",
      "336 131507462001\n",
      "384 132101000004\n",
      "385 132101000004\n",
      "458 145712000015\n",
      "461 132113000001\n",
      "557 145922000020\n",
      "860 145500000005\n",
      "905 131919000086\n",
      "906 131919000086\n",
      "907 131919000086\n",
      "908 131919000086\n",
      "909 131919000086\n",
      "910 131919000086\n",
      "1066 145700000020\n",
      "1127 145913000050\n",
      "1128 145913000050\n",
      "1176 145907000010\n",
      "1196 146108000126\n",
      "1213 145921000001\n",
      "1221 145908000012\n",
      "1222 145908000012\n",
      "1290 146107000022\n",
      "1296 146107000013\n",
      "2010 146321713025\n",
      "2011 146321713025\n",
      "2154 157503370001\n",
      "2198 146530006005\n",
      "2210 146534421004\n",
      "2263 158101000028\n",
      "2338 157509400004\n",
      "2339 157509400004\n",
      "2340 157509400004\n",
      "2341 157509400004\n",
      "2342 157509400004\n",
      "2343 157509400004\n",
      "2344 157509400004\n",
      "2345 157509400004\n",
      "2346 157509400004\n",
      "2348 157510221041\n",
      "2357 157518343001\n",
      "2452 157906000008\n",
      "2453 157906000008\n",
      "2454 157906000008\n",
      "2517 157717225161\n",
      "2732 157926400004\n",
      "2737 157734000006\n",
      "2745 158314000023\n",
      "2752 158310000034\n",
      "2838 158308200001\n",
      "2882 158310000024\n",
      "2918 120320200023\n",
      "2924 146513016101\n",
      "3064 145907000040\n",
      "3191 146518000005\n",
      "3228 158321000009\n",
      "3237 158320006003\n",
      "3356 158320000047\n",
      "3361 158320000046\n",
      "3383 158321000039\n",
      "3431 158315100030\n",
      "3457 145913000034\n",
      "3458 145913000034\n",
      "3459 145913000034\n",
      "3460 145913000034\n",
      "3461 145913000034\n",
      "3504 146306000037\n",
      "3505 146306000037\n",
      "3506 146306000037\n",
      "3507 146306000037\n",
      "3508 146306000037\n",
      "3509 146306000037\n",
      "3510 146306000037\n",
      "3511 146306000037\n",
      "3512 146306000037\n",
      "3513 146306000037\n",
      "3639 120327000023\n",
      "3640 120327000023\n",
      "3641 120327000023\n",
      "3755 146331100065\n",
      "3756 146331100065\n",
      "3757 146331100065\n",
      "3758 146331100065\n",
      "3759 146331100065\n",
      "3760 146331100065\n",
      "3761 146331100065\n",
      "3766 146331100065\n",
      "3804 119934301005\n",
      "3805 132300000028\n",
      "3806 132300000028\n",
      "3807 132300000028\n",
      "3808 132300000028\n",
      "3809 132300000028\n",
      "3810 132300000028\n",
      "3811 132300000028\n",
      "3812 132300000028\n",
      "3813 132300000028\n",
      "3814 132300000028\n",
      "3815 132300000028\n",
      "3816 132300000028\n",
      "3817 132300000028\n",
      "3818 132300000028\n",
      "3819 132300000028\n",
      "3820 132300000028\n",
      "3821 132300000028\n",
      "3822 132300000028\n",
      "3824 132300000028\n",
      "3825 132300000028\n",
      "3828 132300000028\n",
      "3829 132300000028\n",
      "3834 132300000028\n",
      "3835 132300000028\n",
      "3836 132300000028\n",
      "3837 132300000028\n",
      "3838 132300000028\n",
      "3839 132300000028\n",
      "3840 132300000028\n",
      "3841 132300000028\n",
      "3842 132300000028\n",
      "3843 132300000028\n",
      "3844 132300000028\n",
      "3845 132300000028\n",
      "3931 146118000023\n",
      "3932 146118000023\n",
      "3941 132101000023\n",
      "3951 146105000091\n",
      "4008 158108000036\n",
      "4009 158108000036\n",
      "4066 146333300003\n",
      "4120 120100000149\n",
      "4121 120100000149\n",
      "4122 120100000149\n",
      "4123 120100000149\n",
      "4124 120100000149\n",
      "4168 119927001001\n",
      "4169 119927001001\n",
      "4170 119927001001\n",
      "4171 119927001001\n",
      "4172 119927001001\n",
      "4173 119927001001\n",
      "4174 119927001001\n",
      "4175 119927001001\n",
      "4176 119927001001\n",
      "4177 119927001001\n",
      "4178 119927001001\n",
      "4179 119927001001\n",
      "4180 119927001001\n",
      "4181 119927001001\n",
      "4182 119927001001\n",
      "4183 119927001001\n",
      "4186 145712104005\n",
      "4299 146320415013\n",
      "4300 146320415013\n",
      "4301 146320415013\n",
      "4302 146320415013\n",
      "4303 146320415013\n",
      "4304 146320415013\n",
      "4305 146320415013\n",
      "4306 146320415013\n",
      "4307 146320415013\n",
      "4308 146320415013\n",
      "4309 146320415013\n",
      "4310 146320415013\n",
      "4311 146320415013\n",
      "4312 146320415013\n",
      "4313 146320415013\n",
      "4314 146320415013\n",
      "4315 146320415013\n",
      "4477 132108000002\n",
      "4478 132108000002\n",
      "4642 157506400041\n",
      "4650 157704333079\n",
      "4748 157520000037\n",
      "4749 157520000037\n",
      "4750 157520000037\n",
      "4751 157520000037\n",
      "4752 157520000037\n",
      "4753 157520000037\n"
     ]
    }
   ],
   "source": [
    "count = 0\n",
    "for i,row in boulderMultis.iterrows():\n",
    "    if len(row['geometry'].geoms[0].interiors) > 0:\n",
    "           print(i, row['APN'])\n",
    "    #print(i.geoms[0].interiors)\n"
   ]
  },
  {
   "cell_type": "code",
   "execution_count": 353,
   "metadata": {},
   "outputs": [
    {
     "ename": "TypeError",
     "evalue": "'GeoDataFrame' object is not an iterator",
     "output_type": "error",
     "traceback": [
      "\u001b[1;31m---------------------------------------------------------------------------\u001b[0m",
      "\u001b[1;31mTypeError\u001b[0m                                 Traceback (most recent call last)",
      "\u001b[1;32mc:\\Users\\phwh9568\\Data\\ParcelAtlas\\CO_2022\\within_near.ipynb Cell 136\u001b[0m line \u001b[0;36m1\n\u001b[1;32m----> <a href='vscode-notebook-cell:/c%3A/Users/phwh9568/Data/ParcelAtlas/CO_2022/within_near.ipynb#Y265sZmlsZQ%3D%3D?line=0'>1</a>\u001b[0m \u001b[39mprint\u001b[39m(\u001b[39mnext\u001b[39;49m(boulderMultis))\n",
      "\u001b[1;31mTypeError\u001b[0m: 'GeoDataFrame' object is not an iterator"
     ]
    }
   ],
   "source": []
  },
  {
   "cell_type": "code",
   "execution_count": null,
   "metadata": {},
   "outputs": [],
   "source": []
  },
  {
   "cell_type": "code",
   "execution_count": 346,
   "metadata": {},
   "outputs": [
    {
     "ename": "TypeError",
     "evalue": "'int' object is not subscriptable",
     "output_type": "error",
     "traceback": [
      "\u001b[1;31m---------------------------------------------------------------------------\u001b[0m",
      "\u001b[1;31mTypeError\u001b[0m                                 Traceback (most recent call last)",
      "\u001b[1;32mc:\\Users\\phwh9568\\Data\\ParcelAtlas\\CO_2022\\within_near.ipynb Cell 136\u001b[0m line \u001b[0;36m2\n\u001b[0;32m      <a href='vscode-notebook-cell:/c%3A/Users/phwh9568/Data/ParcelAtlas/CO_2022/within_near.ipynb#Y256sZmlsZQ%3D%3D?line=0'>1</a>\u001b[0m \u001b[39mfor\u001b[39;00m i,row \u001b[39min\u001b[39;00m boulderMultis\u001b[39m.\u001b[39miterrows():\n\u001b[1;32m----> <a href='vscode-notebook-cell:/c%3A/Users/phwh9568/Data/ParcelAtlas/CO_2022/within_near.ipynb#Y256sZmlsZQ%3D%3D?line=1'>2</a>\u001b[0m     \u001b[39mprint\u001b[39m(i[\u001b[39m'\u001b[39;49m\u001b[39mgeometry\u001b[39;49m\u001b[39m'\u001b[39;49m])\n\u001b[0;32m      <a href='vscode-notebook-cell:/c%3A/Users/phwh9568/Data/ParcelAtlas/CO_2022/within_near.ipynb#Y256sZmlsZQ%3D%3D?line=2'>3</a>\u001b[0m     \u001b[39m#geom = row['geometry']\u001b[39;00m\n\u001b[0;32m      <a href='vscode-notebook-cell:/c%3A/Users/phwh9568/Data/ParcelAtlas/CO_2022/within_near.ipynb#Y256sZmlsZQ%3D%3D?line=3'>4</a>\u001b[0m     \u001b[39m#length = len(geom.geoms[0].interiors)\u001b[39;00m\n\u001b[0;32m      <a href='vscode-notebook-cell:/c%3A/Users/phwh9568/Data/ParcelAtlas/CO_2022/within_near.ipynb#Y256sZmlsZQ%3D%3D?line=4'>5</a>\u001b[0m     \u001b[39m#if length > 0:\u001b[39;00m\n\u001b[0;32m      <a href='vscode-notebook-cell:/c%3A/Users/phwh9568/Data/ParcelAtlas/CO_2022/within_near.ipynb#Y256sZmlsZQ%3D%3D?line=5'>6</a>\u001b[0m     \u001b[39m#    print(i)\u001b[39;00m\n",
      "\u001b[1;31mTypeError\u001b[0m: 'int' object is not subscriptable"
     ]
    }
   ],
   "source": [
    "for i,row in boulderMultis.iterrows():\n",
    "    print(i)\n",
    "    #geom = row['geometry']\n",
    "    #length = len(geom.geoms[0].interiors)\n",
    "    #if length > 0:\n",
    "    #    print(i)"
   ]
  },
  {
   "cell_type": "code",
   "execution_count": 372,
   "metadata": {},
   "outputs": [],
   "source": [
    "boulderInt = boulderMultis.iloc[87]"
   ]
  },
  {
   "cell_type": "code",
   "execution_count": 345,
   "metadata": {},
   "outputs": [
    {
     "data": {
      "text/plain": [
       "0"
      ]
     },
     "execution_count": 345,
     "metadata": {},
     "output_type": "execute_result"
    }
   ],
   "source": [
    "boulderInt['geometry'].geoms[0].interiors"
   ]
  },
  {
   "cell_type": "code",
   "execution_count": 385,
   "metadata": {},
   "outputs": [
    {
     "data": {
      "text/plain": [
       "5"
      ]
     },
     "execution_count": 385,
     "metadata": {},
     "output_type": "execute_result"
    }
   ],
   "source": [
    "len(boulderInt.geometry.geoms[0].interiors[0].xy[0])"
   ]
  },
  {
   "cell_type": "code",
   "execution_count": 421,
   "metadata": {},
   "outputs": [],
   "source": [
    "geom = boulderInt.geometry\n",
    "multiGeoms = geom.geoms"
   ]
  },
  {
   "cell_type": "code",
   "execution_count": 398,
   "metadata": {},
   "outputs": [
    {
     "name": "stdout",
     "output_type": "stream",
     "text": [
      "5\n"
     ]
    }
   ],
   "source": [
    "for geom in geoms:\n",
    "    if len(geom.interiors) > 0:\n",
    "        print(len(geom.interiors[0].xy[0]))"
   ]
  },
  {
   "cell_type": "code",
   "execution_count": 403,
   "metadata": {},
   "outputs": [
    {
     "name": "stdout",
     "output_type": "stream",
     "text": [
      "5\n",
      "0\n"
     ]
    }
   ],
   "source": [
    "for geom in geoms:\n",
    "    print(len(geom.interiors[0].xy[0])) if len(geom.interiors) > 0 else print(0)"
   ]
  },
  {
   "cell_type": "code",
   "execution_count": 423,
   "metadata": {},
   "outputs": [
    {
     "data": {
      "text/plain": [
       "5"
      ]
     },
     "execution_count": 423,
     "metadata": {},
     "output_type": "execute_result"
    }
   ],
   "source": [
    "\n",
    "#WORKS\n",
    "sum([sum([len(g.xy[0]) for g in mg.interiors]) if len(mg.interiors) else 0 for mg in multiGeoms])"
   ]
  },
  {
   "cell_type": "code",
   "execution_count": 425,
   "metadata": {},
   "outputs": [
    {
     "data": {
      "text/plain": [
       "<module 'parcelfunks' from 'c:\\\\Users\\\\phwh9568\\\\Data\\\\ParcelAtlas\\\\CO_2022\\\\parcelfunks.py'>"
      ]
     },
     "execution_count": 425,
     "metadata": {},
     "output_type": "execute_result"
    }
   ],
   "source": [
    "importlib.reload(parcelfunks)"
   ]
  },
  {
   "cell_type": "code",
   "execution_count": 428,
   "metadata": {},
   "outputs": [
    {
     "name": "stdout",
     "output_type": "stream",
     "text": [
      "5\n"
     ]
    }
   ],
   "source": [
    "print(parcelfunks.interiorLen(geom))"
   ]
  },
  {
   "cell_type": "markdown",
   "metadata": {},
   "source": [
    "Now, testing join workflow accounting for multipolygons (no explode)"
   ]
  },
  {
   "cell_type": "code",
   "execution_count": 431,
   "metadata": {},
   "outputs": [
    {
     "name": "stderr",
     "output_type": "stream",
     "text": [
      "c:\\Users\\phwh9568\\AppData\\Local\\Continuum\\anaconda3\\envs\\geo_env\\Lib\\site-packages\\pyogrio\\raw.py:194: RuntimeWarning: C:\\Users\\phwh9568\\Data\\ParcelAtlas\\CO_2022\\counties\\08013\\parcels.shp contains polygon(s) with rings with invalid winding order. Autocorrecting them, but that shapefile should be corrected using ogr2ogr for example.\n",
      "  result = ogr_read(\n"
     ]
    }
   ],
   "source": [
    "boulder = gpd.read_file(os.path.join(co_22_dir,'counties','08013','parcels.shp')).to_crs(crs='ESRI:102003')\n"
   ]
  },
  {
   "cell_type": "code",
   "execution_count": 432,
   "metadata": {},
   "outputs": [],
   "source": [
    "boulderBldgs = gpd.read_file(os.path.join(co_22_dir,'counties','08013','08013_buildings.shp')).to_crs(crs='ESRI:102003')\n"
   ]
  },
  {
   "cell_type": "code",
   "execution_count": 447,
   "metadata": {},
   "outputs": [
    {
     "name": "stderr",
     "output_type": "stream",
     "text": [
      "c:\\Users\\phwh9568\\AppData\\Local\\Continuum\\anaconda3\\envs\\geo_env\\Lib\\site-packages\\pyogrio\\raw.py:194: RuntimeWarning: C:\\Users\\phwh9568\\Data\\ParcelAtlas\\CO_2022\\counties\\08013\\parcels.shp contains polygon(s) with rings with invalid winding order. Autocorrecting them, but that shapefile should be corrected using ogr2ogr for example.\n",
      "  result = ogr_read(\n"
     ]
    }
   ],
   "source": [
    "#without explode\n",
    "boulder2 = gpd.read_file(os.path.join(co_22_dir,'counties','08013','parcels.shp')).to_crs(crs='ESRI:102003')\n",
    "boulder2.drop_duplicates(subset=['geometry'], inplace=True)\n",
    "boulder2 = (parcelfunks.sumWithin('08013',boulder2,boulderBldgs))\n",
    "boulder2['geometry'] = boulder2['geometry'].simplify(1)\n",
    "boulder2['intLen'] = boulder2.apply(lambda row: parcelfunks.interiorLen(row.geometry), axis=1)\n",
    "boulder2['intZscore'] = np.abs(stats.zscore(boulder2['intLen']))\n"
   ]
  },
  {
   "cell_type": "code",
   "execution_count": 449,
   "metadata": {},
   "outputs": [
    {
     "data": {
      "text/plain": [
       "110740    705\n",
       "107356    590\n",
       "22648     395\n",
       "110944    390\n",
       "102823    345\n",
       "79456     310\n",
       "65083     309\n",
       "97095     274\n",
       "93463     267\n",
       "94333     233\n",
       "93401     211\n",
       "112928    209\n",
       "80314     205\n",
       "96283     196\n",
       "94053     186\n",
       "24054     185\n",
       "42454     181\n",
       "76513     178\n",
       "53373     176\n",
       "88815     170\n",
       "Name: intLen, dtype: int64"
      ]
     },
     "execution_count": 449,
     "metadata": {},
     "output_type": "execute_result"
    }
   ],
   "source": [
    "boulder2['intLen'].sort_values(ascending=False).head(20)"
   ]
  },
  {
   "cell_type": "code",
   "execution_count": 445,
   "metadata": {},
   "outputs": [
    {
     "name": "stderr",
     "output_type": "stream",
     "text": [
      "c:\\Users\\phwh9568\\AppData\\Local\\Continuum\\anaconda3\\envs\\geo_env\\Lib\\site-packages\\pyogrio\\raw.py:194: RuntimeWarning: C:\\Users\\phwh9568\\Data\\ParcelAtlas\\CO_2022\\counties\\08013\\parcels.shp contains polygon(s) with rings with invalid winding order. Autocorrecting them, but that shapefile should be corrected using ogr2ogr for example.\n",
      "  result = ogr_read(\n"
     ]
    }
   ],
   "source": [
    "# exploding way:\n",
    "boulder = gpd.read_file(os.path.join(co_22_dir,'counties','08013','parcels.shp')).to_crs(crs='ESRI:102003')\n",
    "boulder = (parcelfunks.sumWithin('08013',boulder,boulderBldgs))\n",
    "boulder.drop_duplicates(subset=['geometry'], inplace=True)\n",
    "boulder = boulder.explode(index_parts=False)\n",
    "boulder.reset_index(inplace=True)\n",
    "boulder.drop(['index'],axis=1,inplace=True)\n",
    "boulder['geometry'] = boulder['geometry'].simplify(1)\n",
    "boulder['intLen'] = boulder.apply(lambda row: parcelfunks.interiorLen(row.geometry), axis=1)\n",
    "boulder['intZscore'] = np.abs(stats.zscore(boulder['intLen']))"
   ]
  },
  {
   "cell_type": "code",
   "execution_count": 450,
   "metadata": {},
   "outputs": [
    {
     "data": {
      "text/plain": [
       "116781    705\n",
       "22995     395\n",
       "117000    390\n",
       "112967    295\n",
       "112966    295\n",
       "101688    274\n",
       "97393     267\n",
       "98399     233\n",
       "67484     225\n",
       "97314     211\n",
       "119035    209\n",
       "82278     206\n",
       "83178     205\n",
       "100769    196\n",
       "107973    184\n",
       "44485     181\n",
       "92130     170\n",
       "81623     166\n",
       "50268     163\n",
       "107972    161\n",
       "Name: intLen, dtype: int64"
      ]
     },
     "execution_count": 450,
     "metadata": {},
     "output_type": "execute_result"
    }
   ],
   "source": [
    "boulder['intLen'].sort_values(ascending=False).head(20)"
   ]
  },
  {
   "cell_type": "code",
   "execution_count": 454,
   "metadata": {},
   "outputs": [
    {
     "data": {
      "text/plain": [
       "APN                                                131512029001\n",
       "APN2                                                  219742789\n",
       "STATE                                                        CO\n",
       "COUNTY                                                  Boulder\n",
       "FIPS                                                      08013\n",
       "SIT_HSE_NU                                                 1601\n",
       "SIT_DIR                                                    None\n",
       "SIT_STR_NA                                        GREAT WESTERN\n",
       "SIT_STR_SF                                                   DR\n",
       "SIT_FULL_S                                1601 GREAT WESTERN DR\n",
       "SIT_CITY                                               LONGMONT\n",
       "SIT_STATE                                                    CO\n",
       "SIT_ZIP                                                   80501\n",
       "SIT_ZIP4                                                   9794\n",
       "LAND_VALUE                                                  0.0\n",
       "IMPR_VALUE                                              18018.0\n",
       "TOT_VALUE                                               18018.0\n",
       "ASSMT_YEAR                                               2020.0\n",
       "REC_DATE                                               20201013\n",
       "SALES_PRIC                                             300000.0\n",
       "YEAR_BUILT                                               2000.0\n",
       "STD_LAND_U                                                 1002\n",
       "LOT_SIZE                                                    0.0\n",
       "BLDG_AREA                                                1196.0\n",
       "DEED_DSCR                   RIVERBEND AT MILL VILLAGE CONDOS LG\n",
       "NO_OF_STOR                                                 None\n",
       "NO_OF_UNIT                                                  0.0\n",
       "BEDROOMS                                                    2.0\n",
       "BATHROOMS                                                   2.0\n",
       "OWNER                                       STANFIELD  MARCIA K\n",
       "OWNER2                                                     None\n",
       "OWNADDRESS                                1601 GREAT WESTERN DR\n",
       "OWNADDRES2                                                 None\n",
       "OWNCTYSTZP                                    LONGMONT CO 80501\n",
       "XCOORD                                                 -105.062\n",
       "YCOORD                                                  40.1556\n",
       "MINX                                                 -105.06481\n",
       "MINY                                                  40.154602\n",
       "MAXX                                                -105.060093\n",
       "MAXY                                                    40.1567\n",
       "MKT_VALUE                                              252000.0\n",
       "ATTDATE                                                20211030\n",
       "VERSION                                              08-12-2020\n",
       "QUANTARIUM                                             22561937\n",
       "Sum_Within                                                 41.0\n",
       "geometry      POLYGON ((-763856.7401871863 334187.4646870692...\n",
       "intLen                                                      705\n",
       "intZscore                                            152.045735\n",
       "Name: 116781, dtype: object"
      ]
     },
     "execution_count": 454,
     "metadata": {},
     "output_type": "execute_result"
    }
   ],
   "source": [
    "boulder.iloc[116781]"
   ]
  },
  {
   "cell_type": "code",
   "execution_count": 457,
   "metadata": {},
   "outputs": [],
   "source": [
    "boulder['extLen1'] = boulder.apply(lambda row: parcelfunks.exteriorLen(row.geometry), axis=1)\n",
    "boulder['extZscore1'] = np.abs(stats.zscore(boulder['extLen1']))\n",
    "\n",
    "boulder2['extLen1'] = boulder2.apply(lambda row: parcelfunks.exteriorLen(row.geometry), axis=1)\n",
    "boulder2['extZscore1'] = np.abs(stats.zscore(boulder2['extLen1']))"
   ]
  },
  {
   "cell_type": "code",
   "execution_count": 460,
   "metadata": {},
   "outputs": [],
   "source": [
    "columns = ['APN', 'APN2', 'intLen','intZscore', 'extLen1','extZscore1', 'Sum_Within','geometry']\n",
    "drops = [c for c in boulder.columns if c not in columns]"
   ]
  },
  {
   "cell_type": "code",
   "execution_count": 461,
   "metadata": {},
   "outputs": [],
   "source": [
    "boulder.drop(drops, axis=1,inplace=True)\n",
    "boulder2.drop(drops, axis=1,inplace=True)"
   ]
  },
  {
   "cell_type": "code",
   "execution_count": 476,
   "metadata": {},
   "outputs": [],
   "source": [
    "mobileHomes = gpd.read_file(os.path.join(co_22_dir,'counties','08013','08013_mhps_OG.gpkg'),layer='08013_mhps_OG_prepped')"
   ]
  },
  {
   "cell_type": "code",
   "execution_count": 478,
   "metadata": {},
   "outputs": [],
   "source": [
    "mobileHomes = mobileHomes.to_crs(crs='ESRI:102003')"
   ]
  },
  {
   "cell_type": "code",
   "execution_count": 479,
   "metadata": {},
   "outputs": [],
   "source": [
    "phomes = gpd.sjoin_nearest(boulder,mobileHomes,max_distance=10.0, distance_col='distances')"
   ]
  },
  {
   "cell_type": "code",
   "execution_count": 480,
   "metadata": {},
   "outputs": [],
   "source": [
    "phomes2 = gpd.sjoin_nearest(boulder2,mobileHomes,max_distance=10.0, distance_col='distances')"
   ]
  },
  {
   "cell_type": "code",
   "execution_count": 486,
   "metadata": {},
   "outputs": [
    {
     "data": {
      "text/plain": [
       "32"
      ]
     },
     "execution_count": 486,
     "metadata": {},
     "output_type": "execute_result"
    }
   ],
   "source": [
    "len(phomes)"
   ]
  },
  {
   "cell_type": "code",
   "execution_count": 488,
   "metadata": {},
   "outputs": [
    {
     "data": {
      "text/plain": [
       "60414     0.930879\n",
       "2511      0.044320\n",
       "71768     0.044320\n",
       "109329    0.044320\n",
       "108099    0.044320\n",
       "108075    0.044320\n",
       "107099    0.044320\n",
       "105696    0.044320\n",
       "103257    0.044320\n",
       "100855    0.044320\n",
       "100279    0.044320\n",
       "104238    0.044320\n",
       "96962     0.044320\n",
       "95923     0.044320\n",
       "95054     0.044320\n",
       "82136     0.044320\n",
       "71768     0.044320\n",
       "3065      0.044320\n",
       "67852     0.044320\n",
       "66604     0.044320\n",
       "54229     0.044320\n",
       "41498     0.044320\n",
       "31376     0.044320\n",
       "25081     0.044320\n",
       "24532     0.044320\n",
       "21252     0.044320\n",
       "20776     0.044320\n",
       "93927     0.044320\n",
       "13578     0.044320\n",
       "13288     0.044320\n",
       "12971     0.044320\n",
       "110852    0.044320\n",
       "Name: intZscore, dtype: float64"
      ]
     },
     "execution_count": 488,
     "metadata": {},
     "output_type": "execute_result"
    }
   ],
   "source": [
    "phomes2['intZscore'].sort_values(ascending=False).head(32)"
   ]
  },
  {
   "cell_type": "markdown",
   "metadata": {},
   "source": [
    "Multipolygon seems to work great \n",
    " \n",
    "Now working on locating all the MHP points that were not joined"
   ]
  },
  {
   "cell_type": "code",
   "execution_count": 20,
   "metadata": {},
   "outputs": [],
   "source": [
    "mhp_path = os.path.join(co_22_dir,'08_MHPS_OG.gpkg')"
   ]
  },
  {
   "cell_type": "code",
   "execution_count": 21,
   "metadata": {},
   "outputs": [],
   "source": [
    "mhps = gpd.read_file(mhp_path,layer='08_MHPs_Prepped_OG')"
   ]
  },
  {
   "cell_type": "code",
   "execution_count": 22,
   "metadata": {},
   "outputs": [],
   "source": [
    "MHparcel_path = os.path.join(co_22_dir,'Colorado_Final_multi.gpkg')"
   ]
  },
  {
   "cell_type": "code",
   "execution_count": 23,
   "metadata": {},
   "outputs": [],
   "source": [
    "MHparcels = gpd.read_file(MHparcel_path, layer='Colorado_Final_MH_parcels')"
   ]
  },
  {
   "cell_type": "code",
   "execution_count": 28,
   "metadata": {},
   "outputs": [],
   "source": [
    "mhps_merge = pd.merge(mhps,MHparcels, on = 'MHPID', how='outer')"
   ]
  },
  {
   "cell_type": "code",
   "execution_count": 35,
   "metadata": {},
   "outputs": [],
   "source": [
    "mhps_nonmatched = mhps_merge.loc[mhps_merge['geometry_y']==None].copy()"
   ]
  },
  {
   "cell_type": "code",
   "execution_count": 32,
   "metadata": {},
   "outputs": [
    {
     "data": {
      "text/plain": [
       "246"
      ]
     },
     "execution_count": 32,
     "metadata": {},
     "output_type": "execute_result"
    }
   ],
   "source": [
    "len(mhps_nonmatched)"
   ]
  },
  {
   "cell_type": "code",
   "execution_count": 33,
   "metadata": {},
   "outputs": [
    {
     "data": {
      "text/plain": [
       "True"
      ]
     },
     "execution_count": 33,
     "metadata": {},
     "output_type": "execute_result"
    }
   ],
   "source": [
    "(len(mhps_nonmatched) + len(MHparcels)) == len(mhps)"
   ]
  },
  {
   "cell_type": "code",
   "execution_count": 36,
   "metadata": {},
   "outputs": [],
   "source": [
    "mhps_nonmatched.drop(mhps_nonmatched.filter(regex='_y$').columns, axis=1, inplace=True)"
   ]
  },
  {
   "cell_type": "code",
   "execution_count": 37,
   "metadata": {},
   "outputs": [
    {
     "data": {
      "text/plain": [
       "Index(['MHPID', 'MH_NAME_x', 'MH_ADDRESS_x', 'MH_CITY_x', 'MH_STATE_x',\n",
       "       'MH_ZIP_x', 'MH_STATUS_x', 'MH_COUNTY_FIPS_x', 'MH_LATITUDE_x',\n",
       "       'MH_LONGITUDE_x', 'geometry_x', 'APN', 'APN2', 'Sum_Within', 'intLen',\n",
       "       'intZscore', 'extLen1', 'extZscore1', 'distances'],\n",
       "      dtype='object')"
      ]
     },
     "execution_count": 37,
     "metadata": {},
     "output_type": "execute_result"
    }
   ],
   "source": [
    "mhps_nonmatched.columns"
   ]
  },
  {
   "cell_type": "code",
   "execution_count": 38,
   "metadata": {},
   "outputs": [],
   "source": [
    "renames_x = mhps_nonmatched.filter(regex='_x$').columns\n",
    "renames = [x.split('_x')[0] for x in renames_x]\n",
    "renames = dict(zip(renames_x,renames))"
   ]
  },
  {
   "cell_type": "code",
   "execution_count": 39,
   "metadata": {},
   "outputs": [],
   "source": [
    "mhps_nonmatched.rename(renames, axis='columns',inplace=True)"
   ]
  },
  {
   "cell_type": "code",
   "execution_count": 43,
   "metadata": {},
   "outputs": [],
   "source": [
    "drop_cols = mhps_nonmatched.columns[11:]"
   ]
  },
  {
   "cell_type": "code",
   "execution_count": 44,
   "metadata": {},
   "outputs": [],
   "source": [
    "mhps_nonmatched.drop(drop_cols,axis=1,inplace=True)"
   ]
  },
  {
   "cell_type": "code",
   "execution_count": 46,
   "metadata": {},
   "outputs": [],
   "source": [
    "mhps_nonmatched.to_file(mhp_path,layer='08_mhps_non_matched')"
   ]
  },
  {
   "cell_type": "code",
   "execution_count": 50,
   "metadata": {},
   "outputs": [],
   "source": [
    "mhps_nonmatched.to_csv(os.path.join(co_22_dir,'08_mhps_non_matched.csv'))"
   ]
  },
  {
   "cell_type": "markdown",
   "metadata": {},
   "source": [
    "Splitting off MH-parcels matched in multi15 from multi for comparison"
   ]
  },
  {
   "cell_type": "code",
   "execution_count": 66,
   "metadata": {},
   "outputs": [],
   "source": [
    "MHparcel_path = os.path.join(co_22_dir,'Colorado_Final_multi.gpkg')\n",
    "MHparcel15_path = os.path.join(co_22_dir,'Colorado_Final_multi15.gpkg')\n",
    "MHparcelnear_path = os.path.join(co_22_dir,'Colorado_Final_near.gpkg')"
   ]
  },
  {
   "cell_type": "code",
   "execution_count": 67,
   "metadata": {},
   "outputs": [],
   "source": [
    "MHparcels = gpd.read_file(MHparcel_path, layer='Colorado_Final_MH_parcels')\n",
    "MHparcels15 = gpd.read_file(MHparcel15_path, layer='Colorado_Final_MH_parcels')\n",
    "MHparcelsNear = gpd.read_file(MHparcelnear_path, layer='Colorado_Final_MH_parcels')"
   ]
  },
  {
   "cell_type": "code",
   "execution_count": 57,
   "metadata": {},
   "outputs": [
    {
     "data": {
      "text/plain": [
       "36"
      ]
     },
     "execution_count": 57,
     "metadata": {},
     "output_type": "execute_result"
    }
   ],
   "source": [
    "len(MHparcels15)- len(MHparcels)"
   ]
  },
  {
   "cell_type": "code",
   "execution_count": 58,
   "metadata": {},
   "outputs": [],
   "source": [
    "geomList15 = MHparcels15['geometry'].to_list()"
   ]
  },
  {
   "cell_type": "code",
   "execution_count": 65,
   "metadata": {},
   "outputs": [
    {
     "data": {
      "image/svg+xml": [
       "<svg xmlns=\"http://www.w3.org/2000/svg\" xmlns:xlink=\"http://www.w3.org/1999/xlink\" width=\"100.0\" height=\"100.0\" viewBox=\"-745542.4809827773 314034.05132789415 46.752617532154545 65.3682095524855\" preserveAspectRatio=\"xMinYMin meet\"><g transform=\"matrix(1,0,0,-1,0,628133.4708653408)\"><g><path fill-rule=\"evenodd\" fill=\"#66cc99\" stroke=\"#555555\" stroke-width=\"1.30736419104971\" opacity=\"0.6\" d=\"M -745498.1494100434,314093.3582041441 L -745503.7175419074,314036.47237269237 L -745540.0599379791,314048.77604975837 L -745535.5061526475,314096.9984926484 L -745498.1494100434,314093.3582041441 z\" /></g></g></svg>"
      ],
      "text/plain": [
       "<MULTIPOLYGON (((-745498.149 314093.358, -745503.718 314036.472, -745540.06 ...>"
      ]
     },
     "execution_count": 65,
     "metadata": {},
     "output_type": "execute_result"
    }
   ],
   "source": [
    "MHparcels15['geometry'][0]"
   ]
  },
  {
   "cell_type": "code",
   "execution_count": 61,
   "metadata": {},
   "outputs": [
    {
     "data": {
      "text/plain": [
       "0      MULTIPOLYGON (((-745498.149 314093.358, -74550...\n",
       "1      MULTIPOLYGON (((-751889.716 302707.761, -75213...\n",
       "2      MULTIPOLYGON (((-763885.363 300576.478, -76388...\n",
       "3      MULTIPOLYGON (((-745965.013 312201.144, -74608...\n",
       "4      MULTIPOLYGON (((-755702.621 295754.885, -75564...\n",
       "                             ...                        \n",
       "433    MULTIPOLYGON (((-686680.432 407285.304, -68677...\n",
       "434    MULTIPOLYGON (((-755508.853 333810.875, -75558...\n",
       "435    MULTIPOLYGON (((-733580.313 355385.436, -73351...\n",
       "436    MULTIPOLYGON (((-568105.421 314355.301, -56811...\n",
       "437    MULTIPOLYGON (((-525503.367 303736.378, -52561...\n",
       "Name: geometry, Length: 438, dtype: geometry"
      ]
     },
     "execution_count": 61,
     "metadata": {},
     "output_type": "execute_result"
    }
   ],
   "source": [
    "MHparcels['geometry']"
   ]
  },
  {
   "cell_type": "code",
   "execution_count": 68,
   "metadata": {},
   "outputs": [
    {
     "data": {
      "text/plain": [
       "0      POLYGON ((-745498.149 314093.358, -745503.718 ...\n",
       "1      POLYGON ((-751889.716 302707.761, -752136.951 ...\n",
       "2      POLYGON ((-763885.363 300576.478, -763887.712 ...\n",
       "3      POLYGON ((-745965.013 312201.144, -746083.090 ...\n",
       "4      POLYGON ((-755702.621 295754.885, -755641.795 ...\n",
       "                             ...                        \n",
       "435    POLYGON ((-686680.432 407285.304, -686773.776 ...\n",
       "436    POLYGON ((-755508.853 333810.875, -755582.704 ...\n",
       "437    POLYGON ((-733580.313 355385.436, -733518.437 ...\n",
       "438    POLYGON ((-568157.935 314365.799, -568165.096 ...\n",
       "439    POLYGON ((-525503.367 303736.378, -525616.529 ...\n",
       "Name: geometry, Length: 440, dtype: geometry"
      ]
     },
     "execution_count": 68,
     "metadata": {},
     "output_type": "execute_result"
    }
   ],
   "source": [
    "MHparcelsNear['geometry']"
   ]
  },
  {
   "cell_type": "code",
   "execution_count": 70,
   "metadata": {},
   "outputs": [],
   "source": [
    "adams = os.path.join(co_22_dir,'counties','08001')"
   ]
  },
  {
   "cell_type": "code",
   "execution_count": 72,
   "metadata": {},
   "outputs": [],
   "source": [
    "import importlib"
   ]
  },
  {
   "cell_type": "code",
   "execution_count": 77,
   "metadata": {},
   "outputs": [
    {
     "data": {
      "text/plain": [
       "<module 'parcelfunks' from 'c:\\\\Users\\\\phwh9568\\\\Data\\\\ParcelAtlas\\\\CO_2022\\\\parcelfunks.py'>"
      ]
     },
     "execution_count": 77,
     "metadata": {},
     "output_type": "execute_result"
    }
   ],
   "source": [
    "\n",
    "importlib.reload(parcelfunks)"
   ]
  },
  {
   "cell_type": "code",
   "execution_count": 78,
   "metadata": {},
   "outputs": [
    {
     "name": "stderr",
     "output_type": "stream",
     "text": [
      "c:\\Users\\phwh9568\\AppData\\Local\\Continuum\\anaconda3\\envs\\geo_env\\Lib\\site-packages\\pyogrio\\raw.py:194: RuntimeWarning: C:\\Users\\phwh9568\\Data\\ParcelAtlas\\CO_2022\\counties\\08001\\parcels.shp contains polygon(s) with rings with invalid winding order. Autocorrecting them, but that shapefile should be corrected using ogr2ogr for example.\n",
      "  result = ogr_read(\n"
     ]
    },
    {
     "name": "stdout",
     "output_type": "stream",
     "text": [
      "0        POLYGON ((-680680.353 308693.941, -681080.927 ...\n",
      "1        POLYGON ((-686073.183 305480.841, -686019.895 ...\n",
      "2        POLYGON ((-682372.950 307609.340, -682757.138 ...\n",
      "3        POLYGON ((-681859.141 309266.687, -681893.196 ...\n",
      "4        POLYGON ((-689421.257 303347.782, -689420.847 ...\n",
      "                               ...                        \n",
      "64578    POLYGON ((-751190.102 287582.931, -751228.287 ...\n",
      "64579    POLYGON ((-744386.017 313174.493, -744445.617 ...\n",
      "64580    POLYGON ((-760332.996 306069.896, -760338.723 ...\n",
      "64581    POLYGON ((-760409.400 306288.367, -760282.917 ...\n",
      "64582    POLYGON ((-742495.572 308580.889, -742518.968 ...\n",
      "Name: geometry, Length: 64583, dtype: geometry\n",
      "622      POLYGON ((-699463.803 282272.496, -700247.660 ...\n",
      "63380    POLYGON ((-698276.875 282019.896, -699456.852 ...\n",
      "2219     POLYGON ((-706698.315 281877.508, -706782.598 ...\n",
      "2783     POLYGON ((-714742.092 284494.598, -714738.858 ...\n",
      "3041     POLYGON ((-714759.763 284496.329, -714787.121 ...\n",
      "                               ...                        \n",
      "61750    POLYGON ((-744839.321 285537.729, -745170.772 ...\n",
      "61756    POLYGON ((-745096.635 286353.963, -745170.772 ...\n",
      "64143    POLYGON ((-763848.833 302072.397, -763930.195 ...\n",
      "64504    POLYGON ((-766999.288 293769.306, -767013.597 ...\n",
      "64505    POLYGON ((-767107.163 293682.322, -767111.309 ...\n",
      "Name: geometry, Length: 73, dtype: geometry\n",
      "5234     POLYGON ((-745498.149 314093.358, -745503.718 ...\n",
      "46628    POLYGON ((-751889.716 302707.761, -752136.951 ...\n",
      "33649    POLYGON ((-764065.126 300648.209, -763874.650 ...\n",
      "6295     POLYGON ((-745965.013 312201.144, -746083.090 ...\n",
      "55875    POLYGON ((-755702.621 295754.885, -755641.795 ...\n",
      "47959    MULTIPOLYGON (((-752276.146 299075.050, -75229...\n",
      "57252    POLYGON ((-755751.272 294397.652, -755809.585 ...\n",
      "57254    POLYGON ((-755806.601 294432.422, -755839.168 ...\n",
      "47357    POLYGON ((-754234.752 297010.625, -754360.337 ...\n",
      "56392    POLYGON ((-756216.213 295344.154, -756195.525 ...\n",
      "55103    POLYGON ((-755468.068 295975.761, -755405.040 ...\n",
      "55041    POLYGON ((-755170.999 296084.216, -755303.951 ...\n",
      "48396    POLYGON ((-755892.570 297376.500, -755956.943 ...\n",
      "48111    POLYGON ((-755107.998 298850.651, -755148.058 ...\n",
      "48104    POLYGON ((-754208.653 299447.269, -754246.381 ...\n",
      "47651    POLYGON ((-755979.854 302035.048, -755995.081 ...\n",
      "47651    POLYGON ((-755979.854 302035.048, -755995.081 ...\n",
      "35980    MULTIPOLYGON (((-758158.570 299004.026, -75820...\n",
      "36007    POLYGON ((-757143.302 299690.428, -757163.030 ...\n",
      "54852    POLYGON ((-764774.303 293667.957, -764879.496 ...\n",
      "54768    POLYGON ((-764640.070 293828.117, -764735.813 ...\n",
      "53992    POLYGON ((-764224.990 295107.081, -764609.593 ...\n",
      "54011    POLYGON ((-764204.619 295413.273, -764218.204 ...\n",
      "52725    POLYGON ((-764131.828 295717.080, -764487.187 ...\n",
      "33598    POLYGON ((-763811.976 300768.336, -763819.637 ...\n",
      "34149    POLYGON ((-762358.354 301033.144, -762027.113 ...\n",
      "44114    POLYGON ((-750303.511 305551.590, -750463.923 ...\n",
      "61470    POLYGON ((-748440.555 286709.252, -748558.776 ...\n",
      "61545    MULTIPOLYGON (((-747940.614 286014.859, -74803...\n",
      "61678    POLYGON ((-746439.527 285867.990, -746439.844 ...\n",
      "3112     POLYGON ((-714890.822 284812.632, -714901.290 ...\n",
      "3224     MULTIPOLYGON (((-727006.835 284802.405, -72708...\n",
      "63380    POLYGON ((-698276.875 282019.896, -699456.852 ...\n",
      "47307    POLYGON ((-755920.727 302596.702, -755940.250 ...\n",
      "33274    POLYGON ((-761851.184 301403.467, -761807.854 ...\n",
      "35970    POLYGON ((-757741.719 299756.860, -757758.836 ...\n",
      "34097    POLYGON ((-762368.819 301658.827, -762421.757 ...\n",
      "54781    POLYGON ((-764857.182 293944.162, -764861.913 ...\n",
      "34090    POLYGON ((-762501.105 300996.184, -762502.518 ...\n",
      "33855    POLYGON ((-763403.032 301654.862, -763339.699 ...\n",
      "38592    POLYGON ((-763380.933 300232.730, -763371.370 ...\n",
      "31049    POLYGON ((-762273.437 302665.483, -762310.830 ...\n",
      "43257    POLYGON ((-759180.887 297881.096, -759198.879 ...\n",
      "54766    POLYGON ((-764644.864 293779.133, -764733.918 ...\n",
      "19998    POLYGON ((-760976.913 309094.308, -761124.656 ...\n",
      "56475    POLYGON ((-755926.050 295293.071, -756149.006 ...\n",
      "49272    POLYGON ((-754055.859 296992.600, -754157.287 ...\n",
      "7724     POLYGON ((-742271.455 313016.506, -742268.189 ...\n",
      "61750    POLYGON ((-744839.321 285537.729, -745170.772 ...\n",
      "61564    POLYGON ((-748051.282 286315.471, -748080.494 ...\n",
      "61756    POLYGON ((-745096.635 286353.963, -745170.772 ...\n",
      "61717    POLYGON ((-745980.375 285823.632, -745998.110 ...\n",
      "Name: geometry, dtype: geometry\n"
     ]
    }
   ],
   "source": [
    "parcelfunks.parcelMHPJoin2(adams)"
   ]
  },
  {
   "cell_type": "code",
   "execution_count": null,
   "metadata": {},
   "outputs": [],
   "source": []
  }
 ],
 "metadata": {
  "kernelspec": {
   "display_name": "base",
   "language": "python",
   "name": "python3"
  },
  "language_info": {
   "codemirror_mode": {
    "name": "ipython",
    "version": 3
   },
   "file_extension": ".py",
   "mimetype": "text/x-python",
   "name": "python",
   "nbconvert_exporter": "python",
   "pygments_lexer": "ipython3",
   "version": "3.12.0"
  }
 },
 "nbformat": 4,
 "nbformat_minor": 2
}
