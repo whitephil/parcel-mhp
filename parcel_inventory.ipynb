{
 "cells": [
  {
   "cell_type": "code",
   "execution_count": 10,
   "metadata": {},
   "outputs": [],
   "source": [
    "import os\n",
    "from glob import glob\n",
    "from zipfile import ZipFile\n",
    "import requests\n",
    "import geopandas as gpd\n",
    "\n",
    "gpd.options.io_engine = \"pyogrio\""
   ]
  },
  {
   "cell_type": "code",
   "execution_count": 20,
   "metadata": {},
   "outputs": [],
   "source": [
    "datadir = 'F:\\\\ParcelAtlas2023\\\\'\n",
    "#fipsdir = "
   ]
  },
  {
   "cell_type": "code",
   "execution_count": 23,
   "metadata": {},
   "outputs": [],
   "source": [
    "zipfiles = glob(datadir+'*.zip')"
   ]
  },
  {
   "cell_type": "code",
   "execution_count": 29,
   "metadata": {},
   "outputs": [
    {
     "data": {
      "text/plain": [
       "['Parcels.dbf', 'Parcels.prj', 'Parcels.shp', 'Parcels.shx']"
      ]
     },
     "execution_count": 29,
     "metadata": {},
     "output_type": "execute_result"
    }
   ],
   "source": [
    "ZipFile(zipfiles[0]).namelist()"
   ]
  },
  {
   "cell_type": "code",
   "execution_count": 28,
   "metadata": {},
   "outputs": [
    {
     "data": {
      "text/plain": [
       "['Parcels.dbf', 'Parcels.prj', 'Parcels.shp', 'Parcels.shx']"
      ]
     },
     "execution_count": 28,
     "metadata": {},
     "output_type": "execute_result"
    }
   ],
   "source": []
  },
  {
   "cell_type": "code",
   "execution_count": 17,
   "metadata": {},
   "outputs": [],
   "source": [
    "countyDirs = glob(stateDirs[0]+r'/*/')"
   ]
  },
  {
   "cell_type": "code",
   "execution_count": 18,
   "metadata": {},
   "outputs": [],
   "source": [
    "county"
   ]
  },
  {
   "cell_type": "code",
   "execution_count": 45,
   "metadata": {},
   "outputs": [
    {
     "ename": "SyntaxError",
     "evalue": "expected ':' (3781350927.py, line 1)",
     "output_type": "error",
     "traceback": [
      "\u001b[1;36m  Cell \u001b[1;32mIn[45], line 1\u001b[1;36m\u001b[0m\n\u001b[1;33m    if glob(county1+r'/parcels.shp*')\u001b[0m\n\u001b[1;37m                                     ^\u001b[0m\n\u001b[1;31mSyntaxError\u001b[0m\u001b[1;31m:\u001b[0m expected ':'\n"
     ]
    }
   ],
   "source": [
    "\n"
   ]
  },
  {
   "cell_type": "code",
   "execution_count": 47,
   "metadata": {},
   "outputs": [
    {
     "name": "stdout",
     "output_type": "stream",
     "text": [
      "E:\\State_04\\SaveJoins\\ is missing parcels.shp\n",
      "E:\\State_05\\SaveJoins\\ is missing parcels.shp\n",
      "E:\\State_28\\SaveJoins\\ is missing parcels.shp\n",
      "E:\\State_51\\SaveJoins\\ is missing parcels.shp\n",
      "E:\\State_53\\53061\\ is missing parcels.shp\n"
     ]
    }
   ],
   "source": [
    "for d in stateDirs:\n",
    "    for cdirs in glob(d+r'/*/'):\n",
    "        if os.path.exists(os.path.join(cdirs,'parcels.shp')):\n",
    "            continue\n",
    "        else:\n",
    "            print(cdirs,'is missing parcels.shp')"
   ]
  },
  {
   "cell_type": "code",
   "execution_count": 5,
   "metadata": {},
   "outputs": [
    {
     "ename": "TypeError",
     "evalue": "cannot use a string pattern on a bytes-like object",
     "output_type": "error",
     "traceback": [
      "\u001b[1;31m---------------------------------------------------------------------------\u001b[0m",
      "\u001b[1;31mTypeError\u001b[0m                                 Traceback (most recent call last)",
      "Cell \u001b[1;32mIn[5], line 3\u001b[0m\n\u001b[0;32m      1\u001b[0m countiesDir \u001b[38;5;241m=\u001b[39m \u001b[38;5;124mr\u001b[39m\u001b[38;5;124m'\u001b[39m\u001b[38;5;124mC:\u001b[39m\u001b[38;5;124m\\\u001b[39m\u001b[38;5;124mUsers\u001b[39m\u001b[38;5;124m\\\u001b[39m\u001b[38;5;124mphwh9568\u001b[39m\u001b[38;5;124m\\\u001b[39m\u001b[38;5;124mData\u001b[39m\u001b[38;5;124m\\\u001b[39m\u001b[38;5;124mParcelAtlas\u001b[39m\u001b[38;5;124m\\\u001b[39m\u001b[38;5;124mCO_2022\u001b[39m\u001b[38;5;124m\\\u001b[39m\u001b[38;5;124mCounties\u001b[39m\u001b[38;5;124m'\u001b[39m\n\u001b[1;32m----> 3\u001b[0m co_counties00 \u001b[38;5;241m=\u001b[39m \u001b[43mgpd\u001b[49m\u001b[38;5;241;43m.\u001b[39;49m\u001b[43mread_file\u001b[49m\u001b[43m(\u001b[49m\u001b[43mrequests\u001b[49m\u001b[38;5;241;43m.\u001b[39;49m\u001b[43mget\u001b[49m\u001b[43m(\u001b[49m\u001b[38;5;124;43m'\u001b[39;49m\u001b[38;5;124;43mhttps://www2.census.gov/geo/tiger/TIGER2010/COUNTY/2000/tl_2010_08_county00.zip\u001b[39;49m\u001b[38;5;124;43m'\u001b[39;49m\u001b[43m)\u001b[49m\u001b[38;5;241;43m.\u001b[39;49m\u001b[43mcontent\u001b[49m\u001b[43m)\u001b[49m\n\u001b[0;32m      4\u001b[0m co_counties10 \u001b[38;5;241m=\u001b[39m gpd\u001b[38;5;241m.\u001b[39mread_file(requests\u001b[38;5;241m.\u001b[39mget(\u001b[38;5;124m'\u001b[39m\u001b[38;5;124mhttps://www2.census.gov/geo/tiger/TIGER2010/COUNTY/2010/tl_2010_08_county10.zip\u001b[39m\u001b[38;5;124m'\u001b[39m)\u001b[38;5;241m.\u001b[39mcontent)\n\u001b[0;32m      6\u001b[0m \u001b[38;5;66;03m# change to generate these lists from the parcel data folders so I don't end up with unnessecary folders and data:\u001b[39;00m\n",
      "File \u001b[1;32mc:\\Users\\phwh9568\\AppData\\Local\\miniforge3\\envs\\gis_env\\Lib\\site-packages\\geopandas\\io\\file.py:297\u001b[0m, in \u001b[0;36m_read_file\u001b[1;34m(filename, bbox, mask, rows, engine, **kwargs)\u001b[0m\n\u001b[0;32m    294\u001b[0m     \u001b[38;5;28;01melse\u001b[39;00m:\n\u001b[0;32m    295\u001b[0m         path_or_bytes \u001b[38;5;241m=\u001b[39m filename\n\u001b[1;32m--> 297\u001b[0m     \u001b[38;5;28;01mreturn\u001b[39;00m \u001b[43m_read_file_fiona\u001b[49m\u001b[43m(\u001b[49m\n\u001b[0;32m    298\u001b[0m \u001b[43m        \u001b[49m\u001b[43mpath_or_bytes\u001b[49m\u001b[43m,\u001b[49m\u001b[43m \u001b[49m\u001b[43mfrom_bytes\u001b[49m\u001b[43m,\u001b[49m\u001b[43m \u001b[49m\u001b[43mbbox\u001b[49m\u001b[38;5;241;43m=\u001b[39;49m\u001b[43mbbox\u001b[49m\u001b[43m,\u001b[49m\u001b[43m \u001b[49m\u001b[43mmask\u001b[49m\u001b[38;5;241;43m=\u001b[39;49m\u001b[43mmask\u001b[49m\u001b[43m,\u001b[49m\u001b[43m \u001b[49m\u001b[43mrows\u001b[49m\u001b[38;5;241;43m=\u001b[39;49m\u001b[43mrows\u001b[49m\u001b[43m,\u001b[49m\u001b[43m \u001b[49m\u001b[38;5;241;43m*\u001b[39;49m\u001b[38;5;241;43m*\u001b[39;49m\u001b[43mkwargs\u001b[49m\n\u001b[0;32m    299\u001b[0m \u001b[43m    \u001b[49m\u001b[43m)\u001b[49m\n\u001b[0;32m    301\u001b[0m \u001b[38;5;28;01melse\u001b[39;00m:\n\u001b[0;32m    302\u001b[0m     \u001b[38;5;28;01mraise\u001b[39;00m \u001b[38;5;167;01mValueError\u001b[39;00m(\u001b[38;5;124mf\u001b[39m\u001b[38;5;124m\"\u001b[39m\u001b[38;5;124munknown engine \u001b[39m\u001b[38;5;124m'\u001b[39m\u001b[38;5;132;01m{\u001b[39;00mengine\u001b[38;5;132;01m}\u001b[39;00m\u001b[38;5;124m'\u001b[39m\u001b[38;5;124m\"\u001b[39m)\n",
      "File \u001b[1;32mc:\\Users\\phwh9568\\AppData\\Local\\miniforge3\\envs\\gis_env\\Lib\\site-packages\\geopandas\\io\\file.py:338\u001b[0m, in \u001b[0;36m_read_file_fiona\u001b[1;34m(path_or_bytes, from_bytes, bbox, mask, rows, where, **kwargs)\u001b[0m\n\u001b[0;32m    335\u001b[0m     reader \u001b[38;5;241m=\u001b[39m fiona\u001b[38;5;241m.\u001b[39mopen\n\u001b[0;32m    337\u001b[0m \u001b[38;5;28;01mwith\u001b[39;00m fiona_env():\n\u001b[1;32m--> 338\u001b[0m     \u001b[38;5;28;01mwith\u001b[39;00m \u001b[43mreader\u001b[49m\u001b[43m(\u001b[49m\u001b[43mpath_or_bytes\u001b[49m\u001b[43m,\u001b[49m\u001b[43m \u001b[49m\u001b[38;5;241;43m*\u001b[39;49m\u001b[38;5;241;43m*\u001b[39;49m\u001b[43mkwargs\u001b[49m\u001b[43m)\u001b[49m \u001b[38;5;28;01mas\u001b[39;00m features:\n\u001b[0;32m    339\u001b[0m         crs \u001b[38;5;241m=\u001b[39m features\u001b[38;5;241m.\u001b[39mcrs_wkt\n\u001b[0;32m    340\u001b[0m         \u001b[38;5;66;03m# attempt to get EPSG code\u001b[39;00m\n",
      "File \u001b[1;32mc:\\Users\\phwh9568\\AppData\\Local\\miniforge3\\envs\\gis_env\\Lib\\site-packages\\fiona\\env.py:457\u001b[0m, in \u001b[0;36mensure_env_with_credentials.<locals>.wrapper\u001b[1;34m(*args, **kwds)\u001b[0m\n\u001b[0;32m    454\u001b[0m     session \u001b[38;5;241m=\u001b[39m DummySession()\n\u001b[0;32m    456\u001b[0m \u001b[38;5;28;01mwith\u001b[39;00m env_ctor(session\u001b[38;5;241m=\u001b[39msession):\n\u001b[1;32m--> 457\u001b[0m     \u001b[38;5;28;01mreturn\u001b[39;00m \u001b[43mf\u001b[49m\u001b[43m(\u001b[49m\u001b[38;5;241;43m*\u001b[39;49m\u001b[43margs\u001b[49m\u001b[43m,\u001b[49m\u001b[43m \u001b[49m\u001b[38;5;241;43m*\u001b[39;49m\u001b[38;5;241;43m*\u001b[39;49m\u001b[43mkwds\u001b[49m\u001b[43m)\u001b[49m\n",
      "File \u001b[1;32mc:\\Users\\phwh9568\\AppData\\Local\\miniforge3\\envs\\gis_env\\Lib\\site-packages\\fiona\\__init__.py:289\u001b[0m, in \u001b[0;36mopen\u001b[1;34m(fp, mode, driver, schema, crs, encoding, layer, vfs, enabled_drivers, crs_wkt, allow_unsupported_drivers, **kwargs)\u001b[0m\n\u001b[0;32m    287\u001b[0m     path \u001b[38;5;241m=\u001b[39m ParsedPath(path, archive, scheme)\n\u001b[0;32m    288\u001b[0m \u001b[38;5;28;01melse\u001b[39;00m:\n\u001b[1;32m--> 289\u001b[0m     path \u001b[38;5;241m=\u001b[39m \u001b[43mparse_path\u001b[49m\u001b[43m(\u001b[49m\u001b[43mfp\u001b[49m\u001b[43m)\u001b[49m\n\u001b[0;32m    291\u001b[0m \u001b[38;5;28;01mif\u001b[39;00m mode \u001b[38;5;129;01min\u001b[39;00m (\u001b[38;5;124m\"\u001b[39m\u001b[38;5;124ma\u001b[39m\u001b[38;5;124m\"\u001b[39m, \u001b[38;5;124m\"\u001b[39m\u001b[38;5;124mr\u001b[39m\u001b[38;5;124m\"\u001b[39m):\n\u001b[0;32m    292\u001b[0m     colxn \u001b[38;5;241m=\u001b[39m Collection(\n\u001b[0;32m    293\u001b[0m         path,\n\u001b[0;32m    294\u001b[0m         mode,\n\u001b[1;32m   (...)\u001b[0m\n\u001b[0;32m    300\u001b[0m         \u001b[38;5;241m*\u001b[39m\u001b[38;5;241m*\u001b[39mkwargs\n\u001b[0;32m    301\u001b[0m     )\n",
      "File \u001b[1;32mc:\\Users\\phwh9568\\AppData\\Local\\miniforge3\\envs\\gis_env\\Lib\\site-packages\\fiona\\path.py:133\u001b[0m, in \u001b[0;36mparse_path\u001b[1;34m(path)\u001b[0m\n\u001b[0;32m    129\u001b[0m     \u001b[38;5;28;01mreturn\u001b[39;00m path\n\u001b[0;32m    131\u001b[0m \u001b[38;5;66;03m# Windows drive letters (e.g. \"C:\\\") confuse `urlparse` as they look like\u001b[39;00m\n\u001b[0;32m    132\u001b[0m \u001b[38;5;66;03m# URL schemes\u001b[39;00m\n\u001b[1;32m--> 133\u001b[0m \u001b[38;5;28;01melif\u001b[39;00m sys\u001b[38;5;241m.\u001b[39mplatform \u001b[38;5;241m==\u001b[39m \u001b[38;5;124m\"\u001b[39m\u001b[38;5;124mwin32\u001b[39m\u001b[38;5;124m\"\u001b[39m \u001b[38;5;129;01mand\u001b[39;00m \u001b[43mre\u001b[49m\u001b[38;5;241;43m.\u001b[39;49m\u001b[43mmatch\u001b[49m\u001b[43m(\u001b[49m\u001b[38;5;124;43m\"\u001b[39;49m\u001b[38;5;124;43m^[a-zA-Z]\u001b[39;49m\u001b[38;5;130;43;01m\\\\\u001b[39;49;00m\u001b[38;5;124;43m:\u001b[39;49m\u001b[38;5;124;43m\"\u001b[39;49m\u001b[43m,\u001b[49m\u001b[43m \u001b[49m\u001b[43mpath\u001b[49m\u001b[43m)\u001b[49m:\n\u001b[0;32m    134\u001b[0m     \u001b[38;5;28;01mreturn\u001b[39;00m UnparsedPath(path)\n\u001b[0;32m    136\u001b[0m \u001b[38;5;28;01melif\u001b[39;00m path\u001b[38;5;241m.\u001b[39mstartswith(\u001b[38;5;124m'\u001b[39m\u001b[38;5;124m/vsi\u001b[39m\u001b[38;5;124m'\u001b[39m):\n",
      "File \u001b[1;32mc:\\Users\\phwh9568\\AppData\\Local\\miniforge3\\envs\\gis_env\\Lib\\re\\__init__.py:167\u001b[0m, in \u001b[0;36mmatch\u001b[1;34m(pattern, string, flags)\u001b[0m\n\u001b[0;32m    164\u001b[0m \u001b[38;5;28;01mdef\u001b[39;00m \u001b[38;5;21mmatch\u001b[39m(pattern, string, flags\u001b[38;5;241m=\u001b[39m\u001b[38;5;241m0\u001b[39m):\n\u001b[0;32m    165\u001b[0m \u001b[38;5;250m    \u001b[39m\u001b[38;5;124;03m\"\"\"Try to apply the pattern at the start of the string, returning\u001b[39;00m\n\u001b[0;32m    166\u001b[0m \u001b[38;5;124;03m    a Match object, or None if no match was found.\"\"\"\u001b[39;00m\n\u001b[1;32m--> 167\u001b[0m     \u001b[38;5;28;01mreturn\u001b[39;00m \u001b[43m_compile\u001b[49m\u001b[43m(\u001b[49m\u001b[43mpattern\u001b[49m\u001b[43m,\u001b[49m\u001b[43m \u001b[49m\u001b[43mflags\u001b[49m\u001b[43m)\u001b[49m\u001b[38;5;241;43m.\u001b[39;49m\u001b[43mmatch\u001b[49m\u001b[43m(\u001b[49m\u001b[43mstring\u001b[49m\u001b[43m)\u001b[49m\n",
      "\u001b[1;31mTypeError\u001b[0m: cannot use a string pattern on a bytes-like object"
     ]
    }
   ],
   "source": [
    "countiesDir = r'C:\\Users\\phwh9568\\Data\\ParcelAtlas\\CO_2022\\Counties'\n",
    "\n",
    "co_counties00 = gpd.read_file(requests.get('https://www2.census.gov/geo/tiger/TIGER2010/COUNTY/2000/tl_2010_08_county00.zip').content)\n",
    "co_counties10 = gpd.read_file(requests.get('https://www2.census.gov/geo/tiger/TIGER2010/COUNTY/2010/tl_2010_08_county10.zip').content)\n",
    "\n",
    "# change to generate these lists from the parcel data folders so I don't end up with unnessecary folders and data:\n",
    "fips00 = co_counties00['CNTYIDFP00'].to_list()\n",
    "fips10 = co_counties10['GEOID10'].to_list()"
   ]
  },
  {
   "cell_type": "code",
   "execution_count": 11,
   "metadata": {},
   "outputs": [
    {
     "data": {
      "text/html": [
       "<div>\n",
       "<style scoped>\n",
       "    .dataframe tbody tr th:only-of-type {\n",
       "        vertical-align: middle;\n",
       "    }\n",
       "\n",
       "    .dataframe tbody tr th {\n",
       "        vertical-align: top;\n",
       "    }\n",
       "\n",
       "    .dataframe thead th {\n",
       "        text-align: right;\n",
       "    }\n",
       "</style>\n",
       "<table border=\"1\" class=\"dataframe\">\n",
       "  <thead>\n",
       "    <tr style=\"text-align: right;\">\n",
       "      <th></th>\n",
       "      <th>STATEFP00</th>\n",
       "      <th>COUNTYFP00</th>\n",
       "      <th>CNTYIDFP00</th>\n",
       "      <th>NAME00</th>\n",
       "      <th>NAMELSAD00</th>\n",
       "      <th>LSAD00</th>\n",
       "      <th>CLASSFP00</th>\n",
       "      <th>MTFCC00</th>\n",
       "      <th>UR00</th>\n",
       "      <th>FUNCSTAT00</th>\n",
       "      <th>ALAND00</th>\n",
       "      <th>AWATER00</th>\n",
       "      <th>INTPTLAT00</th>\n",
       "      <th>INTPTLON00</th>\n",
       "      <th>geometry</th>\n",
       "    </tr>\n",
       "  </thead>\n",
       "  <tbody>\n",
       "    <tr>\n",
       "      <th>0</th>\n",
       "      <td>08</td>\n",
       "      <td>013</td>\n",
       "      <td>08013</td>\n",
       "      <td>Boulder</td>\n",
       "      <td>Boulder County</td>\n",
       "      <td>06</td>\n",
       "      <td>H1</td>\n",
       "      <td>G4020</td>\n",
       "      <td>M</td>\n",
       "      <td>A</td>\n",
       "      <td>1908733293</td>\n",
       "      <td>36715760</td>\n",
       "      <td>+40.0866321</td>\n",
       "      <td>-105.3590729</td>\n",
       "      <td>POLYGON ((-105.16615 39.91405, -105.16657 39.9...</td>\n",
       "    </tr>\n",
       "    <tr>\n",
       "      <th>1</th>\n",
       "      <td>08</td>\n",
       "      <td>069</td>\n",
       "      <td>08069</td>\n",
       "      <td>Larimer</td>\n",
       "      <td>Larimer County</td>\n",
       "      <td>06</td>\n",
       "      <td>H1</td>\n",
       "      <td>G4020</td>\n",
       "      <td>M</td>\n",
       "      <td>A</td>\n",
       "      <td>6723614521</td>\n",
       "      <td>98295250</td>\n",
       "      <td>+40.6630912</td>\n",
       "      <td>-105.4821309</td>\n",
       "      <td>POLYGON ((-105.05672 40.34928, -105.05670 40.3...</td>\n",
       "    </tr>\n",
       "    <tr>\n",
       "      <th>2</th>\n",
       "      <td>08</td>\n",
       "      <td>071</td>\n",
       "      <td>08071</td>\n",
       "      <td>Las Animas</td>\n",
       "      <td>Las Animas County</td>\n",
       "      <td>06</td>\n",
       "      <td>H1</td>\n",
       "      <td>G4020</td>\n",
       "      <td>M</td>\n",
       "      <td>A</td>\n",
       "      <td>12361162110</td>\n",
       "      <td>6929979</td>\n",
       "      <td>+37.3188308</td>\n",
       "      <td>-104.0441103</td>\n",
       "      <td>POLYGON ((-104.14318 37.75833, -104.12615 37.7...</td>\n",
       "    </tr>\n",
       "    <tr>\n",
       "      <th>3</th>\n",
       "      <td>08</td>\n",
       "      <td>043</td>\n",
       "      <td>08043</td>\n",
       "      <td>Fremont</td>\n",
       "      <td>Fremont County</td>\n",
       "      <td>06</td>\n",
       "      <td>H1</td>\n",
       "      <td>G4020</td>\n",
       "      <td>M</td>\n",
       "      <td>A</td>\n",
       "      <td>3970618782</td>\n",
       "      <td>2235223</td>\n",
       "      <td>+38.4556576</td>\n",
       "      <td>-105.4214383</td>\n",
       "      <td>POLYGON ((-105.36889 38.25940, -105.36909 38.2...</td>\n",
       "    </tr>\n",
       "    <tr>\n",
       "      <th>4</th>\n",
       "      <td>08</td>\n",
       "      <td>041</td>\n",
       "      <td>08041</td>\n",
       "      <td>El Paso</td>\n",
       "      <td>El Paso County</td>\n",
       "      <td>06</td>\n",
       "      <td>H1</td>\n",
       "      <td>G4020</td>\n",
       "      <td>M</td>\n",
       "      <td>A</td>\n",
       "      <td>5508385644</td>\n",
       "      <td>7111582</td>\n",
       "      <td>+38.8273831</td>\n",
       "      <td>-104.5274718</td>\n",
       "      <td>POLYGON ((-104.93899 38.79201, -104.93898 38.7...</td>\n",
       "    </tr>\n",
       "    <tr>\n",
       "      <th>...</th>\n",
       "      <td>...</td>\n",
       "      <td>...</td>\n",
       "      <td>...</td>\n",
       "      <td>...</td>\n",
       "      <td>...</td>\n",
       "      <td>...</td>\n",
       "      <td>...</td>\n",
       "      <td>...</td>\n",
       "      <td>...</td>\n",
       "      <td>...</td>\n",
       "      <td>...</td>\n",
       "      <td>...</td>\n",
       "      <td>...</td>\n",
       "      <td>...</td>\n",
       "      <td>...</td>\n",
       "    </tr>\n",
       "    <tr>\n",
       "      <th>58</th>\n",
       "      <td>08</td>\n",
       "      <td>119</td>\n",
       "      <td>08119</td>\n",
       "      <td>Teller</td>\n",
       "      <td>Teller County</td>\n",
       "      <td>06</td>\n",
       "      <td>H1</td>\n",
       "      <td>G4020</td>\n",
       "      <td>M</td>\n",
       "      <td>A</td>\n",
       "      <td>1442791835</td>\n",
       "      <td>4944570</td>\n",
       "      <td>+38.8719937</td>\n",
       "      <td>-105.1825519</td>\n",
       "      <td>POLYGON ((-105.32892 38.85756, -105.32893 38.8...</td>\n",
       "    </tr>\n",
       "    <tr>\n",
       "      <th>59</th>\n",
       "      <td>08</td>\n",
       "      <td>015</td>\n",
       "      <td>08015</td>\n",
       "      <td>Chaffee</td>\n",
       "      <td>Chaffee County</td>\n",
       "      <td>06</td>\n",
       "      <td>H1</td>\n",
       "      <td>G4020</td>\n",
       "      <td>M</td>\n",
       "      <td>A</td>\n",
       "      <td>2624423718</td>\n",
       "      <td>4013482</td>\n",
       "      <td>+38.7382457</td>\n",
       "      <td>-106.3169723</td>\n",
       "      <td>POLYGON ((-106.45187 38.69834, -106.45213 38.6...</td>\n",
       "    </tr>\n",
       "    <tr>\n",
       "      <th>60</th>\n",
       "      <td>08</td>\n",
       "      <td>057</td>\n",
       "      <td>08057</td>\n",
       "      <td>Jackson</td>\n",
       "      <td>Jackson County</td>\n",
       "      <td>06</td>\n",
       "      <td>H1</td>\n",
       "      <td>G4020</td>\n",
       "      <td>R</td>\n",
       "      <td>A</td>\n",
       "      <td>4179523206</td>\n",
       "      <td>18749970</td>\n",
       "      <td>+40.6634319</td>\n",
       "      <td>-106.3292476</td>\n",
       "      <td>POLYGON ((-106.68866 40.65077, -106.69127 40.6...</td>\n",
       "    </tr>\n",
       "    <tr>\n",
       "      <th>61</th>\n",
       "      <td>08</td>\n",
       "      <td>111</td>\n",
       "      <td>08111</td>\n",
       "      <td>San Juan</td>\n",
       "      <td>San Juan County</td>\n",
       "      <td>06</td>\n",
       "      <td>H1</td>\n",
       "      <td>G4020</td>\n",
       "      <td>R</td>\n",
       "      <td>A</td>\n",
       "      <td>1003575085</td>\n",
       "      <td>2035933</td>\n",
       "      <td>+37.7810745</td>\n",
       "      <td>-107.6702566</td>\n",
       "      <td>POLYGON ((-107.51750 37.83752, -107.51734 37.8...</td>\n",
       "    </tr>\n",
       "    <tr>\n",
       "      <th>62</th>\n",
       "      <td>08</td>\n",
       "      <td>007</td>\n",
       "      <td>08007</td>\n",
       "      <td>Archuleta</td>\n",
       "      <td>Archuleta County</td>\n",
       "      <td>06</td>\n",
       "      <td>H1</td>\n",
       "      <td>G4020</td>\n",
       "      <td>M</td>\n",
       "      <td>A</td>\n",
       "      <td>3496937899</td>\n",
       "      <td>13827529</td>\n",
       "      <td>+37.2023952</td>\n",
       "      <td>-107.0508634</td>\n",
       "      <td>POLYGON ((-107.25497 37.00001, -107.25505 37.0...</td>\n",
       "    </tr>\n",
       "  </tbody>\n",
       "</table>\n",
       "<p>63 rows × 15 columns</p>\n",
       "</div>"
      ],
      "text/plain": [
       "   STATEFP00 COUNTYFP00 CNTYIDFP00      NAME00         NAMELSAD00 LSAD00  \\\n",
       "0         08        013      08013     Boulder     Boulder County     06   \n",
       "1         08        069      08069     Larimer     Larimer County     06   \n",
       "2         08        071      08071  Las Animas  Las Animas County     06   \n",
       "3         08        043      08043     Fremont     Fremont County     06   \n",
       "4         08        041      08041     El Paso     El Paso County     06   \n",
       "..       ...        ...        ...         ...                ...    ...   \n",
       "58        08        119      08119      Teller      Teller County     06   \n",
       "59        08        015      08015     Chaffee     Chaffee County     06   \n",
       "60        08        057      08057     Jackson     Jackson County     06   \n",
       "61        08        111      08111    San Juan    San Juan County     06   \n",
       "62        08        007      08007   Archuleta   Archuleta County     06   \n",
       "\n",
       "   CLASSFP00 MTFCC00 UR00 FUNCSTAT00      ALAND00  AWATER00   INTPTLAT00  \\\n",
       "0         H1   G4020    M          A   1908733293  36715760  +40.0866321   \n",
       "1         H1   G4020    M          A   6723614521  98295250  +40.6630912   \n",
       "2         H1   G4020    M          A  12361162110   6929979  +37.3188308   \n",
       "3         H1   G4020    M          A   3970618782   2235223  +38.4556576   \n",
       "4         H1   G4020    M          A   5508385644   7111582  +38.8273831   \n",
       "..       ...     ...  ...        ...          ...       ...          ...   \n",
       "58        H1   G4020    M          A   1442791835   4944570  +38.8719937   \n",
       "59        H1   G4020    M          A   2624423718   4013482  +38.7382457   \n",
       "60        H1   G4020    R          A   4179523206  18749970  +40.6634319   \n",
       "61        H1   G4020    R          A   1003575085   2035933  +37.7810745   \n",
       "62        H1   G4020    M          A   3496937899  13827529  +37.2023952   \n",
       "\n",
       "      INTPTLON00                                           geometry  \n",
       "0   -105.3590729  POLYGON ((-105.16615 39.91405, -105.16657 39.9...  \n",
       "1   -105.4821309  POLYGON ((-105.05672 40.34928, -105.05670 40.3...  \n",
       "2   -104.0441103  POLYGON ((-104.14318 37.75833, -104.12615 37.7...  \n",
       "3   -105.4214383  POLYGON ((-105.36889 38.25940, -105.36909 38.2...  \n",
       "4   -104.5274718  POLYGON ((-104.93899 38.79201, -104.93898 38.7...  \n",
       "..           ...                                                ...  \n",
       "58  -105.1825519  POLYGON ((-105.32892 38.85756, -105.32893 38.8...  \n",
       "59  -106.3169723  POLYGON ((-106.45187 38.69834, -106.45213 38.6...  \n",
       "60  -106.3292476  POLYGON ((-106.68866 40.65077, -106.69127 40.6...  \n",
       "61  -107.6702566  POLYGON ((-107.51750 37.83752, -107.51734 37.8...  \n",
       "62  -107.0508634  POLYGON ((-107.25497 37.00001, -107.25505 37.0...  \n",
       "\n",
       "[63 rows x 15 columns]"
      ]
     },
     "execution_count": 11,
     "metadata": {},
     "output_type": "execute_result"
    }
   ],
   "source": [
    "gpd.read_file(requests.get('https://www2.census.gov/geo/tiger/TIGER2010/COUNTY/2000/tl_2010_08_county00.zip').content)"
   ]
  },
  {
   "cell_type": "code",
   "execution_count": null,
   "metadata": {},
   "outputs": [],
   "source": []
  }
 ],
 "metadata": {
  "kernelspec": {
   "display_name": "gis_env",
   "language": "python",
   "name": "python3"
  },
  "language_info": {
   "codemirror_mode": {
    "name": "ipython",
    "version": 3
   },
   "file_extension": ".py",
   "mimetype": "text/x-python",
   "name": "python",
   "nbconvert_exporter": "python",
   "pygments_lexer": "ipython3",
   "version": "3.12.2"
  }
 },
 "nbformat": 4,
 "nbformat_minor": 2
}
