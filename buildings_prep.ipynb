{
 "cells": [
  {
   "cell_type": "code",
   "execution_count": 93,
   "metadata": {},
   "outputs": [],
   "source": [
    "import geopandas as gpd\n",
    "import pandas as pd\n",
    "import requests\n",
    "import os\n",
    "import warnings\n",
    "from fiona.io import ZipMemoryFile\n",
    "import io\n",
    "import fiona"
   ]
  },
  {
   "cell_type": "code",
   "execution_count": 43,
   "metadata": {},
   "outputs": [],
   "source": [
    "dataPath = r'C:\\Users\\phwh9568\\Data\\ParcelAtlas'"
   ]
  },
  {
   "cell_type": "code",
   "execution_count": 6,
   "metadata": {},
   "outputs": [],
   "source": [
    "warnings.filterwarnings(\"ignore\")"
   ]
  },
  {
   "cell_type": "code",
   "execution_count": 3,
   "metadata": {},
   "outputs": [],
   "source": [
    "countiesPath = r'C:\\Users\\phwh9568\\Data\\ParcelAtlas\\tl_2022_us_county\\tl_2022_us_county.shp'"
   ]
  },
  {
   "cell_type": "code",
   "execution_count": 14,
   "metadata": {},
   "outputs": [],
   "source": [
    "counties = gpd.read_file(countiesPath, dtype={'STATEFP':str, 'COUNTYFP':str, 'GEOID':str})"
   ]
  },
  {
   "cell_type": "code",
   "execution_count": 26,
   "metadata": {},
   "outputs": [],
   "source": [
    "counties.sort_values(['GEOID'], inplace=True)\n"
   ]
  },
  {
   "cell_type": "code",
   "execution_count": 27,
   "metadata": {},
   "outputs": [],
   "source": [
    "fipsList = counties['GEOID'].to_list()\n"
   ]
  },
  {
   "cell_type": "code",
   "execution_count": 28,
   "metadata": {},
   "outputs": [
    {
     "data": {
      "text/plain": [
       "3235"
      ]
     },
     "execution_count": 28,
     "metadata": {},
     "output_type": "execute_result"
    }
   ],
   "source": [
    "len(fipsList)"
   ]
  },
  {
   "cell_type": "code",
   "execution_count": 47,
   "metadata": {},
   "outputs": [],
   "source": [
    "stateFips = pd.read_csv(os.path.join(dataPath,'stateFips.csv'), dtype={'STATEFP':str, 'STATENS':str})"
   ]
  },
  {
   "cell_type": "code",
   "execution_count": 70,
   "metadata": {},
   "outputs": [],
   "source": [
    "stateFipsDict=dict(zip(stateFips['STATEFP'].to_list(), stateFips['STATE_NAME'].to_list()))"
   ]
  },
  {
   "cell_type": "markdown",
   "metadata": {},
   "source": [
    "To iterate through buildings data, use this to start:"
   ]
  },
  {
   "cell_type": "code",
   "execution_count": null,
   "metadata": {},
   "outputs": [],
   "source": [
    "\n",
    "for k,v in stateFipsDict.items():\n",
    "    print(k,v)"
   ]
  },
  {
   "cell_type": "code",
   "execution_count": 75,
   "metadata": {},
   "outputs": [
    {
     "data": {
      "text/plain": [
       "'Rhode Island'"
      ]
     },
     "execution_count": 75,
     "metadata": {},
     "output_type": "execute_result"
    }
   ],
   "source": [
    "stateFipsDict['44']"
   ]
  },
  {
   "cell_type": "code",
   "execution_count": 80,
   "metadata": {},
   "outputs": [],
   "source": [
    "url = 'https://usbuildingdata.blob.core.windows.net/usbuildings-v2/'"
   ]
  },
  {
   "cell_type": "code",
   "execution_count": 86,
   "metadata": {},
   "outputs": [],
   "source": [
    "stateUrl = url+stateFipsDict['44'].replace(' ','')+'.geojson.zip'"
   ]
  },
  {
   "cell_type": "code",
   "execution_count": 109,
   "metadata": {},
   "outputs": [
    {
     "data": {
      "text/plain": [
       "'https://usbuildingdata.blob.core.windows.net/usbuildings-v2/RhodeIsland.geojson.zip'"
      ]
     },
     "execution_count": 109,
     "metadata": {},
     "output_type": "execute_result"
    }
   ],
   "source": [
    "stateUrl"
   ]
  },
  {
   "cell_type": "code",
   "execution_count": 116,
   "metadata": {},
   "outputs": [],
   "source": [
    "del state"
   ]
  },
  {
   "cell_type": "code",
   "execution_count": 143,
   "metadata": {},
   "outputs": [],
   "source": [
    "stateBuildings = gpd.read_file(requests.get(stateUrl).content)"
   ]
  },
  {
   "cell_type": "code",
   "execution_count": 113,
   "metadata": {},
   "outputs": [],
   "source": [
    "stateCounties = counties.loc[counties['STATEFP'] == '44']"
   ]
  },
  {
   "cell_type": "code",
   "execution_count": 114,
   "metadata": {},
   "outputs": [
    {
     "data": {
      "text/html": [
       "<div>\n",
       "<style scoped>\n",
       "    .dataframe tbody tr th:only-of-type {\n",
       "        vertical-align: middle;\n",
       "    }\n",
       "\n",
       "    .dataframe tbody tr th {\n",
       "        vertical-align: top;\n",
       "    }\n",
       "\n",
       "    .dataframe thead th {\n",
       "        text-align: right;\n",
       "    }\n",
       "</style>\n",
       "<table border=\"1\" class=\"dataframe\">\n",
       "  <thead>\n",
       "    <tr style=\"text-align: right;\">\n",
       "      <th></th>\n",
       "      <th>STATEFP</th>\n",
       "      <th>COUNTYFP</th>\n",
       "      <th>COUNTYNS</th>\n",
       "      <th>GEOID</th>\n",
       "      <th>NAME</th>\n",
       "      <th>NAMELSAD</th>\n",
       "      <th>LSAD</th>\n",
       "      <th>CLASSFP</th>\n",
       "      <th>MTFCC</th>\n",
       "      <th>CSAFP</th>\n",
       "      <th>CBSAFP</th>\n",
       "      <th>METDIVFP</th>\n",
       "      <th>FUNCSTAT</th>\n",
       "      <th>ALAND</th>\n",
       "      <th>AWATER</th>\n",
       "      <th>INTPTLAT</th>\n",
       "      <th>INTPTLON</th>\n",
       "      <th>geometry</th>\n",
       "    </tr>\n",
       "  </thead>\n",
       "  <tbody>\n",
       "    <tr>\n",
       "      <th>2917</th>\n",
       "      <td>44</td>\n",
       "      <td>001</td>\n",
       "      <td>01219777</td>\n",
       "      <td>44001</td>\n",
       "      <td>Bristol</td>\n",
       "      <td>Bristol County</td>\n",
       "      <td>06</td>\n",
       "      <td>H4</td>\n",
       "      <td>G4020</td>\n",
       "      <td>None</td>\n",
       "      <td>None</td>\n",
       "      <td>None</td>\n",
       "      <td>N</td>\n",
       "      <td>62500773</td>\n",
       "      <td>53359134</td>\n",
       "      <td>+41.7068397</td>\n",
       "      <td>-071.2866874</td>\n",
       "      <td>POLYGON ((-71.21043 41.68801, -71.21086 41.687...</td>\n",
       "    </tr>\n",
       "    <tr>\n",
       "      <th>3213</th>\n",
       "      <td>44</td>\n",
       "      <td>003</td>\n",
       "      <td>01219778</td>\n",
       "      <td>44003</td>\n",
       "      <td>Kent</td>\n",
       "      <td>Kent County</td>\n",
       "      <td>06</td>\n",
       "      <td>H4</td>\n",
       "      <td>G4020</td>\n",
       "      <td>None</td>\n",
       "      <td>None</td>\n",
       "      <td>None</td>\n",
       "      <td>N</td>\n",
       "      <td>436588773</td>\n",
       "      <td>50686111</td>\n",
       "      <td>+41.6751180</td>\n",
       "      <td>-071.5802819</td>\n",
       "      <td>POLYGON ((-71.54481 41.60199, -71.54501 41.601...</td>\n",
       "    </tr>\n",
       "    <tr>\n",
       "      <th>2919</th>\n",
       "      <td>44</td>\n",
       "      <td>005</td>\n",
       "      <td>01219779</td>\n",
       "      <td>44005</td>\n",
       "      <td>Newport</td>\n",
       "      <td>Newport County</td>\n",
       "      <td>06</td>\n",
       "      <td>H4</td>\n",
       "      <td>G4020</td>\n",
       "      <td>None</td>\n",
       "      <td>None</td>\n",
       "      <td>None</td>\n",
       "      <td>N</td>\n",
       "      <td>265293779</td>\n",
       "      <td>547001789</td>\n",
       "      <td>+41.5010449</td>\n",
       "      <td>-071.2830626</td>\n",
       "      <td>POLYGON ((-71.11640 41.48457, -71.11543 41.482...</td>\n",
       "    </tr>\n",
       "    <tr>\n",
       "      <th>1640</th>\n",
       "      <td>44</td>\n",
       "      <td>007</td>\n",
       "      <td>01219781</td>\n",
       "      <td>44007</td>\n",
       "      <td>Providence</td>\n",
       "      <td>Providence County</td>\n",
       "      <td>06</td>\n",
       "      <td>H4</td>\n",
       "      <td>G4020</td>\n",
       "      <td>None</td>\n",
       "      <td>None</td>\n",
       "      <td>None</td>\n",
       "      <td>N</td>\n",
       "      <td>1060552452</td>\n",
       "      <td>67870210</td>\n",
       "      <td>+41.8697678</td>\n",
       "      <td>-071.5786246</td>\n",
       "      <td>POLYGON ((-71.54735 41.73120, -71.54743 41.731...</td>\n",
       "    </tr>\n",
       "    <tr>\n",
       "      <th>1336</th>\n",
       "      <td>44</td>\n",
       "      <td>009</td>\n",
       "      <td>01219782</td>\n",
       "      <td>44009</td>\n",
       "      <td>Washington</td>\n",
       "      <td>Washington County</td>\n",
       "      <td>06</td>\n",
       "      <td>H4</td>\n",
       "      <td>G4020</td>\n",
       "      <td>None</td>\n",
       "      <td>None</td>\n",
       "      <td>None</td>\n",
       "      <td>N</td>\n",
       "      <td>852827596</td>\n",
       "      <td>604769731</td>\n",
       "      <td>+41.3967920</td>\n",
       "      <td>-071.6202820</td>\n",
       "      <td>MULTIPOLYGON (((-71.57520 41.32094, -71.57525 ...</td>\n",
       "    </tr>\n",
       "  </tbody>\n",
       "</table>\n",
       "</div>"
      ],
      "text/plain": [
       "     STATEFP COUNTYFP  COUNTYNS  GEOID        NAME           NAMELSAD LSAD  \\\n",
       "2917      44      001  01219777  44001     Bristol     Bristol County   06   \n",
       "3213      44      003  01219778  44003        Kent        Kent County   06   \n",
       "2919      44      005  01219779  44005     Newport     Newport County   06   \n",
       "1640      44      007  01219781  44007  Providence  Providence County   06   \n",
       "1336      44      009  01219782  44009  Washington  Washington County   06   \n",
       "\n",
       "     CLASSFP  MTFCC CSAFP CBSAFP METDIVFP FUNCSTAT       ALAND     AWATER  \\\n",
       "2917      H4  G4020  None   None     None        N    62500773   53359134   \n",
       "3213      H4  G4020  None   None     None        N   436588773   50686111   \n",
       "2919      H4  G4020  None   None     None        N   265293779  547001789   \n",
       "1640      H4  G4020  None   None     None        N  1060552452   67870210   \n",
       "1336      H4  G4020  None   None     None        N   852827596  604769731   \n",
       "\n",
       "         INTPTLAT      INTPTLON  \\\n",
       "2917  +41.7068397  -071.2866874   \n",
       "3213  +41.6751180  -071.5802819   \n",
       "2919  +41.5010449  -071.2830626   \n",
       "1640  +41.8697678  -071.5786246   \n",
       "1336  +41.3967920  -071.6202820   \n",
       "\n",
       "                                               geometry  \n",
       "2917  POLYGON ((-71.21043 41.68801, -71.21086 41.687...  \n",
       "3213  POLYGON ((-71.54481 41.60199, -71.54501 41.601...  \n",
       "2919  POLYGON ((-71.11640 41.48457, -71.11543 41.482...  \n",
       "1640  POLYGON ((-71.54735 41.73120, -71.54743 41.731...  \n",
       "1336  MULTIPOLYGON (((-71.57520 41.32094, -71.57525 ...  "
      ]
     },
     "execution_count": 114,
     "metadata": {},
     "output_type": "execute_result"
    }
   ],
   "source": [
    "stateCounties"
   ]
  },
  {
   "cell_type": "code",
   "execution_count": 140,
   "metadata": {},
   "outputs": [],
   "source": [
    "stateFootprints = gpd.sjoin(stateBuildings, stateCounties, how='left', op='within')\n",
    "stateFootprints.reset_index(inplace=True)\n",
    "stateFootprints.drop(['index_right'], axis = 1, inplace=True)"
   ]
  },
  {
   "cell_type": "code",
   "execution_count": 172,
   "metadata": {},
   "outputs": [],
   "source": [
    "nulls = stateFootprints.loc[stateFootprints['GEOID'].isna()]"
   ]
  },
  {
   "cell_type": "code",
   "execution_count": 173,
   "metadata": {},
   "outputs": [],
   "source": [
    "dropCols = stateCounties.columns.to_list()"
   ]
  },
  {
   "cell_type": "markdown",
   "metadata": {},
   "source": [
    "drop unwanted columns"
   ]
  },
  {
   "cell_type": "code",
   "execution_count": 174,
   "metadata": {},
   "outputs": [],
   "source": [
    "dropCols.remove('geometry')"
   ]
  },
  {
   "cell_type": "code",
   "execution_count": 175,
   "metadata": {},
   "outputs": [],
   "source": [
    "dropCols.append('index')"
   ]
  },
  {
   "cell_type": "code",
   "execution_count": 176,
   "metadata": {},
   "outputs": [],
   "source": [
    "nulls.drop(dropCols, axis=1, inplace=True)"
   ]
  },
  {
   "cell_type": "code",
   "execution_count": 179,
   "metadata": {},
   "outputs": [],
   "source": [
    "nulls = gpd.sjoin(nulls, stateCounties, how='left', op='intersects')"
   ]
  },
  {
   "cell_type": "code",
   "execution_count": 182,
   "metadata": {},
   "outputs": [
    {
     "data": {
      "text/html": [
       "<div>\n",
       "<style scoped>\n",
       "    .dataframe tbody tr th:only-of-type {\n",
       "        vertical-align: middle;\n",
       "    }\n",
       "\n",
       "    .dataframe tbody tr th {\n",
       "        vertical-align: top;\n",
       "    }\n",
       "\n",
       "    .dataframe thead th {\n",
       "        text-align: right;\n",
       "    }\n",
       "</style>\n",
       "<table border=\"1\" class=\"dataframe\">\n",
       "  <thead>\n",
       "    <tr style=\"text-align: right;\">\n",
       "      <th></th>\n",
       "      <th>release</th>\n",
       "      <th>capture_dates_range</th>\n",
       "      <th>geometry</th>\n",
       "      <th>index_right</th>\n",
       "      <th>STATEFP</th>\n",
       "      <th>COUNTYFP</th>\n",
       "      <th>COUNTYNS</th>\n",
       "      <th>GEOID</th>\n",
       "      <th>NAME</th>\n",
       "      <th>NAMELSAD</th>\n",
       "      <th>...</th>\n",
       "      <th>CLASSFP</th>\n",
       "      <th>MTFCC</th>\n",
       "      <th>CSAFP</th>\n",
       "      <th>CBSAFP</th>\n",
       "      <th>METDIVFP</th>\n",
       "      <th>FUNCSTAT</th>\n",
       "      <th>ALAND</th>\n",
       "      <th>AWATER</th>\n",
       "      <th>INTPTLAT</th>\n",
       "      <th>INTPTLON</th>\n",
       "    </tr>\n",
       "  </thead>\n",
       "  <tbody>\n",
       "    <tr>\n",
       "      <th>0</th>\n",
       "      <td>1</td>\n",
       "      <td></td>\n",
       "      <td>POLYGON ((-71.11723 41.50012, -71.11726 41.500...</td>\n",
       "      <td>NaN</td>\n",
       "      <td>NaN</td>\n",
       "      <td>NaN</td>\n",
       "      <td>NaN</td>\n",
       "      <td>NaN</td>\n",
       "      <td>NaN</td>\n",
       "      <td>NaN</td>\n",
       "      <td>...</td>\n",
       "      <td>NaN</td>\n",
       "      <td>NaN</td>\n",
       "      <td>NaN</td>\n",
       "      <td>NaN</td>\n",
       "      <td>NaN</td>\n",
       "      <td>NaN</td>\n",
       "      <td>NaN</td>\n",
       "      <td>NaN</td>\n",
       "      <td>NaN</td>\n",
       "      <td>NaN</td>\n",
       "    </tr>\n",
       "    <tr>\n",
       "      <th>1</th>\n",
       "      <td>1</td>\n",
       "      <td></td>\n",
       "      <td>POLYGON ((-71.12216 41.55490, -71.12204 41.554...</td>\n",
       "      <td>NaN</td>\n",
       "      <td>NaN</td>\n",
       "      <td>NaN</td>\n",
       "      <td>NaN</td>\n",
       "      <td>NaN</td>\n",
       "      <td>NaN</td>\n",
       "      <td>NaN</td>\n",
       "      <td>...</td>\n",
       "      <td>NaN</td>\n",
       "      <td>NaN</td>\n",
       "      <td>NaN</td>\n",
       "      <td>NaN</td>\n",
       "      <td>NaN</td>\n",
       "      <td>NaN</td>\n",
       "      <td>NaN</td>\n",
       "      <td>NaN</td>\n",
       "      <td>NaN</td>\n",
       "      <td>NaN</td>\n",
       "    </tr>\n",
       "    <tr>\n",
       "      <th>2</th>\n",
       "      <td>1</td>\n",
       "      <td></td>\n",
       "      <td>POLYGON ((-71.12274 41.55788, -71.12268 41.557...</td>\n",
       "      <td>NaN</td>\n",
       "      <td>NaN</td>\n",
       "      <td>NaN</td>\n",
       "      <td>NaN</td>\n",
       "      <td>NaN</td>\n",
       "      <td>NaN</td>\n",
       "      <td>NaN</td>\n",
       "      <td>...</td>\n",
       "      <td>NaN</td>\n",
       "      <td>NaN</td>\n",
       "      <td>NaN</td>\n",
       "      <td>NaN</td>\n",
       "      <td>NaN</td>\n",
       "      <td>NaN</td>\n",
       "      <td>NaN</td>\n",
       "      <td>NaN</td>\n",
       "      <td>NaN</td>\n",
       "      <td>NaN</td>\n",
       "    </tr>\n",
       "    <tr>\n",
       "      <th>4</th>\n",
       "      <td>1</td>\n",
       "      <td></td>\n",
       "      <td>POLYGON ((-71.12626 41.55723, -71.12628 41.557...</td>\n",
       "      <td>NaN</td>\n",
       "      <td>NaN</td>\n",
       "      <td>NaN</td>\n",
       "      <td>NaN</td>\n",
       "      <td>NaN</td>\n",
       "      <td>NaN</td>\n",
       "      <td>NaN</td>\n",
       "      <td>...</td>\n",
       "      <td>NaN</td>\n",
       "      <td>NaN</td>\n",
       "      <td>NaN</td>\n",
       "      <td>NaN</td>\n",
       "      <td>NaN</td>\n",
       "      <td>NaN</td>\n",
       "      <td>NaN</td>\n",
       "      <td>NaN</td>\n",
       "      <td>NaN</td>\n",
       "      <td>NaN</td>\n",
       "    </tr>\n",
       "    <tr>\n",
       "      <th>8</th>\n",
       "      <td>1</td>\n",
       "      <td></td>\n",
       "      <td>POLYGON ((-71.11785 41.50632, -71.11774 41.506...</td>\n",
       "      <td>NaN</td>\n",
       "      <td>NaN</td>\n",
       "      <td>NaN</td>\n",
       "      <td>NaN</td>\n",
       "      <td>NaN</td>\n",
       "      <td>NaN</td>\n",
       "      <td>NaN</td>\n",
       "      <td>...</td>\n",
       "      <td>NaN</td>\n",
       "      <td>NaN</td>\n",
       "      <td>NaN</td>\n",
       "      <td>NaN</td>\n",
       "      <td>NaN</td>\n",
       "      <td>NaN</td>\n",
       "      <td>NaN</td>\n",
       "      <td>NaN</td>\n",
       "      <td>NaN</td>\n",
       "      <td>NaN</td>\n",
       "    </tr>\n",
       "    <tr>\n",
       "      <th>...</th>\n",
       "      <td>...</td>\n",
       "      <td>...</td>\n",
       "      <td>...</td>\n",
       "      <td>...</td>\n",
       "      <td>...</td>\n",
       "      <td>...</td>\n",
       "      <td>...</td>\n",
       "      <td>...</td>\n",
       "      <td>...</td>\n",
       "      <td>...</td>\n",
       "      <td>...</td>\n",
       "      <td>...</td>\n",
       "      <td>...</td>\n",
       "      <td>...</td>\n",
       "      <td>...</td>\n",
       "      <td>...</td>\n",
       "      <td>...</td>\n",
       "      <td>...</td>\n",
       "      <td>...</td>\n",
       "      <td>...</td>\n",
       "      <td>...</td>\n",
       "    </tr>\n",
       "    <tr>\n",
       "      <th>392566</th>\n",
       "      <td>1</td>\n",
       "      <td></td>\n",
       "      <td>POLYGON ((-71.83946 41.35288, -71.83940 41.352...</td>\n",
       "      <td>NaN</td>\n",
       "      <td>NaN</td>\n",
       "      <td>NaN</td>\n",
       "      <td>NaN</td>\n",
       "      <td>NaN</td>\n",
       "      <td>NaN</td>\n",
       "      <td>NaN</td>\n",
       "      <td>...</td>\n",
       "      <td>NaN</td>\n",
       "      <td>NaN</td>\n",
       "      <td>NaN</td>\n",
       "      <td>NaN</td>\n",
       "      <td>NaN</td>\n",
       "      <td>NaN</td>\n",
       "      <td>NaN</td>\n",
       "      <td>NaN</td>\n",
       "      <td>NaN</td>\n",
       "      <td>NaN</td>\n",
       "    </tr>\n",
       "    <tr>\n",
       "      <th>392568</th>\n",
       "      <td>1</td>\n",
       "      <td></td>\n",
       "      <td>POLYGON ((-71.84033 41.35587, -71.84023 41.355...</td>\n",
       "      <td>NaN</td>\n",
       "      <td>NaN</td>\n",
       "      <td>NaN</td>\n",
       "      <td>NaN</td>\n",
       "      <td>NaN</td>\n",
       "      <td>NaN</td>\n",
       "      <td>NaN</td>\n",
       "      <td>...</td>\n",
       "      <td>NaN</td>\n",
       "      <td>NaN</td>\n",
       "      <td>NaN</td>\n",
       "      <td>NaN</td>\n",
       "      <td>NaN</td>\n",
       "      <td>NaN</td>\n",
       "      <td>NaN</td>\n",
       "      <td>NaN</td>\n",
       "      <td>NaN</td>\n",
       "      <td>NaN</td>\n",
       "    </tr>\n",
       "    <tr>\n",
       "      <th>392570</th>\n",
       "      <td>1</td>\n",
       "      <td></td>\n",
       "      <td>POLYGON ((-71.84110 41.35939, -71.84110 41.359...</td>\n",
       "      <td>NaN</td>\n",
       "      <td>NaN</td>\n",
       "      <td>NaN</td>\n",
       "      <td>NaN</td>\n",
       "      <td>NaN</td>\n",
       "      <td>NaN</td>\n",
       "      <td>NaN</td>\n",
       "      <td>...</td>\n",
       "      <td>NaN</td>\n",
       "      <td>NaN</td>\n",
       "      <td>NaN</td>\n",
       "      <td>NaN</td>\n",
       "      <td>NaN</td>\n",
       "      <td>NaN</td>\n",
       "      <td>NaN</td>\n",
       "      <td>NaN</td>\n",
       "      <td>NaN</td>\n",
       "      <td>NaN</td>\n",
       "    </tr>\n",
       "    <tr>\n",
       "      <th>392572</th>\n",
       "      <td>1</td>\n",
       "      <td></td>\n",
       "      <td>POLYGON ((-71.84172 41.33796, -71.84162 41.337...</td>\n",
       "      <td>NaN</td>\n",
       "      <td>NaN</td>\n",
       "      <td>NaN</td>\n",
       "      <td>NaN</td>\n",
       "      <td>NaN</td>\n",
       "      <td>NaN</td>\n",
       "      <td>NaN</td>\n",
       "      <td>...</td>\n",
       "      <td>NaN</td>\n",
       "      <td>NaN</td>\n",
       "      <td>NaN</td>\n",
       "      <td>NaN</td>\n",
       "      <td>NaN</td>\n",
       "      <td>NaN</td>\n",
       "      <td>NaN</td>\n",
       "      <td>NaN</td>\n",
       "      <td>NaN</td>\n",
       "      <td>NaN</td>\n",
       "    </tr>\n",
       "    <tr>\n",
       "      <th>392575</th>\n",
       "      <td>1</td>\n",
       "      <td></td>\n",
       "      <td>POLYGON ((-71.84342 41.39954, -71.84354 41.400...</td>\n",
       "      <td>NaN</td>\n",
       "      <td>NaN</td>\n",
       "      <td>NaN</td>\n",
       "      <td>NaN</td>\n",
       "      <td>NaN</td>\n",
       "      <td>NaN</td>\n",
       "      <td>NaN</td>\n",
       "      <td>...</td>\n",
       "      <td>NaN</td>\n",
       "      <td>NaN</td>\n",
       "      <td>NaN</td>\n",
       "      <td>NaN</td>\n",
       "      <td>NaN</td>\n",
       "      <td>NaN</td>\n",
       "      <td>NaN</td>\n",
       "      <td>NaN</td>\n",
       "      <td>NaN</td>\n",
       "      <td>NaN</td>\n",
       "    </tr>\n",
       "  </tbody>\n",
       "</table>\n",
       "<p>9218 rows × 21 columns</p>\n",
       "</div>"
      ],
      "text/plain": [
       "        release capture_dates_range  \\\n",
       "0             1                       \n",
       "1             1                       \n",
       "2             1                       \n",
       "4             1                       \n",
       "8             1                       \n",
       "...         ...                 ...   \n",
       "392566        1                       \n",
       "392568        1                       \n",
       "392570        1                       \n",
       "392572        1                       \n",
       "392575        1                       \n",
       "\n",
       "                                                 geometry  index_right  \\\n",
       "0       POLYGON ((-71.11723 41.50012, -71.11726 41.500...          NaN   \n",
       "1       POLYGON ((-71.12216 41.55490, -71.12204 41.554...          NaN   \n",
       "2       POLYGON ((-71.12274 41.55788, -71.12268 41.557...          NaN   \n",
       "4       POLYGON ((-71.12626 41.55723, -71.12628 41.557...          NaN   \n",
       "8       POLYGON ((-71.11785 41.50632, -71.11774 41.506...          NaN   \n",
       "...                                                   ...          ...   \n",
       "392566  POLYGON ((-71.83946 41.35288, -71.83940 41.352...          NaN   \n",
       "392568  POLYGON ((-71.84033 41.35587, -71.84023 41.355...          NaN   \n",
       "392570  POLYGON ((-71.84110 41.35939, -71.84110 41.359...          NaN   \n",
       "392572  POLYGON ((-71.84172 41.33796, -71.84162 41.337...          NaN   \n",
       "392575  POLYGON ((-71.84342 41.39954, -71.84354 41.400...          NaN   \n",
       "\n",
       "       STATEFP COUNTYFP COUNTYNS GEOID NAME NAMELSAD  ... CLASSFP MTFCC CSAFP  \\\n",
       "0          NaN      NaN      NaN   NaN  NaN      NaN  ...     NaN   NaN   NaN   \n",
       "1          NaN      NaN      NaN   NaN  NaN      NaN  ...     NaN   NaN   NaN   \n",
       "2          NaN      NaN      NaN   NaN  NaN      NaN  ...     NaN   NaN   NaN   \n",
       "4          NaN      NaN      NaN   NaN  NaN      NaN  ...     NaN   NaN   NaN   \n",
       "8          NaN      NaN      NaN   NaN  NaN      NaN  ...     NaN   NaN   NaN   \n",
       "...        ...      ...      ...   ...  ...      ...  ...     ...   ...   ...   \n",
       "392566     NaN      NaN      NaN   NaN  NaN      NaN  ...     NaN   NaN   NaN   \n",
       "392568     NaN      NaN      NaN   NaN  NaN      NaN  ...     NaN   NaN   NaN   \n",
       "392570     NaN      NaN      NaN   NaN  NaN      NaN  ...     NaN   NaN   NaN   \n",
       "392572     NaN      NaN      NaN   NaN  NaN      NaN  ...     NaN   NaN   NaN   \n",
       "392575     NaN      NaN      NaN   NaN  NaN      NaN  ...     NaN   NaN   NaN   \n",
       "\n",
       "       CBSAFP METDIVFP FUNCSTAT ALAND  AWATER  INTPTLAT INTPTLON  \n",
       "0         NaN      NaN      NaN   NaN     NaN       NaN      NaN  \n",
       "1         NaN      NaN      NaN   NaN     NaN       NaN      NaN  \n",
       "2         NaN      NaN      NaN   NaN     NaN       NaN      NaN  \n",
       "4         NaN      NaN      NaN   NaN     NaN       NaN      NaN  \n",
       "8         NaN      NaN      NaN   NaN     NaN       NaN      NaN  \n",
       "...       ...      ...      ...   ...     ...       ...      ...  \n",
       "392566    NaN      NaN      NaN   NaN     NaN       NaN      NaN  \n",
       "392568    NaN      NaN      NaN   NaN     NaN       NaN      NaN  \n",
       "392570    NaN      NaN      NaN   NaN     NaN       NaN      NaN  \n",
       "392572    NaN      NaN      NaN   NaN     NaN       NaN      NaN  \n",
       "392575    NaN      NaN      NaN   NaN     NaN       NaN      NaN  \n",
       "\n",
       "[9218 rows x 21 columns]"
      ]
     },
     "execution_count": 182,
     "metadata": {},
     "output_type": "execute_result"
    }
   ],
   "source": [
    "nulls"
   ]
  },
  {
   "cell_type": "code",
   "execution_count": 129,
   "metadata": {},
   "outputs": [
    {
     "data": {
      "text/plain": [
       "Index(['index', 'release', 'capture_dates_range', 'geometry', 'STATEFP',\n",
       "       'COUNTYFP', 'COUNTYNS', 'GEOID', 'NAME', 'NAMELSAD', 'LSAD', 'CLASSFP',\n",
       "       'MTFCC', 'CSAFP', 'CBSAFP', 'METDIVFP', 'FUNCSTAT', 'ALAND', 'AWATER',\n",
       "       'INTPTLAT', 'INTPTLON'],\n",
       "      dtype='object')"
      ]
     },
     "execution_count": 129,
     "metadata": {},
     "output_type": "execute_result"
    }
   ],
   "source": [
    "countFootPrints.columns"
   ]
  },
  {
   "cell_type": "code",
   "execution_count": 121,
   "metadata": {},
   "outputs": [],
   "source": [
    "stateGEOIDs = stateCounties['GEOID'].to_list()"
   ]
  },
  {
   "cell_type": "code",
   "execution_count": 124,
   "metadata": {},
   "outputs": [
    {
     "data": {
      "text/plain": [
       "Index(['release', 'capture_dates_range', 'geometry'], dtype='object')"
      ]
     },
     "execution_count": 124,
     "metadata": {},
     "output_type": "execute_result"
    }
   ],
   "source": [
    "cols = stateBuildings.columns"
   ]
  },
  {
   "cell_type": "code",
   "execution_count": 125,
   "metadata": {},
   "outputs": [],
   "source": [
    "countFootPrints = stateFootprints.loc[stateFootprints['GEOID'] == stateGEOIDs[0]]"
   ]
  },
  {
   "cell_type": "code",
   "execution_count": null,
   "metadata": {},
   "outputs": [],
   "source": [
    "for fips in stateGEOIDs:\n",
    "    countyFootPrints = stateFootprints.loc[stateFootprints['GEOID'] == fips]\n",
    "    countyIntersects = nulls.loc[nulls['GEOID'] == fips]\n",
    "    countyFootPrints = pd.concat([countyFootPrints, countyIntersects], ignore_index=True)\n",
    "    countyFootPrints.rename(columns={'NAMELSAD':'County', 'index': 'FID'}, inplace = True)\n",
    "    fileName = fips+'_Buildings.shp'\n",
    "    countyFootPrints.to_file('Colorado_Microsoft_Footprints\\\\'+fileName)"
   ]
  },
  {
   "cell_type": "code",
   "execution_count": 136,
   "metadata": {},
   "outputs": [
    {
     "data": {
      "text/plain": [
       "19563"
      ]
     },
     "execution_count": 136,
     "metadata": {},
     "output_type": "execute_result"
    }
   ],
   "source": [
    "len(nulls.loc[nulls['GEOID_right']==stateGEOIDs[0]])"
   ]
  },
  {
   "cell_type": "code",
   "execution_count": 135,
   "metadata": {},
   "outputs": [
    {
     "data": {
      "text/plain": [
       "19542"
      ]
     },
     "execution_count": 135,
     "metadata": {},
     "output_type": "execute_result"
    }
   ],
   "source": [
    "len(countFootPrints)"
   ]
  },
  {
   "cell_type": "code",
   "execution_count": 139,
   "metadata": {},
   "outputs": [
    {
     "data": {
      "text/plain": [
       "0           NaN\n",
       "1           NaN\n",
       "2           NaN\n",
       "3         44005\n",
       "4           NaN\n",
       "          ...  \n",
       "392576    44009\n",
       "392577    44009\n",
       "392578    44009\n",
       "392579    44009\n",
       "392580    44009\n",
       "Name: GEOID_left, Length: 392616, dtype: object"
      ]
     },
     "execution_count": 139,
     "metadata": {},
     "output_type": "execute_result"
    }
   ],
   "source": [
    "nulls['GEOID_left']"
   ]
  },
  {
   "cell_type": "code",
   "execution_count": null,
   "metadata": {},
   "outputs": [],
   "source": []
  }
 ],
 "metadata": {
  "kernelspec": {
   "display_name": "geo_env",
   "language": "python",
   "name": "python3"
  },
  "language_info": {
   "codemirror_mode": {
    "name": "ipython",
    "version": 3
   },
   "file_extension": ".py",
   "mimetype": "text/x-python",
   "name": "python",
   "nbconvert_exporter": "python",
   "pygments_lexer": "ipython3",
   "version": "3.12.0"
  }
 },
 "nbformat": 4,
 "nbformat_minor": 2
}
